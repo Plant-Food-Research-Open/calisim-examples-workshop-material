{
 "cells": [
  {
   "cell_type": "markdown",
   "id": "9f22e386-62d1-4f3b-9d6f-25a6edec4220",
   "metadata": {},
   "source": [
    "# Imports"
   ]
  },
  {
   "cell_type": "code",
   "execution_count": 12,
   "id": "1fb5183b-ee2a-4de8-8004-b43e5b18e427",
   "metadata": {},
   "outputs": [],
   "source": [
    "from subprocess import Popen\n",
    "import subprocess\n",
    "from pathlib import Path\n",
    "import numpy as np\n",
    "import edlib\n",
    "from Bio import SeqIO\n",
    "import copy\n",
    "import mappy as mp\n",
    "from sklearn.metrics.pairwise import cosine_similarity\n",
    "from sklearn.manifold import SpectralEmbedding\n",
    "from itertools import product\n",
    "import numpy as np\n",
    "from sklearn.metrics.pairwise import cosine_similarity\n",
    "from collections import Counter\n",
    "from Bio import Align\n",
    "\n",
    "aligner = Align.PairwiseAligner()\n",
    "aligner.match_score = 1.0       \n",
    "aligner.mismatch_score = -1.0  \n",
    "aligner.gap_score = -2.5       \n",
    "aligner.mode = \"local\"    "
   ]
  },
  {
   "cell_type": "markdown",
   "id": "d27bc528-a8a4-4ccc-abf4-55a2566efec4",
   "metadata": {},
   "source": [
    "# Reference simulation\n",
    "\n",
    "Execute the reference simulation."
   ]
  },
  {
   "cell_type": "code",
   "execution_count": 35,
   "id": "8c9e3e28-9ba0-4ecf-ae55-1bce65b44ede",
   "metadata": {},
   "outputs": [
    {
     "data": {
      "text/plain": [
       "0"
      ]
     },
     "execution_count": 35,
     "metadata": {},
     "output_type": "execute_result"
    }
   ],
   "source": [
    "M = 0\n",
    "c=str(Path(\"data\", \"random_genome_chr_index.csv\"))\n",
    "r=str(Path(\"data\", \"combined_curated_TE_lib_ATOSZM_selected.fasta\"))\n",
    "o=\"data\"\n",
    "maxidn=95\n",
    "minidn=80\n",
    "maxsd=20\n",
    "minsd=1\n",
    "a=0.7\n",
    "b=0.5\n",
    "i=0.001\n",
    "m=2\n",
    "n=2\n",
    "k = 10\n",
    "\n",
    "ksize = 11\n",
    "scaled = 10\n",
    "min_abund = 2\n",
    "track_abundance = True\n",
    "seed = 42\n",
    "\n",
    "p=\"reference_simulation\"\n",
    "cmd = f\"tegenomesimulator -M {M} -p {p} -c {c} -r {r} -o {o} -a {a} -b {b} -i {i} -m {m} -n {n} --maxidn {maxidn} --minidn {minidn} --maxsd {maxsd} --minsd {minsd} -s {seed}\"\n",
    "Popen(cmd, shell=True, stdout=subprocess.DEVNULL, stderr=subprocess.DEVNULL).wait()"
   ]
  },
  {
   "cell_type": "code",
   "execution_count": 39,
   "id": "7e74911e-02c8-4af2-b190-17d1342a6dca",
   "metadata": {},
   "outputs": [
    {
     "name": "stdout",
     "output_type": "stream",
     "text": [
      "/home/jbris/.cache/pypoetry/virtualenvs/calisim-examples-yfUJKvMn-py3.10/bin/tegenomesimulator\n"
     ]
    }
   ],
   "source": [
    "! which tegenomesimulator"
   ]
  },
  {
   "cell_type": "code",
   "execution_count": 14,
   "id": "1f126967-f022-47bb-92ce-5165b212bd12",
   "metadata": {},
   "outputs": [],
   "source": [
    "def load_genome_sequence(filepath):\n",
    "    with open(filepath, 'r') as f:\n",
    "        lines = f.readlines()\n",
    "    sequence = ''.join([line.strip() for line in lines if not line.startswith('>')])\n",
    "    return sequence.upper()"
   ]
  },
  {
   "cell_type": "code",
   "execution_count": 15,
   "id": "895e41be-30e3-4089-aaad-79a962874241",
   "metadata": {},
   "outputs": [],
   "source": [
    "def all_kmers(k):\n",
    "    return [''.join(p) for p in product(\"ACGT\", repeat=k)]\n",
    "\n",
    "kmer_list = all_kmers(k)\n",
    "\n",
    "# ------- K-mer frequency vector -------\n",
    "def kmer_vector(seq, k, kmer_list):\n",
    "    seq = str(seq).upper()\n",
    "    kmers = [seq[i:i+k] for i in range(len(seq)-k+1) if 'N' not in seq[i:i+k]]\n",
    "    freqs = Counter(kmers)\n",
    "    total = sum(freqs.values())\n",
    "    return np.array([freqs.get(kmer, 0)/total if total > 0 else 0 for kmer in kmer_list])"
   ]
  },
  {
   "cell_type": "code",
   "execution_count": 25,
   "id": "92014f42-5c97-47f0-b84c-d4e0153f3e41",
   "metadata": {},
   "outputs": [
    {
     "name": "stdout",
     "output_type": "stream",
     "text": [
      "Cosine similarity (k=10): 1.0000\n"
     ]
    }
   ],
   "source": [
    "reference_genome_sequence_path = f\"{o}/TEgenomeSimulator_{p}_result/{p}_genome_sequence_out_final.fasta\"\n",
    "\n",
    "seq1 = load_genome_sequence(reference_genome_sequence_path)\n",
    "vec1 = kmer_vector(seq1, k, kmer_list).reshape(1, -1)\n",
    "\n",
    "similarity = cosine_similarity(vec1, vec1)[0, 0]\n",
    "print(f\"Cosine similarity (k={k}): {similarity:.4f}\")"
   ]
  },
  {
   "cell_type": "code",
   "execution_count": 17,
   "id": "b6c2d7f2-1cfe-4fa7-af22-3a0de4bc2fd0",
   "metadata": {},
   "outputs": [
    {
     "data": {
      "text/plain": [
       "(1, 1048576)"
      ]
     },
     "execution_count": 17,
     "metadata": {},
     "output_type": "execute_result"
    }
   ],
   "source": [
    "vec1.shape"
   ]
  },
  {
   "cell_type": "markdown",
   "id": "c400a300-6f3d-419d-9837-64ec635afcb0",
   "metadata": {},
   "source": [
    "Derive Sourmash signature. "
   ]
  },
  {
   "cell_type": "markdown",
   "id": "85dfc16e-7313-403c-adab-ea1193b1c5fb",
   "metadata": {},
   "source": [
    "# Optimisation\n",
    "\n",
    "Ground-truth parameter values\n",
    "\n",
    "```python\n",
    "maxidn=95\n",
    "minidn=80\n",
    "maxsd=20\n",
    "minsd=1\n",
    "a=0.7\n",
    "b=0.5\n",
    "```"
   ]
  },
  {
   "cell_type": "code",
   "execution_count": 37,
   "id": "b2f8711c-30a7-4005-a461-ac74717ef403",
   "metadata": {},
   "outputs": [],
   "source": [
    "reference_genome_sequence_path = f\"{o}/TEgenomeSimulator_{p}_result/{p}_genome_sequence_out_final.fasta\"\n",
    "aligner = mp.Aligner(reference_genome_sequence_path, preset=\"asm5\")\n",
    "reference_genome_sequence = \"\".join([\n",
    "    str(record.seq)\n",
    "    for record in SeqIO.parse(reference_genome_sequence_path, \"fasta\")\n",
    "])"
   ]
  },
  {
   "cell_type": "code",
   "execution_count": 36,
   "id": "da076e53-1a1c-4d45-9881-cbb9f3deace0",
   "metadata": {},
   "outputs": [],
   "source": [
    "genome_sequence = reference_genome_sequence"
   ]
  },
  {
   "cell_type": "code",
   "execution_count": 26,
   "id": "94bbb207-553f-4844-a57a-6f46fa01f36d",
   "metadata": {},
   "outputs": [
    {
     "data": {
      "text/plain": [
       "0"
      ]
     },
     "execution_count": 26,
     "metadata": {},
     "output_type": "execute_result"
    }
   ],
   "source": [
    "res = edlib.align(genome_sequence, reference_genome_sequence, mode = \"HW\", task = \"path\")\n",
    "res['editDistance']"
   ]
  },
  {
   "cell_type": "code",
   "execution_count": 38,
   "id": "497a7831-96ec-40c4-bb9e-d86bdddfe456",
   "metadata": {},
   "outputs": [
    {
     "name": "stdout",
     "output_type": "stream",
     "text": [
      "Cosine similarity (k=10): 0.5986\n"
     ]
    }
   ],
   "source": [
    "seq1 = load_genome_sequence(reference_genome_sequence_path)\n",
    "vec1 = kmer_vector(seq1, k, kmer_list).reshape(1, -1)\n",
    "vec2 = kmer_vector(genome_sequence, k, kmer_list).reshape(1, -1)\n",
    "similarity = cosine_similarity(vec1, vec2)[0, 0]\n",
    "print(f\"Cosine similarity (k={k}): {similarity:.4f}\")"
   ]
  },
  {
   "cell_type": "code",
   "execution_count": 11,
   "id": "4973acd0-64c3-451b-ba27-1a420c4b37be",
   "metadata": {},
   "outputs": [
    {
     "name": "stderr",
     "output_type": "stream",
     "text": [
      "/home/jbris/.cache/pypoetry/virtualenvs/calisim-examples-yfUJKvMn-py3.10/lib/python3.10/site-packages/calisim/optimisation/optuna_wrapper.py:40: ExperimentalWarning:\n",
      "\n",
      "GPSampler is experimental (supported from v3.6.0). The interface can change in the future.\n",
      "\n",
      "[I 2025-08-10 21:35:58,686] A new study created in memory with name: optuna_optimisation\n",
      "[I 2025-08-10 21:36:19,424] Trial 3 finished with value: 4052.0 and parameters: {'maxidn': 91, 'minidn': 77, 'maxsd': 24, 'minsd': 1, 'a': 0.6105303486239482, 'b': 0.427156752068499}. Best is trial 3 with value: 4052.0.\n",
      "[I 2025-08-10 21:36:22,764] Trial 0 finished with value: 4607.0 and parameters: {'maxidn': 90, 'minidn': 76, 'maxsd': 25, 'minsd': 3, 'a': 0.7911922717634579, 'b': 0.4323401214738847}. Best is trial 0 with value: 4607.0.\n",
      "[I 2025-08-10 21:36:22,774] Trial 1 finished with value: 4488.0 and parameters: {'maxidn': 96, 'minidn': 82, 'maxsd': 21, 'minsd': 1, 'a': 0.7455358918916832, 'b': 0.41739795217859754}. Best is trial 0 with value: 4607.0.\n",
      "[I 2025-08-10 21:36:22,791] Trial 2 finished with value: 4607.0 and parameters: {'maxidn': 96, 'minidn': 75, 'maxsd': 25, 'minsd': 2, 'a': 0.6773403253699668, 'b': 0.5978799121140242}. Best is trial 0 with value: 4607.0.\n",
      "[I 2025-08-10 21:36:22,814] Trial 4 finished with value: 4525.0 and parameters: {'maxidn': 91, 'minidn': 78, 'maxsd': 15, 'minsd': 1, 'a': 0.7577996716738299, 'b': 0.4112706591743327}. Best is trial 0 with value: 4607.0.\n",
      "[I 2025-08-10 21:36:38,851] Trial 5 finished with value: 3693.0 and parameters: {'maxidn': 97, 'minidn': 85, 'maxsd': 15, 'minsd': 3, 'a': 0.8, 'b': 0.6}. Best is trial 0 with value: 4607.0.\n",
      "[I 2025-08-10 21:36:46,705] Trial 6 finished with value: 4052.0 and parameters: {'maxidn': 90, 'minidn': 75, 'maxsd': 25, 'minsd': 3, 'a': 0.8, 'b': 0.5767143904285713}. Best is trial 0 with value: 4607.0.\n",
      "[I 2025-08-10 21:36:48,056] Trial 7 finished with value: 3090.0 and parameters: {'maxidn': 95, 'minidn': 80, 'maxsd': 25, 'minsd': 3, 'a': 0.8, 'b': 0.5159594203822598}. Best is trial 0 with value: 4607.0.\n",
      "[I 2025-08-10 21:36:48,494] Trial 8 finished with value: 2594.0 and parameters: {'maxidn': 95, 'minidn': 75, 'maxsd': 25, 'minsd': 3, 'a': 0.77835443709694, 'b': 0.5773635319710204}. Best is trial 0 with value: 4607.0.\n",
      "[I 2025-08-10 21:36:53,073] Trial 9 finished with value: 4175.0 and parameters: {'maxidn': 95, 'minidn': 75, 'maxsd': 24, 'minsd': 3, 'a': 0.7731114100991474, 'b': 0.5830953675800397}. Best is trial 0 with value: 4607.0.\n",
      "[I 2025-08-10 21:36:58,625] Trial 10 finished with value: 3670.0 and parameters: {'maxidn': 95, 'minidn': 75, 'maxsd': 25, 'minsd': 1, 'a': 0.8, 'b': 0.4}. Best is trial 0 with value: 4607.0.\n",
      "[I 2025-08-10 21:37:07,452] Trial 12 finished with value: 1888.0 and parameters: {'maxidn': 91, 'minidn': 77, 'maxsd': 25, 'minsd': 3, 'a': 0.8, 'b': 0.4}. Best is trial 0 with value: 4607.0.\n",
      "[I 2025-08-10 21:37:09,924] Trial 11 finished with value: 4488.0 and parameters: {'maxidn': 90, 'minidn': 75, 'maxsd': 25, 'minsd': 1, 'a': 0.8, 'b': 0.4}. Best is trial 0 with value: 4607.0.\n",
      "[I 2025-08-10 21:37:12,256] Trial 13 finished with value: 4488.0 and parameters: {'maxidn': 97, 'minidn': 78, 'maxsd': 23, 'minsd': 1, 'a': 0.6586297416547087, 'b': 0.5375943578161035}. Best is trial 0 with value: 4607.0.\n",
      "[I 2025-08-10 21:37:13,494] Trial 14 finished with value: 1806.0 and parameters: {'maxidn': 94, 'minidn': 76, 'maxsd': 23, 'minsd': 3, 'a': 0.7431218781658855, 'b': 0.547863114778944}. Best is trial 0 with value: 4607.0.\n",
      "[I 2025-08-10 21:37:18,575] Trial 15 finished with value: 3664.0 and parameters: {'maxidn': 94, 'minidn': 76, 'maxsd': 23, 'minsd': 3, 'a': 0.746309428162081, 'b': 0.5410769576870318}. Best is trial 0 with value: 4607.0.\n",
      "[I 2025-08-10 21:37:26,966] Trial 16 finished with value: 3371.0 and parameters: {'maxidn': 95, 'minidn': 76, 'maxsd': 22, 'minsd': 3, 'a': 0.74364175373061, 'b': 0.5797608774856217}. Best is trial 0 with value: 4607.0.\n",
      "[I 2025-08-10 21:37:28,090] Trial 17 finished with value: 4014.0 and parameters: {'maxidn': 96, 'minidn': 76, 'maxsd': 23, 'minsd': 2, 'a': 0.709341951022253, 'b': 0.5660830178779435}. Best is trial 0 with value: 4607.0.\n",
      "[I 2025-08-10 21:37:31,460] Trial 19 finished with value: 1888.0 and parameters: {'maxidn': 96, 'minidn': 76, 'maxsd': 23, 'minsd': 2, 'a': 0.7742818430373873, 'b': 0.5546824266321579}. Best is trial 0 with value: 4607.0.\n",
      "[I 2025-08-10 21:37:35,778] Trial 18 finished with value: 1026.0 and parameters: {'maxidn': 95, 'minidn': 76, 'maxsd': 22, 'minsd': 3, 'a': 0.7504437677933216, 'b': 0.5724336568547108}. Best is trial 0 with value: 4607.0.\n",
      "[I 2025-08-10 21:37:39,755] Trial 20 finished with value: 2065.0 and parameters: {'maxidn': 90, 'minidn': 75, 'maxsd': 15, 'minsd': 1, 'a': 0.7395617847169326, 'b': 0.5526389014348707}. Best is trial 0 with value: 4607.0.\n",
      "[I 2025-08-10 21:37:43,813] Trial 21 finished with value: 1818.0 and parameters: {'maxidn': 90, 'minidn': 75, 'maxsd': 15, 'minsd': 1, 'a': 0.7434477379139137, 'b': 0.5511652992920365}. Best is trial 0 with value: 4607.0.\n",
      "[I 2025-08-10 21:37:47,417] Trial 22 finished with value: 4634.0 and parameters: {'maxidn': 90, 'minidn': 75, 'maxsd': 15, 'minsd': 1, 'a': 0.7412784541895441, 'b': 0.551115813891466}. Best is trial 22 with value: 4634.0.\n",
      "[I 2025-08-10 21:37:48,990] Trial 23 finished with value: 1806.0 and parameters: {'maxidn': 90, 'minidn': 77, 'maxsd': 23, 'minsd': 1, 'a': 0.7630813363834233, 'b': 0.44381415539536}. Best is trial 22 with value: 4634.0.\n",
      "[I 2025-08-10 21:37:53,890] Trial 24 finished with value: 2879.0 and parameters: {'maxidn': 90, 'minidn': 76, 'maxsd': 23, 'minsd': 1, 'a': 0.7577621919428313, 'b': 0.44326771784829977}. Best is trial 22 with value: 4634.0.\n",
      "[I 2025-08-10 21:38:00,237] Trial 25 finished with value: 4443.0 and parameters: {'maxidn': 90, 'minidn': 76, 'maxsd': 23, 'minsd': 1, 'a': 0.7596295324851736, 'b': 0.4413641308108392}. Best is trial 22 with value: 4634.0.\n",
      "[I 2025-08-10 21:38:01,793] Trial 26 finished with value: 3701.0 and parameters: {'maxidn': 90, 'minidn': 75, 'maxsd': 23, 'minsd': 1, 'a': 0.7620790129833418, 'b': 0.44032600376917747}. Best is trial 22 with value: 4634.0.\n",
      "[W 2025-08-10 21:38:02,859] Trial 31 failed with parameters: {'maxidn': 97, 'minidn': 75, 'maxsd': 25, 'minsd': 1, 'a': 0.6174471246368896, 'b': 0.5685192433361071} because of the following error: FileNotFoundError(2, 'No such file or directory').\n",
      "Traceback (most recent call last):\n",
      "  File \"/home/jbris/.cache/pypoetry/virtualenvs/calisim-examples-yfUJKvMn-py3.10/lib/python3.10/site-packages/optuna/study/_optimize.py\", line 197, in _run_trial\n",
      "    value_or_values = func(trial)\n",
      "  File \"/home/jbris/.cache/pypoetry/virtualenvs/calisim-examples-yfUJKvMn-py3.10/lib/python3.10/site-packages/calisim/optimisation/optuna_wrapper.py\", line 82, in <lambda>\n",
      "    lambda trial: objective(\n",
      "  File \"/home/jbris/.cache/pypoetry/virtualenvs/calisim-examples-yfUJKvMn-py3.10/lib/python3.10/site-packages/calisim/optimisation/optuna_wrapper.py\", line 75, in objective\n",
      "    return call_calibration_func(\n",
      "  File \"/home/jbris/.cache/pypoetry/virtualenvs/calisim-examples-yfUJKvMn-py3.10/lib/python3.10/site-packages/calisim/base/calibration_base.py\", line 325, in call_calibration_func\n",
      "    results = self.calibration_func(\n",
      "  File \"/tmp/ipykernel_30849/386886410.py\", line 85, in objective\n",
      "    genome_sequence = load_genome_sequence(genome_sequence_path)\n",
      "  File \"/tmp/ipykernel_30849/3396887528.py\", line 2, in load_genome_sequence\n",
      "    with open(filepath, 'r') as f:\n",
      "  File \"/home/jbris/.cache/pypoetry/virtualenvs/calisim-examples-yfUJKvMn-py3.10/lib/python3.10/site-packages/IPython/core/interactiveshell.py\", line 324, in _modified_open\n",
      "    return io_open(file, *args, **kwargs)\n",
      "FileNotFoundError: [Errno 2] No such file or directory: 'data/TEgenomeSimulator_7062e1cd-4ffb-4908-bfb1-d27167db44b6_result/7062e1cd-4ffb-4908-bfb1-d27167db44b6_genome_sequence_out_final.fasta'\n",
      "[W 2025-08-10 21:38:02,861] Trial 31 failed with value None.\n",
      "[W 2025-08-10 21:38:03,036] Trial 30 failed with parameters: {'maxidn': 97, 'minidn': 75, 'maxsd': 25, 'minsd': 1, 'a': 0.6170668902160019, 'b': 0.5623714104869434} because of the following error: FileNotFoundError(2, 'No such file or directory').\n",
      "Traceback (most recent call last):\n",
      "  File \"/home/jbris/.cache/pypoetry/virtualenvs/calisim-examples-yfUJKvMn-py3.10/lib/python3.10/site-packages/optuna/study/_optimize.py\", line 197, in _run_trial\n",
      "    value_or_values = func(trial)\n",
      "  File \"/home/jbris/.cache/pypoetry/virtualenvs/calisim-examples-yfUJKvMn-py3.10/lib/python3.10/site-packages/calisim/optimisation/optuna_wrapper.py\", line 82, in <lambda>\n",
      "    lambda trial: objective(\n",
      "  File \"/home/jbris/.cache/pypoetry/virtualenvs/calisim-examples-yfUJKvMn-py3.10/lib/python3.10/site-packages/calisim/optimisation/optuna_wrapper.py\", line 75, in objective\n",
      "    return call_calibration_func(\n",
      "  File \"/home/jbris/.cache/pypoetry/virtualenvs/calisim-examples-yfUJKvMn-py3.10/lib/python3.10/site-packages/calisim/base/calibration_base.py\", line 325, in call_calibration_func\n",
      "    results = self.calibration_func(\n",
      "  File \"/tmp/ipykernel_30849/386886410.py\", line 85, in objective\n",
      "    genome_sequence = load_genome_sequence(genome_sequence_path)\n",
      "  File \"/tmp/ipykernel_30849/3396887528.py\", line 2, in load_genome_sequence\n",
      "    with open(filepath, 'r') as f:\n",
      "  File \"/home/jbris/.cache/pypoetry/virtualenvs/calisim-examples-yfUJKvMn-py3.10/lib/python3.10/site-packages/IPython/core/interactiveshell.py\", line 324, in _modified_open\n",
      "    return io_open(file, *args, **kwargs)\n",
      "FileNotFoundError: [Errno 2] No such file or directory: 'data/TEgenomeSimulator_bd71e89c-f803-4a19-aea6-04ebc00cf92d_result/bd71e89c-f803-4a19-aea6-04ebc00cf92d_genome_sequence_out_final.fasta'\n",
      "[W 2025-08-10 21:38:03,037] Trial 30 failed with value None.\n",
      "[I 2025-08-10 21:38:06,708] Trial 28 finished with value: 3103.0 and parameters: {'maxidn': 97, 'minidn': 76, 'maxsd': 25, 'minsd': 1, 'a': 0.6236600598536707, 'b': 0.6}. Best is trial 22 with value: 4634.0.\n",
      "[I 2025-08-10 21:38:07,586] Trial 27 finished with value: 4607.0 and parameters: {'maxidn': 97, 'minidn': 76, 'maxsd': 25, 'minsd': 1, 'a': 0.627757117663944, 'b': 0.5849858470693217}. Best is trial 22 with value: 4634.0.\n",
      "[I 2025-08-10 21:38:09,832] Trial 29 finished with value: 3693.0 and parameters: {'maxidn': 97, 'minidn': 76, 'maxsd': 25, 'minsd': 1, 'a': 0.6248971879014557, 'b': 0.6}. Best is trial 22 with value: 4634.0.\n"
     ]
    },
    {
     "ename": "KeyboardInterrupt",
     "evalue": "",
     "output_type": "error",
     "traceback": [
      "\u001b[0;31m---------------------------------------------------------------------------\u001b[0m",
      "\u001b[0;31mKeyboardInterrupt\u001b[0m                         Traceback (most recent call last)",
      "Cell \u001b[0;32mIn[11], line 126\u001b[0m\n\u001b[1;32m    110\u001b[0m specification \u001b[38;5;241m=\u001b[39m OptimisationMethodModel(\n\u001b[1;32m    111\u001b[0m     experiment_name\u001b[38;5;241m=\u001b[39m\u001b[38;5;124m\"\u001b[39m\u001b[38;5;124moptuna_optimisation\u001b[39m\u001b[38;5;124m\"\u001b[39m,\n\u001b[1;32m    112\u001b[0m     parameter_spec\u001b[38;5;241m=\u001b[39mparameter_spec,\n\u001b[0;32m   (...)\u001b[0m\n\u001b[1;32m    119\u001b[0m     method_kwargs\u001b[38;5;241m=\u001b[39m\u001b[38;5;28mdict\u001b[39m(n_startup_trials\u001b[38;5;241m=\u001b[39m\u001b[38;5;241m1\u001b[39m),\n\u001b[1;32m    120\u001b[0m )\n\u001b[1;32m    122\u001b[0m calibrator \u001b[38;5;241m=\u001b[39m OptimisationMethod(\n\u001b[1;32m    123\u001b[0m     calibration_func\u001b[38;5;241m=\u001b[39mobjective, specification\u001b[38;5;241m=\u001b[39mspecification, engine\u001b[38;5;241m=\u001b[39m\u001b[38;5;124m\"\u001b[39m\u001b[38;5;124moptuna\u001b[39m\u001b[38;5;124m\"\u001b[39m\n\u001b[1;32m    124\u001b[0m )\n\u001b[0;32m--> 126\u001b[0m \u001b[43mcalibrator\u001b[49m\u001b[38;5;241;43m.\u001b[39;49m\u001b[43mspecify\u001b[49m\u001b[43m(\u001b[49m\u001b[43m)\u001b[49m\u001b[38;5;241;43m.\u001b[39;49m\u001b[43mexecute\u001b[49m\u001b[43m(\u001b[49m\u001b[43m)\u001b[49m\u001b[38;5;241m.\u001b[39manalyze()\n",
      "File \u001b[0;32m~/.cache/pypoetry/virtualenvs/calisim-examples-yfUJKvMn-py3.10/lib/python3.10/site-packages/calisim/base/calibration_base.py:62\u001b[0m, in \u001b[0;36mpre_post_hooks.<locals>.wrapper\u001b[0;34m(self, *args, **kwargs)\u001b[0m\n\u001b[1;32m     60\u001b[0m func_name \u001b[38;5;241m=\u001b[39m f\u001b[38;5;241m.\u001b[39m\u001b[38;5;18m__name__\u001b[39m\n\u001b[1;32m     61\u001b[0m \u001b[38;5;28mgetattr\u001b[39m(\u001b[38;5;28mself\u001b[39m, \u001b[38;5;124mf\u001b[39m\u001b[38;5;124m\"\u001b[39m\u001b[38;5;124mprehook_\u001b[39m\u001b[38;5;132;01m{\u001b[39;00mfunc_name\u001b[38;5;132;01m}\u001b[39;00m\u001b[38;5;124m\"\u001b[39m)()\n\u001b[0;32m---> 62\u001b[0m result \u001b[38;5;241m=\u001b[39m \u001b[43mf\u001b[49m\u001b[43m(\u001b[49m\u001b[38;5;28;43mself\u001b[39;49m\u001b[43m,\u001b[49m\u001b[43m \u001b[49m\u001b[38;5;241;43m*\u001b[39;49m\u001b[43margs\u001b[49m\u001b[43m,\u001b[49m\u001b[43m \u001b[49m\u001b[38;5;241;43m*\u001b[39;49m\u001b[38;5;241;43m*\u001b[39;49m\u001b[43mkwargs\u001b[49m\u001b[43m)\u001b[49m\n\u001b[1;32m     63\u001b[0m \u001b[38;5;28mgetattr\u001b[39m(\u001b[38;5;28mself\u001b[39m, \u001b[38;5;124mf\u001b[39m\u001b[38;5;124m\"\u001b[39m\u001b[38;5;124mposthook_\u001b[39m\u001b[38;5;132;01m{\u001b[39;00mfunc_name\u001b[38;5;132;01m}\u001b[39;00m\u001b[38;5;124m\"\u001b[39m)()\n\u001b[1;32m     64\u001b[0m \u001b[38;5;28;01mreturn\u001b[39;00m result\n",
      "File \u001b[0;32m~/.cache/pypoetry/virtualenvs/calisim-examples-yfUJKvMn-py3.10/lib/python3.10/site-packages/calisim/base/calibration_base.py:699\u001b[0m, in \u001b[0;36mCalibrationMethodBase.execute\u001b[0;34m(self)\u001b[0m\n\u001b[1;32m    690\u001b[0m \u001b[38;5;250m\u001b[39m\u001b[38;5;124;03m\"\"\"Execute the simulation calibration procedure.\u001b[39;00m\n\u001b[1;32m    691\u001b[0m \n\u001b[1;32m    692\u001b[0m \u001b[38;5;124;03mRaises:\u001b[39;00m\n\u001b[0;32m   (...)\u001b[0m\n\u001b[1;32m    696\u001b[0m \u001b[38;5;124;03m    CalibrationMethodBase: The calibration method.\u001b[39;00m\n\u001b[1;32m    697\u001b[0m \u001b[38;5;124;03m\"\"\"\u001b[39;00m\n\u001b[1;32m    698\u001b[0m \u001b[38;5;28mself\u001b[39m\u001b[38;5;241m.\u001b[39m_implementation_check(\u001b[38;5;124m\"\u001b[39m\u001b[38;5;124mexecute\u001b[39m\u001b[38;5;124m\"\u001b[39m)\n\u001b[0;32m--> 699\u001b[0m \u001b[38;5;28;43mself\u001b[39;49m\u001b[38;5;241;43m.\u001b[39;49m\u001b[43mimplementation\u001b[49m\u001b[38;5;241;43m.\u001b[39;49m\u001b[43mexecute\u001b[49m\u001b[43m(\u001b[49m\u001b[43m)\u001b[49m\n\u001b[1;32m    700\u001b[0m \u001b[38;5;28;01mreturn\u001b[39;00m \u001b[38;5;28mself\u001b[39m\n",
      "File \u001b[0;32m~/.cache/pypoetry/virtualenvs/calisim-examples-yfUJKvMn-py3.10/lib/python3.10/site-packages/calisim/optimisation/optuna_wrapper.py:81\u001b[0m, in \u001b[0;36mOptunaOptimisation.execute\u001b[0;34m(self)\u001b[0m\n\u001b[1;32m     75\u001b[0m \t\u001b[38;5;28;01mreturn\u001b[39;00m call_calibration_func(\n\u001b[1;32m     76\u001b[0m \t\tparameters, simulation_id, observed_data, \u001b[38;5;241m*\u001b[39m\u001b[38;5;241m*\u001b[39mobjective_kwargs\n\u001b[1;32m     77\u001b[0m \t)\n\u001b[1;32m     79\u001b[0m objective_kwargs \u001b[38;5;241m=\u001b[39m \u001b[38;5;28mself\u001b[39m\u001b[38;5;241m.\u001b[39mget_calibration_func_kwargs()\n\u001b[0;32m---> 81\u001b[0m \u001b[38;5;28;43mself\u001b[39;49m\u001b[38;5;241;43m.\u001b[39;49m\u001b[43mstudy\u001b[49m\u001b[38;5;241;43m.\u001b[39;49m\u001b[43moptimize\u001b[49m\u001b[43m(\u001b[49m\n\u001b[1;32m     82\u001b[0m \u001b[43m\t\u001b[49m\u001b[38;5;28;43;01mlambda\u001b[39;49;00m\u001b[43m \u001b[49m\u001b[43mtrial\u001b[49m\u001b[43m:\u001b[49m\u001b[43m \u001b[49m\u001b[43mobjective\u001b[49m\u001b[43m(\u001b[49m\n\u001b[1;32m     83\u001b[0m \u001b[43m\t\t\u001b[49m\u001b[43mtrial\u001b[49m\u001b[43m,\u001b[49m\n\u001b[1;32m     84\u001b[0m \u001b[43m\t\t\u001b[49m\u001b[43mparameter_spec\u001b[49m\u001b[43m,\u001b[49m\u001b[43m  \u001b[49m\u001b[38;5;66;43;03m# type: ignore[arg-type]\u001b[39;49;00m\n\u001b[1;32m     85\u001b[0m \u001b[43m\t\t\u001b[49m\u001b[38;5;28;43mself\u001b[39;49m\u001b[38;5;241;43m.\u001b[39;49m\u001b[43mspecification\u001b[49m\u001b[38;5;241;43m.\u001b[39;49m\u001b[43mobserved_data\u001b[49m\u001b[43m,\u001b[49m\n\u001b[1;32m     86\u001b[0m \u001b[43m\t\t\u001b[49m\u001b[43mcall_calibration_func\u001b[49m\u001b[38;5;241;43m=\u001b[39;49m\u001b[38;5;28;43mself\u001b[39;49m\u001b[38;5;241;43m.\u001b[39;49m\u001b[43mcall_calibration_func\u001b[49m\u001b[43m,\u001b[49m\n\u001b[1;32m     87\u001b[0m \u001b[43m\t\t\u001b[49m\u001b[43mobjective_kwargs\u001b[49m\u001b[38;5;241;43m=\u001b[39;49m\u001b[43mobjective_kwargs\u001b[49m\u001b[43m,\u001b[49m\n\u001b[1;32m     88\u001b[0m \u001b[43m\t\u001b[49m\u001b[43m)\u001b[49m\u001b[43m,\u001b[49m\n\u001b[1;32m     89\u001b[0m \u001b[43m\t\u001b[49m\u001b[43mn_trials\u001b[49m\u001b[38;5;241;43m=\u001b[39;49m\u001b[38;5;28;43mself\u001b[39;49m\u001b[38;5;241;43m.\u001b[39;49m\u001b[43mspecification\u001b[49m\u001b[38;5;241;43m.\u001b[39;49m\u001b[43mn_iterations\u001b[49m\u001b[43m,\u001b[49m\n\u001b[1;32m     90\u001b[0m \u001b[43m\t\u001b[49m\u001b[43mn_jobs\u001b[49m\u001b[38;5;241;43m=\u001b[39;49m\u001b[38;5;28;43mself\u001b[39;49m\u001b[38;5;241;43m.\u001b[39;49m\u001b[43mspecification\u001b[49m\u001b[38;5;241;43m.\u001b[39;49m\u001b[43mn_jobs\u001b[49m\u001b[43m,\u001b[49m\n\u001b[1;32m     91\u001b[0m \u001b[43m\u001b[49m\u001b[43m)\u001b[49m\n",
      "File \u001b[0;32m~/.cache/pypoetry/virtualenvs/calisim-examples-yfUJKvMn-py3.10/lib/python3.10/site-packages/optuna/study/study.py:475\u001b[0m, in \u001b[0;36mStudy.optimize\u001b[0;34m(self, func, n_trials, timeout, n_jobs, catch, callbacks, gc_after_trial, show_progress_bar)\u001b[0m\n\u001b[1;32m    373\u001b[0m \u001b[38;5;28;01mdef\u001b[39;00m\u001b[38;5;250m \u001b[39m\u001b[38;5;21moptimize\u001b[39m(\n\u001b[1;32m    374\u001b[0m     \u001b[38;5;28mself\u001b[39m,\n\u001b[1;32m    375\u001b[0m     func: ObjectiveFuncType,\n\u001b[0;32m   (...)\u001b[0m\n\u001b[1;32m    382\u001b[0m     show_progress_bar: \u001b[38;5;28mbool\u001b[39m \u001b[38;5;241m=\u001b[39m \u001b[38;5;28;01mFalse\u001b[39;00m,\n\u001b[1;32m    383\u001b[0m ) \u001b[38;5;241m-\u001b[39m\u001b[38;5;241m>\u001b[39m \u001b[38;5;28;01mNone\u001b[39;00m:\n\u001b[1;32m    384\u001b[0m \u001b[38;5;250m    \u001b[39m\u001b[38;5;124;03m\"\"\"Optimize an objective function.\u001b[39;00m\n\u001b[1;32m    385\u001b[0m \n\u001b[1;32m    386\u001b[0m \u001b[38;5;124;03m    Optimization is done by choosing a suitable set of hyperparameter values from a given\u001b[39;00m\n\u001b[0;32m   (...)\u001b[0m\n\u001b[1;32m    473\u001b[0m \u001b[38;5;124;03m            If nested invocation of this method occurs.\u001b[39;00m\n\u001b[1;32m    474\u001b[0m \u001b[38;5;124;03m    \"\"\"\u001b[39;00m\n\u001b[0;32m--> 475\u001b[0m     \u001b[43m_optimize\u001b[49m\u001b[43m(\u001b[49m\n\u001b[1;32m    476\u001b[0m \u001b[43m        \u001b[49m\u001b[43mstudy\u001b[49m\u001b[38;5;241;43m=\u001b[39;49m\u001b[38;5;28;43mself\u001b[39;49m\u001b[43m,\u001b[49m\n\u001b[1;32m    477\u001b[0m \u001b[43m        \u001b[49m\u001b[43mfunc\u001b[49m\u001b[38;5;241;43m=\u001b[39;49m\u001b[43mfunc\u001b[49m\u001b[43m,\u001b[49m\n\u001b[1;32m    478\u001b[0m \u001b[43m        \u001b[49m\u001b[43mn_trials\u001b[49m\u001b[38;5;241;43m=\u001b[39;49m\u001b[43mn_trials\u001b[49m\u001b[43m,\u001b[49m\n\u001b[1;32m    479\u001b[0m \u001b[43m        \u001b[49m\u001b[43mtimeout\u001b[49m\u001b[38;5;241;43m=\u001b[39;49m\u001b[43mtimeout\u001b[49m\u001b[43m,\u001b[49m\n\u001b[1;32m    480\u001b[0m \u001b[43m        \u001b[49m\u001b[43mn_jobs\u001b[49m\u001b[38;5;241;43m=\u001b[39;49m\u001b[43mn_jobs\u001b[49m\u001b[43m,\u001b[49m\n\u001b[1;32m    481\u001b[0m \u001b[43m        \u001b[49m\u001b[43mcatch\u001b[49m\u001b[38;5;241;43m=\u001b[39;49m\u001b[38;5;28;43mtuple\u001b[39;49m\u001b[43m(\u001b[49m\u001b[43mcatch\u001b[49m\u001b[43m)\u001b[49m\u001b[43m \u001b[49m\u001b[38;5;28;43;01mif\u001b[39;49;00m\u001b[43m \u001b[49m\u001b[38;5;28;43misinstance\u001b[39;49m\u001b[43m(\u001b[49m\u001b[43mcatch\u001b[49m\u001b[43m,\u001b[49m\u001b[43m \u001b[49m\u001b[43mIterable\u001b[49m\u001b[43m)\u001b[49m\u001b[43m \u001b[49m\u001b[38;5;28;43;01melse\u001b[39;49;00m\u001b[43m \u001b[49m\u001b[43m(\u001b[49m\u001b[43mcatch\u001b[49m\u001b[43m,\u001b[49m\u001b[43m)\u001b[49m\u001b[43m,\u001b[49m\n\u001b[1;32m    482\u001b[0m \u001b[43m        \u001b[49m\u001b[43mcallbacks\u001b[49m\u001b[38;5;241;43m=\u001b[39;49m\u001b[43mcallbacks\u001b[49m\u001b[43m,\u001b[49m\n\u001b[1;32m    483\u001b[0m \u001b[43m        \u001b[49m\u001b[43mgc_after_trial\u001b[49m\u001b[38;5;241;43m=\u001b[39;49m\u001b[43mgc_after_trial\u001b[49m\u001b[43m,\u001b[49m\n\u001b[1;32m    484\u001b[0m \u001b[43m        \u001b[49m\u001b[43mshow_progress_bar\u001b[49m\u001b[38;5;241;43m=\u001b[39;49m\u001b[43mshow_progress_bar\u001b[49m\u001b[43m,\u001b[49m\n\u001b[1;32m    485\u001b[0m \u001b[43m    \u001b[49m\u001b[43m)\u001b[49m\n",
      "File \u001b[0;32m~/.cache/pypoetry/virtualenvs/calisim-examples-yfUJKvMn-py3.10/lib/python3.10/site-packages/optuna/study/_optimize.py:97\u001b[0m, in \u001b[0;36m_optimize\u001b[0;34m(study, func, n_trials, timeout, n_jobs, catch, callbacks, gc_after_trial, show_progress_bar)\u001b[0m\n\u001b[1;32m     94\u001b[0m     \u001b[38;5;28;01mbreak\u001b[39;00m\n\u001b[1;32m     96\u001b[0m \u001b[38;5;28;01mif\u001b[39;00m \u001b[38;5;28mlen\u001b[39m(futures) \u001b[38;5;241m>\u001b[39m\u001b[38;5;241m=\u001b[39m n_jobs:\n\u001b[0;32m---> 97\u001b[0m     completed, futures \u001b[38;5;241m=\u001b[39m \u001b[43mwait\u001b[49m\u001b[43m(\u001b[49m\u001b[43mfutures\u001b[49m\u001b[43m,\u001b[49m\u001b[43m \u001b[49m\u001b[43mreturn_when\u001b[49m\u001b[38;5;241;43m=\u001b[39;49m\u001b[43mFIRST_COMPLETED\u001b[49m\u001b[43m)\u001b[49m\n\u001b[1;32m     98\u001b[0m     \u001b[38;5;66;03m# Raise if exception occurred in executing the completed futures.\u001b[39;00m\n\u001b[1;32m     99\u001b[0m     \u001b[38;5;28;01mfor\u001b[39;00m f \u001b[38;5;129;01min\u001b[39;00m completed:\n",
      "File \u001b[0;32m~/.pyenv/versions/3.10.17/lib/python3.10/concurrent/futures/_base.py:307\u001b[0m, in \u001b[0;36mwait\u001b[0;34m(fs, timeout, return_when)\u001b[0m\n\u001b[1;32m    303\u001b[0m         \u001b[38;5;28;01mreturn\u001b[39;00m DoneAndNotDoneFutures(done, not_done)\n\u001b[1;32m    305\u001b[0m     waiter \u001b[38;5;241m=\u001b[39m _create_and_install_waiters(fs, return_when)\n\u001b[0;32m--> 307\u001b[0m \u001b[43mwaiter\u001b[49m\u001b[38;5;241;43m.\u001b[39;49m\u001b[43mevent\u001b[49m\u001b[38;5;241;43m.\u001b[39;49m\u001b[43mwait\u001b[49m\u001b[43m(\u001b[49m\u001b[43mtimeout\u001b[49m\u001b[43m)\u001b[49m\n\u001b[1;32m    308\u001b[0m \u001b[38;5;28;01mfor\u001b[39;00m f \u001b[38;5;129;01min\u001b[39;00m fs:\n\u001b[1;32m    309\u001b[0m     \u001b[38;5;28;01mwith\u001b[39;00m f\u001b[38;5;241m.\u001b[39m_condition:\n",
      "File \u001b[0;32m~/.pyenv/versions/3.10.17/lib/python3.10/threading.py:607\u001b[0m, in \u001b[0;36mEvent.wait\u001b[0;34m(self, timeout)\u001b[0m\n\u001b[1;32m    605\u001b[0m signaled \u001b[38;5;241m=\u001b[39m \u001b[38;5;28mself\u001b[39m\u001b[38;5;241m.\u001b[39m_flag\n\u001b[1;32m    606\u001b[0m \u001b[38;5;28;01mif\u001b[39;00m \u001b[38;5;129;01mnot\u001b[39;00m signaled:\n\u001b[0;32m--> 607\u001b[0m     signaled \u001b[38;5;241m=\u001b[39m \u001b[38;5;28;43mself\u001b[39;49m\u001b[38;5;241;43m.\u001b[39;49m\u001b[43m_cond\u001b[49m\u001b[38;5;241;43m.\u001b[39;49m\u001b[43mwait\u001b[49m\u001b[43m(\u001b[49m\u001b[43mtimeout\u001b[49m\u001b[43m)\u001b[49m\n\u001b[1;32m    608\u001b[0m \u001b[38;5;28;01mreturn\u001b[39;00m signaled\n",
      "File \u001b[0;32m~/.pyenv/versions/3.10.17/lib/python3.10/threading.py:320\u001b[0m, in \u001b[0;36mCondition.wait\u001b[0;34m(self, timeout)\u001b[0m\n\u001b[1;32m    318\u001b[0m \u001b[38;5;28;01mtry\u001b[39;00m:    \u001b[38;5;66;03m# restore state no matter what (e.g., KeyboardInterrupt)\u001b[39;00m\n\u001b[1;32m    319\u001b[0m     \u001b[38;5;28;01mif\u001b[39;00m timeout \u001b[38;5;129;01mis\u001b[39;00m \u001b[38;5;28;01mNone\u001b[39;00m:\n\u001b[0;32m--> 320\u001b[0m         \u001b[43mwaiter\u001b[49m\u001b[38;5;241;43m.\u001b[39;49m\u001b[43macquire\u001b[49m\u001b[43m(\u001b[49m\u001b[43m)\u001b[49m\n\u001b[1;32m    321\u001b[0m         gotit \u001b[38;5;241m=\u001b[39m \u001b[38;5;28;01mTrue\u001b[39;00m\n\u001b[1;32m    322\u001b[0m     \u001b[38;5;28;01melse\u001b[39;00m:\n",
      "\u001b[0;31mKeyboardInterrupt\u001b[0m: "
     ]
    }
   ],
   "source": [
    "import numpy as np\n",
    "import pandas as pd\n",
    "\n",
    "from calisim.data_model import (\n",
    "    DistributionModel,\n",
    "    ParameterDataType,\n",
    "    ParameterSpecification,\n",
    ")\n",
    "from calisim.optimisation import OptimisationMethod, OptimisationMethodModel\n",
    "from calisim.evolutionary import (\n",
    "\tEvolutionaryMethod,\n",
    "\tEvolutionaryMethodModel,\n",
    ")\n",
    "\n",
    "parameter_spec = ParameterSpecification(\n",
    "parameters=[\n",
    "    DistributionModel(\n",
    "        name=\"maxidn\",\n",
    "        distribution_name=\"uniform\",\n",
    "        distribution_args=[90, 97],\n",
    "        data_type=ParameterDataType.DISCRETE,\n",
    "    ),\n",
    "    DistributionModel(\n",
    "        name=\"minidn\",\n",
    "        distribution_name=\"uniform\",\n",
    "        distribution_args=[75.0, 85.0],\n",
    "        data_type=ParameterDataType.DISCRETE,\n",
    "    ),\n",
    "    DistributionModel(\n",
    "        name=\"maxsd\",\n",
    "        distribution_name=\"uniform\",\n",
    "        distribution_args=[15, 25],\n",
    "        data_type=ParameterDataType.DISCRETE,\n",
    "    ),\n",
    "    DistributionModel(\n",
    "        name=\"minsd\",\n",
    "        distribution_name=\"uniform\",\n",
    "        distribution_args=[1, 3],\n",
    "        data_type=ParameterDataType.DISCRETE,\n",
    "    ),\n",
    "    DistributionModel(\n",
    "        name=\"a\",\n",
    "        distribution_name=\"uniform\",\n",
    "        distribution_args=[0.6, 0.8],\n",
    "        data_type=ParameterDataType.CONTINUOUS,\n",
    "    ),\n",
    "    DistributionModel(\n",
    "        name=\"b\",\n",
    "        distribution_name=\"uniform\",\n",
    "        distribution_args=[0.4, 0.6],\n",
    "        data_type=ParameterDataType.CONTINUOUS,\n",
    "    ),\n",
    "]\n",
    ")\n",
    "\n",
    "def objective(\n",
    "    parameters: dict, simulation_id: str, observed_data: np.ndarray | None\n",
    ") -> float | list[float]:\n",
    "    simulation_parameters = {}\n",
    "    \n",
    "    maxidn=parameters[\"maxidn\"]\n",
    "    minidn=parameters[\"minidn\"]\n",
    "    maxsd=parameters[\"maxsd\"]\n",
    "    minsd=parameters[\"minsd\"]\n",
    "    a=parameters[\"a\"]\n",
    "    b=parameters[\"b\"]\n",
    "\n",
    "    maxidn=95\n",
    "    minidn=80\n",
    "    maxsd=20\n",
    "    minsd=1\n",
    "    a=0.7\n",
    "    b=0.5\n",
    "    m=1\n",
    "    n=1\n",
    "\n",
    "    p=simulation_id\n",
    "    cmd = f\"tegenomesimulator -M {M} -p {p} -c {c} -r {r} -o {o} -a {a} -b {b} -i {i} -m {m} -n {n} --maxidn {maxidn} --minidn {minidn} --maxsd {maxsd} --minsd {minsd} -s {seed}\"\n",
    "    Popen(cmd, shell=True, stdout=subprocess.DEVNULL, stderr=subprocess.DEVNULL).wait()\n",
    "\n",
    "\n",
    "    # total_matches = 0\n",
    "    # total_aligned = 0\n",
    "    genome_sequence_path = f\"{o}/TEgenomeSimulator_{p}_result/{p}_genome_sequence_out_final.fasta\"\n",
    "    genome_sequence = load_genome_sequence(genome_sequence_path)\n",
    "\n",
    "    res = edlib.align(genome_sequence, reference_genome_sequence, mode = \"HW\", task = \"path\")\n",
    "    return res['editDistance']\n",
    "    \n",
    "    # vec2 = kmer_vector(seq1, k, kmer_list).reshape(1, -1)\n",
    "    # return vec2\n",
    "    # similarity = cosine_similarity(vec1, vec2)[0, 0]\n",
    "    #print(f\"Cosine similarity (k={k}): {similarity:.4f}\")\n",
    "    return similarity\n",
    "    # for name, seq, qual in mp.fastx_read(genome_sequence_path):\n",
    "    #     for aln in aligner.map(seq):\n",
    "    #         if aln.blen == 0:\n",
    "    #             continue\n",
    "    #         total_matches += aln.mlen\n",
    "    #         total_aligned += aln.blen\n",
    "            \n",
    "    # if total_aligned == 0:\n",
    "    #     return 0.0\n",
    "\n",
    "    # identity = total_matches / total_aligned\n",
    "    # return identity * 100  \n",
    "\n",
    "\n",
    "\n",
    "specification = OptimisationMethodModel(\n",
    "    experiment_name=\"optuna_optimisation\",\n",
    "    parameter_spec=parameter_spec,\n",
    "    observed_data=vec1,\n",
    "    method=\"gp\",\n",
    "    directions=[\"maximize\"],\n",
    "    output_labels=[\"Levenshtein Distance\"],\n",
    "    n_iterations=100,\n",
    "    n_jobs=5,\n",
    "    method_kwargs=dict(n_startup_trials=1),\n",
    ")\n",
    "\n",
    "calibrator = OptimisationMethod(\n",
    "    calibration_func=objective, specification=specification, engine=\"optuna\"\n",
    ")\n",
    "\n",
    "calibrator.specify().execute().analyze()"
   ]
  },
  {
   "cell_type": "markdown",
   "id": "bb4de1c7-34ae-4350-83b7-a48b9db7229e",
   "metadata": {},
   "source": [
    "# Optimisation\n",
    "\n",
    "Ground-truth parameter values\n",
    "\n",
    "```python\n",
    "maxidn=95\n",
    "minidn=80\n",
    "maxsd=20\n",
    "minsd=1\n",
    "a=0.7\n",
    "b=0.5\n",
    "```"
   ]
  },
  {
   "cell_type": "code",
   "execution_count": null,
   "id": "bae047de-8f7f-4254-aa1c-143c66f9cd93",
   "metadata": {},
   "outputs": [],
   "source": [
    "calibrator.get_parameter_estimates().estimates"
   ]
  },
  {
   "cell_type": "code",
   "execution_count": 28,
   "id": "ea70e001-f58d-49fc-9155-522feb6b4f60",
   "metadata": {},
   "outputs": [],
   "source": []
  },
  {
   "cell_type": "code",
   "execution_count": null,
   "id": "ba36766b-9ed4-4ae7-9c48-54e23fd63e61",
   "metadata": {},
   "outputs": [],
   "source": []
  }
 ],
 "metadata": {
  "kernelspec": {
   "display_name": "Python 3 (ipykernel)",
   "language": "python",
   "name": "python3"
  },
  "language_info": {
   "codemirror_mode": {
    "name": "ipython",
    "version": 3
   },
   "file_extension": ".py",
   "mimetype": "text/x-python",
   "name": "python",
   "nbconvert_exporter": "python",
   "pygments_lexer": "ipython3",
   "version": "3.10.17"
  }
 },
 "nbformat": 4,
 "nbformat_minor": 5
}
