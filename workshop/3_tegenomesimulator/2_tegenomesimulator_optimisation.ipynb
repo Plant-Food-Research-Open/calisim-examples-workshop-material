{
 "cells": [
  {
   "cell_type": "markdown",
   "id": "9f22e386-62d1-4f3b-9d6f-25a6edec4220",
   "metadata": {},
   "source": [
    "# Imports"
   ]
  },
  {
   "cell_type": "code",
   "execution_count": 2,
   "id": "1fb5183b-ee2a-4de8-8004-b43e5b18e427",
   "metadata": {},
   "outputs": [],
   "source": [
    "from subprocess import Popen\n",
    "import subprocess\n",
    "from pathlib import Path\n",
    "import numpy as np\n",
    "from sourmash import MinHash\n",
    "from sourmash import signature as sig\n",
    "from Bio import SeqIO"
   ]
  },
  {
   "cell_type": "markdown",
   "id": "d27bc528-a8a4-4ccc-abf4-55a2566efec4",
   "metadata": {},
   "source": [
    "# Reference simulation\n",
    "\n",
    "Execute the reference simulation."
   ]
  },
  {
   "cell_type": "code",
   "execution_count": 3,
   "id": "8c9e3e28-9ba0-4ecf-ae55-1bce65b44ede",
   "metadata": {},
   "outputs": [
    {
     "data": {
      "text/plain": [
       "0"
      ]
     },
     "execution_count": 3,
     "metadata": {},
     "output_type": "execute_result"
    }
   ],
   "source": [
    "M = 0\n",
    "c=str(Path(\"data\", \"random_genome_chr_index.csv\"))\n",
    "r=str(Path(\"data\", \"combined_curated_TE_lib_ATOSZM_selected.fasta\"))\n",
    "o=\"data\"\n",
    "maxidn=95\n",
    "minidn=80\n",
    "maxsd=20\n",
    "minsd=1\n",
    "a=0.7\n",
    "b=0.5\n",
    "i=0.001\n",
    "m=5\n",
    "n=1\n",
    "\n",
    "ksize = 51 \n",
    "scaled = 100  \n",
    "track_abundance = True\n",
    "seed = 100\n",
    "\n",
    "p=\"reference_simulation\"\n",
    "cmd = f\"tegenomesimulator -M {M} -p {p} -c {c} -r {r} -o {o} -a {a} -b {b} -i {i} -m {m} -n {n} --maxidn {maxidn} --minidn {minidn} --maxsd {maxsd} --minsd {minsd} -s {seed}\"\n",
    "Popen(cmd, shell=True, stdout=subprocess.DEVNULL, stderr=subprocess.DEVNULL).wait()"
   ]
  },
  {
   "cell_type": "markdown",
   "id": "c400a300-6f3d-419d-9837-64ec635afcb0",
   "metadata": {},
   "source": [
    "Derive Sourmash signature. "
   ]
  },
  {
   "cell_type": "markdown",
   "id": "85dfc16e-7313-403c-adab-ea1193b1c5fb",
   "metadata": {},
   "source": [
    "# Optimisation\n",
    "\n",
    "Ground-truth parameter values\n",
    "\n",
    "```python\n",
    "maxidn=95\n",
    "minidn=80\n",
    "maxsd=20\n",
    "minsd=1\n",
    "a=0.7\n",
    "b=0.5\n",
    "```"
   ]
  },
  {
   "cell_type": "code",
   "execution_count": 4,
   "id": "b2f8711c-30a7-4005-a461-ac74717ef403",
   "metadata": {},
   "outputs": [
    {
     "data": {
      "text/plain": [
       "SourmashSignature('reference_genome', ed226136)"
      ]
     },
     "execution_count": 4,
     "metadata": {},
     "output_type": "execute_result"
    }
   ],
   "source": [
    "reference_genome_sequence_path = f\"{o}/TEgenomeSimulator_{p}_result/{p}_genome_sequence_out_final.fasta\"\n",
    "\n",
    "mh = MinHash(n=0, ksize=ksize, scaled=scaled, track_abundance=track_abundance, seed=seed)\n",
    "for record in SeqIO.parse(reference_genome_sequence_path, \"fasta\"):\n",
    "    mh.add_sequence(str(record.seq), force=True)\n",
    "reference_encoded_genome_sequence = sig.SourmashSignature(mh, name=\"reference_genome\")\n",
    "reference_encoded_genome_sequence"
   ]
  },
  {
   "cell_type": "code",
   "execution_count": null,
   "id": "4973acd0-64c3-451b-ba27-1a420c4b37be",
   "metadata": {},
   "outputs": [
    {
     "name": "stderr",
     "output_type": "stream",
     "text": [
      "[I 2025-09-30 14:02:04,688] A new study created in memory with name: optuna_optimisation\n",
      "[I 2025-09-30 14:02:21,291] Trial 0 finished with value: 0.03972417128016814 and parameters: {'maxidn': 95, 'minidn': 82, 'maxsd': 22, 'minsd': 1, 'a': 0.7, 'b': 0.5}. Best is trial 0 with value: 0.03972417128016814.\n",
      "[I 2025-09-30 14:02:21,323] Trial 2 finished with value: 0.03841529973658442 and parameters: {'maxidn': 95, 'minidn': 83, 'maxsd': 21, 'minsd': 1, 'a': 0.7, 'b': 0.5}. Best is trial 0 with value: 0.03972417128016814.\n",
      "[I 2025-09-30 14:02:21,749] Trial 1 finished with value: 0.03150130927034278 and parameters: {'maxidn': 92, 'minidn': 80, 'maxsd': 20, 'minsd': 1, 'a': 0.7, 'b': 0.5}. Best is trial 0 with value: 0.03972417128016814.\n",
      "[I 2025-09-30 14:02:22,260] Trial 3 finished with value: 0.03290853805296512 and parameters: {'maxidn': 90, 'minidn': 81, 'maxsd': 23, 'minsd': 1, 'a': 0.7, 'b': 0.5}. Best is trial 0 with value: 0.03972417128016814.\n",
      "[I 2025-09-30 14:02:38,561] Trial 4 finished with value: 0.03972417128016814 and parameters: {'maxidn': 95, 'minidn': 82, 'maxsd': 22, 'minsd': 1, 'a': 0.7, 'b': 0.5}. Best is trial 0 with value: 0.03972417128016814.\n",
      "[I 2025-09-30 14:02:38,743] Trial 6 finished with value: 0.03914525809569347 and parameters: {'maxidn': 95, 'minidn': 82, 'maxsd': 25, 'minsd': 1, 'a': 0.7, 'b': 0.5}. Best is trial 0 with value: 0.03972417128016814.\n",
      "[I 2025-09-30 14:02:38,745] Trial 5 finished with value: 0.03627565732075966 and parameters: {'maxidn': 92, 'minidn': 81, 'maxsd': 24, 'minsd': 1, 'a': 0.7, 'b': 0.5}. Best is trial 0 with value: 0.03972417128016814.\n",
      "[I 2025-09-30 14:02:39,238] Trial 7 finished with value: 0.03811352012234037 and parameters: {'maxidn': 95, 'minidn': 83, 'maxsd': 25, 'minsd': 1, 'a': 0.7, 'b': 0.5}. Best is trial 0 with value: 0.03972417128016814.\n",
      "[I 2025-09-30 14:02:57,705] Trial 8 finished with value: 0.03405705487524624 and parameters: {'maxidn': 93, 'minidn': 83, 'maxsd': 25, 'minsd': 1, 'a': 0.7, 'b': 0.5}. Best is trial 0 with value: 0.03972417128016814.\n",
      "[I 2025-09-30 14:02:57,978] Trial 9 finished with value: 0.03276670739911136 and parameters: {'maxidn': 93, 'minidn': 83, 'maxsd': 22, 'minsd': 1, 'a': 0.7, 'b': 0.5}. Best is trial 0 with value: 0.03972417128016814.\n",
      "[I 2025-09-30 14:02:58,180] Trial 10 finished with value: 0.03276670739911136 and parameters: {'maxidn': 93, 'minidn': 83, 'maxsd': 22, 'minsd': 1, 'a': 0.7, 'b': 0.5}. Best is trial 0 with value: 0.03972417128016814.\n",
      "[I 2025-09-30 14:02:58,863] Trial 11 finished with value: 0.035021732455316035 and parameters: {'maxidn': 93, 'minidn': 80, 'maxsd': 22, 'minsd': 1, 'a': 0.7, 'b': 0.5}. Best is trial 0 with value: 0.03972417128016814.\n",
      "[I 2025-09-30 14:03:16,322] Trial 14 finished with value: 0.034527350929518086 and parameters: {'maxidn': 94, 'minidn': 82, 'maxsd': 23, 'minsd': 1, 'a': 0.7, 'b': 0.5}. Best is trial 0 with value: 0.03972417128016814.\n",
      "[I 2025-09-30 14:03:16,790] Trial 15 finished with value: 0.034527350929518086 and parameters: {'maxidn': 94, 'minidn': 82, 'maxsd': 23, 'minsd': 1, 'a': 0.7, 'b': 0.5}. Best is trial 0 with value: 0.03972417128016814.\n",
      "[I 2025-09-30 14:03:16,821] Trial 12 finished with value: 0.02934388564589563 and parameters: {'maxidn': 90, 'minidn': 80, 'maxsd': 23, 'minsd': 1, 'a': 0.7, 'b': 0.5}. Best is trial 0 with value: 0.03972417128016814.\n",
      "[I 2025-09-30 14:03:16,824] Trial 13 finished with value: 0.029878283608560374 and parameters: {'maxidn': 90, 'minidn': 80, 'maxsd': 20, 'minsd': 1, 'a': 0.7, 'b': 0.5}. Best is trial 0 with value: 0.03972417128016814.\n",
      "[I 2025-09-30 14:03:36,351] Trial 16 finished with value: 0.03708001131456751 and parameters: {'maxidn': 94, 'minidn': 82, 'maxsd': 21, 'minsd': 1, 'a': 0.7, 'b': 0.5}. Best is trial 0 with value: 0.03972417128016814.\n",
      "[I 2025-09-30 14:03:36,842] Trial 19 finished with value: 0.03406842653051889 and parameters: {'maxidn': 94, 'minidn': 81, 'maxsd': 21, 'minsd': 1, 'a': 0.7, 'b': 0.5}. Best is trial 0 with value: 0.03972417128016814.\n",
      "[I 2025-09-30 14:03:37,032] Trial 18 finished with value: 0.03406842653051889 and parameters: {'maxidn': 94, 'minidn': 81, 'maxsd': 21, 'minsd': 1, 'a': 0.7, 'b': 0.5}. Best is trial 0 with value: 0.03972417128016814.\n",
      "[I 2025-09-30 14:03:37,124] Trial 17 finished with value: 0.032158966152732615 and parameters: {'maxidn': 90, 'minidn': 81, 'maxsd': 21, 'minsd': 1, 'a': 0.7, 'b': 0.5}. Best is trial 0 with value: 0.03972417128016814.\n",
      "[I 2025-09-30 14:03:54,166] Trial 20 finished with value: 0.03531786379341151 and parameters: {'maxidn': 95, 'minidn': 81, 'maxsd': 21, 'minsd': 1, 'a': 0.7, 'b': 0.5}. Best is trial 0 with value: 0.03972417128016814.\n",
      "[I 2025-09-30 14:03:54,669] Trial 21 finished with value: 0.03675762654240755 and parameters: {'maxidn': 95, 'minidn': 82, 'maxsd': 24, 'minsd': 1, 'a': 0.7, 'b': 0.5}. Best is trial 0 with value: 0.03972417128016814.\n",
      "[I 2025-09-30 14:03:54,852] Trial 23 finished with value: 0.03675762654240755 and parameters: {'maxidn': 95, 'minidn': 82, 'maxsd': 24, 'minsd': 1, 'a': 0.7, 'b': 0.5}. Best is trial 0 with value: 0.03972417128016814.\n",
      "[I 2025-09-30 14:03:56,319] Trial 22 finished with value: 0.029942474990344303 and parameters: {'maxidn': 91, 'minidn': 82, 'maxsd': 24, 'minsd': 1, 'a': 0.7, 'b': 0.5}. Best is trial 0 with value: 0.03972417128016814.\n",
      "[I 2025-09-30 14:04:11,812] Trial 24 finished with value: 0.03675762654240755 and parameters: {'maxidn': 95, 'minidn': 82, 'maxsd': 24, 'minsd': 1, 'a': 0.7, 'b': 0.5}. Best is trial 0 with value: 0.03972417128016814.\n",
      "[I 2025-09-30 14:04:11,924] Trial 26 finished with value: 0.03972417128016814 and parameters: {'maxidn': 95, 'minidn': 82, 'maxsd': 22, 'minsd': 1, 'a': 0.7, 'b': 0.5}. Best is trial 0 with value: 0.03972417128016814.\n",
      "[I 2025-09-30 14:04:11,937] Trial 25 finished with value: 0.03675762654240755 and parameters: {'maxidn': 95, 'minidn': 82, 'maxsd': 24, 'minsd': 1, 'a': 0.7, 'b': 0.5}. Best is trial 0 with value: 0.03972417128016814.\n",
      "[I 2025-09-30 14:04:13,469] Trial 27 finished with value: 0.03972417128016814 and parameters: {'maxidn': 95, 'minidn': 82, 'maxsd': 22, 'minsd': 1, 'a': 0.7, 'b': 0.5}. Best is trial 0 with value: 0.03972417128016814.\n",
      "[I 2025-09-30 14:04:29,937] Trial 28 finished with value: 0.03313503724431055 and parameters: {'maxidn': 94, 'minidn': 82, 'maxsd': 22, 'minsd': 1, 'a': 0.7, 'b': 0.5}. Best is trial 0 with value: 0.03972417128016814.\n",
      "[I 2025-09-30 14:04:30,341] Trial 30 finished with value: 0.03313503724431055 and parameters: {'maxidn': 94, 'minidn': 82, 'maxsd': 22, 'minsd': 1, 'a': 0.7, 'b': 0.5}. Best is trial 0 with value: 0.03972417128016814.\n",
      "[I 2025-09-30 14:04:30,429] Trial 29 finished with value: 0.03313503724431055 and parameters: {'maxidn': 94, 'minidn': 82, 'maxsd': 22, 'minsd': 1, 'a': 0.7, 'b': 0.5}. Best is trial 0 with value: 0.03972417128016814.\n",
      "[I 2025-09-30 14:04:30,626] Trial 31 finished with value: 0.039596318080430626 and parameters: {'maxidn': 94, 'minidn': 83, 'maxsd': 22, 'minsd': 1, 'a': 0.7, 'b': 0.5}. Best is trial 0 with value: 0.03972417128016814.\n",
      "[I 2025-09-30 14:04:47,989] Trial 32 finished with value: 0.034600210623011995 and parameters: {'maxidn': 92, 'minidn': 83, 'maxsd': 20, 'minsd': 1, 'a': 0.7, 'b': 0.5}. Best is trial 0 with value: 0.03972417128016814.\n",
      "[I 2025-09-30 14:04:48,373] Trial 35 finished with value: 0.03509608504863382 and parameters: {'maxidn': 95, 'minidn': 82, 'maxsd': 20, 'minsd': 1, 'a': 0.7, 'b': 0.5}. Best is trial 0 with value: 0.03972417128016814.\n",
      "[I 2025-09-30 14:04:48,504] Trial 34 finished with value: 0.037649501057215096 and parameters: {'maxidn': 95, 'minidn': 83, 'maxsd': 20, 'minsd': 1, 'a': 0.7, 'b': 0.5}. Best is trial 0 with value: 0.03972417128016814.\n",
      "[I 2025-09-30 14:04:48,603] Trial 33 finished with value: 0.034600210623011995 and parameters: {'maxidn': 92, 'minidn': 83, 'maxsd': 20, 'minsd': 1, 'a': 0.7, 'b': 0.5}. Best is trial 0 with value: 0.03972417128016814.\n",
      "[I 2025-09-30 14:05:05,431] Trial 36 finished with value: 0.03450229235795932 and parameters: {'maxidn': 95, 'minidn': 82, 'maxsd': 23, 'minsd': 1, 'a': 0.7, 'b': 0.5}. Best is trial 0 with value: 0.03972417128016814.\n",
      "[I 2025-09-30 14:05:05,494] Trial 37 finished with value: 0.03638321275044398 and parameters: {'maxidn': 95, 'minidn': 81, 'maxsd': 23, 'minsd': 1, 'a': 0.7, 'b': 0.5}. Best is trial 0 with value: 0.03972417128016814.\n",
      "[I 2025-09-30 14:05:05,950] Trial 38 finished with value: 0.03638321275044398 and parameters: {'maxidn': 95, 'minidn': 81, 'maxsd': 23, 'minsd': 1, 'a': 0.7, 'b': 0.5}. Best is trial 0 with value: 0.03972417128016814.\n",
      "[I 2025-09-30 14:05:06,024] Trial 39 finished with value: 0.03638321275044398 and parameters: {'maxidn': 95, 'minidn': 81, 'maxsd': 23, 'minsd': 1, 'a': 0.7, 'b': 0.5}. Best is trial 0 with value: 0.03972417128016814.\n",
      "[I 2025-09-30 14:05:22,576] Trial 41 finished with value: 0.035387886928649026 and parameters: {'maxidn': 95, 'minidn': 81, 'maxsd': 22, 'minsd': 1, 'a': 0.7, 'b': 0.5}. Best is trial 0 with value: 0.03972417128016814.\n",
      "[I 2025-09-30 14:05:22,606] Trial 40 finished with value: 0.03638321275044398 and parameters: {'maxidn': 95, 'minidn': 81, 'maxsd': 23, 'minsd': 1, 'a': 0.7, 'b': 0.5}. Best is trial 0 with value: 0.03972417128016814.\n",
      "[I 2025-09-30 14:05:23,042] Trial 43 finished with value: 0.03319170834060814 and parameters: {'maxidn': 93, 'minidn': 82, 'maxsd': 22, 'minsd': 1, 'a': 0.7, 'b': 0.5}. Best is trial 0 with value: 0.03972417128016814.\n",
      "[I 2025-09-30 14:05:23,070] Trial 42 finished with value: 0.03162863880602629 and parameters: {'maxidn': 91, 'minidn': 82, 'maxsd': 22, 'minsd': 1, 'a': 0.7, 'b': 0.5}. Best is trial 0 with value: 0.03972417128016814.\n",
      "[I 2025-09-30 14:05:39,430] Trial 44 finished with value: 0.039596318080430626 and parameters: {'maxidn': 94, 'minidn': 83, 'maxsd': 22, 'minsd': 1, 'a': 0.7, 'b': 0.5}. Best is trial 0 with value: 0.03972417128016814.\n",
      "[I 2025-09-30 14:05:40,080] Trial 45 finished with value: 0.039596318080430626 and parameters: {'maxidn': 94, 'minidn': 83, 'maxsd': 22, 'minsd': 1, 'a': 0.7, 'b': 0.5}. Best is trial 0 with value: 0.03972417128016814.\n",
      "[I 2025-09-30 14:05:40,161] Trial 46 finished with value: 0.039596318080430626 and parameters: {'maxidn': 94, 'minidn': 83, 'maxsd': 22, 'minsd': 1, 'a': 0.7, 'b': 0.5}. Best is trial 0 with value: 0.03972417128016814.\n",
      "[I 2025-09-30 14:05:40,192] Trial 47 finished with value: 0.039596318080430626 and parameters: {'maxidn': 94, 'minidn': 83, 'maxsd': 22, 'minsd': 1, 'a': 0.7, 'b': 0.5}. Best is trial 0 with value: 0.03972417128016814.\n",
      "[I 2025-09-30 14:05:57,695] Trial 51 finished with value: 0.035962606633399674 and parameters: {'maxidn': 95, 'minidn': 82, 'maxsd': 21, 'minsd': 1, 'a': 0.7, 'b': 0.5}. Best is trial 0 with value: 0.03972417128016814.\n",
      "[I 2025-09-30 14:05:57,843] Trial 48 finished with value: 0.03764206357346522 and parameters: {'maxidn': 94, 'minidn': 83, 'maxsd': 21, 'minsd': 1, 'a': 0.7, 'b': 0.5}. Best is trial 0 with value: 0.03972417128016814.\n",
      "[I 2025-09-30 14:05:58,034] Trial 49 finished with value: 0.03841529973658442 and parameters: {'maxidn': 95, 'minidn': 83, 'maxsd': 21, 'minsd': 1, 'a': 0.7, 'b': 0.5}. Best is trial 0 with value: 0.03972417128016814.\n",
      "[I 2025-09-30 14:05:58,454] Trial 50 finished with value: 0.03841529973658442 and parameters: {'maxidn': 95, 'minidn': 83, 'maxsd': 21, 'minsd': 1, 'a': 0.7, 'b': 0.5}. Best is trial 0 with value: 0.03972417128016814.\n",
      "[I 2025-09-30 14:06:15,921] Trial 52 finished with value: 0.033059547036776715 and parameters: {'maxidn': 93, 'minidn': 82, 'maxsd': 21, 'minsd': 1, 'a': 0.7, 'b': 0.5}. Best is trial 0 with value: 0.03972417128016814.\n",
      "[I 2025-09-30 14:06:16,048] Trial 53 finished with value: 0.033059547036776715 and parameters: {'maxidn': 93, 'minidn': 82, 'maxsd': 21, 'minsd': 1, 'a': 0.7, 'b': 0.5}. Best is trial 0 with value: 0.03972417128016814.\n",
      "[I 2025-09-30 14:06:16,541] Trial 55 finished with value: 0.03276670739911136 and parameters: {'maxidn': 93, 'minidn': 83, 'maxsd': 22, 'minsd': 1, 'a': 0.7, 'b': 0.5}. Best is trial 0 with value: 0.03972417128016814.\n",
      "[I 2025-09-30 14:06:16,649] Trial 54 finished with value: 0.03276670739911136 and parameters: {'maxidn': 93, 'minidn': 83, 'maxsd': 22, 'minsd': 1, 'a': 0.7, 'b': 0.5}. Best is trial 0 with value: 0.03972417128016814.\n",
      "[I 2025-09-30 14:06:34,575] Trial 57 finished with value: 0.039596318080430626 and parameters: {'maxidn': 94, 'minidn': 83, 'maxsd': 22, 'minsd': 1, 'a': 0.7, 'b': 0.5}. Best is trial 0 with value: 0.03972417128016814.\n",
      "[I 2025-09-30 14:06:34,869] Trial 56 finished with value: 0.03276670739911136 and parameters: {'maxidn': 93, 'minidn': 83, 'maxsd': 22, 'minsd': 1, 'a': 0.7, 'b': 0.5}. Best is trial 0 with value: 0.03972417128016814.\n",
      "[I 2025-09-30 14:06:35,001] Trial 58 finished with value: 0.03313503724431055 and parameters: {'maxidn': 94, 'minidn': 82, 'maxsd': 22, 'minsd': 1, 'a': 0.7, 'b': 0.5}. Best is trial 0 with value: 0.03972417128016814.\n",
      "[I 2025-09-30 14:06:35,495] Trial 59 finished with value: 0.03313503724431055 and parameters: {'maxidn': 94, 'minidn': 82, 'maxsd': 22, 'minsd': 1, 'a': 0.7, 'b': 0.5}. Best is trial 0 with value: 0.03972417128016814.\n",
      "[I 2025-09-30 14:06:53,718] Trial 60 finished with value: 0.03313503724431055 and parameters: {'maxidn': 94, 'minidn': 82, 'maxsd': 22, 'minsd': 1, 'a': 0.7, 'b': 0.5}. Best is trial 0 with value: 0.03972417128016814.\n",
      "[I 2025-09-30 14:06:53,967] Trial 61 finished with value: 0.034527350929518086 and parameters: {'maxidn': 94, 'minidn': 82, 'maxsd': 23, 'minsd': 1, 'a': 0.7, 'b': 0.5}. Best is trial 0 with value: 0.03972417128016814.\n",
      "[I 2025-09-30 14:06:54,414] Trial 62 finished with value: 0.03450229235795932 and parameters: {'maxidn': 95, 'minidn': 82, 'maxsd': 23, 'minsd': 1, 'a': 0.7, 'b': 0.5}. Best is trial 0 with value: 0.03972417128016814.\n",
      "[I 2025-09-30 14:06:55,400] Trial 63 finished with value: 0.03924822827976826 and parameters: {'maxidn': 95, 'minidn': 80, 'maxsd': 23, 'minsd': 1, 'a': 0.7, 'b': 0.5}. Best is trial 0 with value: 0.03972417128016814.\n",
      "[I 2025-09-30 14:07:13,117] Trial 64 finished with value: 0.03507043485048422 and parameters: {'maxidn': 95, 'minidn': 83, 'maxsd': 23, 'minsd': 1, 'a': 0.7, 'b': 0.5}. Best is trial 0 with value: 0.03972417128016814.\n",
      "[I 2025-09-30 14:07:13,571] Trial 65 finished with value: 0.0369247734967979 and parameters: {'maxidn': 95, 'minidn': 83, 'maxsd': 22, 'minsd': 1, 'a': 0.7, 'b': 0.5}. Best is trial 0 with value: 0.03972417128016814.\n",
      "[I 2025-09-30 14:07:14,466] Trial 66 finished with value: 0.0369247734967979 and parameters: {'maxidn': 95, 'minidn': 83, 'maxsd': 22, 'minsd': 1, 'a': 0.7, 'b': 0.5}. Best is trial 0 with value: 0.03972417128016814.\n",
      "[I 2025-09-30 14:07:14,630] Trial 67 finished with value: 0.0369247734967979 and parameters: {'maxidn': 95, 'minidn': 83, 'maxsd': 22, 'minsd': 1, 'a': 0.7, 'b': 0.5}. Best is trial 0 with value: 0.03972417128016814.\n",
      "[I 2025-09-30 14:07:31,937] Trial 69 finished with value: 0.039596318080430626 and parameters: {'maxidn': 94, 'minidn': 83, 'maxsd': 22, 'minsd': 1, 'a': 0.7, 'b': 0.5}. Best is trial 0 with value: 0.03972417128016814.\n",
      "[I 2025-09-30 14:07:32,127] Trial 68 finished with value: 0.039596318080430626 and parameters: {'maxidn': 94, 'minidn': 83, 'maxsd': 22, 'minsd': 1, 'a': 0.7, 'b': 0.5}. Best is trial 0 with value: 0.03972417128016814.\n",
      "[I 2025-09-30 14:07:33,193] Trial 70 finished with value: 0.039596318080430626 and parameters: {'maxidn': 94, 'minidn': 83, 'maxsd': 22, 'minsd': 1, 'a': 0.7, 'b': 0.5}. Best is trial 0 with value: 0.03972417128016814.\n",
      "[I 2025-09-30 14:07:33,197] Trial 71 finished with value: 0.039596318080430626 and parameters: {'maxidn': 94, 'minidn': 83, 'maxsd': 22, 'minsd': 1, 'a': 0.7, 'b': 0.5}. Best is trial 0 with value: 0.03972417128016814.\n",
      "[I 2025-09-30 14:07:49,692] Trial 73 finished with value: 0.03708001131456751 and parameters: {'maxidn': 94, 'minidn': 82, 'maxsd': 21, 'minsd': 1, 'a': 0.7, 'b': 0.5}. Best is trial 0 with value: 0.03972417128016814.\n",
      "[I 2025-09-30 14:07:49,767] Trial 72 finished with value: 0.03313503724431055 and parameters: {'maxidn': 94, 'minidn': 82, 'maxsd': 22, 'minsd': 1, 'a': 0.7, 'b': 0.5}. Best is trial 0 with value: 0.03972417128016814.\n",
      "[I 2025-09-30 14:07:50,159] Trial 74 finished with value: 0.039596318080430626 and parameters: {'maxidn': 94, 'minidn': 83, 'maxsd': 22, 'minsd': 1, 'a': 0.7, 'b': 0.5}. Best is trial 0 with value: 0.03972417128016814.\n",
      "[I 2025-09-30 14:07:50,824] Trial 75 finished with value: 0.033663261609450545 and parameters: {'maxidn': 91, 'minidn': 83, 'maxsd': 22, 'minsd': 1, 'a': 0.7, 'b': 0.5}. Best is trial 0 with value: 0.03972417128016814.\n",
      "[I 2025-09-30 14:08:08,072] Trial 76 finished with value: 0.033663261609450545 and parameters: {'maxidn': 91, 'minidn': 83, 'maxsd': 22, 'minsd': 1, 'a': 0.7, 'b': 0.5}. Best is trial 0 with value: 0.03972417128016814.\n",
      "[I 2025-09-30 14:08:08,126] Trial 77 finished with value: 0.033663261609450545 and parameters: {'maxidn': 91, 'minidn': 83, 'maxsd': 22, 'minsd': 1, 'a': 0.7, 'b': 0.5}. Best is trial 0 with value: 0.03972417128016814.\n",
      "[I 2025-09-30 14:08:08,153] Trial 79 finished with value: 0.0369247734967979 and parameters: {'maxidn': 95, 'minidn': 83, 'maxsd': 22, 'minsd': 1, 'a': 0.7, 'b': 0.5}. Best is trial 0 with value: 0.03972417128016814.\n",
      "[I 2025-09-30 14:08:08,195] Trial 78 finished with value: 0.03811352012234037 and parameters: {'maxidn': 95, 'minidn': 83, 'maxsd': 25, 'minsd': 1, 'a': 0.7, 'b': 0.5}. Best is trial 0 with value: 0.03972417128016814.\n",
      "[I 2025-09-30 14:08:26,947] Trial 81 finished with value: 0.03972417128016814 and parameters: {'maxidn': 95, 'minidn': 82, 'maxsd': 22, 'minsd': 1, 'a': 0.7, 'b': 0.5}. Best is trial 0 with value: 0.03972417128016814.\n",
      "[I 2025-09-30 14:08:27,195] Trial 80 finished with value: 0.03914525809569347 and parameters: {'maxidn': 95, 'minidn': 82, 'maxsd': 25, 'minsd': 1, 'a': 0.7, 'b': 0.5}. Best is trial 0 with value: 0.03972417128016814.\n",
      "[I 2025-09-30 14:08:27,491] Trial 83 finished with value: 0.033738510857085235 and parameters: {'maxidn': 92, 'minidn': 82, 'maxsd': 21, 'minsd': 1, 'a': 0.7, 'b': 0.5}. Best is trial 0 with value: 0.03972417128016814.\n",
      "[I 2025-09-30 14:08:28,135] Trial 82 finished with value: 0.03151282166023561 and parameters: {'maxidn': 92, 'minidn': 82, 'maxsd': 25, 'minsd': 1, 'a': 0.7, 'b': 0.5}. Best is trial 0 with value: 0.03972417128016814.\n",
      "[I 2025-09-30 14:08:44,679] Trial 84 finished with value: 0.03972417128016814 and parameters: {'maxidn': 95, 'minidn': 82, 'maxsd': 22, 'minsd': 1, 'a': 0.7, 'b': 0.5}. Best is trial 0 with value: 0.03972417128016814.\n",
      "[I 2025-09-30 14:08:45,184] Trial 86 finished with value: 0.03972417128016814 and parameters: {'maxidn': 95, 'minidn': 82, 'maxsd': 22, 'minsd': 1, 'a': 0.7, 'b': 0.5}. Best is trial 0 with value: 0.03972417128016814.\n",
      "[I 2025-09-30 14:08:45,546] Trial 85 finished with value: 0.03972417128016814 and parameters: {'maxidn': 95, 'minidn': 82, 'maxsd': 22, 'minsd': 1, 'a': 0.7, 'b': 0.5}. Best is trial 0 with value: 0.03972417128016814.\n",
      "[I 2025-09-30 14:08:45,656] Trial 87 finished with value: 0.03972417128016814 and parameters: {'maxidn': 95, 'minidn': 82, 'maxsd': 22, 'minsd': 1, 'a': 0.7, 'b': 0.5}. Best is trial 0 with value: 0.03972417128016814.\n",
      "[I 2025-09-30 14:09:02,706] Trial 88 finished with value: 0.03972417128016814 and parameters: {'maxidn': 95, 'minidn': 82, 'maxsd': 22, 'minsd': 1, 'a': 0.7, 'b': 0.5}. Best is trial 0 with value: 0.03972417128016814.\n",
      "[I 2025-09-30 14:09:03,844] Trial 89 finished with value: 0.03972417128016814 and parameters: {'maxidn': 95, 'minidn': 82, 'maxsd': 22, 'minsd': 1, 'a': 0.7, 'b': 0.5}. Best is trial 0 with value: 0.03972417128016814.\n",
      "[I 2025-09-30 14:09:04,103] Trial 91 finished with value: 0.03972417128016814 and parameters: {'maxidn': 95, 'minidn': 82, 'maxsd': 22, 'minsd': 1, 'a': 0.7, 'b': 0.5}. Best is trial 0 with value: 0.03972417128016814.\n",
      "[I 2025-09-30 14:09:04,199] Trial 90 finished with value: 0.03972417128016814 and parameters: {'maxidn': 95, 'minidn': 82, 'maxsd': 22, 'minsd': 1, 'a': 0.7, 'b': 0.5}. Best is trial 0 with value: 0.03972417128016814.\n",
      "[I 2025-09-30 14:09:21,306] Trial 92 finished with value: 0.03450229235795932 and parameters: {'maxidn': 95, 'minidn': 82, 'maxsd': 23, 'minsd': 1, 'a': 0.7, 'b': 0.5}. Best is trial 0 with value: 0.03972417128016814.\n",
      "[I 2025-09-30 14:09:22,387] Trial 93 finished with value: 0.03972417128016814 and parameters: {'maxidn': 95, 'minidn': 82, 'maxsd': 22, 'minsd': 1, 'a': 0.7, 'b': 0.5}. Best is trial 0 with value: 0.03972417128016814.\n",
      "[I 2025-09-30 14:09:22,723] Trial 94 finished with value: 0.03972417128016814 and parameters: {'maxidn': 95, 'minidn': 82, 'maxsd': 22, 'minsd': 1, 'a': 0.7, 'b': 0.5}. Best is trial 0 with value: 0.03972417128016814.\n",
      "[I 2025-09-30 14:09:22,751] Trial 95 finished with value: 0.03972417128016814 and parameters: {'maxidn': 95, 'minidn': 82, 'maxsd': 22, 'minsd': 1, 'a': 0.7, 'b': 0.5}. Best is trial 0 with value: 0.03972417128016814.\n",
      "[I 2025-09-30 14:09:39,155] Trial 96 finished with value: 0.03972417128016814 and parameters: {'maxidn': 95, 'minidn': 82, 'maxsd': 22, 'minsd': 1, 'a': 0.7, 'b': 0.5}. Best is trial 0 with value: 0.03972417128016814.\n",
      "[I 2025-09-30 14:09:40,386] Trial 97 finished with value: 0.03972417128016814 and parameters: {'maxidn': 95, 'minidn': 82, 'maxsd': 22, 'minsd': 1, 'a': 0.7, 'b': 0.5}. Best is trial 0 with value: 0.03972417128016814.\n",
      "[I 2025-09-30 14:09:40,663] Trial 99 finished with value: 0.03972417128016814 and parameters: {'maxidn': 95, 'minidn': 82, 'maxsd': 22, 'minsd': 1, 'a': 0.7, 'b': 0.5}. Best is trial 0 with value: 0.03972417128016814.\n",
      "[I 2025-09-30 14:09:40,765] Trial 98 finished with value: 0.03972417128016814 and parameters: {'maxidn': 95, 'minidn': 82, 'maxsd': 22, 'minsd': 1, 'a': 0.7, 'b': 0.5}. Best is trial 0 with value: 0.03972417128016814.\n"
     ]
    },
    {
     "data": {
      "application/vnd.plotly.v1+json": {
       "config": {
        "plotlyServerURL": "https://plot.ly"
       },
       "data": [
        {
         "mode": "lines",
         "name": "optuna_optimisation",
         "type": "scatter",
         "x": [
          0.02934388564589563,
          0.029448737015938784,
          0.029553588385981943,
          0.0296584397560251,
          0.029763291126068257,
          0.029868142496111413,
          0.029972993866154568,
          0.030077845236197727,
          0.030182696606240882,
          0.030287547976284038,
          0.030392399346327197,
          0.030497250716370352,
          0.030602102086413507,
          0.030706953456456666,
          0.03081180482649982,
          0.03091665619654298,
          0.031021507566586136,
          0.03112635893662929,
          0.03123121030667245,
          0.031336061676715606,
          0.031440913046758764,
          0.031545764416801916,
          0.031650615786845075,
          0.031755467156888234,
          0.031860318526931386,
          0.031965169896974545,
          0.032070021267017704,
          0.03217487263706086,
          0.032279724007104015,
          0.03238457537714717,
          0.03248942674719033,
          0.032594278117233484,
          0.03269912948727664,
          0.0328039808573198,
          0.032908832227362954,
          0.03301368359740611,
          0.03311853496744927,
          0.033223386337492423,
          0.03332823770753558,
          0.03343308907757874,
          0.0335379404476219,
          0.03364279181766505,
          0.03374764318770821,
          0.03385249455775137,
          0.03395734592779452,
          0.03406219729783768,
          0.03416704866788084,
          0.03427190003792399,
          0.03437675140796715,
          0.03448160277801031,
          0.03458645414805346,
          0.03469130551809662,
          0.03479615688813978,
          0.03490100825818293,
          0.03500585962822609,
          0.03511071099826925,
          0.0352155623683124,
          0.03532041373835556,
          0.03542526510839872,
          0.03553011647844187,
          0.03563496784848503,
          0.03573981921852819,
          0.035844670588571347,
          0.0359495219586145,
          0.03605437332865766,
          0.036159224698700816,
          0.03626407606874397,
          0.03636892743878713,
          0.036473778808830286,
          0.036578630178873445,
          0.0366834815489166,
          0.036788332918959755,
          0.036893184289002914,
          0.036998035659046066,
          0.037102887029089225,
          0.037207738399132384,
          0.037312589769175536,
          0.037417441139218695,
          0.037522292509261854,
          0.037627143879305006,
          0.037731995249348164,
          0.03783684661939132,
          0.037941697989434475,
          0.038046549359477634,
          0.03815140072952079,
          0.038256252099563945,
          0.038361103469607104,
          0.03846595483965026,
          0.038570806209693415,
          0.03867565757973657,
          0.03878050894977973,
          0.038885360319822884,
          0.03899021168986604,
          0.0390950630599092,
          0.039199914429952354,
          0.03930476579999551,
          0.03940961717003867,
          0.03951446854008183,
          0.03961931991012499,
          0.03972417128016814
         ],
         "y": [
          0.01,
          0.01,
          0.01,
          0.01,
          0.01,
          0.01,
          0.03,
          0.03,
          0.03,
          0.03,
          0.03,
          0.03,
          0.03,
          0.03,
          0.03,
          0.03,
          0.03,
          0.03,
          0.03,
          0.03,
          0.03,
          0.05,
          0.06,
          0.06,
          0.06,
          0.06,
          0.06,
          0.07,
          0.07,
          0.07,
          0.07,
          0.07,
          0.07,
          0.12,
          0.13,
          0.13,
          0.15,
          0.23,
          0.23,
          0.23,
          0.23,
          0.23,
          0.27,
          0.27,
          0.27,
          0.28,
          0.3,
          0.3,
          0.3,
          0.3,
          0.36,
          0.38,
          0.38,
          0.38,
          0.38,
          0.41,
          0.41,
          0.42,
          0.43,
          0.43,
          0.43,
          0.43,
          0.43,
          0.43,
          0.44,
          0.44,
          0.44,
          0.45,
          0.49,
          0.49,
          0.49,
          0.53,
          0.53,
          0.57,
          0.59,
          0.59,
          0.59,
          0.59,
          0.59,
          0.59,
          0.61,
          0.61,
          0.61,
          0.61,
          0.63,
          0.63,
          0.63,
          0.66,
          0.66,
          0.66,
          0.66,
          0.66,
          0.66,
          0.66,
          0.68,
          0.69,
          0.69,
          0.69,
          0.8,
          1
         ]
        }
       ],
       "layout": {
        "template": {
         "data": {
          "bar": [
           {
            "error_x": {
             "color": "#2a3f5f"
            },
            "error_y": {
             "color": "#2a3f5f"
            },
            "marker": {
             "line": {
              "color": "#E5ECF6",
              "width": 0.5
             },
             "pattern": {
              "fillmode": "overlay",
              "size": 10,
              "solidity": 0.2
             }
            },
            "type": "bar"
           }
          ],
          "barpolar": [
           {
            "marker": {
             "line": {
              "color": "#E5ECF6",
              "width": 0.5
             },
             "pattern": {
              "fillmode": "overlay",
              "size": 10,
              "solidity": 0.2
             }
            },
            "type": "barpolar"
           }
          ],
          "carpet": [
           {
            "aaxis": {
             "endlinecolor": "#2a3f5f",
             "gridcolor": "white",
             "linecolor": "white",
             "minorgridcolor": "white",
             "startlinecolor": "#2a3f5f"
            },
            "baxis": {
             "endlinecolor": "#2a3f5f",
             "gridcolor": "white",
             "linecolor": "white",
             "minorgridcolor": "white",
             "startlinecolor": "#2a3f5f"
            },
            "type": "carpet"
           }
          ],
          "choropleth": [
           {
            "colorbar": {
             "outlinewidth": 0,
             "ticks": ""
            },
            "type": "choropleth"
           }
          ],
          "contour": [
           {
            "colorbar": {
             "outlinewidth": 0,
             "ticks": ""
            },
            "colorscale": [
             [
              0,
              "#0d0887"
             ],
             [
              0.1111111111111111,
              "#46039f"
             ],
             [
              0.2222222222222222,
              "#7201a8"
             ],
             [
              0.3333333333333333,
              "#9c179e"
             ],
             [
              0.4444444444444444,
              "#bd3786"
             ],
             [
              0.5555555555555556,
              "#d8576b"
             ],
             [
              0.6666666666666666,
              "#ed7953"
             ],
             [
              0.7777777777777778,
              "#fb9f3a"
             ],
             [
              0.8888888888888888,
              "#fdca26"
             ],
             [
              1,
              "#f0f921"
             ]
            ],
            "type": "contour"
           }
          ],
          "contourcarpet": [
           {
            "colorbar": {
             "outlinewidth": 0,
             "ticks": ""
            },
            "type": "contourcarpet"
           }
          ],
          "heatmap": [
           {
            "colorbar": {
             "outlinewidth": 0,
             "ticks": ""
            },
            "colorscale": [
             [
              0,
              "#0d0887"
             ],
             [
              0.1111111111111111,
              "#46039f"
             ],
             [
              0.2222222222222222,
              "#7201a8"
             ],
             [
              0.3333333333333333,
              "#9c179e"
             ],
             [
              0.4444444444444444,
              "#bd3786"
             ],
             [
              0.5555555555555556,
              "#d8576b"
             ],
             [
              0.6666666666666666,
              "#ed7953"
             ],
             [
              0.7777777777777778,
              "#fb9f3a"
             ],
             [
              0.8888888888888888,
              "#fdca26"
             ],
             [
              1,
              "#f0f921"
             ]
            ],
            "type": "heatmap"
           }
          ],
          "heatmapgl": [
           {
            "colorbar": {
             "outlinewidth": 0,
             "ticks": ""
            },
            "colorscale": [
             [
              0,
              "#0d0887"
             ],
             [
              0.1111111111111111,
              "#46039f"
             ],
             [
              0.2222222222222222,
              "#7201a8"
             ],
             [
              0.3333333333333333,
              "#9c179e"
             ],
             [
              0.4444444444444444,
              "#bd3786"
             ],
             [
              0.5555555555555556,
              "#d8576b"
             ],
             [
              0.6666666666666666,
              "#ed7953"
             ],
             [
              0.7777777777777778,
              "#fb9f3a"
             ],
             [
              0.8888888888888888,
              "#fdca26"
             ],
             [
              1,
              "#f0f921"
             ]
            ],
            "type": "heatmapgl"
           }
          ],
          "histogram": [
           {
            "marker": {
             "pattern": {
              "fillmode": "overlay",
              "size": 10,
              "solidity": 0.2
             }
            },
            "type": "histogram"
           }
          ],
          "histogram2d": [
           {
            "colorbar": {
             "outlinewidth": 0,
             "ticks": ""
            },
            "colorscale": [
             [
              0,
              "#0d0887"
             ],
             [
              0.1111111111111111,
              "#46039f"
             ],
             [
              0.2222222222222222,
              "#7201a8"
             ],
             [
              0.3333333333333333,
              "#9c179e"
             ],
             [
              0.4444444444444444,
              "#bd3786"
             ],
             [
              0.5555555555555556,
              "#d8576b"
             ],
             [
              0.6666666666666666,
              "#ed7953"
             ],
             [
              0.7777777777777778,
              "#fb9f3a"
             ],
             [
              0.8888888888888888,
              "#fdca26"
             ],
             [
              1,
              "#f0f921"
             ]
            ],
            "type": "histogram2d"
           }
          ],
          "histogram2dcontour": [
           {
            "colorbar": {
             "outlinewidth": 0,
             "ticks": ""
            },
            "colorscale": [
             [
              0,
              "#0d0887"
             ],
             [
              0.1111111111111111,
              "#46039f"
             ],
             [
              0.2222222222222222,
              "#7201a8"
             ],
             [
              0.3333333333333333,
              "#9c179e"
             ],
             [
              0.4444444444444444,
              "#bd3786"
             ],
             [
              0.5555555555555556,
              "#d8576b"
             ],
             [
              0.6666666666666666,
              "#ed7953"
             ],
             [
              0.7777777777777778,
              "#fb9f3a"
             ],
             [
              0.8888888888888888,
              "#fdca26"
             ],
             [
              1,
              "#f0f921"
             ]
            ],
            "type": "histogram2dcontour"
           }
          ],
          "mesh3d": [
           {
            "colorbar": {
             "outlinewidth": 0,
             "ticks": ""
            },
            "type": "mesh3d"
           }
          ],
          "parcoords": [
           {
            "line": {
             "colorbar": {
              "outlinewidth": 0,
              "ticks": ""
             }
            },
            "type": "parcoords"
           }
          ],
          "pie": [
           {
            "automargin": true,
            "type": "pie"
           }
          ],
          "scatter": [
           {
            "fillpattern": {
             "fillmode": "overlay",
             "size": 10,
             "solidity": 0.2
            },
            "type": "scatter"
           }
          ],
          "scatter3d": [
           {
            "line": {
             "colorbar": {
              "outlinewidth": 0,
              "ticks": ""
             }
            },
            "marker": {
             "colorbar": {
              "outlinewidth": 0,
              "ticks": ""
             }
            },
            "type": "scatter3d"
           }
          ],
          "scattercarpet": [
           {
            "marker": {
             "colorbar": {
              "outlinewidth": 0,
              "ticks": ""
             }
            },
            "type": "scattercarpet"
           }
          ],
          "scattergeo": [
           {
            "marker": {
             "colorbar": {
              "outlinewidth": 0,
              "ticks": ""
             }
            },
            "type": "scattergeo"
           }
          ],
          "scattergl": [
           {
            "marker": {
             "colorbar": {
              "outlinewidth": 0,
              "ticks": ""
             }
            },
            "type": "scattergl"
           }
          ],
          "scattermapbox": [
           {
            "marker": {
             "colorbar": {
              "outlinewidth": 0,
              "ticks": ""
             }
            },
            "type": "scattermapbox"
           }
          ],
          "scatterpolar": [
           {
            "marker": {
             "colorbar": {
              "outlinewidth": 0,
              "ticks": ""
             }
            },
            "type": "scatterpolar"
           }
          ],
          "scatterpolargl": [
           {
            "marker": {
             "colorbar": {
              "outlinewidth": 0,
              "ticks": ""
             }
            },
            "type": "scatterpolargl"
           }
          ],
          "scatterternary": [
           {
            "marker": {
             "colorbar": {
              "outlinewidth": 0,
              "ticks": ""
             }
            },
            "type": "scatterternary"
           }
          ],
          "surface": [
           {
            "colorbar": {
             "outlinewidth": 0,
             "ticks": ""
            },
            "colorscale": [
             [
              0,
              "#0d0887"
             ],
             [
              0.1111111111111111,
              "#46039f"
             ],
             [
              0.2222222222222222,
              "#7201a8"
             ],
             [
              0.3333333333333333,
              "#9c179e"
             ],
             [
              0.4444444444444444,
              "#bd3786"
             ],
             [
              0.5555555555555556,
              "#d8576b"
             ],
             [
              0.6666666666666666,
              "#ed7953"
             ],
             [
              0.7777777777777778,
              "#fb9f3a"
             ],
             [
              0.8888888888888888,
              "#fdca26"
             ],
             [
              1,
              "#f0f921"
             ]
            ],
            "type": "surface"
           }
          ],
          "table": [
           {
            "cells": {
             "fill": {
              "color": "#EBF0F8"
             },
             "line": {
              "color": "white"
             }
            },
            "header": {
             "fill": {
              "color": "#C8D4E3"
             },
             "line": {
              "color": "white"
             }
            },
            "type": "table"
           }
          ]
         },
         "layout": {
          "annotationdefaults": {
           "arrowcolor": "#2a3f5f",
           "arrowhead": 0,
           "arrowwidth": 1
          },
          "autotypenumbers": "strict",
          "coloraxis": {
           "colorbar": {
            "outlinewidth": 0,
            "ticks": ""
           }
          },
          "colorscale": {
           "diverging": [
            [
             0,
             "#8e0152"
            ],
            [
             0.1,
             "#c51b7d"
            ],
            [
             0.2,
             "#de77ae"
            ],
            [
             0.3,
             "#f1b6da"
            ],
            [
             0.4,
             "#fde0ef"
            ],
            [
             0.5,
             "#f7f7f7"
            ],
            [
             0.6,
             "#e6f5d0"
            ],
            [
             0.7,
             "#b8e186"
            ],
            [
             0.8,
             "#7fbc41"
            ],
            [
             0.9,
             "#4d9221"
            ],
            [
             1,
             "#276419"
            ]
           ],
           "sequential": [
            [
             0,
             "#0d0887"
            ],
            [
             0.1111111111111111,
             "#46039f"
            ],
            [
             0.2222222222222222,
             "#7201a8"
            ],
            [
             0.3333333333333333,
             "#9c179e"
            ],
            [
             0.4444444444444444,
             "#bd3786"
            ],
            [
             0.5555555555555556,
             "#d8576b"
            ],
            [
             0.6666666666666666,
             "#ed7953"
            ],
            [
             0.7777777777777778,
             "#fb9f3a"
            ],
            [
             0.8888888888888888,
             "#fdca26"
            ],
            [
             1,
             "#f0f921"
            ]
           ],
           "sequentialminus": [
            [
             0,
             "#0d0887"
            ],
            [
             0.1111111111111111,
             "#46039f"
            ],
            [
             0.2222222222222222,
             "#7201a8"
            ],
            [
             0.3333333333333333,
             "#9c179e"
            ],
            [
             0.4444444444444444,
             "#bd3786"
            ],
            [
             0.5555555555555556,
             "#d8576b"
            ],
            [
             0.6666666666666666,
             "#ed7953"
            ],
            [
             0.7777777777777778,
             "#fb9f3a"
            ],
            [
             0.8888888888888888,
             "#fdca26"
            ],
            [
             1,
             "#f0f921"
            ]
           ]
          },
          "colorway": [
           "#636efa",
           "#EF553B",
           "#00cc96",
           "#ab63fa",
           "#FFA15A",
           "#19d3f3",
           "#FF6692",
           "#B6E880",
           "#FF97FF",
           "#FECB52"
          ],
          "font": {
           "color": "#2a3f5f"
          },
          "geo": {
           "bgcolor": "white",
           "lakecolor": "white",
           "landcolor": "#E5ECF6",
           "showlakes": true,
           "showland": true,
           "subunitcolor": "white"
          },
          "hoverlabel": {
           "align": "left"
          },
          "hovermode": "closest",
          "mapbox": {
           "style": "light"
          },
          "paper_bgcolor": "white",
          "plot_bgcolor": "#E5ECF6",
          "polar": {
           "angularaxis": {
            "gridcolor": "white",
            "linecolor": "white",
            "ticks": ""
           },
           "bgcolor": "#E5ECF6",
           "radialaxis": {
            "gridcolor": "white",
            "linecolor": "white",
            "ticks": ""
           }
          },
          "scene": {
           "xaxis": {
            "backgroundcolor": "#E5ECF6",
            "gridcolor": "white",
            "gridwidth": 2,
            "linecolor": "white",
            "showbackground": true,
            "ticks": "",
            "zerolinecolor": "white"
           },
           "yaxis": {
            "backgroundcolor": "#E5ECF6",
            "gridcolor": "white",
            "gridwidth": 2,
            "linecolor": "white",
            "showbackground": true,
            "ticks": "",
            "zerolinecolor": "white"
           },
           "zaxis": {
            "backgroundcolor": "#E5ECF6",
            "gridcolor": "white",
            "gridwidth": 2,
            "linecolor": "white",
            "showbackground": true,
            "ticks": "",
            "zerolinecolor": "white"
           }
          },
          "shapedefaults": {
           "line": {
            "color": "#2a3f5f"
           }
          },
          "ternary": {
           "aaxis": {
            "gridcolor": "white",
            "linecolor": "white",
            "ticks": ""
           },
           "baxis": {
            "gridcolor": "white",
            "linecolor": "white",
            "ticks": ""
           },
           "bgcolor": "#E5ECF6",
           "caxis": {
            "gridcolor": "white",
            "linecolor": "white",
            "ticks": ""
           }
          },
          "title": {
           "x": 0.05
          },
          "xaxis": {
           "automargin": true,
           "gridcolor": "white",
           "linecolor": "white",
           "ticks": "",
           "title": {
            "standoff": 15
           },
           "zerolinecolor": "white",
           "zerolinewidth": 2
          },
          "yaxis": {
           "automargin": true,
           "gridcolor": "white",
           "linecolor": "white",
           "ticks": "",
           "title": {
            "standoff": 15
           },
           "zerolinecolor": "white",
           "zerolinewidth": 2
          }
         }
        },
        "title": {
         "text": "Empirical Distribution Function Plot"
        },
        "xaxis": {
         "title": {
          "text": "Jaccard Similarity"
         }
        },
        "yaxis": {
         "range": [
          0,
          1
         ],
         "title": {
          "text": "Cumulative Probability"
         }
        }
       }
      },
      "text/html": [
       "<div>                            <div id=\"d209bf98-987b-475c-91d0-5dc80d621847\" class=\"plotly-graph-div\" style=\"height:525px; width:100%;\"></div>            <script type=\"text/javascript\">                require([\"plotly\"], function(Plotly) {                    window.PLOTLYENV=window.PLOTLYENV || {};                                    if (document.getElementById(\"d209bf98-987b-475c-91d0-5dc80d621847\")) {                    Plotly.newPlot(                        \"d209bf98-987b-475c-91d0-5dc80d621847\",                        [{\"mode\":\"lines\",\"name\":\"optuna_optimisation\",\"x\":[0.02934388564589563,0.029448737015938784,0.029553588385981943,0.0296584397560251,0.029763291126068257,0.029868142496111413,0.029972993866154568,0.030077845236197727,0.030182696606240882,0.030287547976284038,0.030392399346327197,0.030497250716370352,0.030602102086413507,0.030706953456456666,0.03081180482649982,0.03091665619654298,0.031021507566586136,0.03112635893662929,0.03123121030667245,0.031336061676715606,0.031440913046758764,0.031545764416801916,0.031650615786845075,0.031755467156888234,0.031860318526931386,0.031965169896974545,0.032070021267017704,0.03217487263706086,0.032279724007104015,0.03238457537714717,0.03248942674719033,0.032594278117233484,0.03269912948727664,0.0328039808573198,0.032908832227362954,0.03301368359740611,0.03311853496744927,0.033223386337492423,0.03332823770753558,0.03343308907757874,0.0335379404476219,0.03364279181766505,0.03374764318770821,0.03385249455775137,0.03395734592779452,0.03406219729783768,0.03416704866788084,0.03427190003792399,0.03437675140796715,0.03448160277801031,0.03458645414805346,0.03469130551809662,0.03479615688813978,0.03490100825818293,0.03500585962822609,0.03511071099826925,0.0352155623683124,0.03532041373835556,0.03542526510839872,0.03553011647844187,0.03563496784848503,0.03573981921852819,0.035844670588571347,0.0359495219586145,0.03605437332865766,0.036159224698700816,0.03626407606874397,0.03636892743878713,0.036473778808830286,0.036578630178873445,0.0366834815489166,0.036788332918959755,0.036893184289002914,0.036998035659046066,0.037102887029089225,0.037207738399132384,0.037312589769175536,0.037417441139218695,0.037522292509261854,0.037627143879305006,0.037731995249348164,0.03783684661939132,0.037941697989434475,0.038046549359477634,0.03815140072952079,0.038256252099563945,0.038361103469607104,0.03846595483965026,0.038570806209693415,0.03867565757973657,0.03878050894977973,0.038885360319822884,0.03899021168986604,0.0390950630599092,0.039199914429952354,0.03930476579999551,0.03940961717003867,0.03951446854008183,0.03961931991012499,0.03972417128016814],\"y\":[0.01,0.01,0.01,0.01,0.01,0.01,0.03,0.03,0.03,0.03,0.03,0.03,0.03,0.03,0.03,0.03,0.03,0.03,0.03,0.03,0.03,0.05,0.06,0.06,0.06,0.06,0.06,0.07,0.07,0.07,0.07,0.07,0.07,0.12,0.13,0.13,0.15,0.23,0.23,0.23,0.23,0.23,0.27,0.27,0.27,0.28,0.3,0.3,0.3,0.3,0.36,0.38,0.38,0.38,0.38,0.41,0.41,0.42,0.43,0.43,0.43,0.43,0.43,0.43,0.44,0.44,0.44,0.45,0.49,0.49,0.49,0.53,0.53,0.57,0.59,0.59,0.59,0.59,0.59,0.59,0.61,0.61,0.61,0.61,0.63,0.63,0.63,0.66,0.66,0.66,0.66,0.66,0.66,0.66,0.68,0.69,0.69,0.69,0.8,1.0],\"type\":\"scatter\"}],                        {\"title\":{\"text\":\"Empirical Distribution Function Plot\"},\"xaxis\":{\"title\":{\"text\":\"Jaccard Similarity\"}},\"yaxis\":{\"title\":{\"text\":\"Cumulative Probability\"},\"range\":[0,1]},\"template\":{\"data\":{\"histogram2dcontour\":[{\"type\":\"histogram2dcontour\",\"colorbar\":{\"outlinewidth\":0,\"ticks\":\"\"},\"colorscale\":[[0.0,\"#0d0887\"],[0.1111111111111111,\"#46039f\"],[0.2222222222222222,\"#7201a8\"],[0.3333333333333333,\"#9c179e\"],[0.4444444444444444,\"#bd3786\"],[0.5555555555555556,\"#d8576b\"],[0.6666666666666666,\"#ed7953\"],[0.7777777777777778,\"#fb9f3a\"],[0.8888888888888888,\"#fdca26\"],[1.0,\"#f0f921\"]]}],\"choropleth\":[{\"type\":\"choropleth\",\"colorbar\":{\"outlinewidth\":0,\"ticks\":\"\"}}],\"histogram2d\":[{\"type\":\"histogram2d\",\"colorbar\":{\"outlinewidth\":0,\"ticks\":\"\"},\"colorscale\":[[0.0,\"#0d0887\"],[0.1111111111111111,\"#46039f\"],[0.2222222222222222,\"#7201a8\"],[0.3333333333333333,\"#9c179e\"],[0.4444444444444444,\"#bd3786\"],[0.5555555555555556,\"#d8576b\"],[0.6666666666666666,\"#ed7953\"],[0.7777777777777778,\"#fb9f3a\"],[0.8888888888888888,\"#fdca26\"],[1.0,\"#f0f921\"]]}],\"heatmap\":[{\"type\":\"heatmap\",\"colorbar\":{\"outlinewidth\":0,\"ticks\":\"\"},\"colorscale\":[[0.0,\"#0d0887\"],[0.1111111111111111,\"#46039f\"],[0.2222222222222222,\"#7201a8\"],[0.3333333333333333,\"#9c179e\"],[0.4444444444444444,\"#bd3786\"],[0.5555555555555556,\"#d8576b\"],[0.6666666666666666,\"#ed7953\"],[0.7777777777777778,\"#fb9f3a\"],[0.8888888888888888,\"#fdca26\"],[1.0,\"#f0f921\"]]}],\"heatmapgl\":[{\"type\":\"heatmapgl\",\"colorbar\":{\"outlinewidth\":0,\"ticks\":\"\"},\"colorscale\":[[0.0,\"#0d0887\"],[0.1111111111111111,\"#46039f\"],[0.2222222222222222,\"#7201a8\"],[0.3333333333333333,\"#9c179e\"],[0.4444444444444444,\"#bd3786\"],[0.5555555555555556,\"#d8576b\"],[0.6666666666666666,\"#ed7953\"],[0.7777777777777778,\"#fb9f3a\"],[0.8888888888888888,\"#fdca26\"],[1.0,\"#f0f921\"]]}],\"contourcarpet\":[{\"type\":\"contourcarpet\",\"colorbar\":{\"outlinewidth\":0,\"ticks\":\"\"}}],\"contour\":[{\"type\":\"contour\",\"colorbar\":{\"outlinewidth\":0,\"ticks\":\"\"},\"colorscale\":[[0.0,\"#0d0887\"],[0.1111111111111111,\"#46039f\"],[0.2222222222222222,\"#7201a8\"],[0.3333333333333333,\"#9c179e\"],[0.4444444444444444,\"#bd3786\"],[0.5555555555555556,\"#d8576b\"],[0.6666666666666666,\"#ed7953\"],[0.7777777777777778,\"#fb9f3a\"],[0.8888888888888888,\"#fdca26\"],[1.0,\"#f0f921\"]]}],\"surface\":[{\"type\":\"surface\",\"colorbar\":{\"outlinewidth\":0,\"ticks\":\"\"},\"colorscale\":[[0.0,\"#0d0887\"],[0.1111111111111111,\"#46039f\"],[0.2222222222222222,\"#7201a8\"],[0.3333333333333333,\"#9c179e\"],[0.4444444444444444,\"#bd3786\"],[0.5555555555555556,\"#d8576b\"],[0.6666666666666666,\"#ed7953\"],[0.7777777777777778,\"#fb9f3a\"],[0.8888888888888888,\"#fdca26\"],[1.0,\"#f0f921\"]]}],\"mesh3d\":[{\"type\":\"mesh3d\",\"colorbar\":{\"outlinewidth\":0,\"ticks\":\"\"}}],\"scatter\":[{\"fillpattern\":{\"fillmode\":\"overlay\",\"size\":10,\"solidity\":0.2},\"type\":\"scatter\"}],\"parcoords\":[{\"type\":\"parcoords\",\"line\":{\"colorbar\":{\"outlinewidth\":0,\"ticks\":\"\"}}}],\"scatterpolargl\":[{\"type\":\"scatterpolargl\",\"marker\":{\"colorbar\":{\"outlinewidth\":0,\"ticks\":\"\"}}}],\"bar\":[{\"error_x\":{\"color\":\"#2a3f5f\"},\"error_y\":{\"color\":\"#2a3f5f\"},\"marker\":{\"line\":{\"color\":\"#E5ECF6\",\"width\":0.5},\"pattern\":{\"fillmode\":\"overlay\",\"size\":10,\"solidity\":0.2}},\"type\":\"bar\"}],\"scattergeo\":[{\"type\":\"scattergeo\",\"marker\":{\"colorbar\":{\"outlinewidth\":0,\"ticks\":\"\"}}}],\"scatterpolar\":[{\"type\":\"scatterpolar\",\"marker\":{\"colorbar\":{\"outlinewidth\":0,\"ticks\":\"\"}}}],\"histogram\":[{\"marker\":{\"pattern\":{\"fillmode\":\"overlay\",\"size\":10,\"solidity\":0.2}},\"type\":\"histogram\"}],\"scattergl\":[{\"type\":\"scattergl\",\"marker\":{\"colorbar\":{\"outlinewidth\":0,\"ticks\":\"\"}}}],\"scatter3d\":[{\"type\":\"scatter3d\",\"line\":{\"colorbar\":{\"outlinewidth\":0,\"ticks\":\"\"}},\"marker\":{\"colorbar\":{\"outlinewidth\":0,\"ticks\":\"\"}}}],\"scattermapbox\":[{\"type\":\"scattermapbox\",\"marker\":{\"colorbar\":{\"outlinewidth\":0,\"ticks\":\"\"}}}],\"scatterternary\":[{\"type\":\"scatterternary\",\"marker\":{\"colorbar\":{\"outlinewidth\":0,\"ticks\":\"\"}}}],\"scattercarpet\":[{\"type\":\"scattercarpet\",\"marker\":{\"colorbar\":{\"outlinewidth\":0,\"ticks\":\"\"}}}],\"carpet\":[{\"aaxis\":{\"endlinecolor\":\"#2a3f5f\",\"gridcolor\":\"white\",\"linecolor\":\"white\",\"minorgridcolor\":\"white\",\"startlinecolor\":\"#2a3f5f\"},\"baxis\":{\"endlinecolor\":\"#2a3f5f\",\"gridcolor\":\"white\",\"linecolor\":\"white\",\"minorgridcolor\":\"white\",\"startlinecolor\":\"#2a3f5f\"},\"type\":\"carpet\"}],\"table\":[{\"cells\":{\"fill\":{\"color\":\"#EBF0F8\"},\"line\":{\"color\":\"white\"}},\"header\":{\"fill\":{\"color\":\"#C8D4E3\"},\"line\":{\"color\":\"white\"}},\"type\":\"table\"}],\"barpolar\":[{\"marker\":{\"line\":{\"color\":\"#E5ECF6\",\"width\":0.5},\"pattern\":{\"fillmode\":\"overlay\",\"size\":10,\"solidity\":0.2}},\"type\":\"barpolar\"}],\"pie\":[{\"automargin\":true,\"type\":\"pie\"}]},\"layout\":{\"autotypenumbers\":\"strict\",\"colorway\":[\"#636efa\",\"#EF553B\",\"#00cc96\",\"#ab63fa\",\"#FFA15A\",\"#19d3f3\",\"#FF6692\",\"#B6E880\",\"#FF97FF\",\"#FECB52\"],\"font\":{\"color\":\"#2a3f5f\"},\"hovermode\":\"closest\",\"hoverlabel\":{\"align\":\"left\"},\"paper_bgcolor\":\"white\",\"plot_bgcolor\":\"#E5ECF6\",\"polar\":{\"bgcolor\":\"#E5ECF6\",\"angularaxis\":{\"gridcolor\":\"white\",\"linecolor\":\"white\",\"ticks\":\"\"},\"radialaxis\":{\"gridcolor\":\"white\",\"linecolor\":\"white\",\"ticks\":\"\"}},\"ternary\":{\"bgcolor\":\"#E5ECF6\",\"aaxis\":{\"gridcolor\":\"white\",\"linecolor\":\"white\",\"ticks\":\"\"},\"baxis\":{\"gridcolor\":\"white\",\"linecolor\":\"white\",\"ticks\":\"\"},\"caxis\":{\"gridcolor\":\"white\",\"linecolor\":\"white\",\"ticks\":\"\"}},\"coloraxis\":{\"colorbar\":{\"outlinewidth\":0,\"ticks\":\"\"}},\"colorscale\":{\"sequential\":[[0.0,\"#0d0887\"],[0.1111111111111111,\"#46039f\"],[0.2222222222222222,\"#7201a8\"],[0.3333333333333333,\"#9c179e\"],[0.4444444444444444,\"#bd3786\"],[0.5555555555555556,\"#d8576b\"],[0.6666666666666666,\"#ed7953\"],[0.7777777777777778,\"#fb9f3a\"],[0.8888888888888888,\"#fdca26\"],[1.0,\"#f0f921\"]],\"sequentialminus\":[[0.0,\"#0d0887\"],[0.1111111111111111,\"#46039f\"],[0.2222222222222222,\"#7201a8\"],[0.3333333333333333,\"#9c179e\"],[0.4444444444444444,\"#bd3786\"],[0.5555555555555556,\"#d8576b\"],[0.6666666666666666,\"#ed7953\"],[0.7777777777777778,\"#fb9f3a\"],[0.8888888888888888,\"#fdca26\"],[1.0,\"#f0f921\"]],\"diverging\":[[0,\"#8e0152\"],[0.1,\"#c51b7d\"],[0.2,\"#de77ae\"],[0.3,\"#f1b6da\"],[0.4,\"#fde0ef\"],[0.5,\"#f7f7f7\"],[0.6,\"#e6f5d0\"],[0.7,\"#b8e186\"],[0.8,\"#7fbc41\"],[0.9,\"#4d9221\"],[1,\"#276419\"]]},\"xaxis\":{\"gridcolor\":\"white\",\"linecolor\":\"white\",\"ticks\":\"\",\"title\":{\"standoff\":15},\"zerolinecolor\":\"white\",\"automargin\":true,\"zerolinewidth\":2},\"yaxis\":{\"gridcolor\":\"white\",\"linecolor\":\"white\",\"ticks\":\"\",\"title\":{\"standoff\":15},\"zerolinecolor\":\"white\",\"automargin\":true,\"zerolinewidth\":2},\"scene\":{\"xaxis\":{\"backgroundcolor\":\"#E5ECF6\",\"gridcolor\":\"white\",\"linecolor\":\"white\",\"showbackground\":true,\"ticks\":\"\",\"zerolinecolor\":\"white\",\"gridwidth\":2},\"yaxis\":{\"backgroundcolor\":\"#E5ECF6\",\"gridcolor\":\"white\",\"linecolor\":\"white\",\"showbackground\":true,\"ticks\":\"\",\"zerolinecolor\":\"white\",\"gridwidth\":2},\"zaxis\":{\"backgroundcolor\":\"#E5ECF6\",\"gridcolor\":\"white\",\"linecolor\":\"white\",\"showbackground\":true,\"ticks\":\"\",\"zerolinecolor\":\"white\",\"gridwidth\":2}},\"shapedefaults\":{\"line\":{\"color\":\"#2a3f5f\"}},\"annotationdefaults\":{\"arrowcolor\":\"#2a3f5f\",\"arrowhead\":0,\"arrowwidth\":1},\"geo\":{\"bgcolor\":\"white\",\"landcolor\":\"#E5ECF6\",\"subunitcolor\":\"white\",\"showland\":true,\"showlakes\":true,\"lakecolor\":\"white\"},\"title\":{\"x\":0.05},\"mapbox\":{\"style\":\"light\"}}}},                        {\"responsive\": true}                    ).then(function(){\n",
       "                            \n",
       "var gd = document.getElementById('d209bf98-987b-475c-91d0-5dc80d621847');\n",
       "var x = new MutationObserver(function (mutations, observer) {{\n",
       "        var display = window.getComputedStyle(gd).display;\n",
       "        if (!display || display === 'none') {{\n",
       "            console.log([gd, 'removed!']);\n",
       "            Plotly.purge(gd);\n",
       "            observer.disconnect();\n",
       "        }}\n",
       "}});\n",
       "\n",
       "// Listen for the removal of the full notebook cells\n",
       "var notebookContainer = gd.closest('#notebook-container');\n",
       "if (notebookContainer) {{\n",
       "    x.observe(notebookContainer, {childList: true});\n",
       "}}\n",
       "\n",
       "// Listen for the clearing of the current output cell\n",
       "var outputEl = gd.closest('.output');\n",
       "if (outputEl) {{\n",
       "    x.observe(outputEl, {childList: true});\n",
       "}}\n",
       "\n",
       "                        })                };                });            </script>        </div>"
      ]
     },
     "metadata": {},
     "output_type": "display_data"
    },
    {
     "data": {
      "application/vnd.plotly.v1+json": {
       "config": {
        "plotlyServerURL": "https://plot.ly"
       },
       "data": [
        {
         "mode": "markers",
         "name": "Jaccard Similarity",
         "type": "scatter",
         "x": [
          0,
          1,
          2,
          3,
          4,
          5,
          6,
          7,
          8,
          9,
          10,
          11,
          12,
          13,
          14,
          15,
          16,
          17,
          18,
          19,
          20,
          21,
          22,
          23,
          24,
          25,
          26,
          27,
          28,
          29,
          30,
          31,
          32,
          33,
          34,
          35,
          36,
          37,
          38,
          39,
          40,
          41,
          42,
          43,
          44,
          45,
          46,
          47,
          48,
          49,
          50,
          51,
          52,
          53,
          54,
          55,
          56,
          57,
          58,
          59,
          60,
          61,
          62,
          63,
          64,
          65,
          66,
          67,
          68,
          69,
          70,
          71,
          72,
          73,
          74,
          75,
          76,
          77,
          78,
          79,
          80,
          81,
          82,
          83,
          84,
          85,
          86,
          87,
          88,
          89,
          90,
          91,
          92,
          93,
          94,
          95,
          96,
          97,
          98,
          99
         ],
         "y": [
          0.03972417128016814,
          0.03150130927034278,
          0.03841529973658442,
          0.03290853805296512,
          0.03972417128016814,
          0.03627565732075966,
          0.03914525809569347,
          0.03811352012234037,
          0.03405705487524624,
          0.03276670739911136,
          0.03276670739911136,
          0.035021732455316035,
          0.02934388564589563,
          0.029878283608560374,
          0.034527350929518086,
          0.034527350929518086,
          0.03708001131456751,
          0.032158966152732615,
          0.03406842653051889,
          0.03406842653051889,
          0.03531786379341151,
          0.03675762654240755,
          0.029942474990344303,
          0.03675762654240755,
          0.03675762654240755,
          0.03675762654240755,
          0.03972417128016814,
          0.03972417128016814,
          0.03313503724431055,
          0.03313503724431055,
          0.03313503724431055,
          0.039596318080430626,
          0.034600210623011995,
          0.034600210623011995,
          0.037649501057215096,
          0.03509608504863382,
          0.03450229235795932,
          0.03638321275044398,
          0.03638321275044398,
          0.03638321275044398,
          0.03638321275044398,
          0.035387886928649026,
          0.03162863880602629,
          0.03319170834060814,
          0.039596318080430626,
          0.039596318080430626,
          0.039596318080430626,
          0.039596318080430626,
          0.03764206357346522,
          0.03841529973658442,
          0.03841529973658442,
          0.035962606633399674,
          0.033059547036776715,
          0.033059547036776715,
          0.03276670739911136,
          0.03276670739911136,
          0.03276670739911136,
          0.039596318080430626,
          0.03313503724431055,
          0.03313503724431055,
          0.03313503724431055,
          0.034527350929518086,
          0.03450229235795932,
          0.03924822827976826,
          0.03507043485048422,
          0.0369247734967979,
          0.0369247734967979,
          0.0369247734967979,
          0.039596318080430626,
          0.039596318080430626,
          0.039596318080430626,
          0.039596318080430626,
          0.03313503724431055,
          0.03708001131456751,
          0.039596318080430626,
          0.033663261609450545,
          0.033663261609450545,
          0.033663261609450545,
          0.03811352012234037,
          0.0369247734967979,
          0.03914525809569347,
          0.03972417128016814,
          0.03151282166023561,
          0.033738510857085235,
          0.03972417128016814,
          0.03972417128016814,
          0.03972417128016814,
          0.03972417128016814,
          0.03972417128016814,
          0.03972417128016814,
          0.03972417128016814,
          0.03972417128016814,
          0.03450229235795932,
          0.03972417128016814,
          0.03972417128016814,
          0.03972417128016814,
          0.03972417128016814,
          0.03972417128016814,
          0.03972417128016814,
          0.03972417128016814
         ]
        },
        {
         "marker": {
          "color": "#cccccc"
         },
         "mode": "markers",
         "name": "Infeasible Trial",
         "showlegend": false,
         "type": "scatter",
         "x": [],
         "y": []
        }
       ],
       "layout": {
        "template": {
         "data": {
          "bar": [
           {
            "error_x": {
             "color": "#2a3f5f"
            },
            "error_y": {
             "color": "#2a3f5f"
            },
            "marker": {
             "line": {
              "color": "#E5ECF6",
              "width": 0.5
             },
             "pattern": {
              "fillmode": "overlay",
              "size": 10,
              "solidity": 0.2
             }
            },
            "type": "bar"
           }
          ],
          "barpolar": [
           {
            "marker": {
             "line": {
              "color": "#E5ECF6",
              "width": 0.5
             },
             "pattern": {
              "fillmode": "overlay",
              "size": 10,
              "solidity": 0.2
             }
            },
            "type": "barpolar"
           }
          ],
          "carpet": [
           {
            "aaxis": {
             "endlinecolor": "#2a3f5f",
             "gridcolor": "white",
             "linecolor": "white",
             "minorgridcolor": "white",
             "startlinecolor": "#2a3f5f"
            },
            "baxis": {
             "endlinecolor": "#2a3f5f",
             "gridcolor": "white",
             "linecolor": "white",
             "minorgridcolor": "white",
             "startlinecolor": "#2a3f5f"
            },
            "type": "carpet"
           }
          ],
          "choropleth": [
           {
            "colorbar": {
             "outlinewidth": 0,
             "ticks": ""
            },
            "type": "choropleth"
           }
          ],
          "contour": [
           {
            "colorbar": {
             "outlinewidth": 0,
             "ticks": ""
            },
            "colorscale": [
             [
              0,
              "#0d0887"
             ],
             [
              0.1111111111111111,
              "#46039f"
             ],
             [
              0.2222222222222222,
              "#7201a8"
             ],
             [
              0.3333333333333333,
              "#9c179e"
             ],
             [
              0.4444444444444444,
              "#bd3786"
             ],
             [
              0.5555555555555556,
              "#d8576b"
             ],
             [
              0.6666666666666666,
              "#ed7953"
             ],
             [
              0.7777777777777778,
              "#fb9f3a"
             ],
             [
              0.8888888888888888,
              "#fdca26"
             ],
             [
              1,
              "#f0f921"
             ]
            ],
            "type": "contour"
           }
          ],
          "contourcarpet": [
           {
            "colorbar": {
             "outlinewidth": 0,
             "ticks": ""
            },
            "type": "contourcarpet"
           }
          ],
          "heatmap": [
           {
            "colorbar": {
             "outlinewidth": 0,
             "ticks": ""
            },
            "colorscale": [
             [
              0,
              "#0d0887"
             ],
             [
              0.1111111111111111,
              "#46039f"
             ],
             [
              0.2222222222222222,
              "#7201a8"
             ],
             [
              0.3333333333333333,
              "#9c179e"
             ],
             [
              0.4444444444444444,
              "#bd3786"
             ],
             [
              0.5555555555555556,
              "#d8576b"
             ],
             [
              0.6666666666666666,
              "#ed7953"
             ],
             [
              0.7777777777777778,
              "#fb9f3a"
             ],
             [
              0.8888888888888888,
              "#fdca26"
             ],
             [
              1,
              "#f0f921"
             ]
            ],
            "type": "heatmap"
           }
          ],
          "heatmapgl": [
           {
            "colorbar": {
             "outlinewidth": 0,
             "ticks": ""
            },
            "colorscale": [
             [
              0,
              "#0d0887"
             ],
             [
              0.1111111111111111,
              "#46039f"
             ],
             [
              0.2222222222222222,
              "#7201a8"
             ],
             [
              0.3333333333333333,
              "#9c179e"
             ],
             [
              0.4444444444444444,
              "#bd3786"
             ],
             [
              0.5555555555555556,
              "#d8576b"
             ],
             [
              0.6666666666666666,
              "#ed7953"
             ],
             [
              0.7777777777777778,
              "#fb9f3a"
             ],
             [
              0.8888888888888888,
              "#fdca26"
             ],
             [
              1,
              "#f0f921"
             ]
            ],
            "type": "heatmapgl"
           }
          ],
          "histogram": [
           {
            "marker": {
             "pattern": {
              "fillmode": "overlay",
              "size": 10,
              "solidity": 0.2
             }
            },
            "type": "histogram"
           }
          ],
          "histogram2d": [
           {
            "colorbar": {
             "outlinewidth": 0,
             "ticks": ""
            },
            "colorscale": [
             [
              0,
              "#0d0887"
             ],
             [
              0.1111111111111111,
              "#46039f"
             ],
             [
              0.2222222222222222,
              "#7201a8"
             ],
             [
              0.3333333333333333,
              "#9c179e"
             ],
             [
              0.4444444444444444,
              "#bd3786"
             ],
             [
              0.5555555555555556,
              "#d8576b"
             ],
             [
              0.6666666666666666,
              "#ed7953"
             ],
             [
              0.7777777777777778,
              "#fb9f3a"
             ],
             [
              0.8888888888888888,
              "#fdca26"
             ],
             [
              1,
              "#f0f921"
             ]
            ],
            "type": "histogram2d"
           }
          ],
          "histogram2dcontour": [
           {
            "colorbar": {
             "outlinewidth": 0,
             "ticks": ""
            },
            "colorscale": [
             [
              0,
              "#0d0887"
             ],
             [
              0.1111111111111111,
              "#46039f"
             ],
             [
              0.2222222222222222,
              "#7201a8"
             ],
             [
              0.3333333333333333,
              "#9c179e"
             ],
             [
              0.4444444444444444,
              "#bd3786"
             ],
             [
              0.5555555555555556,
              "#d8576b"
             ],
             [
              0.6666666666666666,
              "#ed7953"
             ],
             [
              0.7777777777777778,
              "#fb9f3a"
             ],
             [
              0.8888888888888888,
              "#fdca26"
             ],
             [
              1,
              "#f0f921"
             ]
            ],
            "type": "histogram2dcontour"
           }
          ],
          "mesh3d": [
           {
            "colorbar": {
             "outlinewidth": 0,
             "ticks": ""
            },
            "type": "mesh3d"
           }
          ],
          "parcoords": [
           {
            "line": {
             "colorbar": {
              "outlinewidth": 0,
              "ticks": ""
             }
            },
            "type": "parcoords"
           }
          ],
          "pie": [
           {
            "automargin": true,
            "type": "pie"
           }
          ],
          "scatter": [
           {
            "fillpattern": {
             "fillmode": "overlay",
             "size": 10,
             "solidity": 0.2
            },
            "type": "scatter"
           }
          ],
          "scatter3d": [
           {
            "line": {
             "colorbar": {
              "outlinewidth": 0,
              "ticks": ""
             }
            },
            "marker": {
             "colorbar": {
              "outlinewidth": 0,
              "ticks": ""
             }
            },
            "type": "scatter3d"
           }
          ],
          "scattercarpet": [
           {
            "marker": {
             "colorbar": {
              "outlinewidth": 0,
              "ticks": ""
             }
            },
            "type": "scattercarpet"
           }
          ],
          "scattergeo": [
           {
            "marker": {
             "colorbar": {
              "outlinewidth": 0,
              "ticks": ""
             }
            },
            "type": "scattergeo"
           }
          ],
          "scattergl": [
           {
            "marker": {
             "colorbar": {
              "outlinewidth": 0,
              "ticks": ""
             }
            },
            "type": "scattergl"
           }
          ],
          "scattermapbox": [
           {
            "marker": {
             "colorbar": {
              "outlinewidth": 0,
              "ticks": ""
             }
            },
            "type": "scattermapbox"
           }
          ],
          "scatterpolar": [
           {
            "marker": {
             "colorbar": {
              "outlinewidth": 0,
              "ticks": ""
             }
            },
            "type": "scatterpolar"
           }
          ],
          "scatterpolargl": [
           {
            "marker": {
             "colorbar": {
              "outlinewidth": 0,
              "ticks": ""
             }
            },
            "type": "scatterpolargl"
           }
          ],
          "scatterternary": [
           {
            "marker": {
             "colorbar": {
              "outlinewidth": 0,
              "ticks": ""
             }
            },
            "type": "scatterternary"
           }
          ],
          "surface": [
           {
            "colorbar": {
             "outlinewidth": 0,
             "ticks": ""
            },
            "colorscale": [
             [
              0,
              "#0d0887"
             ],
             [
              0.1111111111111111,
              "#46039f"
             ],
             [
              0.2222222222222222,
              "#7201a8"
             ],
             [
              0.3333333333333333,
              "#9c179e"
             ],
             [
              0.4444444444444444,
              "#bd3786"
             ],
             [
              0.5555555555555556,
              "#d8576b"
             ],
             [
              0.6666666666666666,
              "#ed7953"
             ],
             [
              0.7777777777777778,
              "#fb9f3a"
             ],
             [
              0.8888888888888888,
              "#fdca26"
             ],
             [
              1,
              "#f0f921"
             ]
            ],
            "type": "surface"
           }
          ],
          "table": [
           {
            "cells": {
             "fill": {
              "color": "#EBF0F8"
             },
             "line": {
              "color": "white"
             }
            },
            "header": {
             "fill": {
              "color": "#C8D4E3"
             },
             "line": {
              "color": "white"
             }
            },
            "type": "table"
           }
          ]
         },
         "layout": {
          "annotationdefaults": {
           "arrowcolor": "#2a3f5f",
           "arrowhead": 0,
           "arrowwidth": 1
          },
          "autotypenumbers": "strict",
          "coloraxis": {
           "colorbar": {
            "outlinewidth": 0,
            "ticks": ""
           }
          },
          "colorscale": {
           "diverging": [
            [
             0,
             "#8e0152"
            ],
            [
             0.1,
             "#c51b7d"
            ],
            [
             0.2,
             "#de77ae"
            ],
            [
             0.3,
             "#f1b6da"
            ],
            [
             0.4,
             "#fde0ef"
            ],
            [
             0.5,
             "#f7f7f7"
            ],
            [
             0.6,
             "#e6f5d0"
            ],
            [
             0.7,
             "#b8e186"
            ],
            [
             0.8,
             "#7fbc41"
            ],
            [
             0.9,
             "#4d9221"
            ],
            [
             1,
             "#276419"
            ]
           ],
           "sequential": [
            [
             0,
             "#0d0887"
            ],
            [
             0.1111111111111111,
             "#46039f"
            ],
            [
             0.2222222222222222,
             "#7201a8"
            ],
            [
             0.3333333333333333,
             "#9c179e"
            ],
            [
             0.4444444444444444,
             "#bd3786"
            ],
            [
             0.5555555555555556,
             "#d8576b"
            ],
            [
             0.6666666666666666,
             "#ed7953"
            ],
            [
             0.7777777777777778,
             "#fb9f3a"
            ],
            [
             0.8888888888888888,
             "#fdca26"
            ],
            [
             1,
             "#f0f921"
            ]
           ],
           "sequentialminus": [
            [
             0,
             "#0d0887"
            ],
            [
             0.1111111111111111,
             "#46039f"
            ],
            [
             0.2222222222222222,
             "#7201a8"
            ],
            [
             0.3333333333333333,
             "#9c179e"
            ],
            [
             0.4444444444444444,
             "#bd3786"
            ],
            [
             0.5555555555555556,
             "#d8576b"
            ],
            [
             0.6666666666666666,
             "#ed7953"
            ],
            [
             0.7777777777777778,
             "#fb9f3a"
            ],
            [
             0.8888888888888888,
             "#fdca26"
            ],
            [
             1,
             "#f0f921"
            ]
           ]
          },
          "colorway": [
           "#636efa",
           "#EF553B",
           "#00cc96",
           "#ab63fa",
           "#FFA15A",
           "#19d3f3",
           "#FF6692",
           "#B6E880",
           "#FF97FF",
           "#FECB52"
          ],
          "font": {
           "color": "#2a3f5f"
          },
          "geo": {
           "bgcolor": "white",
           "lakecolor": "white",
           "landcolor": "#E5ECF6",
           "showlakes": true,
           "showland": true,
           "subunitcolor": "white"
          },
          "hoverlabel": {
           "align": "left"
          },
          "hovermode": "closest",
          "mapbox": {
           "style": "light"
          },
          "paper_bgcolor": "white",
          "plot_bgcolor": "#E5ECF6",
          "polar": {
           "angularaxis": {
            "gridcolor": "white",
            "linecolor": "white",
            "ticks": ""
           },
           "bgcolor": "#E5ECF6",
           "radialaxis": {
            "gridcolor": "white",
            "linecolor": "white",
            "ticks": ""
           }
          },
          "scene": {
           "xaxis": {
            "backgroundcolor": "#E5ECF6",
            "gridcolor": "white",
            "gridwidth": 2,
            "linecolor": "white",
            "showbackground": true,
            "ticks": "",
            "zerolinecolor": "white"
           },
           "yaxis": {
            "backgroundcolor": "#E5ECF6",
            "gridcolor": "white",
            "gridwidth": 2,
            "linecolor": "white",
            "showbackground": true,
            "ticks": "",
            "zerolinecolor": "white"
           },
           "zaxis": {
            "backgroundcolor": "#E5ECF6",
            "gridcolor": "white",
            "gridwidth": 2,
            "linecolor": "white",
            "showbackground": true,
            "ticks": "",
            "zerolinecolor": "white"
           }
          },
          "shapedefaults": {
           "line": {
            "color": "#2a3f5f"
           }
          },
          "ternary": {
           "aaxis": {
            "gridcolor": "white",
            "linecolor": "white",
            "ticks": ""
           },
           "baxis": {
            "gridcolor": "white",
            "linecolor": "white",
            "ticks": ""
           },
           "bgcolor": "#E5ECF6",
           "caxis": {
            "gridcolor": "white",
            "linecolor": "white",
            "ticks": ""
           }
          },
          "title": {
           "x": 0.05
          },
          "xaxis": {
           "automargin": true,
           "gridcolor": "white",
           "linecolor": "white",
           "ticks": "",
           "title": {
            "standoff": 15
           },
           "zerolinecolor": "white",
           "zerolinewidth": 2
          },
          "yaxis": {
           "automargin": true,
           "gridcolor": "white",
           "linecolor": "white",
           "ticks": "",
           "title": {
            "standoff": 15
           },
           "zerolinecolor": "white",
           "zerolinewidth": 2
          }
         }
        },
        "title": {
         "text": "Optimization History Plot"
        },
        "xaxis": {
         "title": {
          "text": "Trial"
         }
        },
        "yaxis": {
         "title": {
          "text": "Jaccard Similarity"
         }
        }
       }
      },
      "text/html": [
       "<div>                            <div id=\"6cacba60-86bd-407f-b07b-4a872c96735d\" class=\"plotly-graph-div\" style=\"height:525px; width:100%;\"></div>            <script type=\"text/javascript\">                require([\"plotly\"], function(Plotly) {                    window.PLOTLYENV=window.PLOTLYENV || {};                                    if (document.getElementById(\"6cacba60-86bd-407f-b07b-4a872c96735d\")) {                    Plotly.newPlot(                        \"6cacba60-86bd-407f-b07b-4a872c96735d\",                        [{\"mode\":\"markers\",\"name\":\"Jaccard Similarity\",\"x\":[0,1,2,3,4,5,6,7,8,9,10,11,12,13,14,15,16,17,18,19,20,21,22,23,24,25,26,27,28,29,30,31,32,33,34,35,36,37,38,39,40,41,42,43,44,45,46,47,48,49,50,51,52,53,54,55,56,57,58,59,60,61,62,63,64,65,66,67,68,69,70,71,72,73,74,75,76,77,78,79,80,81,82,83,84,85,86,87,88,89,90,91,92,93,94,95,96,97,98,99],\"y\":[0.03972417128016814,0.03150130927034278,0.03841529973658442,0.03290853805296512,0.03972417128016814,0.03627565732075966,0.03914525809569347,0.03811352012234037,0.03405705487524624,0.03276670739911136,0.03276670739911136,0.035021732455316035,0.02934388564589563,0.029878283608560374,0.034527350929518086,0.034527350929518086,0.03708001131456751,0.032158966152732615,0.03406842653051889,0.03406842653051889,0.03531786379341151,0.03675762654240755,0.029942474990344303,0.03675762654240755,0.03675762654240755,0.03675762654240755,0.03972417128016814,0.03972417128016814,0.03313503724431055,0.03313503724431055,0.03313503724431055,0.039596318080430626,0.034600210623011995,0.034600210623011995,0.037649501057215096,0.03509608504863382,0.03450229235795932,0.03638321275044398,0.03638321275044398,0.03638321275044398,0.03638321275044398,0.035387886928649026,0.03162863880602629,0.03319170834060814,0.039596318080430626,0.039596318080430626,0.039596318080430626,0.039596318080430626,0.03764206357346522,0.03841529973658442,0.03841529973658442,0.035962606633399674,0.033059547036776715,0.033059547036776715,0.03276670739911136,0.03276670739911136,0.03276670739911136,0.039596318080430626,0.03313503724431055,0.03313503724431055,0.03313503724431055,0.034527350929518086,0.03450229235795932,0.03924822827976826,0.03507043485048422,0.0369247734967979,0.0369247734967979,0.0369247734967979,0.039596318080430626,0.039596318080430626,0.039596318080430626,0.039596318080430626,0.03313503724431055,0.03708001131456751,0.039596318080430626,0.033663261609450545,0.033663261609450545,0.033663261609450545,0.03811352012234037,0.0369247734967979,0.03914525809569347,0.03972417128016814,0.03151282166023561,0.033738510857085235,0.03972417128016814,0.03972417128016814,0.03972417128016814,0.03972417128016814,0.03972417128016814,0.03972417128016814,0.03972417128016814,0.03972417128016814,0.03450229235795932,0.03972417128016814,0.03972417128016814,0.03972417128016814,0.03972417128016814,0.03972417128016814,0.03972417128016814,0.03972417128016814],\"type\":\"scatter\"},{\"marker\":{\"color\":\"#cccccc\"},\"mode\":\"markers\",\"name\":\"Infeasible Trial\",\"showlegend\":false,\"x\":[],\"y\":[],\"type\":\"scatter\"}],                        {\"title\":{\"text\":\"Optimization History Plot\"},\"xaxis\":{\"title\":{\"text\":\"Trial\"}},\"yaxis\":{\"title\":{\"text\":\"Jaccard Similarity\"}},\"template\":{\"data\":{\"histogram2dcontour\":[{\"type\":\"histogram2dcontour\",\"colorbar\":{\"outlinewidth\":0,\"ticks\":\"\"},\"colorscale\":[[0.0,\"#0d0887\"],[0.1111111111111111,\"#46039f\"],[0.2222222222222222,\"#7201a8\"],[0.3333333333333333,\"#9c179e\"],[0.4444444444444444,\"#bd3786\"],[0.5555555555555556,\"#d8576b\"],[0.6666666666666666,\"#ed7953\"],[0.7777777777777778,\"#fb9f3a\"],[0.8888888888888888,\"#fdca26\"],[1.0,\"#f0f921\"]]}],\"choropleth\":[{\"type\":\"choropleth\",\"colorbar\":{\"outlinewidth\":0,\"ticks\":\"\"}}],\"histogram2d\":[{\"type\":\"histogram2d\",\"colorbar\":{\"outlinewidth\":0,\"ticks\":\"\"},\"colorscale\":[[0.0,\"#0d0887\"],[0.1111111111111111,\"#46039f\"],[0.2222222222222222,\"#7201a8\"],[0.3333333333333333,\"#9c179e\"],[0.4444444444444444,\"#bd3786\"],[0.5555555555555556,\"#d8576b\"],[0.6666666666666666,\"#ed7953\"],[0.7777777777777778,\"#fb9f3a\"],[0.8888888888888888,\"#fdca26\"],[1.0,\"#f0f921\"]]}],\"heatmap\":[{\"type\":\"heatmap\",\"colorbar\":{\"outlinewidth\":0,\"ticks\":\"\"},\"colorscale\":[[0.0,\"#0d0887\"],[0.1111111111111111,\"#46039f\"],[0.2222222222222222,\"#7201a8\"],[0.3333333333333333,\"#9c179e\"],[0.4444444444444444,\"#bd3786\"],[0.5555555555555556,\"#d8576b\"],[0.6666666666666666,\"#ed7953\"],[0.7777777777777778,\"#fb9f3a\"],[0.8888888888888888,\"#fdca26\"],[1.0,\"#f0f921\"]]}],\"heatmapgl\":[{\"type\":\"heatmapgl\",\"colorbar\":{\"outlinewidth\":0,\"ticks\":\"\"},\"colorscale\":[[0.0,\"#0d0887\"],[0.1111111111111111,\"#46039f\"],[0.2222222222222222,\"#7201a8\"],[0.3333333333333333,\"#9c179e\"],[0.4444444444444444,\"#bd3786\"],[0.5555555555555556,\"#d8576b\"],[0.6666666666666666,\"#ed7953\"],[0.7777777777777778,\"#fb9f3a\"],[0.8888888888888888,\"#fdca26\"],[1.0,\"#f0f921\"]]}],\"contourcarpet\":[{\"type\":\"contourcarpet\",\"colorbar\":{\"outlinewidth\":0,\"ticks\":\"\"}}],\"contour\":[{\"type\":\"contour\",\"colorbar\":{\"outlinewidth\":0,\"ticks\":\"\"},\"colorscale\":[[0.0,\"#0d0887\"],[0.1111111111111111,\"#46039f\"],[0.2222222222222222,\"#7201a8\"],[0.3333333333333333,\"#9c179e\"],[0.4444444444444444,\"#bd3786\"],[0.5555555555555556,\"#d8576b\"],[0.6666666666666666,\"#ed7953\"],[0.7777777777777778,\"#fb9f3a\"],[0.8888888888888888,\"#fdca26\"],[1.0,\"#f0f921\"]]}],\"surface\":[{\"type\":\"surface\",\"colorbar\":{\"outlinewidth\":0,\"ticks\":\"\"},\"colorscale\":[[0.0,\"#0d0887\"],[0.1111111111111111,\"#46039f\"],[0.2222222222222222,\"#7201a8\"],[0.3333333333333333,\"#9c179e\"],[0.4444444444444444,\"#bd3786\"],[0.5555555555555556,\"#d8576b\"],[0.6666666666666666,\"#ed7953\"],[0.7777777777777778,\"#fb9f3a\"],[0.8888888888888888,\"#fdca26\"],[1.0,\"#f0f921\"]]}],\"mesh3d\":[{\"type\":\"mesh3d\",\"colorbar\":{\"outlinewidth\":0,\"ticks\":\"\"}}],\"scatter\":[{\"fillpattern\":{\"fillmode\":\"overlay\",\"size\":10,\"solidity\":0.2},\"type\":\"scatter\"}],\"parcoords\":[{\"type\":\"parcoords\",\"line\":{\"colorbar\":{\"outlinewidth\":0,\"ticks\":\"\"}}}],\"scatterpolargl\":[{\"type\":\"scatterpolargl\",\"marker\":{\"colorbar\":{\"outlinewidth\":0,\"ticks\":\"\"}}}],\"bar\":[{\"error_x\":{\"color\":\"#2a3f5f\"},\"error_y\":{\"color\":\"#2a3f5f\"},\"marker\":{\"line\":{\"color\":\"#E5ECF6\",\"width\":0.5},\"pattern\":{\"fillmode\":\"overlay\",\"size\":10,\"solidity\":0.2}},\"type\":\"bar\"}],\"scattergeo\":[{\"type\":\"scattergeo\",\"marker\":{\"colorbar\":{\"outlinewidth\":0,\"ticks\":\"\"}}}],\"scatterpolar\":[{\"type\":\"scatterpolar\",\"marker\":{\"colorbar\":{\"outlinewidth\":0,\"ticks\":\"\"}}}],\"histogram\":[{\"marker\":{\"pattern\":{\"fillmode\":\"overlay\",\"size\":10,\"solidity\":0.2}},\"type\":\"histogram\"}],\"scattergl\":[{\"type\":\"scattergl\",\"marker\":{\"colorbar\":{\"outlinewidth\":0,\"ticks\":\"\"}}}],\"scatter3d\":[{\"type\":\"scatter3d\",\"line\":{\"colorbar\":{\"outlinewidth\":0,\"ticks\":\"\"}},\"marker\":{\"colorbar\":{\"outlinewidth\":0,\"ticks\":\"\"}}}],\"scattermapbox\":[{\"type\":\"scattermapbox\",\"marker\":{\"colorbar\":{\"outlinewidth\":0,\"ticks\":\"\"}}}],\"scatterternary\":[{\"type\":\"scatterternary\",\"marker\":{\"colorbar\":{\"outlinewidth\":0,\"ticks\":\"\"}}}],\"scattercarpet\":[{\"type\":\"scattercarpet\",\"marker\":{\"colorbar\":{\"outlinewidth\":0,\"ticks\":\"\"}}}],\"carpet\":[{\"aaxis\":{\"endlinecolor\":\"#2a3f5f\",\"gridcolor\":\"white\",\"linecolor\":\"white\",\"minorgridcolor\":\"white\",\"startlinecolor\":\"#2a3f5f\"},\"baxis\":{\"endlinecolor\":\"#2a3f5f\",\"gridcolor\":\"white\",\"linecolor\":\"white\",\"minorgridcolor\":\"white\",\"startlinecolor\":\"#2a3f5f\"},\"type\":\"carpet\"}],\"table\":[{\"cells\":{\"fill\":{\"color\":\"#EBF0F8\"},\"line\":{\"color\":\"white\"}},\"header\":{\"fill\":{\"color\":\"#C8D4E3\"},\"line\":{\"color\":\"white\"}},\"type\":\"table\"}],\"barpolar\":[{\"marker\":{\"line\":{\"color\":\"#E5ECF6\",\"width\":0.5},\"pattern\":{\"fillmode\":\"overlay\",\"size\":10,\"solidity\":0.2}},\"type\":\"barpolar\"}],\"pie\":[{\"automargin\":true,\"type\":\"pie\"}]},\"layout\":{\"autotypenumbers\":\"strict\",\"colorway\":[\"#636efa\",\"#EF553B\",\"#00cc96\",\"#ab63fa\",\"#FFA15A\",\"#19d3f3\",\"#FF6692\",\"#B6E880\",\"#FF97FF\",\"#FECB52\"],\"font\":{\"color\":\"#2a3f5f\"},\"hovermode\":\"closest\",\"hoverlabel\":{\"align\":\"left\"},\"paper_bgcolor\":\"white\",\"plot_bgcolor\":\"#E5ECF6\",\"polar\":{\"bgcolor\":\"#E5ECF6\",\"angularaxis\":{\"gridcolor\":\"white\",\"linecolor\":\"white\",\"ticks\":\"\"},\"radialaxis\":{\"gridcolor\":\"white\",\"linecolor\":\"white\",\"ticks\":\"\"}},\"ternary\":{\"bgcolor\":\"#E5ECF6\",\"aaxis\":{\"gridcolor\":\"white\",\"linecolor\":\"white\",\"ticks\":\"\"},\"baxis\":{\"gridcolor\":\"white\",\"linecolor\":\"white\",\"ticks\":\"\"},\"caxis\":{\"gridcolor\":\"white\",\"linecolor\":\"white\",\"ticks\":\"\"}},\"coloraxis\":{\"colorbar\":{\"outlinewidth\":0,\"ticks\":\"\"}},\"colorscale\":{\"sequential\":[[0.0,\"#0d0887\"],[0.1111111111111111,\"#46039f\"],[0.2222222222222222,\"#7201a8\"],[0.3333333333333333,\"#9c179e\"],[0.4444444444444444,\"#bd3786\"],[0.5555555555555556,\"#d8576b\"],[0.6666666666666666,\"#ed7953\"],[0.7777777777777778,\"#fb9f3a\"],[0.8888888888888888,\"#fdca26\"],[1.0,\"#f0f921\"]],\"sequentialminus\":[[0.0,\"#0d0887\"],[0.1111111111111111,\"#46039f\"],[0.2222222222222222,\"#7201a8\"],[0.3333333333333333,\"#9c179e\"],[0.4444444444444444,\"#bd3786\"],[0.5555555555555556,\"#d8576b\"],[0.6666666666666666,\"#ed7953\"],[0.7777777777777778,\"#fb9f3a\"],[0.8888888888888888,\"#fdca26\"],[1.0,\"#f0f921\"]],\"diverging\":[[0,\"#8e0152\"],[0.1,\"#c51b7d\"],[0.2,\"#de77ae\"],[0.3,\"#f1b6da\"],[0.4,\"#fde0ef\"],[0.5,\"#f7f7f7\"],[0.6,\"#e6f5d0\"],[0.7,\"#b8e186\"],[0.8,\"#7fbc41\"],[0.9,\"#4d9221\"],[1,\"#276419\"]]},\"xaxis\":{\"gridcolor\":\"white\",\"linecolor\":\"white\",\"ticks\":\"\",\"title\":{\"standoff\":15},\"zerolinecolor\":\"white\",\"automargin\":true,\"zerolinewidth\":2},\"yaxis\":{\"gridcolor\":\"white\",\"linecolor\":\"white\",\"ticks\":\"\",\"title\":{\"standoff\":15},\"zerolinecolor\":\"white\",\"automargin\":true,\"zerolinewidth\":2},\"scene\":{\"xaxis\":{\"backgroundcolor\":\"#E5ECF6\",\"gridcolor\":\"white\",\"linecolor\":\"white\",\"showbackground\":true,\"ticks\":\"\",\"zerolinecolor\":\"white\",\"gridwidth\":2},\"yaxis\":{\"backgroundcolor\":\"#E5ECF6\",\"gridcolor\":\"white\",\"linecolor\":\"white\",\"showbackground\":true,\"ticks\":\"\",\"zerolinecolor\":\"white\",\"gridwidth\":2},\"zaxis\":{\"backgroundcolor\":\"#E5ECF6\",\"gridcolor\":\"white\",\"linecolor\":\"white\",\"showbackground\":true,\"ticks\":\"\",\"zerolinecolor\":\"white\",\"gridwidth\":2}},\"shapedefaults\":{\"line\":{\"color\":\"#2a3f5f\"}},\"annotationdefaults\":{\"arrowcolor\":\"#2a3f5f\",\"arrowhead\":0,\"arrowwidth\":1},\"geo\":{\"bgcolor\":\"white\",\"landcolor\":\"#E5ECF6\",\"subunitcolor\":\"white\",\"showland\":true,\"showlakes\":true,\"lakecolor\":\"white\"},\"title\":{\"x\":0.05},\"mapbox\":{\"style\":\"light\"}}}},                        {\"responsive\": true}                    ).then(function(){\n",
       "                            \n",
       "var gd = document.getElementById('6cacba60-86bd-407f-b07b-4a872c96735d');\n",
       "var x = new MutationObserver(function (mutations, observer) {{\n",
       "        var display = window.getComputedStyle(gd).display;\n",
       "        if (!display || display === 'none') {{\n",
       "            console.log([gd, 'removed!']);\n",
       "            Plotly.purge(gd);\n",
       "            observer.disconnect();\n",
       "        }}\n",
       "}});\n",
       "\n",
       "// Listen for the removal of the full notebook cells\n",
       "var notebookContainer = gd.closest('#notebook-container');\n",
       "if (notebookContainer) {{\n",
       "    x.observe(notebookContainer, {childList: true});\n",
       "}}\n",
       "\n",
       "// Listen for the clearing of the current output cell\n",
       "var outputEl = gd.closest('.output');\n",
       "if (outputEl) {{\n",
       "    x.observe(outputEl, {childList: true});\n",
       "}}\n",
       "\n",
       "                        })                };                });            </script>        </div>"
      ]
     },
     "metadata": {},
     "output_type": "display_data"
    },
    {
     "data": {
      "application/vnd.plotly.v1+json": {
       "config": {
        "plotlyServerURL": "https://plot.ly"
       },
       "data": [
        {
         "dimensions": [
          {
           "label": "Jaccard Similarity",
           "range": [
            0.02934388564589563,
            0.03972417128016814
           ],
           "values": [
            0.03972417128016814,
            0.03150130927034278,
            0.03841529973658442,
            0.03290853805296512,
            0.03972417128016814,
            0.03627565732075966,
            0.03914525809569347,
            0.03811352012234037,
            0.03405705487524624,
            0.03276670739911136,
            0.03276670739911136,
            0.035021732455316035,
            0.02934388564589563,
            0.029878283608560374,
            0.034527350929518086,
            0.034527350929518086,
            0.03708001131456751,
            0.032158966152732615,
            0.03406842653051889,
            0.03406842653051889,
            0.03531786379341151,
            0.03675762654240755,
            0.029942474990344303,
            0.03675762654240755,
            0.03675762654240755,
            0.03675762654240755,
            0.03972417128016814,
            0.03972417128016814,
            0.03313503724431055,
            0.03313503724431055,
            0.03313503724431055,
            0.039596318080430626,
            0.034600210623011995,
            0.034600210623011995,
            0.037649501057215096,
            0.03509608504863382,
            0.03450229235795932,
            0.03638321275044398,
            0.03638321275044398,
            0.03638321275044398,
            0.03638321275044398,
            0.035387886928649026,
            0.03162863880602629,
            0.03319170834060814,
            0.039596318080430626,
            0.039596318080430626,
            0.039596318080430626,
            0.039596318080430626,
            0.03764206357346522,
            0.03841529973658442,
            0.03841529973658442,
            0.035962606633399674,
            0.033059547036776715,
            0.033059547036776715,
            0.03276670739911136,
            0.03276670739911136,
            0.03276670739911136,
            0.039596318080430626,
            0.03313503724431055,
            0.03313503724431055,
            0.03313503724431055,
            0.034527350929518086,
            0.03450229235795932,
            0.03924822827976826,
            0.03507043485048422,
            0.0369247734967979,
            0.0369247734967979,
            0.0369247734967979,
            0.039596318080430626,
            0.039596318080430626,
            0.039596318080430626,
            0.039596318080430626,
            0.03313503724431055,
            0.03708001131456751,
            0.039596318080430626,
            0.033663261609450545,
            0.033663261609450545,
            0.033663261609450545,
            0.03811352012234037,
            0.0369247734967979,
            0.03914525809569347,
            0.03972417128016814,
            0.03151282166023561,
            0.033738510857085235,
            0.03972417128016814,
            0.03972417128016814,
            0.03972417128016814,
            0.03972417128016814,
            0.03972417128016814,
            0.03972417128016814,
            0.03972417128016814,
            0.03972417128016814,
            0.03450229235795932,
            0.03972417128016814,
            0.03972417128016814,
            0.03972417128016814,
            0.03972417128016814,
            0.03972417128016814,
            0.03972417128016814,
            0.03972417128016814
           ]
          },
          {
           "label": "a",
           "range": [
            0.7,
            0.7
           ],
           "values": [
            0.7,
            0.7,
            0.7,
            0.7,
            0.7,
            0.7,
            0.7,
            0.7,
            0.7,
            0.7,
            0.7,
            0.7,
            0.7,
            0.7,
            0.7,
            0.7,
            0.7,
            0.7,
            0.7,
            0.7,
            0.7,
            0.7,
            0.7,
            0.7,
            0.7,
            0.7,
            0.7,
            0.7,
            0.7,
            0.7,
            0.7,
            0.7,
            0.7,
            0.7,
            0.7,
            0.7,
            0.7,
            0.7,
            0.7,
            0.7,
            0.7,
            0.7,
            0.7,
            0.7,
            0.7,
            0.7,
            0.7,
            0.7,
            0.7,
            0.7,
            0.7,
            0.7,
            0.7,
            0.7,
            0.7,
            0.7,
            0.7,
            0.7,
            0.7,
            0.7,
            0.7,
            0.7,
            0.7,
            0.7,
            0.7,
            0.7,
            0.7,
            0.7,
            0.7,
            0.7,
            0.7,
            0.7,
            0.7,
            0.7,
            0.7,
            0.7,
            0.7,
            0.7,
            0.7,
            0.7,
            0.7,
            0.7,
            0.7,
            0.7,
            0.7,
            0.7,
            0.7,
            0.7,
            0.7,
            0.7,
            0.7,
            0.7,
            0.7,
            0.7,
            0.7,
            0.7,
            0.7,
            0.7,
            0.7,
            0.7
           ]
          },
          {
           "label": "b",
           "range": [
            0.5,
            0.5
           ],
           "values": [
            0.5,
            0.5,
            0.5,
            0.5,
            0.5,
            0.5,
            0.5,
            0.5,
            0.5,
            0.5,
            0.5,
            0.5,
            0.5,
            0.5,
            0.5,
            0.5,
            0.5,
            0.5,
            0.5,
            0.5,
            0.5,
            0.5,
            0.5,
            0.5,
            0.5,
            0.5,
            0.5,
            0.5,
            0.5,
            0.5,
            0.5,
            0.5,
            0.5,
            0.5,
            0.5,
            0.5,
            0.5,
            0.5,
            0.5,
            0.5,
            0.5,
            0.5,
            0.5,
            0.5,
            0.5,
            0.5,
            0.5,
            0.5,
            0.5,
            0.5,
            0.5,
            0.5,
            0.5,
            0.5,
            0.5,
            0.5,
            0.5,
            0.5,
            0.5,
            0.5,
            0.5,
            0.5,
            0.5,
            0.5,
            0.5,
            0.5,
            0.5,
            0.5,
            0.5,
            0.5,
            0.5,
            0.5,
            0.5,
            0.5,
            0.5,
            0.5,
            0.5,
            0.5,
            0.5,
            0.5,
            0.5,
            0.5,
            0.5,
            0.5,
            0.5,
            0.5,
            0.5,
            0.5,
            0.5,
            0.5,
            0.5,
            0.5,
            0.5,
            0.5,
            0.5,
            0.5,
            0.5,
            0.5,
            0.5,
            0.5
           ]
          },
          {
           "label": "maxidn",
           "range": [
            90,
            95
           ],
           "values": [
            95,
            92,
            95,
            90,
            95,
            92,
            95,
            95,
            93,
            93,
            93,
            93,
            90,
            90,
            94,
            94,
            94,
            90,
            94,
            94,
            95,
            95,
            91,
            95,
            95,
            95,
            95,
            95,
            94,
            94,
            94,
            94,
            92,
            92,
            95,
            95,
            95,
            95,
            95,
            95,
            95,
            95,
            91,
            93,
            94,
            94,
            94,
            94,
            94,
            95,
            95,
            95,
            93,
            93,
            93,
            93,
            93,
            94,
            94,
            94,
            94,
            94,
            95,
            95,
            95,
            95,
            95,
            95,
            94,
            94,
            94,
            94,
            94,
            94,
            94,
            91,
            91,
            91,
            95,
            95,
            95,
            95,
            92,
            92,
            95,
            95,
            95,
            95,
            95,
            95,
            95,
            95,
            95,
            95,
            95,
            95,
            95,
            95,
            95,
            95
           ]
          },
          {
           "label": "maxsd",
           "range": [
            20,
            25
           ],
           "values": [
            22,
            20,
            21,
            23,
            22,
            24,
            25,
            25,
            25,
            22,
            22,
            22,
            23,
            20,
            23,
            23,
            21,
            21,
            21,
            21,
            21,
            24,
            24,
            24,
            24,
            24,
            22,
            22,
            22,
            22,
            22,
            22,
            20,
            20,
            20,
            20,
            23,
            23,
            23,
            23,
            23,
            22,
            22,
            22,
            22,
            22,
            22,
            22,
            21,
            21,
            21,
            21,
            21,
            21,
            22,
            22,
            22,
            22,
            22,
            22,
            22,
            23,
            23,
            23,
            23,
            22,
            22,
            22,
            22,
            22,
            22,
            22,
            22,
            21,
            22,
            22,
            22,
            22,
            25,
            22,
            25,
            22,
            25,
            21,
            22,
            22,
            22,
            22,
            22,
            22,
            22,
            22,
            23,
            22,
            22,
            22,
            22,
            22,
            22,
            22
           ]
          },
          {
           "label": "minidn",
           "range": [
            80,
            83
           ],
           "values": [
            82,
            80,
            83,
            81,
            82,
            81,
            82,
            83,
            83,
            83,
            83,
            80,
            80,
            80,
            82,
            82,
            82,
            81,
            81,
            81,
            81,
            82,
            82,
            82,
            82,
            82,
            82,
            82,
            82,
            82,
            82,
            83,
            83,
            83,
            83,
            82,
            82,
            81,
            81,
            81,
            81,
            81,
            82,
            82,
            83,
            83,
            83,
            83,
            83,
            83,
            83,
            82,
            82,
            82,
            83,
            83,
            83,
            83,
            82,
            82,
            82,
            82,
            82,
            80,
            83,
            83,
            83,
            83,
            83,
            83,
            83,
            83,
            82,
            82,
            83,
            83,
            83,
            83,
            83,
            83,
            82,
            82,
            82,
            82,
            82,
            82,
            82,
            82,
            82,
            82,
            82,
            82,
            82,
            82,
            82,
            82,
            82,
            82,
            82,
            82
           ]
          },
          {
           "label": "minsd",
           "range": [
            1,
            1
           ],
           "values": [
            1,
            1,
            1,
            1,
            1,
            1,
            1,
            1,
            1,
            1,
            1,
            1,
            1,
            1,
            1,
            1,
            1,
            1,
            1,
            1,
            1,
            1,
            1,
            1,
            1,
            1,
            1,
            1,
            1,
            1,
            1,
            1,
            1,
            1,
            1,
            1,
            1,
            1,
            1,
            1,
            1,
            1,
            1,
            1,
            1,
            1,
            1,
            1,
            1,
            1,
            1,
            1,
            1,
            1,
            1,
            1,
            1,
            1,
            1,
            1,
            1,
            1,
            1,
            1,
            1,
            1,
            1,
            1,
            1,
            1,
            1,
            1,
            1,
            1,
            1,
            1,
            1,
            1,
            1,
            1,
            1,
            1,
            1,
            1,
            1,
            1,
            1,
            1,
            1,
            1,
            1,
            1,
            1,
            1,
            1,
            1,
            1,
            1,
            1,
            1
           ]
          }
         ],
         "labelangle": 30,
         "labelside": "bottom",
         "line": {
          "color": [
           0.03972417128016814,
           0.03150130927034278,
           0.03841529973658442,
           0.03290853805296512,
           0.03972417128016814,
           0.03627565732075966,
           0.03914525809569347,
           0.03811352012234037,
           0.03405705487524624,
           0.03276670739911136,
           0.03276670739911136,
           0.035021732455316035,
           0.02934388564589563,
           0.029878283608560374,
           0.034527350929518086,
           0.034527350929518086,
           0.03708001131456751,
           0.032158966152732615,
           0.03406842653051889,
           0.03406842653051889,
           0.03531786379341151,
           0.03675762654240755,
           0.029942474990344303,
           0.03675762654240755,
           0.03675762654240755,
           0.03675762654240755,
           0.03972417128016814,
           0.03972417128016814,
           0.03313503724431055,
           0.03313503724431055,
           0.03313503724431055,
           0.039596318080430626,
           0.034600210623011995,
           0.034600210623011995,
           0.037649501057215096,
           0.03509608504863382,
           0.03450229235795932,
           0.03638321275044398,
           0.03638321275044398,
           0.03638321275044398,
           0.03638321275044398,
           0.035387886928649026,
           0.03162863880602629,
           0.03319170834060814,
           0.039596318080430626,
           0.039596318080430626,
           0.039596318080430626,
           0.039596318080430626,
           0.03764206357346522,
           0.03841529973658442,
           0.03841529973658442,
           0.035962606633399674,
           0.033059547036776715,
           0.033059547036776715,
           0.03276670739911136,
           0.03276670739911136,
           0.03276670739911136,
           0.039596318080430626,
           0.03313503724431055,
           0.03313503724431055,
           0.03313503724431055,
           0.034527350929518086,
           0.03450229235795932,
           0.03924822827976826,
           0.03507043485048422,
           0.0369247734967979,
           0.0369247734967979,
           0.0369247734967979,
           0.039596318080430626,
           0.039596318080430626,
           0.039596318080430626,
           0.039596318080430626,
           0.03313503724431055,
           0.03708001131456751,
           0.039596318080430626,
           0.033663261609450545,
           0.033663261609450545,
           0.033663261609450545,
           0.03811352012234037,
           0.0369247734967979,
           0.03914525809569347,
           0.03972417128016814,
           0.03151282166023561,
           0.033738510857085235,
           0.03972417128016814,
           0.03972417128016814,
           0.03972417128016814,
           0.03972417128016814,
           0.03972417128016814,
           0.03972417128016814,
           0.03972417128016814,
           0.03972417128016814,
           0.03450229235795932,
           0.03972417128016814,
           0.03972417128016814,
           0.03972417128016814,
           0.03972417128016814,
           0.03972417128016814,
           0.03972417128016814,
           0.03972417128016814
          ],
          "colorbar": {
           "title": {
            "text": "Jaccard Similarity"
           }
          },
          "colorscale": [
           [
            0,
            "rgb(247,251,255)"
           ],
           [
            0.125,
            "rgb(222,235,247)"
           ],
           [
            0.25,
            "rgb(198,219,239)"
           ],
           [
            0.375,
            "rgb(158,202,225)"
           ],
           [
            0.5,
            "rgb(107,174,214)"
           ],
           [
            0.625,
            "rgb(66,146,198)"
           ],
           [
            0.75,
            "rgb(33,113,181)"
           ],
           [
            0.875,
            "rgb(8,81,156)"
           ],
           [
            1,
            "rgb(8,48,107)"
           ]
          ],
          "reversescale": true,
          "showscale": true
         },
         "type": "parcoords"
        }
       ],
       "layout": {
        "template": {
         "data": {
          "bar": [
           {
            "error_x": {
             "color": "#2a3f5f"
            },
            "error_y": {
             "color": "#2a3f5f"
            },
            "marker": {
             "line": {
              "color": "#E5ECF6",
              "width": 0.5
             },
             "pattern": {
              "fillmode": "overlay",
              "size": 10,
              "solidity": 0.2
             }
            },
            "type": "bar"
           }
          ],
          "barpolar": [
           {
            "marker": {
             "line": {
              "color": "#E5ECF6",
              "width": 0.5
             },
             "pattern": {
              "fillmode": "overlay",
              "size": 10,
              "solidity": 0.2
             }
            },
            "type": "barpolar"
           }
          ],
          "carpet": [
           {
            "aaxis": {
             "endlinecolor": "#2a3f5f",
             "gridcolor": "white",
             "linecolor": "white",
             "minorgridcolor": "white",
             "startlinecolor": "#2a3f5f"
            },
            "baxis": {
             "endlinecolor": "#2a3f5f",
             "gridcolor": "white",
             "linecolor": "white",
             "minorgridcolor": "white",
             "startlinecolor": "#2a3f5f"
            },
            "type": "carpet"
           }
          ],
          "choropleth": [
           {
            "colorbar": {
             "outlinewidth": 0,
             "ticks": ""
            },
            "type": "choropleth"
           }
          ],
          "contour": [
           {
            "colorbar": {
             "outlinewidth": 0,
             "ticks": ""
            },
            "colorscale": [
             [
              0,
              "#0d0887"
             ],
             [
              0.1111111111111111,
              "#46039f"
             ],
             [
              0.2222222222222222,
              "#7201a8"
             ],
             [
              0.3333333333333333,
              "#9c179e"
             ],
             [
              0.4444444444444444,
              "#bd3786"
             ],
             [
              0.5555555555555556,
              "#d8576b"
             ],
             [
              0.6666666666666666,
              "#ed7953"
             ],
             [
              0.7777777777777778,
              "#fb9f3a"
             ],
             [
              0.8888888888888888,
              "#fdca26"
             ],
             [
              1,
              "#f0f921"
             ]
            ],
            "type": "contour"
           }
          ],
          "contourcarpet": [
           {
            "colorbar": {
             "outlinewidth": 0,
             "ticks": ""
            },
            "type": "contourcarpet"
           }
          ],
          "heatmap": [
           {
            "colorbar": {
             "outlinewidth": 0,
             "ticks": ""
            },
            "colorscale": [
             [
              0,
              "#0d0887"
             ],
             [
              0.1111111111111111,
              "#46039f"
             ],
             [
              0.2222222222222222,
              "#7201a8"
             ],
             [
              0.3333333333333333,
              "#9c179e"
             ],
             [
              0.4444444444444444,
              "#bd3786"
             ],
             [
              0.5555555555555556,
              "#d8576b"
             ],
             [
              0.6666666666666666,
              "#ed7953"
             ],
             [
              0.7777777777777778,
              "#fb9f3a"
             ],
             [
              0.8888888888888888,
              "#fdca26"
             ],
             [
              1,
              "#f0f921"
             ]
            ],
            "type": "heatmap"
           }
          ],
          "heatmapgl": [
           {
            "colorbar": {
             "outlinewidth": 0,
             "ticks": ""
            },
            "colorscale": [
             [
              0,
              "#0d0887"
             ],
             [
              0.1111111111111111,
              "#46039f"
             ],
             [
              0.2222222222222222,
              "#7201a8"
             ],
             [
              0.3333333333333333,
              "#9c179e"
             ],
             [
              0.4444444444444444,
              "#bd3786"
             ],
             [
              0.5555555555555556,
              "#d8576b"
             ],
             [
              0.6666666666666666,
              "#ed7953"
             ],
             [
              0.7777777777777778,
              "#fb9f3a"
             ],
             [
              0.8888888888888888,
              "#fdca26"
             ],
             [
              1,
              "#f0f921"
             ]
            ],
            "type": "heatmapgl"
           }
          ],
          "histogram": [
           {
            "marker": {
             "pattern": {
              "fillmode": "overlay",
              "size": 10,
              "solidity": 0.2
             }
            },
            "type": "histogram"
           }
          ],
          "histogram2d": [
           {
            "colorbar": {
             "outlinewidth": 0,
             "ticks": ""
            },
            "colorscale": [
             [
              0,
              "#0d0887"
             ],
             [
              0.1111111111111111,
              "#46039f"
             ],
             [
              0.2222222222222222,
              "#7201a8"
             ],
             [
              0.3333333333333333,
              "#9c179e"
             ],
             [
              0.4444444444444444,
              "#bd3786"
             ],
             [
              0.5555555555555556,
              "#d8576b"
             ],
             [
              0.6666666666666666,
              "#ed7953"
             ],
             [
              0.7777777777777778,
              "#fb9f3a"
             ],
             [
              0.8888888888888888,
              "#fdca26"
             ],
             [
              1,
              "#f0f921"
             ]
            ],
            "type": "histogram2d"
           }
          ],
          "histogram2dcontour": [
           {
            "colorbar": {
             "outlinewidth": 0,
             "ticks": ""
            },
            "colorscale": [
             [
              0,
              "#0d0887"
             ],
             [
              0.1111111111111111,
              "#46039f"
             ],
             [
              0.2222222222222222,
              "#7201a8"
             ],
             [
              0.3333333333333333,
              "#9c179e"
             ],
             [
              0.4444444444444444,
              "#bd3786"
             ],
             [
              0.5555555555555556,
              "#d8576b"
             ],
             [
              0.6666666666666666,
              "#ed7953"
             ],
             [
              0.7777777777777778,
              "#fb9f3a"
             ],
             [
              0.8888888888888888,
              "#fdca26"
             ],
             [
              1,
              "#f0f921"
             ]
            ],
            "type": "histogram2dcontour"
           }
          ],
          "mesh3d": [
           {
            "colorbar": {
             "outlinewidth": 0,
             "ticks": ""
            },
            "type": "mesh3d"
           }
          ],
          "parcoords": [
           {
            "line": {
             "colorbar": {
              "outlinewidth": 0,
              "ticks": ""
             }
            },
            "type": "parcoords"
           }
          ],
          "pie": [
           {
            "automargin": true,
            "type": "pie"
           }
          ],
          "scatter": [
           {
            "fillpattern": {
             "fillmode": "overlay",
             "size": 10,
             "solidity": 0.2
            },
            "type": "scatter"
           }
          ],
          "scatter3d": [
           {
            "line": {
             "colorbar": {
              "outlinewidth": 0,
              "ticks": ""
             }
            },
            "marker": {
             "colorbar": {
              "outlinewidth": 0,
              "ticks": ""
             }
            },
            "type": "scatter3d"
           }
          ],
          "scattercarpet": [
           {
            "marker": {
             "colorbar": {
              "outlinewidth": 0,
              "ticks": ""
             }
            },
            "type": "scattercarpet"
           }
          ],
          "scattergeo": [
           {
            "marker": {
             "colorbar": {
              "outlinewidth": 0,
              "ticks": ""
             }
            },
            "type": "scattergeo"
           }
          ],
          "scattergl": [
           {
            "marker": {
             "colorbar": {
              "outlinewidth": 0,
              "ticks": ""
             }
            },
            "type": "scattergl"
           }
          ],
          "scattermapbox": [
           {
            "marker": {
             "colorbar": {
              "outlinewidth": 0,
              "ticks": ""
             }
            },
            "type": "scattermapbox"
           }
          ],
          "scatterpolar": [
           {
            "marker": {
             "colorbar": {
              "outlinewidth": 0,
              "ticks": ""
             }
            },
            "type": "scatterpolar"
           }
          ],
          "scatterpolargl": [
           {
            "marker": {
             "colorbar": {
              "outlinewidth": 0,
              "ticks": ""
             }
            },
            "type": "scatterpolargl"
           }
          ],
          "scatterternary": [
           {
            "marker": {
             "colorbar": {
              "outlinewidth": 0,
              "ticks": ""
             }
            },
            "type": "scatterternary"
           }
          ],
          "surface": [
           {
            "colorbar": {
             "outlinewidth": 0,
             "ticks": ""
            },
            "colorscale": [
             [
              0,
              "#0d0887"
             ],
             [
              0.1111111111111111,
              "#46039f"
             ],
             [
              0.2222222222222222,
              "#7201a8"
             ],
             [
              0.3333333333333333,
              "#9c179e"
             ],
             [
              0.4444444444444444,
              "#bd3786"
             ],
             [
              0.5555555555555556,
              "#d8576b"
             ],
             [
              0.6666666666666666,
              "#ed7953"
             ],
             [
              0.7777777777777778,
              "#fb9f3a"
             ],
             [
              0.8888888888888888,
              "#fdca26"
             ],
             [
              1,
              "#f0f921"
             ]
            ],
            "type": "surface"
           }
          ],
          "table": [
           {
            "cells": {
             "fill": {
              "color": "#EBF0F8"
             },
             "line": {
              "color": "white"
             }
            },
            "header": {
             "fill": {
              "color": "#C8D4E3"
             },
             "line": {
              "color": "white"
             }
            },
            "type": "table"
           }
          ]
         },
         "layout": {
          "annotationdefaults": {
           "arrowcolor": "#2a3f5f",
           "arrowhead": 0,
           "arrowwidth": 1
          },
          "autotypenumbers": "strict",
          "coloraxis": {
           "colorbar": {
            "outlinewidth": 0,
            "ticks": ""
           }
          },
          "colorscale": {
           "diverging": [
            [
             0,
             "#8e0152"
            ],
            [
             0.1,
             "#c51b7d"
            ],
            [
             0.2,
             "#de77ae"
            ],
            [
             0.3,
             "#f1b6da"
            ],
            [
             0.4,
             "#fde0ef"
            ],
            [
             0.5,
             "#f7f7f7"
            ],
            [
             0.6,
             "#e6f5d0"
            ],
            [
             0.7,
             "#b8e186"
            ],
            [
             0.8,
             "#7fbc41"
            ],
            [
             0.9,
             "#4d9221"
            ],
            [
             1,
             "#276419"
            ]
           ],
           "sequential": [
            [
             0,
             "#0d0887"
            ],
            [
             0.1111111111111111,
             "#46039f"
            ],
            [
             0.2222222222222222,
             "#7201a8"
            ],
            [
             0.3333333333333333,
             "#9c179e"
            ],
            [
             0.4444444444444444,
             "#bd3786"
            ],
            [
             0.5555555555555556,
             "#d8576b"
            ],
            [
             0.6666666666666666,
             "#ed7953"
            ],
            [
             0.7777777777777778,
             "#fb9f3a"
            ],
            [
             0.8888888888888888,
             "#fdca26"
            ],
            [
             1,
             "#f0f921"
            ]
           ],
           "sequentialminus": [
            [
             0,
             "#0d0887"
            ],
            [
             0.1111111111111111,
             "#46039f"
            ],
            [
             0.2222222222222222,
             "#7201a8"
            ],
            [
             0.3333333333333333,
             "#9c179e"
            ],
            [
             0.4444444444444444,
             "#bd3786"
            ],
            [
             0.5555555555555556,
             "#d8576b"
            ],
            [
             0.6666666666666666,
             "#ed7953"
            ],
            [
             0.7777777777777778,
             "#fb9f3a"
            ],
            [
             0.8888888888888888,
             "#fdca26"
            ],
            [
             1,
             "#f0f921"
            ]
           ]
          },
          "colorway": [
           "#636efa",
           "#EF553B",
           "#00cc96",
           "#ab63fa",
           "#FFA15A",
           "#19d3f3",
           "#FF6692",
           "#B6E880",
           "#FF97FF",
           "#FECB52"
          ],
          "font": {
           "color": "#2a3f5f"
          },
          "geo": {
           "bgcolor": "white",
           "lakecolor": "white",
           "landcolor": "#E5ECF6",
           "showlakes": true,
           "showland": true,
           "subunitcolor": "white"
          },
          "hoverlabel": {
           "align": "left"
          },
          "hovermode": "closest",
          "mapbox": {
           "style": "light"
          },
          "paper_bgcolor": "white",
          "plot_bgcolor": "#E5ECF6",
          "polar": {
           "angularaxis": {
            "gridcolor": "white",
            "linecolor": "white",
            "ticks": ""
           },
           "bgcolor": "#E5ECF6",
           "radialaxis": {
            "gridcolor": "white",
            "linecolor": "white",
            "ticks": ""
           }
          },
          "scene": {
           "xaxis": {
            "backgroundcolor": "#E5ECF6",
            "gridcolor": "white",
            "gridwidth": 2,
            "linecolor": "white",
            "showbackground": true,
            "ticks": "",
            "zerolinecolor": "white"
           },
           "yaxis": {
            "backgroundcolor": "#E5ECF6",
            "gridcolor": "white",
            "gridwidth": 2,
            "linecolor": "white",
            "showbackground": true,
            "ticks": "",
            "zerolinecolor": "white"
           },
           "zaxis": {
            "backgroundcolor": "#E5ECF6",
            "gridcolor": "white",
            "gridwidth": 2,
            "linecolor": "white",
            "showbackground": true,
            "ticks": "",
            "zerolinecolor": "white"
           }
          },
          "shapedefaults": {
           "line": {
            "color": "#2a3f5f"
           }
          },
          "ternary": {
           "aaxis": {
            "gridcolor": "white",
            "linecolor": "white",
            "ticks": ""
           },
           "baxis": {
            "gridcolor": "white",
            "linecolor": "white",
            "ticks": ""
           },
           "bgcolor": "#E5ECF6",
           "caxis": {
            "gridcolor": "white",
            "linecolor": "white",
            "ticks": ""
           }
          },
          "title": {
           "x": 0.05
          },
          "xaxis": {
           "automargin": true,
           "gridcolor": "white",
           "linecolor": "white",
           "ticks": "",
           "title": {
            "standoff": 15
           },
           "zerolinecolor": "white",
           "zerolinewidth": 2
          },
          "yaxis": {
           "automargin": true,
           "gridcolor": "white",
           "linecolor": "white",
           "ticks": "",
           "title": {
            "standoff": 15
           },
           "zerolinecolor": "white",
           "zerolinewidth": 2
          }
         }
        },
        "title": {
         "text": "Parallel Coordinate Plot"
        }
       }
      },
      "text/html": [
       "<div>                            <div id=\"61410f1d-bb41-4617-95da-a52edd88448e\" class=\"plotly-graph-div\" style=\"height:525px; width:100%;\"></div>            <script type=\"text/javascript\">                require([\"plotly\"], function(Plotly) {                    window.PLOTLYENV=window.PLOTLYENV || {};                                    if (document.getElementById(\"61410f1d-bb41-4617-95da-a52edd88448e\")) {                    Plotly.newPlot(                        \"61410f1d-bb41-4617-95da-a52edd88448e\",                        [{\"dimensions\":[{\"label\":\"Jaccard Similarity\",\"range\":[0.02934388564589563,0.03972417128016814],\"values\":[0.03972417128016814,0.03150130927034278,0.03841529973658442,0.03290853805296512,0.03972417128016814,0.03627565732075966,0.03914525809569347,0.03811352012234037,0.03405705487524624,0.03276670739911136,0.03276670739911136,0.035021732455316035,0.02934388564589563,0.029878283608560374,0.034527350929518086,0.034527350929518086,0.03708001131456751,0.032158966152732615,0.03406842653051889,0.03406842653051889,0.03531786379341151,0.03675762654240755,0.029942474990344303,0.03675762654240755,0.03675762654240755,0.03675762654240755,0.03972417128016814,0.03972417128016814,0.03313503724431055,0.03313503724431055,0.03313503724431055,0.039596318080430626,0.034600210623011995,0.034600210623011995,0.037649501057215096,0.03509608504863382,0.03450229235795932,0.03638321275044398,0.03638321275044398,0.03638321275044398,0.03638321275044398,0.035387886928649026,0.03162863880602629,0.03319170834060814,0.039596318080430626,0.039596318080430626,0.039596318080430626,0.039596318080430626,0.03764206357346522,0.03841529973658442,0.03841529973658442,0.035962606633399674,0.033059547036776715,0.033059547036776715,0.03276670739911136,0.03276670739911136,0.03276670739911136,0.039596318080430626,0.03313503724431055,0.03313503724431055,0.03313503724431055,0.034527350929518086,0.03450229235795932,0.03924822827976826,0.03507043485048422,0.0369247734967979,0.0369247734967979,0.0369247734967979,0.039596318080430626,0.039596318080430626,0.039596318080430626,0.039596318080430626,0.03313503724431055,0.03708001131456751,0.039596318080430626,0.033663261609450545,0.033663261609450545,0.033663261609450545,0.03811352012234037,0.0369247734967979,0.03914525809569347,0.03972417128016814,0.03151282166023561,0.033738510857085235,0.03972417128016814,0.03972417128016814,0.03972417128016814,0.03972417128016814,0.03972417128016814,0.03972417128016814,0.03972417128016814,0.03972417128016814,0.03450229235795932,0.03972417128016814,0.03972417128016814,0.03972417128016814,0.03972417128016814,0.03972417128016814,0.03972417128016814,0.03972417128016814]},{\"label\":\"a\",\"range\":[0.7,0.7],\"values\":[0.7,0.7,0.7,0.7,0.7,0.7,0.7,0.7,0.7,0.7,0.7,0.7,0.7,0.7,0.7,0.7,0.7,0.7,0.7,0.7,0.7,0.7,0.7,0.7,0.7,0.7,0.7,0.7,0.7,0.7,0.7,0.7,0.7,0.7,0.7,0.7,0.7,0.7,0.7,0.7,0.7,0.7,0.7,0.7,0.7,0.7,0.7,0.7,0.7,0.7,0.7,0.7,0.7,0.7,0.7,0.7,0.7,0.7,0.7,0.7,0.7,0.7,0.7,0.7,0.7,0.7,0.7,0.7,0.7,0.7,0.7,0.7,0.7,0.7,0.7,0.7,0.7,0.7,0.7,0.7,0.7,0.7,0.7,0.7,0.7,0.7,0.7,0.7,0.7,0.7,0.7,0.7,0.7,0.7,0.7,0.7,0.7,0.7,0.7,0.7]},{\"label\":\"b\",\"range\":[0.5,0.5],\"values\":[0.5,0.5,0.5,0.5,0.5,0.5,0.5,0.5,0.5,0.5,0.5,0.5,0.5,0.5,0.5,0.5,0.5,0.5,0.5,0.5,0.5,0.5,0.5,0.5,0.5,0.5,0.5,0.5,0.5,0.5,0.5,0.5,0.5,0.5,0.5,0.5,0.5,0.5,0.5,0.5,0.5,0.5,0.5,0.5,0.5,0.5,0.5,0.5,0.5,0.5,0.5,0.5,0.5,0.5,0.5,0.5,0.5,0.5,0.5,0.5,0.5,0.5,0.5,0.5,0.5,0.5,0.5,0.5,0.5,0.5,0.5,0.5,0.5,0.5,0.5,0.5,0.5,0.5,0.5,0.5,0.5,0.5,0.5,0.5,0.5,0.5,0.5,0.5,0.5,0.5,0.5,0.5,0.5,0.5,0.5,0.5,0.5,0.5,0.5,0.5]},{\"label\":\"maxidn\",\"range\":[90,95],\"values\":[95,92,95,90,95,92,95,95,93,93,93,93,90,90,94,94,94,90,94,94,95,95,91,95,95,95,95,95,94,94,94,94,92,92,95,95,95,95,95,95,95,95,91,93,94,94,94,94,94,95,95,95,93,93,93,93,93,94,94,94,94,94,95,95,95,95,95,95,94,94,94,94,94,94,94,91,91,91,95,95,95,95,92,92,95,95,95,95,95,95,95,95,95,95,95,95,95,95,95,95]},{\"label\":\"maxsd\",\"range\":[20,25],\"values\":[22,20,21,23,22,24,25,25,25,22,22,22,23,20,23,23,21,21,21,21,21,24,24,24,24,24,22,22,22,22,22,22,20,20,20,20,23,23,23,23,23,22,22,22,22,22,22,22,21,21,21,21,21,21,22,22,22,22,22,22,22,23,23,23,23,22,22,22,22,22,22,22,22,21,22,22,22,22,25,22,25,22,25,21,22,22,22,22,22,22,22,22,23,22,22,22,22,22,22,22]},{\"label\":\"minidn\",\"range\":[80,83],\"values\":[82,80,83,81,82,81,82,83,83,83,83,80,80,80,82,82,82,81,81,81,81,82,82,82,82,82,82,82,82,82,82,83,83,83,83,82,82,81,81,81,81,81,82,82,83,83,83,83,83,83,83,82,82,82,83,83,83,83,82,82,82,82,82,80,83,83,83,83,83,83,83,83,82,82,83,83,83,83,83,83,82,82,82,82,82,82,82,82,82,82,82,82,82,82,82,82,82,82,82,82]},{\"label\":\"minsd\",\"range\":[1,1],\"values\":[1,1,1,1,1,1,1,1,1,1,1,1,1,1,1,1,1,1,1,1,1,1,1,1,1,1,1,1,1,1,1,1,1,1,1,1,1,1,1,1,1,1,1,1,1,1,1,1,1,1,1,1,1,1,1,1,1,1,1,1,1,1,1,1,1,1,1,1,1,1,1,1,1,1,1,1,1,1,1,1,1,1,1,1,1,1,1,1,1,1,1,1,1,1,1,1,1,1,1,1]}],\"labelangle\":30,\"labelside\":\"bottom\",\"line\":{\"color\":[0.03972417128016814,0.03150130927034278,0.03841529973658442,0.03290853805296512,0.03972417128016814,0.03627565732075966,0.03914525809569347,0.03811352012234037,0.03405705487524624,0.03276670739911136,0.03276670739911136,0.035021732455316035,0.02934388564589563,0.029878283608560374,0.034527350929518086,0.034527350929518086,0.03708001131456751,0.032158966152732615,0.03406842653051889,0.03406842653051889,0.03531786379341151,0.03675762654240755,0.029942474990344303,0.03675762654240755,0.03675762654240755,0.03675762654240755,0.03972417128016814,0.03972417128016814,0.03313503724431055,0.03313503724431055,0.03313503724431055,0.039596318080430626,0.034600210623011995,0.034600210623011995,0.037649501057215096,0.03509608504863382,0.03450229235795932,0.03638321275044398,0.03638321275044398,0.03638321275044398,0.03638321275044398,0.035387886928649026,0.03162863880602629,0.03319170834060814,0.039596318080430626,0.039596318080430626,0.039596318080430626,0.039596318080430626,0.03764206357346522,0.03841529973658442,0.03841529973658442,0.035962606633399674,0.033059547036776715,0.033059547036776715,0.03276670739911136,0.03276670739911136,0.03276670739911136,0.039596318080430626,0.03313503724431055,0.03313503724431055,0.03313503724431055,0.034527350929518086,0.03450229235795932,0.03924822827976826,0.03507043485048422,0.0369247734967979,0.0369247734967979,0.0369247734967979,0.039596318080430626,0.039596318080430626,0.039596318080430626,0.039596318080430626,0.03313503724431055,0.03708001131456751,0.039596318080430626,0.033663261609450545,0.033663261609450545,0.033663261609450545,0.03811352012234037,0.0369247734967979,0.03914525809569347,0.03972417128016814,0.03151282166023561,0.033738510857085235,0.03972417128016814,0.03972417128016814,0.03972417128016814,0.03972417128016814,0.03972417128016814,0.03972417128016814,0.03972417128016814,0.03972417128016814,0.03450229235795932,0.03972417128016814,0.03972417128016814,0.03972417128016814,0.03972417128016814,0.03972417128016814,0.03972417128016814,0.03972417128016814],\"colorbar\":{\"title\":{\"text\":\"Jaccard Similarity\"}},\"colorscale\":[[0.0,\"rgb(247,251,255)\"],[0.125,\"rgb(222,235,247)\"],[0.25,\"rgb(198,219,239)\"],[0.375,\"rgb(158,202,225)\"],[0.5,\"rgb(107,174,214)\"],[0.625,\"rgb(66,146,198)\"],[0.75,\"rgb(33,113,181)\"],[0.875,\"rgb(8,81,156)\"],[1.0,\"rgb(8,48,107)\"]],\"reversescale\":true,\"showscale\":true},\"type\":\"parcoords\"}],                        {\"title\":{\"text\":\"Parallel Coordinate Plot\"},\"template\":{\"data\":{\"histogram2dcontour\":[{\"type\":\"histogram2dcontour\",\"colorbar\":{\"outlinewidth\":0,\"ticks\":\"\"},\"colorscale\":[[0.0,\"#0d0887\"],[0.1111111111111111,\"#46039f\"],[0.2222222222222222,\"#7201a8\"],[0.3333333333333333,\"#9c179e\"],[0.4444444444444444,\"#bd3786\"],[0.5555555555555556,\"#d8576b\"],[0.6666666666666666,\"#ed7953\"],[0.7777777777777778,\"#fb9f3a\"],[0.8888888888888888,\"#fdca26\"],[1.0,\"#f0f921\"]]}],\"choropleth\":[{\"type\":\"choropleth\",\"colorbar\":{\"outlinewidth\":0,\"ticks\":\"\"}}],\"histogram2d\":[{\"type\":\"histogram2d\",\"colorbar\":{\"outlinewidth\":0,\"ticks\":\"\"},\"colorscale\":[[0.0,\"#0d0887\"],[0.1111111111111111,\"#46039f\"],[0.2222222222222222,\"#7201a8\"],[0.3333333333333333,\"#9c179e\"],[0.4444444444444444,\"#bd3786\"],[0.5555555555555556,\"#d8576b\"],[0.6666666666666666,\"#ed7953\"],[0.7777777777777778,\"#fb9f3a\"],[0.8888888888888888,\"#fdca26\"],[1.0,\"#f0f921\"]]}],\"heatmap\":[{\"type\":\"heatmap\",\"colorbar\":{\"outlinewidth\":0,\"ticks\":\"\"},\"colorscale\":[[0.0,\"#0d0887\"],[0.1111111111111111,\"#46039f\"],[0.2222222222222222,\"#7201a8\"],[0.3333333333333333,\"#9c179e\"],[0.4444444444444444,\"#bd3786\"],[0.5555555555555556,\"#d8576b\"],[0.6666666666666666,\"#ed7953\"],[0.7777777777777778,\"#fb9f3a\"],[0.8888888888888888,\"#fdca26\"],[1.0,\"#f0f921\"]]}],\"heatmapgl\":[{\"type\":\"heatmapgl\",\"colorbar\":{\"outlinewidth\":0,\"ticks\":\"\"},\"colorscale\":[[0.0,\"#0d0887\"],[0.1111111111111111,\"#46039f\"],[0.2222222222222222,\"#7201a8\"],[0.3333333333333333,\"#9c179e\"],[0.4444444444444444,\"#bd3786\"],[0.5555555555555556,\"#d8576b\"],[0.6666666666666666,\"#ed7953\"],[0.7777777777777778,\"#fb9f3a\"],[0.8888888888888888,\"#fdca26\"],[1.0,\"#f0f921\"]]}],\"contourcarpet\":[{\"type\":\"contourcarpet\",\"colorbar\":{\"outlinewidth\":0,\"ticks\":\"\"}}],\"contour\":[{\"type\":\"contour\",\"colorbar\":{\"outlinewidth\":0,\"ticks\":\"\"},\"colorscale\":[[0.0,\"#0d0887\"],[0.1111111111111111,\"#46039f\"],[0.2222222222222222,\"#7201a8\"],[0.3333333333333333,\"#9c179e\"],[0.4444444444444444,\"#bd3786\"],[0.5555555555555556,\"#d8576b\"],[0.6666666666666666,\"#ed7953\"],[0.7777777777777778,\"#fb9f3a\"],[0.8888888888888888,\"#fdca26\"],[1.0,\"#f0f921\"]]}],\"surface\":[{\"type\":\"surface\",\"colorbar\":{\"outlinewidth\":0,\"ticks\":\"\"},\"colorscale\":[[0.0,\"#0d0887\"],[0.1111111111111111,\"#46039f\"],[0.2222222222222222,\"#7201a8\"],[0.3333333333333333,\"#9c179e\"],[0.4444444444444444,\"#bd3786\"],[0.5555555555555556,\"#d8576b\"],[0.6666666666666666,\"#ed7953\"],[0.7777777777777778,\"#fb9f3a\"],[0.8888888888888888,\"#fdca26\"],[1.0,\"#f0f921\"]]}],\"mesh3d\":[{\"type\":\"mesh3d\",\"colorbar\":{\"outlinewidth\":0,\"ticks\":\"\"}}],\"scatter\":[{\"fillpattern\":{\"fillmode\":\"overlay\",\"size\":10,\"solidity\":0.2},\"type\":\"scatter\"}],\"parcoords\":[{\"type\":\"parcoords\",\"line\":{\"colorbar\":{\"outlinewidth\":0,\"ticks\":\"\"}}}],\"scatterpolargl\":[{\"type\":\"scatterpolargl\",\"marker\":{\"colorbar\":{\"outlinewidth\":0,\"ticks\":\"\"}}}],\"bar\":[{\"error_x\":{\"color\":\"#2a3f5f\"},\"error_y\":{\"color\":\"#2a3f5f\"},\"marker\":{\"line\":{\"color\":\"#E5ECF6\",\"width\":0.5},\"pattern\":{\"fillmode\":\"overlay\",\"size\":10,\"solidity\":0.2}},\"type\":\"bar\"}],\"scattergeo\":[{\"type\":\"scattergeo\",\"marker\":{\"colorbar\":{\"outlinewidth\":0,\"ticks\":\"\"}}}],\"scatterpolar\":[{\"type\":\"scatterpolar\",\"marker\":{\"colorbar\":{\"outlinewidth\":0,\"ticks\":\"\"}}}],\"histogram\":[{\"marker\":{\"pattern\":{\"fillmode\":\"overlay\",\"size\":10,\"solidity\":0.2}},\"type\":\"histogram\"}],\"scattergl\":[{\"type\":\"scattergl\",\"marker\":{\"colorbar\":{\"outlinewidth\":0,\"ticks\":\"\"}}}],\"scatter3d\":[{\"type\":\"scatter3d\",\"line\":{\"colorbar\":{\"outlinewidth\":0,\"ticks\":\"\"}},\"marker\":{\"colorbar\":{\"outlinewidth\":0,\"ticks\":\"\"}}}],\"scattermapbox\":[{\"type\":\"scattermapbox\",\"marker\":{\"colorbar\":{\"outlinewidth\":0,\"ticks\":\"\"}}}],\"scatterternary\":[{\"type\":\"scatterternary\",\"marker\":{\"colorbar\":{\"outlinewidth\":0,\"ticks\":\"\"}}}],\"scattercarpet\":[{\"type\":\"scattercarpet\",\"marker\":{\"colorbar\":{\"outlinewidth\":0,\"ticks\":\"\"}}}],\"carpet\":[{\"aaxis\":{\"endlinecolor\":\"#2a3f5f\",\"gridcolor\":\"white\",\"linecolor\":\"white\",\"minorgridcolor\":\"white\",\"startlinecolor\":\"#2a3f5f\"},\"baxis\":{\"endlinecolor\":\"#2a3f5f\",\"gridcolor\":\"white\",\"linecolor\":\"white\",\"minorgridcolor\":\"white\",\"startlinecolor\":\"#2a3f5f\"},\"type\":\"carpet\"}],\"table\":[{\"cells\":{\"fill\":{\"color\":\"#EBF0F8\"},\"line\":{\"color\":\"white\"}},\"header\":{\"fill\":{\"color\":\"#C8D4E3\"},\"line\":{\"color\":\"white\"}},\"type\":\"table\"}],\"barpolar\":[{\"marker\":{\"line\":{\"color\":\"#E5ECF6\",\"width\":0.5},\"pattern\":{\"fillmode\":\"overlay\",\"size\":10,\"solidity\":0.2}},\"type\":\"barpolar\"}],\"pie\":[{\"automargin\":true,\"type\":\"pie\"}]},\"layout\":{\"autotypenumbers\":\"strict\",\"colorway\":[\"#636efa\",\"#EF553B\",\"#00cc96\",\"#ab63fa\",\"#FFA15A\",\"#19d3f3\",\"#FF6692\",\"#B6E880\",\"#FF97FF\",\"#FECB52\"],\"font\":{\"color\":\"#2a3f5f\"},\"hovermode\":\"closest\",\"hoverlabel\":{\"align\":\"left\"},\"paper_bgcolor\":\"white\",\"plot_bgcolor\":\"#E5ECF6\",\"polar\":{\"bgcolor\":\"#E5ECF6\",\"angularaxis\":{\"gridcolor\":\"white\",\"linecolor\":\"white\",\"ticks\":\"\"},\"radialaxis\":{\"gridcolor\":\"white\",\"linecolor\":\"white\",\"ticks\":\"\"}},\"ternary\":{\"bgcolor\":\"#E5ECF6\",\"aaxis\":{\"gridcolor\":\"white\",\"linecolor\":\"white\",\"ticks\":\"\"},\"baxis\":{\"gridcolor\":\"white\",\"linecolor\":\"white\",\"ticks\":\"\"},\"caxis\":{\"gridcolor\":\"white\",\"linecolor\":\"white\",\"ticks\":\"\"}},\"coloraxis\":{\"colorbar\":{\"outlinewidth\":0,\"ticks\":\"\"}},\"colorscale\":{\"sequential\":[[0.0,\"#0d0887\"],[0.1111111111111111,\"#46039f\"],[0.2222222222222222,\"#7201a8\"],[0.3333333333333333,\"#9c179e\"],[0.4444444444444444,\"#bd3786\"],[0.5555555555555556,\"#d8576b\"],[0.6666666666666666,\"#ed7953\"],[0.7777777777777778,\"#fb9f3a\"],[0.8888888888888888,\"#fdca26\"],[1.0,\"#f0f921\"]],\"sequentialminus\":[[0.0,\"#0d0887\"],[0.1111111111111111,\"#46039f\"],[0.2222222222222222,\"#7201a8\"],[0.3333333333333333,\"#9c179e\"],[0.4444444444444444,\"#bd3786\"],[0.5555555555555556,\"#d8576b\"],[0.6666666666666666,\"#ed7953\"],[0.7777777777777778,\"#fb9f3a\"],[0.8888888888888888,\"#fdca26\"],[1.0,\"#f0f921\"]],\"diverging\":[[0,\"#8e0152\"],[0.1,\"#c51b7d\"],[0.2,\"#de77ae\"],[0.3,\"#f1b6da\"],[0.4,\"#fde0ef\"],[0.5,\"#f7f7f7\"],[0.6,\"#e6f5d0\"],[0.7,\"#b8e186\"],[0.8,\"#7fbc41\"],[0.9,\"#4d9221\"],[1,\"#276419\"]]},\"xaxis\":{\"gridcolor\":\"white\",\"linecolor\":\"white\",\"ticks\":\"\",\"title\":{\"standoff\":15},\"zerolinecolor\":\"white\",\"automargin\":true,\"zerolinewidth\":2},\"yaxis\":{\"gridcolor\":\"white\",\"linecolor\":\"white\",\"ticks\":\"\",\"title\":{\"standoff\":15},\"zerolinecolor\":\"white\",\"automargin\":true,\"zerolinewidth\":2},\"scene\":{\"xaxis\":{\"backgroundcolor\":\"#E5ECF6\",\"gridcolor\":\"white\",\"linecolor\":\"white\",\"showbackground\":true,\"ticks\":\"\",\"zerolinecolor\":\"white\",\"gridwidth\":2},\"yaxis\":{\"backgroundcolor\":\"#E5ECF6\",\"gridcolor\":\"white\",\"linecolor\":\"white\",\"showbackground\":true,\"ticks\":\"\",\"zerolinecolor\":\"white\",\"gridwidth\":2},\"zaxis\":{\"backgroundcolor\":\"#E5ECF6\",\"gridcolor\":\"white\",\"linecolor\":\"white\",\"showbackground\":true,\"ticks\":\"\",\"zerolinecolor\":\"white\",\"gridwidth\":2}},\"shapedefaults\":{\"line\":{\"color\":\"#2a3f5f\"}},\"annotationdefaults\":{\"arrowcolor\":\"#2a3f5f\",\"arrowhead\":0,\"arrowwidth\":1},\"geo\":{\"bgcolor\":\"white\",\"landcolor\":\"#E5ECF6\",\"subunitcolor\":\"white\",\"showland\":true,\"showlakes\":true,\"lakecolor\":\"white\"},\"title\":{\"x\":0.05},\"mapbox\":{\"style\":\"light\"}}}},                        {\"responsive\": true}                    ).then(function(){\n",
       "                            \n",
       "var gd = document.getElementById('61410f1d-bb41-4617-95da-a52edd88448e');\n",
       "var x = new MutationObserver(function (mutations, observer) {{\n",
       "        var display = window.getComputedStyle(gd).display;\n",
       "        if (!display || display === 'none') {{\n",
       "            console.log([gd, 'removed!']);\n",
       "            Plotly.purge(gd);\n",
       "            observer.disconnect();\n",
       "        }}\n",
       "}});\n",
       "\n",
       "// Listen for the removal of the full notebook cells\n",
       "var notebookContainer = gd.closest('#notebook-container');\n",
       "if (notebookContainer) {{\n",
       "    x.observe(notebookContainer, {childList: true});\n",
       "}}\n",
       "\n",
       "// Listen for the clearing of the current output cell\n",
       "var outputEl = gd.closest('.output');\n",
       "if (outputEl) {{\n",
       "    x.observe(outputEl, {childList: true});\n",
       "}}\n",
       "\n",
       "                        })                };                });            </script>        </div>"
      ]
     },
     "metadata": {},
     "output_type": "display_data"
    },
    {
     "data": {
      "application/vnd.plotly.v1+json": {
       "config": {
        "plotlyServerURL": "https://plot.ly"
       },
       "data": [
        {
         "cliponaxis": false,
         "hovertemplate": [
          "a (FloatDistribution): 0.0<extra></extra>",
          "b (FloatDistribution): 0.0<extra></extra>",
          "minsd (IntDistribution): 0.0<extra></extra>",
          "maxsd (IntDistribution): 0.08734955225763148<extra></extra>",
          "minidn (IntDistribution): 0.15427752647837337<extra></extra>",
          "maxidn (IntDistribution): 0.7583729212639951<extra></extra>"
         ],
         "name": "Jaccard Similarity",
         "orientation": "h",
         "text": [
          "<0.01",
          "<0.01",
          "<0.01",
          "0.09",
          "0.15",
          "0.76"
         ],
         "textposition": "outside",
         "type": "bar",
         "x": [
          0,
          0,
          0,
          0.08734955225763148,
          0.15427752647837337,
          0.7583729212639951
         ],
         "y": [
          "a",
          "b",
          "minsd",
          "maxsd",
          "minidn",
          "maxidn"
         ]
        }
       ],
       "layout": {
        "template": {
         "data": {
          "bar": [
           {
            "error_x": {
             "color": "#2a3f5f"
            },
            "error_y": {
             "color": "#2a3f5f"
            },
            "marker": {
             "line": {
              "color": "#E5ECF6",
              "width": 0.5
             },
             "pattern": {
              "fillmode": "overlay",
              "size": 10,
              "solidity": 0.2
             }
            },
            "type": "bar"
           }
          ],
          "barpolar": [
           {
            "marker": {
             "line": {
              "color": "#E5ECF6",
              "width": 0.5
             },
             "pattern": {
              "fillmode": "overlay",
              "size": 10,
              "solidity": 0.2
             }
            },
            "type": "barpolar"
           }
          ],
          "carpet": [
           {
            "aaxis": {
             "endlinecolor": "#2a3f5f",
             "gridcolor": "white",
             "linecolor": "white",
             "minorgridcolor": "white",
             "startlinecolor": "#2a3f5f"
            },
            "baxis": {
             "endlinecolor": "#2a3f5f",
             "gridcolor": "white",
             "linecolor": "white",
             "minorgridcolor": "white",
             "startlinecolor": "#2a3f5f"
            },
            "type": "carpet"
           }
          ],
          "choropleth": [
           {
            "colorbar": {
             "outlinewidth": 0,
             "ticks": ""
            },
            "type": "choropleth"
           }
          ],
          "contour": [
           {
            "colorbar": {
             "outlinewidth": 0,
             "ticks": ""
            },
            "colorscale": [
             [
              0,
              "#0d0887"
             ],
             [
              0.1111111111111111,
              "#46039f"
             ],
             [
              0.2222222222222222,
              "#7201a8"
             ],
             [
              0.3333333333333333,
              "#9c179e"
             ],
             [
              0.4444444444444444,
              "#bd3786"
             ],
             [
              0.5555555555555556,
              "#d8576b"
             ],
             [
              0.6666666666666666,
              "#ed7953"
             ],
             [
              0.7777777777777778,
              "#fb9f3a"
             ],
             [
              0.8888888888888888,
              "#fdca26"
             ],
             [
              1,
              "#f0f921"
             ]
            ],
            "type": "contour"
           }
          ],
          "contourcarpet": [
           {
            "colorbar": {
             "outlinewidth": 0,
             "ticks": ""
            },
            "type": "contourcarpet"
           }
          ],
          "heatmap": [
           {
            "colorbar": {
             "outlinewidth": 0,
             "ticks": ""
            },
            "colorscale": [
             [
              0,
              "#0d0887"
             ],
             [
              0.1111111111111111,
              "#46039f"
             ],
             [
              0.2222222222222222,
              "#7201a8"
             ],
             [
              0.3333333333333333,
              "#9c179e"
             ],
             [
              0.4444444444444444,
              "#bd3786"
             ],
             [
              0.5555555555555556,
              "#d8576b"
             ],
             [
              0.6666666666666666,
              "#ed7953"
             ],
             [
              0.7777777777777778,
              "#fb9f3a"
             ],
             [
              0.8888888888888888,
              "#fdca26"
             ],
             [
              1,
              "#f0f921"
             ]
            ],
            "type": "heatmap"
           }
          ],
          "heatmapgl": [
           {
            "colorbar": {
             "outlinewidth": 0,
             "ticks": ""
            },
            "colorscale": [
             [
              0,
              "#0d0887"
             ],
             [
              0.1111111111111111,
              "#46039f"
             ],
             [
              0.2222222222222222,
              "#7201a8"
             ],
             [
              0.3333333333333333,
              "#9c179e"
             ],
             [
              0.4444444444444444,
              "#bd3786"
             ],
             [
              0.5555555555555556,
              "#d8576b"
             ],
             [
              0.6666666666666666,
              "#ed7953"
             ],
             [
              0.7777777777777778,
              "#fb9f3a"
             ],
             [
              0.8888888888888888,
              "#fdca26"
             ],
             [
              1,
              "#f0f921"
             ]
            ],
            "type": "heatmapgl"
           }
          ],
          "histogram": [
           {
            "marker": {
             "pattern": {
              "fillmode": "overlay",
              "size": 10,
              "solidity": 0.2
             }
            },
            "type": "histogram"
           }
          ],
          "histogram2d": [
           {
            "colorbar": {
             "outlinewidth": 0,
             "ticks": ""
            },
            "colorscale": [
             [
              0,
              "#0d0887"
             ],
             [
              0.1111111111111111,
              "#46039f"
             ],
             [
              0.2222222222222222,
              "#7201a8"
             ],
             [
              0.3333333333333333,
              "#9c179e"
             ],
             [
              0.4444444444444444,
              "#bd3786"
             ],
             [
              0.5555555555555556,
              "#d8576b"
             ],
             [
              0.6666666666666666,
              "#ed7953"
             ],
             [
              0.7777777777777778,
              "#fb9f3a"
             ],
             [
              0.8888888888888888,
              "#fdca26"
             ],
             [
              1,
              "#f0f921"
             ]
            ],
            "type": "histogram2d"
           }
          ],
          "histogram2dcontour": [
           {
            "colorbar": {
             "outlinewidth": 0,
             "ticks": ""
            },
            "colorscale": [
             [
              0,
              "#0d0887"
             ],
             [
              0.1111111111111111,
              "#46039f"
             ],
             [
              0.2222222222222222,
              "#7201a8"
             ],
             [
              0.3333333333333333,
              "#9c179e"
             ],
             [
              0.4444444444444444,
              "#bd3786"
             ],
             [
              0.5555555555555556,
              "#d8576b"
             ],
             [
              0.6666666666666666,
              "#ed7953"
             ],
             [
              0.7777777777777778,
              "#fb9f3a"
             ],
             [
              0.8888888888888888,
              "#fdca26"
             ],
             [
              1,
              "#f0f921"
             ]
            ],
            "type": "histogram2dcontour"
           }
          ],
          "mesh3d": [
           {
            "colorbar": {
             "outlinewidth": 0,
             "ticks": ""
            },
            "type": "mesh3d"
           }
          ],
          "parcoords": [
           {
            "line": {
             "colorbar": {
              "outlinewidth": 0,
              "ticks": ""
             }
            },
            "type": "parcoords"
           }
          ],
          "pie": [
           {
            "automargin": true,
            "type": "pie"
           }
          ],
          "scatter": [
           {
            "fillpattern": {
             "fillmode": "overlay",
             "size": 10,
             "solidity": 0.2
            },
            "type": "scatter"
           }
          ],
          "scatter3d": [
           {
            "line": {
             "colorbar": {
              "outlinewidth": 0,
              "ticks": ""
             }
            },
            "marker": {
             "colorbar": {
              "outlinewidth": 0,
              "ticks": ""
             }
            },
            "type": "scatter3d"
           }
          ],
          "scattercarpet": [
           {
            "marker": {
             "colorbar": {
              "outlinewidth": 0,
              "ticks": ""
             }
            },
            "type": "scattercarpet"
           }
          ],
          "scattergeo": [
           {
            "marker": {
             "colorbar": {
              "outlinewidth": 0,
              "ticks": ""
             }
            },
            "type": "scattergeo"
           }
          ],
          "scattergl": [
           {
            "marker": {
             "colorbar": {
              "outlinewidth": 0,
              "ticks": ""
             }
            },
            "type": "scattergl"
           }
          ],
          "scattermapbox": [
           {
            "marker": {
             "colorbar": {
              "outlinewidth": 0,
              "ticks": ""
             }
            },
            "type": "scattermapbox"
           }
          ],
          "scatterpolar": [
           {
            "marker": {
             "colorbar": {
              "outlinewidth": 0,
              "ticks": ""
             }
            },
            "type": "scatterpolar"
           }
          ],
          "scatterpolargl": [
           {
            "marker": {
             "colorbar": {
              "outlinewidth": 0,
              "ticks": ""
             }
            },
            "type": "scatterpolargl"
           }
          ],
          "scatterternary": [
           {
            "marker": {
             "colorbar": {
              "outlinewidth": 0,
              "ticks": ""
             }
            },
            "type": "scatterternary"
           }
          ],
          "surface": [
           {
            "colorbar": {
             "outlinewidth": 0,
             "ticks": ""
            },
            "colorscale": [
             [
              0,
              "#0d0887"
             ],
             [
              0.1111111111111111,
              "#46039f"
             ],
             [
              0.2222222222222222,
              "#7201a8"
             ],
             [
              0.3333333333333333,
              "#9c179e"
             ],
             [
              0.4444444444444444,
              "#bd3786"
             ],
             [
              0.5555555555555556,
              "#d8576b"
             ],
             [
              0.6666666666666666,
              "#ed7953"
             ],
             [
              0.7777777777777778,
              "#fb9f3a"
             ],
             [
              0.8888888888888888,
              "#fdca26"
             ],
             [
              1,
              "#f0f921"
             ]
            ],
            "type": "surface"
           }
          ],
          "table": [
           {
            "cells": {
             "fill": {
              "color": "#EBF0F8"
             },
             "line": {
              "color": "white"
             }
            },
            "header": {
             "fill": {
              "color": "#C8D4E3"
             },
             "line": {
              "color": "white"
             }
            },
            "type": "table"
           }
          ]
         },
         "layout": {
          "annotationdefaults": {
           "arrowcolor": "#2a3f5f",
           "arrowhead": 0,
           "arrowwidth": 1
          },
          "autotypenumbers": "strict",
          "coloraxis": {
           "colorbar": {
            "outlinewidth": 0,
            "ticks": ""
           }
          },
          "colorscale": {
           "diverging": [
            [
             0,
             "#8e0152"
            ],
            [
             0.1,
             "#c51b7d"
            ],
            [
             0.2,
             "#de77ae"
            ],
            [
             0.3,
             "#f1b6da"
            ],
            [
             0.4,
             "#fde0ef"
            ],
            [
             0.5,
             "#f7f7f7"
            ],
            [
             0.6,
             "#e6f5d0"
            ],
            [
             0.7,
             "#b8e186"
            ],
            [
             0.8,
             "#7fbc41"
            ],
            [
             0.9,
             "#4d9221"
            ],
            [
             1,
             "#276419"
            ]
           ],
           "sequential": [
            [
             0,
             "#0d0887"
            ],
            [
             0.1111111111111111,
             "#46039f"
            ],
            [
             0.2222222222222222,
             "#7201a8"
            ],
            [
             0.3333333333333333,
             "#9c179e"
            ],
            [
             0.4444444444444444,
             "#bd3786"
            ],
            [
             0.5555555555555556,
             "#d8576b"
            ],
            [
             0.6666666666666666,
             "#ed7953"
            ],
            [
             0.7777777777777778,
             "#fb9f3a"
            ],
            [
             0.8888888888888888,
             "#fdca26"
            ],
            [
             1,
             "#f0f921"
            ]
           ],
           "sequentialminus": [
            [
             0,
             "#0d0887"
            ],
            [
             0.1111111111111111,
             "#46039f"
            ],
            [
             0.2222222222222222,
             "#7201a8"
            ],
            [
             0.3333333333333333,
             "#9c179e"
            ],
            [
             0.4444444444444444,
             "#bd3786"
            ],
            [
             0.5555555555555556,
             "#d8576b"
            ],
            [
             0.6666666666666666,
             "#ed7953"
            ],
            [
             0.7777777777777778,
             "#fb9f3a"
            ],
            [
             0.8888888888888888,
             "#fdca26"
            ],
            [
             1,
             "#f0f921"
            ]
           ]
          },
          "colorway": [
           "#636efa",
           "#EF553B",
           "#00cc96",
           "#ab63fa",
           "#FFA15A",
           "#19d3f3",
           "#FF6692",
           "#B6E880",
           "#FF97FF",
           "#FECB52"
          ],
          "font": {
           "color": "#2a3f5f"
          },
          "geo": {
           "bgcolor": "white",
           "lakecolor": "white",
           "landcolor": "#E5ECF6",
           "showlakes": true,
           "showland": true,
           "subunitcolor": "white"
          },
          "hoverlabel": {
           "align": "left"
          },
          "hovermode": "closest",
          "mapbox": {
           "style": "light"
          },
          "paper_bgcolor": "white",
          "plot_bgcolor": "#E5ECF6",
          "polar": {
           "angularaxis": {
            "gridcolor": "white",
            "linecolor": "white",
            "ticks": ""
           },
           "bgcolor": "#E5ECF6",
           "radialaxis": {
            "gridcolor": "white",
            "linecolor": "white",
            "ticks": ""
           }
          },
          "scene": {
           "xaxis": {
            "backgroundcolor": "#E5ECF6",
            "gridcolor": "white",
            "gridwidth": 2,
            "linecolor": "white",
            "showbackground": true,
            "ticks": "",
            "zerolinecolor": "white"
           },
           "yaxis": {
            "backgroundcolor": "#E5ECF6",
            "gridcolor": "white",
            "gridwidth": 2,
            "linecolor": "white",
            "showbackground": true,
            "ticks": "",
            "zerolinecolor": "white"
           },
           "zaxis": {
            "backgroundcolor": "#E5ECF6",
            "gridcolor": "white",
            "gridwidth": 2,
            "linecolor": "white",
            "showbackground": true,
            "ticks": "",
            "zerolinecolor": "white"
           }
          },
          "shapedefaults": {
           "line": {
            "color": "#2a3f5f"
           }
          },
          "ternary": {
           "aaxis": {
            "gridcolor": "white",
            "linecolor": "white",
            "ticks": ""
           },
           "baxis": {
            "gridcolor": "white",
            "linecolor": "white",
            "ticks": ""
           },
           "bgcolor": "#E5ECF6",
           "caxis": {
            "gridcolor": "white",
            "linecolor": "white",
            "ticks": ""
           }
          },
          "title": {
           "x": 0.05
          },
          "xaxis": {
           "automargin": true,
           "gridcolor": "white",
           "linecolor": "white",
           "ticks": "",
           "title": {
            "standoff": 15
           },
           "zerolinecolor": "white",
           "zerolinewidth": 2
          },
          "yaxis": {
           "automargin": true,
           "gridcolor": "white",
           "linecolor": "white",
           "ticks": "",
           "title": {
            "standoff": 15
           },
           "zerolinecolor": "white",
           "zerolinewidth": 2
          }
         }
        },
        "title": {
         "text": "Hyperparameter Importances"
        },
        "xaxis": {
         "title": {
          "text": "Hyperparameter Importance"
         }
        },
        "yaxis": {
         "title": {
          "text": "Hyperparameter"
         }
        }
       }
      },
      "text/html": [
       "<div>                            <div id=\"5b77e404-ece2-45f7-84ac-3231760a6f30\" class=\"plotly-graph-div\" style=\"height:525px; width:100%;\"></div>            <script type=\"text/javascript\">                require([\"plotly\"], function(Plotly) {                    window.PLOTLYENV=window.PLOTLYENV || {};                                    if (document.getElementById(\"5b77e404-ece2-45f7-84ac-3231760a6f30\")) {                    Plotly.newPlot(                        \"5b77e404-ece2-45f7-84ac-3231760a6f30\",                        [{\"cliponaxis\":false,\"hovertemplate\":[\"a (FloatDistribution): 0.0\\u003cextra\\u003e\\u003c\\u002fextra\\u003e\",\"b (FloatDistribution): 0.0\\u003cextra\\u003e\\u003c\\u002fextra\\u003e\",\"minsd (IntDistribution): 0.0\\u003cextra\\u003e\\u003c\\u002fextra\\u003e\",\"maxsd (IntDistribution): 0.08734955225763148\\u003cextra\\u003e\\u003c\\u002fextra\\u003e\",\"minidn (IntDistribution): 0.15427752647837337\\u003cextra\\u003e\\u003c\\u002fextra\\u003e\",\"maxidn (IntDistribution): 0.7583729212639951\\u003cextra\\u003e\\u003c\\u002fextra\\u003e\"],\"name\":\"Jaccard Similarity\",\"orientation\":\"h\",\"text\":[\"\\u003c0.01\",\"\\u003c0.01\",\"\\u003c0.01\",\"0.09\",\"0.15\",\"0.76\"],\"textposition\":\"outside\",\"x\":[0.0,0.0,0.0,0.08734955225763148,0.15427752647837337,0.7583729212639951],\"y\":[\"a\",\"b\",\"minsd\",\"maxsd\",\"minidn\",\"maxidn\"],\"type\":\"bar\"}],                        {\"title\":{\"text\":\"Hyperparameter Importances\"},\"xaxis\":{\"title\":{\"text\":\"Hyperparameter Importance\"}},\"yaxis\":{\"title\":{\"text\":\"Hyperparameter\"}},\"template\":{\"data\":{\"histogram2dcontour\":[{\"type\":\"histogram2dcontour\",\"colorbar\":{\"outlinewidth\":0,\"ticks\":\"\"},\"colorscale\":[[0.0,\"#0d0887\"],[0.1111111111111111,\"#46039f\"],[0.2222222222222222,\"#7201a8\"],[0.3333333333333333,\"#9c179e\"],[0.4444444444444444,\"#bd3786\"],[0.5555555555555556,\"#d8576b\"],[0.6666666666666666,\"#ed7953\"],[0.7777777777777778,\"#fb9f3a\"],[0.8888888888888888,\"#fdca26\"],[1.0,\"#f0f921\"]]}],\"choropleth\":[{\"type\":\"choropleth\",\"colorbar\":{\"outlinewidth\":0,\"ticks\":\"\"}}],\"histogram2d\":[{\"type\":\"histogram2d\",\"colorbar\":{\"outlinewidth\":0,\"ticks\":\"\"},\"colorscale\":[[0.0,\"#0d0887\"],[0.1111111111111111,\"#46039f\"],[0.2222222222222222,\"#7201a8\"],[0.3333333333333333,\"#9c179e\"],[0.4444444444444444,\"#bd3786\"],[0.5555555555555556,\"#d8576b\"],[0.6666666666666666,\"#ed7953\"],[0.7777777777777778,\"#fb9f3a\"],[0.8888888888888888,\"#fdca26\"],[1.0,\"#f0f921\"]]}],\"heatmap\":[{\"type\":\"heatmap\",\"colorbar\":{\"outlinewidth\":0,\"ticks\":\"\"},\"colorscale\":[[0.0,\"#0d0887\"],[0.1111111111111111,\"#46039f\"],[0.2222222222222222,\"#7201a8\"],[0.3333333333333333,\"#9c179e\"],[0.4444444444444444,\"#bd3786\"],[0.5555555555555556,\"#d8576b\"],[0.6666666666666666,\"#ed7953\"],[0.7777777777777778,\"#fb9f3a\"],[0.8888888888888888,\"#fdca26\"],[1.0,\"#f0f921\"]]}],\"heatmapgl\":[{\"type\":\"heatmapgl\",\"colorbar\":{\"outlinewidth\":0,\"ticks\":\"\"},\"colorscale\":[[0.0,\"#0d0887\"],[0.1111111111111111,\"#46039f\"],[0.2222222222222222,\"#7201a8\"],[0.3333333333333333,\"#9c179e\"],[0.4444444444444444,\"#bd3786\"],[0.5555555555555556,\"#d8576b\"],[0.6666666666666666,\"#ed7953\"],[0.7777777777777778,\"#fb9f3a\"],[0.8888888888888888,\"#fdca26\"],[1.0,\"#f0f921\"]]}],\"contourcarpet\":[{\"type\":\"contourcarpet\",\"colorbar\":{\"outlinewidth\":0,\"ticks\":\"\"}}],\"contour\":[{\"type\":\"contour\",\"colorbar\":{\"outlinewidth\":0,\"ticks\":\"\"},\"colorscale\":[[0.0,\"#0d0887\"],[0.1111111111111111,\"#46039f\"],[0.2222222222222222,\"#7201a8\"],[0.3333333333333333,\"#9c179e\"],[0.4444444444444444,\"#bd3786\"],[0.5555555555555556,\"#d8576b\"],[0.6666666666666666,\"#ed7953\"],[0.7777777777777778,\"#fb9f3a\"],[0.8888888888888888,\"#fdca26\"],[1.0,\"#f0f921\"]]}],\"surface\":[{\"type\":\"surface\",\"colorbar\":{\"outlinewidth\":0,\"ticks\":\"\"},\"colorscale\":[[0.0,\"#0d0887\"],[0.1111111111111111,\"#46039f\"],[0.2222222222222222,\"#7201a8\"],[0.3333333333333333,\"#9c179e\"],[0.4444444444444444,\"#bd3786\"],[0.5555555555555556,\"#d8576b\"],[0.6666666666666666,\"#ed7953\"],[0.7777777777777778,\"#fb9f3a\"],[0.8888888888888888,\"#fdca26\"],[1.0,\"#f0f921\"]]}],\"mesh3d\":[{\"type\":\"mesh3d\",\"colorbar\":{\"outlinewidth\":0,\"ticks\":\"\"}}],\"scatter\":[{\"fillpattern\":{\"fillmode\":\"overlay\",\"size\":10,\"solidity\":0.2},\"type\":\"scatter\"}],\"parcoords\":[{\"type\":\"parcoords\",\"line\":{\"colorbar\":{\"outlinewidth\":0,\"ticks\":\"\"}}}],\"scatterpolargl\":[{\"type\":\"scatterpolargl\",\"marker\":{\"colorbar\":{\"outlinewidth\":0,\"ticks\":\"\"}}}],\"bar\":[{\"error_x\":{\"color\":\"#2a3f5f\"},\"error_y\":{\"color\":\"#2a3f5f\"},\"marker\":{\"line\":{\"color\":\"#E5ECF6\",\"width\":0.5},\"pattern\":{\"fillmode\":\"overlay\",\"size\":10,\"solidity\":0.2}},\"type\":\"bar\"}],\"scattergeo\":[{\"type\":\"scattergeo\",\"marker\":{\"colorbar\":{\"outlinewidth\":0,\"ticks\":\"\"}}}],\"scatterpolar\":[{\"type\":\"scatterpolar\",\"marker\":{\"colorbar\":{\"outlinewidth\":0,\"ticks\":\"\"}}}],\"histogram\":[{\"marker\":{\"pattern\":{\"fillmode\":\"overlay\",\"size\":10,\"solidity\":0.2}},\"type\":\"histogram\"}],\"scattergl\":[{\"type\":\"scattergl\",\"marker\":{\"colorbar\":{\"outlinewidth\":0,\"ticks\":\"\"}}}],\"scatter3d\":[{\"type\":\"scatter3d\",\"line\":{\"colorbar\":{\"outlinewidth\":0,\"ticks\":\"\"}},\"marker\":{\"colorbar\":{\"outlinewidth\":0,\"ticks\":\"\"}}}],\"scattermapbox\":[{\"type\":\"scattermapbox\",\"marker\":{\"colorbar\":{\"outlinewidth\":0,\"ticks\":\"\"}}}],\"scatterternary\":[{\"type\":\"scatterternary\",\"marker\":{\"colorbar\":{\"outlinewidth\":0,\"ticks\":\"\"}}}],\"scattercarpet\":[{\"type\":\"scattercarpet\",\"marker\":{\"colorbar\":{\"outlinewidth\":0,\"ticks\":\"\"}}}],\"carpet\":[{\"aaxis\":{\"endlinecolor\":\"#2a3f5f\",\"gridcolor\":\"white\",\"linecolor\":\"white\",\"minorgridcolor\":\"white\",\"startlinecolor\":\"#2a3f5f\"},\"baxis\":{\"endlinecolor\":\"#2a3f5f\",\"gridcolor\":\"white\",\"linecolor\":\"white\",\"minorgridcolor\":\"white\",\"startlinecolor\":\"#2a3f5f\"},\"type\":\"carpet\"}],\"table\":[{\"cells\":{\"fill\":{\"color\":\"#EBF0F8\"},\"line\":{\"color\":\"white\"}},\"header\":{\"fill\":{\"color\":\"#C8D4E3\"},\"line\":{\"color\":\"white\"}},\"type\":\"table\"}],\"barpolar\":[{\"marker\":{\"line\":{\"color\":\"#E5ECF6\",\"width\":0.5},\"pattern\":{\"fillmode\":\"overlay\",\"size\":10,\"solidity\":0.2}},\"type\":\"barpolar\"}],\"pie\":[{\"automargin\":true,\"type\":\"pie\"}]},\"layout\":{\"autotypenumbers\":\"strict\",\"colorway\":[\"#636efa\",\"#EF553B\",\"#00cc96\",\"#ab63fa\",\"#FFA15A\",\"#19d3f3\",\"#FF6692\",\"#B6E880\",\"#FF97FF\",\"#FECB52\"],\"font\":{\"color\":\"#2a3f5f\"},\"hovermode\":\"closest\",\"hoverlabel\":{\"align\":\"left\"},\"paper_bgcolor\":\"white\",\"plot_bgcolor\":\"#E5ECF6\",\"polar\":{\"bgcolor\":\"#E5ECF6\",\"angularaxis\":{\"gridcolor\":\"white\",\"linecolor\":\"white\",\"ticks\":\"\"},\"radialaxis\":{\"gridcolor\":\"white\",\"linecolor\":\"white\",\"ticks\":\"\"}},\"ternary\":{\"bgcolor\":\"#E5ECF6\",\"aaxis\":{\"gridcolor\":\"white\",\"linecolor\":\"white\",\"ticks\":\"\"},\"baxis\":{\"gridcolor\":\"white\",\"linecolor\":\"white\",\"ticks\":\"\"},\"caxis\":{\"gridcolor\":\"white\",\"linecolor\":\"white\",\"ticks\":\"\"}},\"coloraxis\":{\"colorbar\":{\"outlinewidth\":0,\"ticks\":\"\"}},\"colorscale\":{\"sequential\":[[0.0,\"#0d0887\"],[0.1111111111111111,\"#46039f\"],[0.2222222222222222,\"#7201a8\"],[0.3333333333333333,\"#9c179e\"],[0.4444444444444444,\"#bd3786\"],[0.5555555555555556,\"#d8576b\"],[0.6666666666666666,\"#ed7953\"],[0.7777777777777778,\"#fb9f3a\"],[0.8888888888888888,\"#fdca26\"],[1.0,\"#f0f921\"]],\"sequentialminus\":[[0.0,\"#0d0887\"],[0.1111111111111111,\"#46039f\"],[0.2222222222222222,\"#7201a8\"],[0.3333333333333333,\"#9c179e\"],[0.4444444444444444,\"#bd3786\"],[0.5555555555555556,\"#d8576b\"],[0.6666666666666666,\"#ed7953\"],[0.7777777777777778,\"#fb9f3a\"],[0.8888888888888888,\"#fdca26\"],[1.0,\"#f0f921\"]],\"diverging\":[[0,\"#8e0152\"],[0.1,\"#c51b7d\"],[0.2,\"#de77ae\"],[0.3,\"#f1b6da\"],[0.4,\"#fde0ef\"],[0.5,\"#f7f7f7\"],[0.6,\"#e6f5d0\"],[0.7,\"#b8e186\"],[0.8,\"#7fbc41\"],[0.9,\"#4d9221\"],[1,\"#276419\"]]},\"xaxis\":{\"gridcolor\":\"white\",\"linecolor\":\"white\",\"ticks\":\"\",\"title\":{\"standoff\":15},\"zerolinecolor\":\"white\",\"automargin\":true,\"zerolinewidth\":2},\"yaxis\":{\"gridcolor\":\"white\",\"linecolor\":\"white\",\"ticks\":\"\",\"title\":{\"standoff\":15},\"zerolinecolor\":\"white\",\"automargin\":true,\"zerolinewidth\":2},\"scene\":{\"xaxis\":{\"backgroundcolor\":\"#E5ECF6\",\"gridcolor\":\"white\",\"linecolor\":\"white\",\"showbackground\":true,\"ticks\":\"\",\"zerolinecolor\":\"white\",\"gridwidth\":2},\"yaxis\":{\"backgroundcolor\":\"#E5ECF6\",\"gridcolor\":\"white\",\"linecolor\":\"white\",\"showbackground\":true,\"ticks\":\"\",\"zerolinecolor\":\"white\",\"gridwidth\":2},\"zaxis\":{\"backgroundcolor\":\"#E5ECF6\",\"gridcolor\":\"white\",\"linecolor\":\"white\",\"showbackground\":true,\"ticks\":\"\",\"zerolinecolor\":\"white\",\"gridwidth\":2}},\"shapedefaults\":{\"line\":{\"color\":\"#2a3f5f\"}},\"annotationdefaults\":{\"arrowcolor\":\"#2a3f5f\",\"arrowhead\":0,\"arrowwidth\":1},\"geo\":{\"bgcolor\":\"white\",\"landcolor\":\"#E5ECF6\",\"subunitcolor\":\"white\",\"showland\":true,\"showlakes\":true,\"lakecolor\":\"white\"},\"title\":{\"x\":0.05},\"mapbox\":{\"style\":\"light\"}}}},                        {\"responsive\": true}                    ).then(function(){\n",
       "                            \n",
       "var gd = document.getElementById('5b77e404-ece2-45f7-84ac-3231760a6f30');\n",
       "var x = new MutationObserver(function (mutations, observer) {{\n",
       "        var display = window.getComputedStyle(gd).display;\n",
       "        if (!display || display === 'none') {{\n",
       "            console.log([gd, 'removed!']);\n",
       "            Plotly.purge(gd);\n",
       "            observer.disconnect();\n",
       "        }}\n",
       "}});\n",
       "\n",
       "// Listen for the removal of the full notebook cells\n",
       "var notebookContainer = gd.closest('#notebook-container');\n",
       "if (notebookContainer) {{\n",
       "    x.observe(notebookContainer, {childList: true});\n",
       "}}\n",
       "\n",
       "// Listen for the clearing of the current output cell\n",
       "var outputEl = gd.closest('.output');\n",
       "if (outputEl) {{\n",
       "    x.observe(outputEl, {childList: true});\n",
       "}}\n",
       "\n",
       "                        })                };                });            </script>        </div>"
      ]
     },
     "metadata": {},
     "output_type": "display_data"
    },
    {
     "data": {
      "application/vnd.plotly.v1+json": {
       "config": {
        "plotlyServerURL": "https://plot.ly"
       },
       "data": [
        {
         "marker": {
          "color": [
           0,
           1,
           2,
           3,
           4,
           5,
           6,
           7,
           8,
           9,
           10,
           11,
           12,
           13,
           14,
           15,
           16,
           17,
           18,
           19,
           20,
           21,
           22,
           23,
           24,
           25,
           26,
           27,
           28,
           29,
           30,
           31,
           32,
           33,
           34,
           35,
           36,
           37,
           38,
           39,
           40,
           41,
           42,
           43,
           44,
           45,
           46,
           47,
           48,
           49,
           50,
           51,
           52,
           53,
           54,
           55,
           56,
           57,
           58,
           59,
           60,
           61,
           62,
           63,
           64,
           65,
           66,
           67,
           68,
           69,
           70,
           71,
           72,
           73,
           74,
           75,
           76,
           77,
           78,
           79,
           80,
           81,
           82,
           83,
           84,
           85,
           86,
           87,
           88,
           89,
           90,
           91,
           92,
           93,
           94,
           95,
           96,
           97,
           98,
           99
          ],
          "colorbar": {
           "title": {
            "text": "Trial"
           },
           "x": 1,
           "xpad": 40
          },
          "colorscale": [
           [
            0,
            "rgb(247,251,255)"
           ],
           [
            0.125,
            "rgb(222,235,247)"
           ],
           [
            0.25,
            "rgb(198,219,239)"
           ],
           [
            0.375,
            "rgb(158,202,225)"
           ],
           [
            0.5,
            "rgb(107,174,214)"
           ],
           [
            0.625,
            "rgb(66,146,198)"
           ],
           [
            0.75,
            "rgb(33,113,181)"
           ],
           [
            0.875,
            "rgb(8,81,156)"
           ],
           [
            1,
            "rgb(8,48,107)"
           ]
          ],
          "line": {
           "color": "Grey",
           "width": 0.5
          },
          "showscale": true
         },
         "mode": "markers",
         "name": "Feasible Trial",
         "showlegend": false,
         "type": "scatter",
         "x": [
          0.7,
          0.7,
          0.7,
          0.7,
          0.7,
          0.7,
          0.7,
          0.7,
          0.7,
          0.7,
          0.7,
          0.7,
          0.7,
          0.7,
          0.7,
          0.7,
          0.7,
          0.7,
          0.7,
          0.7,
          0.7,
          0.7,
          0.7,
          0.7,
          0.7,
          0.7,
          0.7,
          0.7,
          0.7,
          0.7,
          0.7,
          0.7,
          0.7,
          0.7,
          0.7,
          0.7,
          0.7,
          0.7,
          0.7,
          0.7,
          0.7,
          0.7,
          0.7,
          0.7,
          0.7,
          0.7,
          0.7,
          0.7,
          0.7,
          0.7,
          0.7,
          0.7,
          0.7,
          0.7,
          0.7,
          0.7,
          0.7,
          0.7,
          0.7,
          0.7,
          0.7,
          0.7,
          0.7,
          0.7,
          0.7,
          0.7,
          0.7,
          0.7,
          0.7,
          0.7,
          0.7,
          0.7,
          0.7,
          0.7,
          0.7,
          0.7,
          0.7,
          0.7,
          0.7,
          0.7,
          0.7,
          0.7,
          0.7,
          0.7,
          0.7,
          0.7,
          0.7,
          0.7,
          0.7,
          0.7,
          0.7,
          0.7,
          0.7,
          0.7,
          0.7,
          0.7,
          0.7,
          0.7,
          0.7,
          0.7
         ],
         "xaxis": "x",
         "y": [
          0.03972417128016814,
          0.03150130927034278,
          0.03841529973658442,
          0.03290853805296512,
          0.03972417128016814,
          0.03627565732075966,
          0.03914525809569347,
          0.03811352012234037,
          0.03405705487524624,
          0.03276670739911136,
          0.03276670739911136,
          0.035021732455316035,
          0.02934388564589563,
          0.029878283608560374,
          0.034527350929518086,
          0.034527350929518086,
          0.03708001131456751,
          0.032158966152732615,
          0.03406842653051889,
          0.03406842653051889,
          0.03531786379341151,
          0.03675762654240755,
          0.029942474990344303,
          0.03675762654240755,
          0.03675762654240755,
          0.03675762654240755,
          0.03972417128016814,
          0.03972417128016814,
          0.03313503724431055,
          0.03313503724431055,
          0.03313503724431055,
          0.039596318080430626,
          0.034600210623011995,
          0.034600210623011995,
          0.037649501057215096,
          0.03509608504863382,
          0.03450229235795932,
          0.03638321275044398,
          0.03638321275044398,
          0.03638321275044398,
          0.03638321275044398,
          0.035387886928649026,
          0.03162863880602629,
          0.03319170834060814,
          0.039596318080430626,
          0.039596318080430626,
          0.039596318080430626,
          0.039596318080430626,
          0.03764206357346522,
          0.03841529973658442,
          0.03841529973658442,
          0.035962606633399674,
          0.033059547036776715,
          0.033059547036776715,
          0.03276670739911136,
          0.03276670739911136,
          0.03276670739911136,
          0.039596318080430626,
          0.03313503724431055,
          0.03313503724431055,
          0.03313503724431055,
          0.034527350929518086,
          0.03450229235795932,
          0.03924822827976826,
          0.03507043485048422,
          0.0369247734967979,
          0.0369247734967979,
          0.0369247734967979,
          0.039596318080430626,
          0.039596318080430626,
          0.039596318080430626,
          0.039596318080430626,
          0.03313503724431055,
          0.03708001131456751,
          0.039596318080430626,
          0.033663261609450545,
          0.033663261609450545,
          0.033663261609450545,
          0.03811352012234037,
          0.0369247734967979,
          0.03914525809569347,
          0.03972417128016814,
          0.03151282166023561,
          0.033738510857085235,
          0.03972417128016814,
          0.03972417128016814,
          0.03972417128016814,
          0.03972417128016814,
          0.03972417128016814,
          0.03972417128016814,
          0.03972417128016814,
          0.03972417128016814,
          0.03450229235795932,
          0.03972417128016814,
          0.03972417128016814,
          0.03972417128016814,
          0.03972417128016814,
          0.03972417128016814,
          0.03972417128016814,
          0.03972417128016814
         ],
         "yaxis": "y"
        },
        {
         "marker": {
          "color": [
           0,
           1,
           2,
           3,
           4,
           5,
           6,
           7,
           8,
           9,
           10,
           11,
           12,
           13,
           14,
           15,
           16,
           17,
           18,
           19,
           20,
           21,
           22,
           23,
           24,
           25,
           26,
           27,
           28,
           29,
           30,
           31,
           32,
           33,
           34,
           35,
           36,
           37,
           38,
           39,
           40,
           41,
           42,
           43,
           44,
           45,
           46,
           47,
           48,
           49,
           50,
           51,
           52,
           53,
           54,
           55,
           56,
           57,
           58,
           59,
           60,
           61,
           62,
           63,
           64,
           65,
           66,
           67,
           68,
           69,
           70,
           71,
           72,
           73,
           74,
           75,
           76,
           77,
           78,
           79,
           80,
           81,
           82,
           83,
           84,
           85,
           86,
           87,
           88,
           89,
           90,
           91,
           92,
           93,
           94,
           95,
           96,
           97,
           98,
           99
          ],
          "colorbar": {
           "title": {
            "text": "Trial"
           },
           "x": 1,
           "xpad": 40
          },
          "colorscale": [
           [
            0,
            "rgb(247,251,255)"
           ],
           [
            0.125,
            "rgb(222,235,247)"
           ],
           [
            0.25,
            "rgb(198,219,239)"
           ],
           [
            0.375,
            "rgb(158,202,225)"
           ],
           [
            0.5,
            "rgb(107,174,214)"
           ],
           [
            0.625,
            "rgb(66,146,198)"
           ],
           [
            0.75,
            "rgb(33,113,181)"
           ],
           [
            0.875,
            "rgb(8,81,156)"
           ],
           [
            1,
            "rgb(8,48,107)"
           ]
          ],
          "line": {
           "color": "Grey",
           "width": 0.5
          },
          "showscale": false
         },
         "mode": "markers",
         "name": "Feasible Trial",
         "showlegend": false,
         "type": "scatter",
         "x": [
          0.5,
          0.5,
          0.5,
          0.5,
          0.5,
          0.5,
          0.5,
          0.5,
          0.5,
          0.5,
          0.5,
          0.5,
          0.5,
          0.5,
          0.5,
          0.5,
          0.5,
          0.5,
          0.5,
          0.5,
          0.5,
          0.5,
          0.5,
          0.5,
          0.5,
          0.5,
          0.5,
          0.5,
          0.5,
          0.5,
          0.5,
          0.5,
          0.5,
          0.5,
          0.5,
          0.5,
          0.5,
          0.5,
          0.5,
          0.5,
          0.5,
          0.5,
          0.5,
          0.5,
          0.5,
          0.5,
          0.5,
          0.5,
          0.5,
          0.5,
          0.5,
          0.5,
          0.5,
          0.5,
          0.5,
          0.5,
          0.5,
          0.5,
          0.5,
          0.5,
          0.5,
          0.5,
          0.5,
          0.5,
          0.5,
          0.5,
          0.5,
          0.5,
          0.5,
          0.5,
          0.5,
          0.5,
          0.5,
          0.5,
          0.5,
          0.5,
          0.5,
          0.5,
          0.5,
          0.5,
          0.5,
          0.5,
          0.5,
          0.5,
          0.5,
          0.5,
          0.5,
          0.5,
          0.5,
          0.5,
          0.5,
          0.5,
          0.5,
          0.5,
          0.5,
          0.5,
          0.5,
          0.5,
          0.5,
          0.5
         ],
         "xaxis": "x2",
         "y": [
          0.03972417128016814,
          0.03150130927034278,
          0.03841529973658442,
          0.03290853805296512,
          0.03972417128016814,
          0.03627565732075966,
          0.03914525809569347,
          0.03811352012234037,
          0.03405705487524624,
          0.03276670739911136,
          0.03276670739911136,
          0.035021732455316035,
          0.02934388564589563,
          0.029878283608560374,
          0.034527350929518086,
          0.034527350929518086,
          0.03708001131456751,
          0.032158966152732615,
          0.03406842653051889,
          0.03406842653051889,
          0.03531786379341151,
          0.03675762654240755,
          0.029942474990344303,
          0.03675762654240755,
          0.03675762654240755,
          0.03675762654240755,
          0.03972417128016814,
          0.03972417128016814,
          0.03313503724431055,
          0.03313503724431055,
          0.03313503724431055,
          0.039596318080430626,
          0.034600210623011995,
          0.034600210623011995,
          0.037649501057215096,
          0.03509608504863382,
          0.03450229235795932,
          0.03638321275044398,
          0.03638321275044398,
          0.03638321275044398,
          0.03638321275044398,
          0.035387886928649026,
          0.03162863880602629,
          0.03319170834060814,
          0.039596318080430626,
          0.039596318080430626,
          0.039596318080430626,
          0.039596318080430626,
          0.03764206357346522,
          0.03841529973658442,
          0.03841529973658442,
          0.035962606633399674,
          0.033059547036776715,
          0.033059547036776715,
          0.03276670739911136,
          0.03276670739911136,
          0.03276670739911136,
          0.039596318080430626,
          0.03313503724431055,
          0.03313503724431055,
          0.03313503724431055,
          0.034527350929518086,
          0.03450229235795932,
          0.03924822827976826,
          0.03507043485048422,
          0.0369247734967979,
          0.0369247734967979,
          0.0369247734967979,
          0.039596318080430626,
          0.039596318080430626,
          0.039596318080430626,
          0.039596318080430626,
          0.03313503724431055,
          0.03708001131456751,
          0.039596318080430626,
          0.033663261609450545,
          0.033663261609450545,
          0.033663261609450545,
          0.03811352012234037,
          0.0369247734967979,
          0.03914525809569347,
          0.03972417128016814,
          0.03151282166023561,
          0.033738510857085235,
          0.03972417128016814,
          0.03972417128016814,
          0.03972417128016814,
          0.03972417128016814,
          0.03972417128016814,
          0.03972417128016814,
          0.03972417128016814,
          0.03972417128016814,
          0.03450229235795932,
          0.03972417128016814,
          0.03972417128016814,
          0.03972417128016814,
          0.03972417128016814,
          0.03972417128016814,
          0.03972417128016814,
          0.03972417128016814
         ],
         "yaxis": "y2"
        },
        {
         "marker": {
          "color": [
           0,
           1,
           2,
           3,
           4,
           5,
           6,
           7,
           8,
           9,
           10,
           11,
           12,
           13,
           14,
           15,
           16,
           17,
           18,
           19,
           20,
           21,
           22,
           23,
           24,
           25,
           26,
           27,
           28,
           29,
           30,
           31,
           32,
           33,
           34,
           35,
           36,
           37,
           38,
           39,
           40,
           41,
           42,
           43,
           44,
           45,
           46,
           47,
           48,
           49,
           50,
           51,
           52,
           53,
           54,
           55,
           56,
           57,
           58,
           59,
           60,
           61,
           62,
           63,
           64,
           65,
           66,
           67,
           68,
           69,
           70,
           71,
           72,
           73,
           74,
           75,
           76,
           77,
           78,
           79,
           80,
           81,
           82,
           83,
           84,
           85,
           86,
           87,
           88,
           89,
           90,
           91,
           92,
           93,
           94,
           95,
           96,
           97,
           98,
           99
          ],
          "colorbar": {
           "title": {
            "text": "Trial"
           },
           "x": 1,
           "xpad": 40
          },
          "colorscale": [
           [
            0,
            "rgb(247,251,255)"
           ],
           [
            0.125,
            "rgb(222,235,247)"
           ],
           [
            0.25,
            "rgb(198,219,239)"
           ],
           [
            0.375,
            "rgb(158,202,225)"
           ],
           [
            0.5,
            "rgb(107,174,214)"
           ],
           [
            0.625,
            "rgb(66,146,198)"
           ],
           [
            0.75,
            "rgb(33,113,181)"
           ],
           [
            0.875,
            "rgb(8,81,156)"
           ],
           [
            1,
            "rgb(8,48,107)"
           ]
          ],
          "line": {
           "color": "Grey",
           "width": 0.5
          },
          "showscale": false
         },
         "mode": "markers",
         "name": "Feasible Trial",
         "showlegend": false,
         "type": "scatter",
         "x": [
          95,
          92,
          95,
          90,
          95,
          92,
          95,
          95,
          93,
          93,
          93,
          93,
          90,
          90,
          94,
          94,
          94,
          90,
          94,
          94,
          95,
          95,
          91,
          95,
          95,
          95,
          95,
          95,
          94,
          94,
          94,
          94,
          92,
          92,
          95,
          95,
          95,
          95,
          95,
          95,
          95,
          95,
          91,
          93,
          94,
          94,
          94,
          94,
          94,
          95,
          95,
          95,
          93,
          93,
          93,
          93,
          93,
          94,
          94,
          94,
          94,
          94,
          95,
          95,
          95,
          95,
          95,
          95,
          94,
          94,
          94,
          94,
          94,
          94,
          94,
          91,
          91,
          91,
          95,
          95,
          95,
          95,
          92,
          92,
          95,
          95,
          95,
          95,
          95,
          95,
          95,
          95,
          95,
          95,
          95,
          95,
          95,
          95,
          95,
          95
         ],
         "xaxis": "x3",
         "y": [
          0.03972417128016814,
          0.03150130927034278,
          0.03841529973658442,
          0.03290853805296512,
          0.03972417128016814,
          0.03627565732075966,
          0.03914525809569347,
          0.03811352012234037,
          0.03405705487524624,
          0.03276670739911136,
          0.03276670739911136,
          0.035021732455316035,
          0.02934388564589563,
          0.029878283608560374,
          0.034527350929518086,
          0.034527350929518086,
          0.03708001131456751,
          0.032158966152732615,
          0.03406842653051889,
          0.03406842653051889,
          0.03531786379341151,
          0.03675762654240755,
          0.029942474990344303,
          0.03675762654240755,
          0.03675762654240755,
          0.03675762654240755,
          0.03972417128016814,
          0.03972417128016814,
          0.03313503724431055,
          0.03313503724431055,
          0.03313503724431055,
          0.039596318080430626,
          0.034600210623011995,
          0.034600210623011995,
          0.037649501057215096,
          0.03509608504863382,
          0.03450229235795932,
          0.03638321275044398,
          0.03638321275044398,
          0.03638321275044398,
          0.03638321275044398,
          0.035387886928649026,
          0.03162863880602629,
          0.03319170834060814,
          0.039596318080430626,
          0.039596318080430626,
          0.039596318080430626,
          0.039596318080430626,
          0.03764206357346522,
          0.03841529973658442,
          0.03841529973658442,
          0.035962606633399674,
          0.033059547036776715,
          0.033059547036776715,
          0.03276670739911136,
          0.03276670739911136,
          0.03276670739911136,
          0.039596318080430626,
          0.03313503724431055,
          0.03313503724431055,
          0.03313503724431055,
          0.034527350929518086,
          0.03450229235795932,
          0.03924822827976826,
          0.03507043485048422,
          0.0369247734967979,
          0.0369247734967979,
          0.0369247734967979,
          0.039596318080430626,
          0.039596318080430626,
          0.039596318080430626,
          0.039596318080430626,
          0.03313503724431055,
          0.03708001131456751,
          0.039596318080430626,
          0.033663261609450545,
          0.033663261609450545,
          0.033663261609450545,
          0.03811352012234037,
          0.0369247734967979,
          0.03914525809569347,
          0.03972417128016814,
          0.03151282166023561,
          0.033738510857085235,
          0.03972417128016814,
          0.03972417128016814,
          0.03972417128016814,
          0.03972417128016814,
          0.03972417128016814,
          0.03972417128016814,
          0.03972417128016814,
          0.03972417128016814,
          0.03450229235795932,
          0.03972417128016814,
          0.03972417128016814,
          0.03972417128016814,
          0.03972417128016814,
          0.03972417128016814,
          0.03972417128016814,
          0.03972417128016814
         ],
         "yaxis": "y3"
        },
        {
         "marker": {
          "color": [
           0,
           1,
           2,
           3,
           4,
           5,
           6,
           7,
           8,
           9,
           10,
           11,
           12,
           13,
           14,
           15,
           16,
           17,
           18,
           19,
           20,
           21,
           22,
           23,
           24,
           25,
           26,
           27,
           28,
           29,
           30,
           31,
           32,
           33,
           34,
           35,
           36,
           37,
           38,
           39,
           40,
           41,
           42,
           43,
           44,
           45,
           46,
           47,
           48,
           49,
           50,
           51,
           52,
           53,
           54,
           55,
           56,
           57,
           58,
           59,
           60,
           61,
           62,
           63,
           64,
           65,
           66,
           67,
           68,
           69,
           70,
           71,
           72,
           73,
           74,
           75,
           76,
           77,
           78,
           79,
           80,
           81,
           82,
           83,
           84,
           85,
           86,
           87,
           88,
           89,
           90,
           91,
           92,
           93,
           94,
           95,
           96,
           97,
           98,
           99
          ],
          "colorbar": {
           "title": {
            "text": "Trial"
           },
           "x": 1,
           "xpad": 40
          },
          "colorscale": [
           [
            0,
            "rgb(247,251,255)"
           ],
           [
            0.125,
            "rgb(222,235,247)"
           ],
           [
            0.25,
            "rgb(198,219,239)"
           ],
           [
            0.375,
            "rgb(158,202,225)"
           ],
           [
            0.5,
            "rgb(107,174,214)"
           ],
           [
            0.625,
            "rgb(66,146,198)"
           ],
           [
            0.75,
            "rgb(33,113,181)"
           ],
           [
            0.875,
            "rgb(8,81,156)"
           ],
           [
            1,
            "rgb(8,48,107)"
           ]
          ],
          "line": {
           "color": "Grey",
           "width": 0.5
          },
          "showscale": false
         },
         "mode": "markers",
         "name": "Feasible Trial",
         "showlegend": false,
         "type": "scatter",
         "x": [
          22,
          20,
          21,
          23,
          22,
          24,
          25,
          25,
          25,
          22,
          22,
          22,
          23,
          20,
          23,
          23,
          21,
          21,
          21,
          21,
          21,
          24,
          24,
          24,
          24,
          24,
          22,
          22,
          22,
          22,
          22,
          22,
          20,
          20,
          20,
          20,
          23,
          23,
          23,
          23,
          23,
          22,
          22,
          22,
          22,
          22,
          22,
          22,
          21,
          21,
          21,
          21,
          21,
          21,
          22,
          22,
          22,
          22,
          22,
          22,
          22,
          23,
          23,
          23,
          23,
          22,
          22,
          22,
          22,
          22,
          22,
          22,
          22,
          21,
          22,
          22,
          22,
          22,
          25,
          22,
          25,
          22,
          25,
          21,
          22,
          22,
          22,
          22,
          22,
          22,
          22,
          22,
          23,
          22,
          22,
          22,
          22,
          22,
          22,
          22
         ],
         "xaxis": "x4",
         "y": [
          0.03972417128016814,
          0.03150130927034278,
          0.03841529973658442,
          0.03290853805296512,
          0.03972417128016814,
          0.03627565732075966,
          0.03914525809569347,
          0.03811352012234037,
          0.03405705487524624,
          0.03276670739911136,
          0.03276670739911136,
          0.035021732455316035,
          0.02934388564589563,
          0.029878283608560374,
          0.034527350929518086,
          0.034527350929518086,
          0.03708001131456751,
          0.032158966152732615,
          0.03406842653051889,
          0.03406842653051889,
          0.03531786379341151,
          0.03675762654240755,
          0.029942474990344303,
          0.03675762654240755,
          0.03675762654240755,
          0.03675762654240755,
          0.03972417128016814,
          0.03972417128016814,
          0.03313503724431055,
          0.03313503724431055,
          0.03313503724431055,
          0.039596318080430626,
          0.034600210623011995,
          0.034600210623011995,
          0.037649501057215096,
          0.03509608504863382,
          0.03450229235795932,
          0.03638321275044398,
          0.03638321275044398,
          0.03638321275044398,
          0.03638321275044398,
          0.035387886928649026,
          0.03162863880602629,
          0.03319170834060814,
          0.039596318080430626,
          0.039596318080430626,
          0.039596318080430626,
          0.039596318080430626,
          0.03764206357346522,
          0.03841529973658442,
          0.03841529973658442,
          0.035962606633399674,
          0.033059547036776715,
          0.033059547036776715,
          0.03276670739911136,
          0.03276670739911136,
          0.03276670739911136,
          0.039596318080430626,
          0.03313503724431055,
          0.03313503724431055,
          0.03313503724431055,
          0.034527350929518086,
          0.03450229235795932,
          0.03924822827976826,
          0.03507043485048422,
          0.0369247734967979,
          0.0369247734967979,
          0.0369247734967979,
          0.039596318080430626,
          0.039596318080430626,
          0.039596318080430626,
          0.039596318080430626,
          0.03313503724431055,
          0.03708001131456751,
          0.039596318080430626,
          0.033663261609450545,
          0.033663261609450545,
          0.033663261609450545,
          0.03811352012234037,
          0.0369247734967979,
          0.03914525809569347,
          0.03972417128016814,
          0.03151282166023561,
          0.033738510857085235,
          0.03972417128016814,
          0.03972417128016814,
          0.03972417128016814,
          0.03972417128016814,
          0.03972417128016814,
          0.03972417128016814,
          0.03972417128016814,
          0.03972417128016814,
          0.03450229235795932,
          0.03972417128016814,
          0.03972417128016814,
          0.03972417128016814,
          0.03972417128016814,
          0.03972417128016814,
          0.03972417128016814,
          0.03972417128016814
         ],
         "yaxis": "y4"
        },
        {
         "marker": {
          "color": [
           0,
           1,
           2,
           3,
           4,
           5,
           6,
           7,
           8,
           9,
           10,
           11,
           12,
           13,
           14,
           15,
           16,
           17,
           18,
           19,
           20,
           21,
           22,
           23,
           24,
           25,
           26,
           27,
           28,
           29,
           30,
           31,
           32,
           33,
           34,
           35,
           36,
           37,
           38,
           39,
           40,
           41,
           42,
           43,
           44,
           45,
           46,
           47,
           48,
           49,
           50,
           51,
           52,
           53,
           54,
           55,
           56,
           57,
           58,
           59,
           60,
           61,
           62,
           63,
           64,
           65,
           66,
           67,
           68,
           69,
           70,
           71,
           72,
           73,
           74,
           75,
           76,
           77,
           78,
           79,
           80,
           81,
           82,
           83,
           84,
           85,
           86,
           87,
           88,
           89,
           90,
           91,
           92,
           93,
           94,
           95,
           96,
           97,
           98,
           99
          ],
          "colorbar": {
           "title": {
            "text": "Trial"
           },
           "x": 1,
           "xpad": 40
          },
          "colorscale": [
           [
            0,
            "rgb(247,251,255)"
           ],
           [
            0.125,
            "rgb(222,235,247)"
           ],
           [
            0.25,
            "rgb(198,219,239)"
           ],
           [
            0.375,
            "rgb(158,202,225)"
           ],
           [
            0.5,
            "rgb(107,174,214)"
           ],
           [
            0.625,
            "rgb(66,146,198)"
           ],
           [
            0.75,
            "rgb(33,113,181)"
           ],
           [
            0.875,
            "rgb(8,81,156)"
           ],
           [
            1,
            "rgb(8,48,107)"
           ]
          ],
          "line": {
           "color": "Grey",
           "width": 0.5
          },
          "showscale": false
         },
         "mode": "markers",
         "name": "Feasible Trial",
         "showlegend": false,
         "type": "scatter",
         "x": [
          82,
          80,
          83,
          81,
          82,
          81,
          82,
          83,
          83,
          83,
          83,
          80,
          80,
          80,
          82,
          82,
          82,
          81,
          81,
          81,
          81,
          82,
          82,
          82,
          82,
          82,
          82,
          82,
          82,
          82,
          82,
          83,
          83,
          83,
          83,
          82,
          82,
          81,
          81,
          81,
          81,
          81,
          82,
          82,
          83,
          83,
          83,
          83,
          83,
          83,
          83,
          82,
          82,
          82,
          83,
          83,
          83,
          83,
          82,
          82,
          82,
          82,
          82,
          80,
          83,
          83,
          83,
          83,
          83,
          83,
          83,
          83,
          82,
          82,
          83,
          83,
          83,
          83,
          83,
          83,
          82,
          82,
          82,
          82,
          82,
          82,
          82,
          82,
          82,
          82,
          82,
          82,
          82,
          82,
          82,
          82,
          82,
          82,
          82,
          82
         ],
         "xaxis": "x5",
         "y": [
          0.03972417128016814,
          0.03150130927034278,
          0.03841529973658442,
          0.03290853805296512,
          0.03972417128016814,
          0.03627565732075966,
          0.03914525809569347,
          0.03811352012234037,
          0.03405705487524624,
          0.03276670739911136,
          0.03276670739911136,
          0.035021732455316035,
          0.02934388564589563,
          0.029878283608560374,
          0.034527350929518086,
          0.034527350929518086,
          0.03708001131456751,
          0.032158966152732615,
          0.03406842653051889,
          0.03406842653051889,
          0.03531786379341151,
          0.03675762654240755,
          0.029942474990344303,
          0.03675762654240755,
          0.03675762654240755,
          0.03675762654240755,
          0.03972417128016814,
          0.03972417128016814,
          0.03313503724431055,
          0.03313503724431055,
          0.03313503724431055,
          0.039596318080430626,
          0.034600210623011995,
          0.034600210623011995,
          0.037649501057215096,
          0.03509608504863382,
          0.03450229235795932,
          0.03638321275044398,
          0.03638321275044398,
          0.03638321275044398,
          0.03638321275044398,
          0.035387886928649026,
          0.03162863880602629,
          0.03319170834060814,
          0.039596318080430626,
          0.039596318080430626,
          0.039596318080430626,
          0.039596318080430626,
          0.03764206357346522,
          0.03841529973658442,
          0.03841529973658442,
          0.035962606633399674,
          0.033059547036776715,
          0.033059547036776715,
          0.03276670739911136,
          0.03276670739911136,
          0.03276670739911136,
          0.039596318080430626,
          0.03313503724431055,
          0.03313503724431055,
          0.03313503724431055,
          0.034527350929518086,
          0.03450229235795932,
          0.03924822827976826,
          0.03507043485048422,
          0.0369247734967979,
          0.0369247734967979,
          0.0369247734967979,
          0.039596318080430626,
          0.039596318080430626,
          0.039596318080430626,
          0.039596318080430626,
          0.03313503724431055,
          0.03708001131456751,
          0.039596318080430626,
          0.033663261609450545,
          0.033663261609450545,
          0.033663261609450545,
          0.03811352012234037,
          0.0369247734967979,
          0.03914525809569347,
          0.03972417128016814,
          0.03151282166023561,
          0.033738510857085235,
          0.03972417128016814,
          0.03972417128016814,
          0.03972417128016814,
          0.03972417128016814,
          0.03972417128016814,
          0.03972417128016814,
          0.03972417128016814,
          0.03972417128016814,
          0.03450229235795932,
          0.03972417128016814,
          0.03972417128016814,
          0.03972417128016814,
          0.03972417128016814,
          0.03972417128016814,
          0.03972417128016814,
          0.03972417128016814
         ],
         "yaxis": "y5"
        },
        {
         "marker": {
          "color": [
           0,
           1,
           2,
           3,
           4,
           5,
           6,
           7,
           8,
           9,
           10,
           11,
           12,
           13,
           14,
           15,
           16,
           17,
           18,
           19,
           20,
           21,
           22,
           23,
           24,
           25,
           26,
           27,
           28,
           29,
           30,
           31,
           32,
           33,
           34,
           35,
           36,
           37,
           38,
           39,
           40,
           41,
           42,
           43,
           44,
           45,
           46,
           47,
           48,
           49,
           50,
           51,
           52,
           53,
           54,
           55,
           56,
           57,
           58,
           59,
           60,
           61,
           62,
           63,
           64,
           65,
           66,
           67,
           68,
           69,
           70,
           71,
           72,
           73,
           74,
           75,
           76,
           77,
           78,
           79,
           80,
           81,
           82,
           83,
           84,
           85,
           86,
           87,
           88,
           89,
           90,
           91,
           92,
           93,
           94,
           95,
           96,
           97,
           98,
           99
          ],
          "colorbar": {
           "title": {
            "text": "Trial"
           },
           "x": 1,
           "xpad": 40
          },
          "colorscale": [
           [
            0,
            "rgb(247,251,255)"
           ],
           [
            0.125,
            "rgb(222,235,247)"
           ],
           [
            0.25,
            "rgb(198,219,239)"
           ],
           [
            0.375,
            "rgb(158,202,225)"
           ],
           [
            0.5,
            "rgb(107,174,214)"
           ],
           [
            0.625,
            "rgb(66,146,198)"
           ],
           [
            0.75,
            "rgb(33,113,181)"
           ],
           [
            0.875,
            "rgb(8,81,156)"
           ],
           [
            1,
            "rgb(8,48,107)"
           ]
          ],
          "line": {
           "color": "Grey",
           "width": 0.5
          },
          "showscale": false
         },
         "mode": "markers",
         "name": "Feasible Trial",
         "showlegend": false,
         "type": "scatter",
         "x": [
          1,
          1,
          1,
          1,
          1,
          1,
          1,
          1,
          1,
          1,
          1,
          1,
          1,
          1,
          1,
          1,
          1,
          1,
          1,
          1,
          1,
          1,
          1,
          1,
          1,
          1,
          1,
          1,
          1,
          1,
          1,
          1,
          1,
          1,
          1,
          1,
          1,
          1,
          1,
          1,
          1,
          1,
          1,
          1,
          1,
          1,
          1,
          1,
          1,
          1,
          1,
          1,
          1,
          1,
          1,
          1,
          1,
          1,
          1,
          1,
          1,
          1,
          1,
          1,
          1,
          1,
          1,
          1,
          1,
          1,
          1,
          1,
          1,
          1,
          1,
          1,
          1,
          1,
          1,
          1,
          1,
          1,
          1,
          1,
          1,
          1,
          1,
          1,
          1,
          1,
          1,
          1,
          1,
          1,
          1,
          1,
          1,
          1,
          1,
          1
         ],
         "xaxis": "x6",
         "y": [
          0.03972417128016814,
          0.03150130927034278,
          0.03841529973658442,
          0.03290853805296512,
          0.03972417128016814,
          0.03627565732075966,
          0.03914525809569347,
          0.03811352012234037,
          0.03405705487524624,
          0.03276670739911136,
          0.03276670739911136,
          0.035021732455316035,
          0.02934388564589563,
          0.029878283608560374,
          0.034527350929518086,
          0.034527350929518086,
          0.03708001131456751,
          0.032158966152732615,
          0.03406842653051889,
          0.03406842653051889,
          0.03531786379341151,
          0.03675762654240755,
          0.029942474990344303,
          0.03675762654240755,
          0.03675762654240755,
          0.03675762654240755,
          0.03972417128016814,
          0.03972417128016814,
          0.03313503724431055,
          0.03313503724431055,
          0.03313503724431055,
          0.039596318080430626,
          0.034600210623011995,
          0.034600210623011995,
          0.037649501057215096,
          0.03509608504863382,
          0.03450229235795932,
          0.03638321275044398,
          0.03638321275044398,
          0.03638321275044398,
          0.03638321275044398,
          0.035387886928649026,
          0.03162863880602629,
          0.03319170834060814,
          0.039596318080430626,
          0.039596318080430626,
          0.039596318080430626,
          0.039596318080430626,
          0.03764206357346522,
          0.03841529973658442,
          0.03841529973658442,
          0.035962606633399674,
          0.033059547036776715,
          0.033059547036776715,
          0.03276670739911136,
          0.03276670739911136,
          0.03276670739911136,
          0.039596318080430626,
          0.03313503724431055,
          0.03313503724431055,
          0.03313503724431055,
          0.034527350929518086,
          0.03450229235795932,
          0.03924822827976826,
          0.03507043485048422,
          0.0369247734967979,
          0.0369247734967979,
          0.0369247734967979,
          0.039596318080430626,
          0.039596318080430626,
          0.039596318080430626,
          0.039596318080430626,
          0.03313503724431055,
          0.03708001131456751,
          0.039596318080430626,
          0.033663261609450545,
          0.033663261609450545,
          0.033663261609450545,
          0.03811352012234037,
          0.0369247734967979,
          0.03914525809569347,
          0.03972417128016814,
          0.03151282166023561,
          0.033738510857085235,
          0.03972417128016814,
          0.03972417128016814,
          0.03972417128016814,
          0.03972417128016814,
          0.03972417128016814,
          0.03972417128016814,
          0.03972417128016814,
          0.03972417128016814,
          0.03450229235795932,
          0.03972417128016814,
          0.03972417128016814,
          0.03972417128016814,
          0.03972417128016814,
          0.03972417128016814,
          0.03972417128016814,
          0.03972417128016814
         ],
         "yaxis": "y6"
        }
       ],
       "layout": {
        "template": {
         "data": {
          "bar": [
           {
            "error_x": {
             "color": "#2a3f5f"
            },
            "error_y": {
             "color": "#2a3f5f"
            },
            "marker": {
             "line": {
              "color": "#E5ECF6",
              "width": 0.5
             },
             "pattern": {
              "fillmode": "overlay",
              "size": 10,
              "solidity": 0.2
             }
            },
            "type": "bar"
           }
          ],
          "barpolar": [
           {
            "marker": {
             "line": {
              "color": "#E5ECF6",
              "width": 0.5
             },
             "pattern": {
              "fillmode": "overlay",
              "size": 10,
              "solidity": 0.2
             }
            },
            "type": "barpolar"
           }
          ],
          "carpet": [
           {
            "aaxis": {
             "endlinecolor": "#2a3f5f",
             "gridcolor": "white",
             "linecolor": "white",
             "minorgridcolor": "white",
             "startlinecolor": "#2a3f5f"
            },
            "baxis": {
             "endlinecolor": "#2a3f5f",
             "gridcolor": "white",
             "linecolor": "white",
             "minorgridcolor": "white",
             "startlinecolor": "#2a3f5f"
            },
            "type": "carpet"
           }
          ],
          "choropleth": [
           {
            "colorbar": {
             "outlinewidth": 0,
             "ticks": ""
            },
            "type": "choropleth"
           }
          ],
          "contour": [
           {
            "colorbar": {
             "outlinewidth": 0,
             "ticks": ""
            },
            "colorscale": [
             [
              0,
              "#0d0887"
             ],
             [
              0.1111111111111111,
              "#46039f"
             ],
             [
              0.2222222222222222,
              "#7201a8"
             ],
             [
              0.3333333333333333,
              "#9c179e"
             ],
             [
              0.4444444444444444,
              "#bd3786"
             ],
             [
              0.5555555555555556,
              "#d8576b"
             ],
             [
              0.6666666666666666,
              "#ed7953"
             ],
             [
              0.7777777777777778,
              "#fb9f3a"
             ],
             [
              0.8888888888888888,
              "#fdca26"
             ],
             [
              1,
              "#f0f921"
             ]
            ],
            "type": "contour"
           }
          ],
          "contourcarpet": [
           {
            "colorbar": {
             "outlinewidth": 0,
             "ticks": ""
            },
            "type": "contourcarpet"
           }
          ],
          "heatmap": [
           {
            "colorbar": {
             "outlinewidth": 0,
             "ticks": ""
            },
            "colorscale": [
             [
              0,
              "#0d0887"
             ],
             [
              0.1111111111111111,
              "#46039f"
             ],
             [
              0.2222222222222222,
              "#7201a8"
             ],
             [
              0.3333333333333333,
              "#9c179e"
             ],
             [
              0.4444444444444444,
              "#bd3786"
             ],
             [
              0.5555555555555556,
              "#d8576b"
             ],
             [
              0.6666666666666666,
              "#ed7953"
             ],
             [
              0.7777777777777778,
              "#fb9f3a"
             ],
             [
              0.8888888888888888,
              "#fdca26"
             ],
             [
              1,
              "#f0f921"
             ]
            ],
            "type": "heatmap"
           }
          ],
          "heatmapgl": [
           {
            "colorbar": {
             "outlinewidth": 0,
             "ticks": ""
            },
            "colorscale": [
             [
              0,
              "#0d0887"
             ],
             [
              0.1111111111111111,
              "#46039f"
             ],
             [
              0.2222222222222222,
              "#7201a8"
             ],
             [
              0.3333333333333333,
              "#9c179e"
             ],
             [
              0.4444444444444444,
              "#bd3786"
             ],
             [
              0.5555555555555556,
              "#d8576b"
             ],
             [
              0.6666666666666666,
              "#ed7953"
             ],
             [
              0.7777777777777778,
              "#fb9f3a"
             ],
             [
              0.8888888888888888,
              "#fdca26"
             ],
             [
              1,
              "#f0f921"
             ]
            ],
            "type": "heatmapgl"
           }
          ],
          "histogram": [
           {
            "marker": {
             "pattern": {
              "fillmode": "overlay",
              "size": 10,
              "solidity": 0.2
             }
            },
            "type": "histogram"
           }
          ],
          "histogram2d": [
           {
            "colorbar": {
             "outlinewidth": 0,
             "ticks": ""
            },
            "colorscale": [
             [
              0,
              "#0d0887"
             ],
             [
              0.1111111111111111,
              "#46039f"
             ],
             [
              0.2222222222222222,
              "#7201a8"
             ],
             [
              0.3333333333333333,
              "#9c179e"
             ],
             [
              0.4444444444444444,
              "#bd3786"
             ],
             [
              0.5555555555555556,
              "#d8576b"
             ],
             [
              0.6666666666666666,
              "#ed7953"
             ],
             [
              0.7777777777777778,
              "#fb9f3a"
             ],
             [
              0.8888888888888888,
              "#fdca26"
             ],
             [
              1,
              "#f0f921"
             ]
            ],
            "type": "histogram2d"
           }
          ],
          "histogram2dcontour": [
           {
            "colorbar": {
             "outlinewidth": 0,
             "ticks": ""
            },
            "colorscale": [
             [
              0,
              "#0d0887"
             ],
             [
              0.1111111111111111,
              "#46039f"
             ],
             [
              0.2222222222222222,
              "#7201a8"
             ],
             [
              0.3333333333333333,
              "#9c179e"
             ],
             [
              0.4444444444444444,
              "#bd3786"
             ],
             [
              0.5555555555555556,
              "#d8576b"
             ],
             [
              0.6666666666666666,
              "#ed7953"
             ],
             [
              0.7777777777777778,
              "#fb9f3a"
             ],
             [
              0.8888888888888888,
              "#fdca26"
             ],
             [
              1,
              "#f0f921"
             ]
            ],
            "type": "histogram2dcontour"
           }
          ],
          "mesh3d": [
           {
            "colorbar": {
             "outlinewidth": 0,
             "ticks": ""
            },
            "type": "mesh3d"
           }
          ],
          "parcoords": [
           {
            "line": {
             "colorbar": {
              "outlinewidth": 0,
              "ticks": ""
             }
            },
            "type": "parcoords"
           }
          ],
          "pie": [
           {
            "automargin": true,
            "type": "pie"
           }
          ],
          "scatter": [
           {
            "fillpattern": {
             "fillmode": "overlay",
             "size": 10,
             "solidity": 0.2
            },
            "type": "scatter"
           }
          ],
          "scatter3d": [
           {
            "line": {
             "colorbar": {
              "outlinewidth": 0,
              "ticks": ""
             }
            },
            "marker": {
             "colorbar": {
              "outlinewidth": 0,
              "ticks": ""
             }
            },
            "type": "scatter3d"
           }
          ],
          "scattercarpet": [
           {
            "marker": {
             "colorbar": {
              "outlinewidth": 0,
              "ticks": ""
             }
            },
            "type": "scattercarpet"
           }
          ],
          "scattergeo": [
           {
            "marker": {
             "colorbar": {
              "outlinewidth": 0,
              "ticks": ""
             }
            },
            "type": "scattergeo"
           }
          ],
          "scattergl": [
           {
            "marker": {
             "colorbar": {
              "outlinewidth": 0,
              "ticks": ""
             }
            },
            "type": "scattergl"
           }
          ],
          "scattermapbox": [
           {
            "marker": {
             "colorbar": {
              "outlinewidth": 0,
              "ticks": ""
             }
            },
            "type": "scattermapbox"
           }
          ],
          "scatterpolar": [
           {
            "marker": {
             "colorbar": {
              "outlinewidth": 0,
              "ticks": ""
             }
            },
            "type": "scatterpolar"
           }
          ],
          "scatterpolargl": [
           {
            "marker": {
             "colorbar": {
              "outlinewidth": 0,
              "ticks": ""
             }
            },
            "type": "scatterpolargl"
           }
          ],
          "scatterternary": [
           {
            "marker": {
             "colorbar": {
              "outlinewidth": 0,
              "ticks": ""
             }
            },
            "type": "scatterternary"
           }
          ],
          "surface": [
           {
            "colorbar": {
             "outlinewidth": 0,
             "ticks": ""
            },
            "colorscale": [
             [
              0,
              "#0d0887"
             ],
             [
              0.1111111111111111,
              "#46039f"
             ],
             [
              0.2222222222222222,
              "#7201a8"
             ],
             [
              0.3333333333333333,
              "#9c179e"
             ],
             [
              0.4444444444444444,
              "#bd3786"
             ],
             [
              0.5555555555555556,
              "#d8576b"
             ],
             [
              0.6666666666666666,
              "#ed7953"
             ],
             [
              0.7777777777777778,
              "#fb9f3a"
             ],
             [
              0.8888888888888888,
              "#fdca26"
             ],
             [
              1,
              "#f0f921"
             ]
            ],
            "type": "surface"
           }
          ],
          "table": [
           {
            "cells": {
             "fill": {
              "color": "#EBF0F8"
             },
             "line": {
              "color": "white"
             }
            },
            "header": {
             "fill": {
              "color": "#C8D4E3"
             },
             "line": {
              "color": "white"
             }
            },
            "type": "table"
           }
          ]
         },
         "layout": {
          "annotationdefaults": {
           "arrowcolor": "#2a3f5f",
           "arrowhead": 0,
           "arrowwidth": 1
          },
          "autotypenumbers": "strict",
          "coloraxis": {
           "colorbar": {
            "outlinewidth": 0,
            "ticks": ""
           }
          },
          "colorscale": {
           "diverging": [
            [
             0,
             "#8e0152"
            ],
            [
             0.1,
             "#c51b7d"
            ],
            [
             0.2,
             "#de77ae"
            ],
            [
             0.3,
             "#f1b6da"
            ],
            [
             0.4,
             "#fde0ef"
            ],
            [
             0.5,
             "#f7f7f7"
            ],
            [
             0.6,
             "#e6f5d0"
            ],
            [
             0.7,
             "#b8e186"
            ],
            [
             0.8,
             "#7fbc41"
            ],
            [
             0.9,
             "#4d9221"
            ],
            [
             1,
             "#276419"
            ]
           ],
           "sequential": [
            [
             0,
             "#0d0887"
            ],
            [
             0.1111111111111111,
             "#46039f"
            ],
            [
             0.2222222222222222,
             "#7201a8"
            ],
            [
             0.3333333333333333,
             "#9c179e"
            ],
            [
             0.4444444444444444,
             "#bd3786"
            ],
            [
             0.5555555555555556,
             "#d8576b"
            ],
            [
             0.6666666666666666,
             "#ed7953"
            ],
            [
             0.7777777777777778,
             "#fb9f3a"
            ],
            [
             0.8888888888888888,
             "#fdca26"
            ],
            [
             1,
             "#f0f921"
            ]
           ],
           "sequentialminus": [
            [
             0,
             "#0d0887"
            ],
            [
             0.1111111111111111,
             "#46039f"
            ],
            [
             0.2222222222222222,
             "#7201a8"
            ],
            [
             0.3333333333333333,
             "#9c179e"
            ],
            [
             0.4444444444444444,
             "#bd3786"
            ],
            [
             0.5555555555555556,
             "#d8576b"
            ],
            [
             0.6666666666666666,
             "#ed7953"
            ],
            [
             0.7777777777777778,
             "#fb9f3a"
            ],
            [
             0.8888888888888888,
             "#fdca26"
            ],
            [
             1,
             "#f0f921"
            ]
           ]
          },
          "colorway": [
           "#636efa",
           "#EF553B",
           "#00cc96",
           "#ab63fa",
           "#FFA15A",
           "#19d3f3",
           "#FF6692",
           "#B6E880",
           "#FF97FF",
           "#FECB52"
          ],
          "font": {
           "color": "#2a3f5f"
          },
          "geo": {
           "bgcolor": "white",
           "lakecolor": "white",
           "landcolor": "#E5ECF6",
           "showlakes": true,
           "showland": true,
           "subunitcolor": "white"
          },
          "hoverlabel": {
           "align": "left"
          },
          "hovermode": "closest",
          "mapbox": {
           "style": "light"
          },
          "paper_bgcolor": "white",
          "plot_bgcolor": "#E5ECF6",
          "polar": {
           "angularaxis": {
            "gridcolor": "white",
            "linecolor": "white",
            "ticks": ""
           },
           "bgcolor": "#E5ECF6",
           "radialaxis": {
            "gridcolor": "white",
            "linecolor": "white",
            "ticks": ""
           }
          },
          "scene": {
           "xaxis": {
            "backgroundcolor": "#E5ECF6",
            "gridcolor": "white",
            "gridwidth": 2,
            "linecolor": "white",
            "showbackground": true,
            "ticks": "",
            "zerolinecolor": "white"
           },
           "yaxis": {
            "backgroundcolor": "#E5ECF6",
            "gridcolor": "white",
            "gridwidth": 2,
            "linecolor": "white",
            "showbackground": true,
            "ticks": "",
            "zerolinecolor": "white"
           },
           "zaxis": {
            "backgroundcolor": "#E5ECF6",
            "gridcolor": "white",
            "gridwidth": 2,
            "linecolor": "white",
            "showbackground": true,
            "ticks": "",
            "zerolinecolor": "white"
           }
          },
          "shapedefaults": {
           "line": {
            "color": "#2a3f5f"
           }
          },
          "ternary": {
           "aaxis": {
            "gridcolor": "white",
            "linecolor": "white",
            "ticks": ""
           },
           "baxis": {
            "gridcolor": "white",
            "linecolor": "white",
            "ticks": ""
           },
           "bgcolor": "#E5ECF6",
           "caxis": {
            "gridcolor": "white",
            "linecolor": "white",
            "ticks": ""
           }
          },
          "title": {
           "x": 0.05
          },
          "xaxis": {
           "automargin": true,
           "gridcolor": "white",
           "linecolor": "white",
           "ticks": "",
           "title": {
            "standoff": 15
           },
           "zerolinecolor": "white",
           "zerolinewidth": 2
          },
          "yaxis": {
           "automargin": true,
           "gridcolor": "white",
           "linecolor": "white",
           "ticks": "",
           "title": {
            "standoff": 15
           },
           "zerolinecolor": "white",
           "zerolinewidth": 2
          }
         }
        },
        "title": {
         "text": "Slice Plot"
        },
        "width": 1800,
        "xaxis": {
         "anchor": "y",
         "domain": [
          0,
          0.1388888888888889
         ],
         "title": {
          "text": "a"
         }
        },
        "xaxis2": {
         "anchor": "y2",
         "domain": [
          0.17222222222222222,
          0.3111111111111111
         ],
         "title": {
          "text": "b"
         }
        },
        "xaxis3": {
         "anchor": "y3",
         "domain": [
          0.34444444444444444,
          0.48333333333333334
         ],
         "title": {
          "text": "maxidn"
         }
        },
        "xaxis4": {
         "anchor": "y4",
         "domain": [
          0.5166666666666667,
          0.6555555555555557
         ],
         "title": {
          "text": "maxsd"
         }
        },
        "xaxis5": {
         "anchor": "y5",
         "domain": [
          0.6888888888888889,
          0.8277777777777777
         ],
         "title": {
          "text": "minidn"
         }
        },
        "xaxis6": {
         "anchor": "y6",
         "domain": [
          0.861111111111111,
          1
         ],
         "title": {
          "text": "minsd"
         }
        },
        "yaxis": {
         "anchor": "x",
         "domain": [
          0,
          1
         ],
         "title": {
          "text": "Jaccard Similarity"
         }
        },
        "yaxis2": {
         "anchor": "x2",
         "domain": [
          0,
          1
         ],
         "matches": "y",
         "showticklabels": false
        },
        "yaxis3": {
         "anchor": "x3",
         "domain": [
          0,
          1
         ],
         "matches": "y",
         "showticklabels": false
        },
        "yaxis4": {
         "anchor": "x4",
         "domain": [
          0,
          1
         ],
         "matches": "y",
         "showticklabels": false
        },
        "yaxis5": {
         "anchor": "x5",
         "domain": [
          0,
          1
         ],
         "matches": "y",
         "showticklabels": false
        },
        "yaxis6": {
         "anchor": "x6",
         "domain": [
          0,
          1
         ],
         "matches": "y",
         "showticklabels": false
        }
       }
      },
      "text/html": [
       "<div>                            <div id=\"6c2fa978-dbbd-40f1-ad4a-146024907a7e\" class=\"plotly-graph-div\" style=\"height:525px; width:1800px;\"></div>            <script type=\"text/javascript\">                require([\"plotly\"], function(Plotly) {                    window.PLOTLYENV=window.PLOTLYENV || {};                                    if (document.getElementById(\"6c2fa978-dbbd-40f1-ad4a-146024907a7e\")) {                    Plotly.newPlot(                        \"6c2fa978-dbbd-40f1-ad4a-146024907a7e\",                        [{\"marker\":{\"color\":[0,1,2,3,4,5,6,7,8,9,10,11,12,13,14,15,16,17,18,19,20,21,22,23,24,25,26,27,28,29,30,31,32,33,34,35,36,37,38,39,40,41,42,43,44,45,46,47,48,49,50,51,52,53,54,55,56,57,58,59,60,61,62,63,64,65,66,67,68,69,70,71,72,73,74,75,76,77,78,79,80,81,82,83,84,85,86,87,88,89,90,91,92,93,94,95,96,97,98,99],\"colorbar\":{\"title\":{\"text\":\"Trial\"},\"x\":1.0,\"xpad\":40},\"colorscale\":[[0.0,\"rgb(247,251,255)\"],[0.125,\"rgb(222,235,247)\"],[0.25,\"rgb(198,219,239)\"],[0.375,\"rgb(158,202,225)\"],[0.5,\"rgb(107,174,214)\"],[0.625,\"rgb(66,146,198)\"],[0.75,\"rgb(33,113,181)\"],[0.875,\"rgb(8,81,156)\"],[1.0,\"rgb(8,48,107)\"]],\"line\":{\"color\":\"Grey\",\"width\":0.5},\"showscale\":true},\"mode\":\"markers\",\"name\":\"Feasible Trial\",\"showlegend\":false,\"x\":[0.7,0.7,0.7,0.7,0.7,0.7,0.7,0.7,0.7,0.7,0.7,0.7,0.7,0.7,0.7,0.7,0.7,0.7,0.7,0.7,0.7,0.7,0.7,0.7,0.7,0.7,0.7,0.7,0.7,0.7,0.7,0.7,0.7,0.7,0.7,0.7,0.7,0.7,0.7,0.7,0.7,0.7,0.7,0.7,0.7,0.7,0.7,0.7,0.7,0.7,0.7,0.7,0.7,0.7,0.7,0.7,0.7,0.7,0.7,0.7,0.7,0.7,0.7,0.7,0.7,0.7,0.7,0.7,0.7,0.7,0.7,0.7,0.7,0.7,0.7,0.7,0.7,0.7,0.7,0.7,0.7,0.7,0.7,0.7,0.7,0.7,0.7,0.7,0.7,0.7,0.7,0.7,0.7,0.7,0.7,0.7,0.7,0.7,0.7,0.7],\"y\":[0.03972417128016814,0.03150130927034278,0.03841529973658442,0.03290853805296512,0.03972417128016814,0.03627565732075966,0.03914525809569347,0.03811352012234037,0.03405705487524624,0.03276670739911136,0.03276670739911136,0.035021732455316035,0.02934388564589563,0.029878283608560374,0.034527350929518086,0.034527350929518086,0.03708001131456751,0.032158966152732615,0.03406842653051889,0.03406842653051889,0.03531786379341151,0.03675762654240755,0.029942474990344303,0.03675762654240755,0.03675762654240755,0.03675762654240755,0.03972417128016814,0.03972417128016814,0.03313503724431055,0.03313503724431055,0.03313503724431055,0.039596318080430626,0.034600210623011995,0.034600210623011995,0.037649501057215096,0.03509608504863382,0.03450229235795932,0.03638321275044398,0.03638321275044398,0.03638321275044398,0.03638321275044398,0.035387886928649026,0.03162863880602629,0.03319170834060814,0.039596318080430626,0.039596318080430626,0.039596318080430626,0.039596318080430626,0.03764206357346522,0.03841529973658442,0.03841529973658442,0.035962606633399674,0.033059547036776715,0.033059547036776715,0.03276670739911136,0.03276670739911136,0.03276670739911136,0.039596318080430626,0.03313503724431055,0.03313503724431055,0.03313503724431055,0.034527350929518086,0.03450229235795932,0.03924822827976826,0.03507043485048422,0.0369247734967979,0.0369247734967979,0.0369247734967979,0.039596318080430626,0.039596318080430626,0.039596318080430626,0.039596318080430626,0.03313503724431055,0.03708001131456751,0.039596318080430626,0.033663261609450545,0.033663261609450545,0.033663261609450545,0.03811352012234037,0.0369247734967979,0.03914525809569347,0.03972417128016814,0.03151282166023561,0.033738510857085235,0.03972417128016814,0.03972417128016814,0.03972417128016814,0.03972417128016814,0.03972417128016814,0.03972417128016814,0.03972417128016814,0.03972417128016814,0.03450229235795932,0.03972417128016814,0.03972417128016814,0.03972417128016814,0.03972417128016814,0.03972417128016814,0.03972417128016814,0.03972417128016814],\"type\":\"scatter\",\"xaxis\":\"x\",\"yaxis\":\"y\"},{\"marker\":{\"color\":[0,1,2,3,4,5,6,7,8,9,10,11,12,13,14,15,16,17,18,19,20,21,22,23,24,25,26,27,28,29,30,31,32,33,34,35,36,37,38,39,40,41,42,43,44,45,46,47,48,49,50,51,52,53,54,55,56,57,58,59,60,61,62,63,64,65,66,67,68,69,70,71,72,73,74,75,76,77,78,79,80,81,82,83,84,85,86,87,88,89,90,91,92,93,94,95,96,97,98,99],\"colorbar\":{\"title\":{\"text\":\"Trial\"},\"x\":1.0,\"xpad\":40},\"colorscale\":[[0.0,\"rgb(247,251,255)\"],[0.125,\"rgb(222,235,247)\"],[0.25,\"rgb(198,219,239)\"],[0.375,\"rgb(158,202,225)\"],[0.5,\"rgb(107,174,214)\"],[0.625,\"rgb(66,146,198)\"],[0.75,\"rgb(33,113,181)\"],[0.875,\"rgb(8,81,156)\"],[1.0,\"rgb(8,48,107)\"]],\"line\":{\"color\":\"Grey\",\"width\":0.5},\"showscale\":false},\"mode\":\"markers\",\"name\":\"Feasible Trial\",\"showlegend\":false,\"x\":[0.5,0.5,0.5,0.5,0.5,0.5,0.5,0.5,0.5,0.5,0.5,0.5,0.5,0.5,0.5,0.5,0.5,0.5,0.5,0.5,0.5,0.5,0.5,0.5,0.5,0.5,0.5,0.5,0.5,0.5,0.5,0.5,0.5,0.5,0.5,0.5,0.5,0.5,0.5,0.5,0.5,0.5,0.5,0.5,0.5,0.5,0.5,0.5,0.5,0.5,0.5,0.5,0.5,0.5,0.5,0.5,0.5,0.5,0.5,0.5,0.5,0.5,0.5,0.5,0.5,0.5,0.5,0.5,0.5,0.5,0.5,0.5,0.5,0.5,0.5,0.5,0.5,0.5,0.5,0.5,0.5,0.5,0.5,0.5,0.5,0.5,0.5,0.5,0.5,0.5,0.5,0.5,0.5,0.5,0.5,0.5,0.5,0.5,0.5,0.5],\"y\":[0.03972417128016814,0.03150130927034278,0.03841529973658442,0.03290853805296512,0.03972417128016814,0.03627565732075966,0.03914525809569347,0.03811352012234037,0.03405705487524624,0.03276670739911136,0.03276670739911136,0.035021732455316035,0.02934388564589563,0.029878283608560374,0.034527350929518086,0.034527350929518086,0.03708001131456751,0.032158966152732615,0.03406842653051889,0.03406842653051889,0.03531786379341151,0.03675762654240755,0.029942474990344303,0.03675762654240755,0.03675762654240755,0.03675762654240755,0.03972417128016814,0.03972417128016814,0.03313503724431055,0.03313503724431055,0.03313503724431055,0.039596318080430626,0.034600210623011995,0.034600210623011995,0.037649501057215096,0.03509608504863382,0.03450229235795932,0.03638321275044398,0.03638321275044398,0.03638321275044398,0.03638321275044398,0.035387886928649026,0.03162863880602629,0.03319170834060814,0.039596318080430626,0.039596318080430626,0.039596318080430626,0.039596318080430626,0.03764206357346522,0.03841529973658442,0.03841529973658442,0.035962606633399674,0.033059547036776715,0.033059547036776715,0.03276670739911136,0.03276670739911136,0.03276670739911136,0.039596318080430626,0.03313503724431055,0.03313503724431055,0.03313503724431055,0.034527350929518086,0.03450229235795932,0.03924822827976826,0.03507043485048422,0.0369247734967979,0.0369247734967979,0.0369247734967979,0.039596318080430626,0.039596318080430626,0.039596318080430626,0.039596318080430626,0.03313503724431055,0.03708001131456751,0.039596318080430626,0.033663261609450545,0.033663261609450545,0.033663261609450545,0.03811352012234037,0.0369247734967979,0.03914525809569347,0.03972417128016814,0.03151282166023561,0.033738510857085235,0.03972417128016814,0.03972417128016814,0.03972417128016814,0.03972417128016814,0.03972417128016814,0.03972417128016814,0.03972417128016814,0.03972417128016814,0.03450229235795932,0.03972417128016814,0.03972417128016814,0.03972417128016814,0.03972417128016814,0.03972417128016814,0.03972417128016814,0.03972417128016814],\"type\":\"scatter\",\"xaxis\":\"x2\",\"yaxis\":\"y2\"},{\"marker\":{\"color\":[0,1,2,3,4,5,6,7,8,9,10,11,12,13,14,15,16,17,18,19,20,21,22,23,24,25,26,27,28,29,30,31,32,33,34,35,36,37,38,39,40,41,42,43,44,45,46,47,48,49,50,51,52,53,54,55,56,57,58,59,60,61,62,63,64,65,66,67,68,69,70,71,72,73,74,75,76,77,78,79,80,81,82,83,84,85,86,87,88,89,90,91,92,93,94,95,96,97,98,99],\"colorbar\":{\"title\":{\"text\":\"Trial\"},\"x\":1.0,\"xpad\":40},\"colorscale\":[[0.0,\"rgb(247,251,255)\"],[0.125,\"rgb(222,235,247)\"],[0.25,\"rgb(198,219,239)\"],[0.375,\"rgb(158,202,225)\"],[0.5,\"rgb(107,174,214)\"],[0.625,\"rgb(66,146,198)\"],[0.75,\"rgb(33,113,181)\"],[0.875,\"rgb(8,81,156)\"],[1.0,\"rgb(8,48,107)\"]],\"line\":{\"color\":\"Grey\",\"width\":0.5},\"showscale\":false},\"mode\":\"markers\",\"name\":\"Feasible Trial\",\"showlegend\":false,\"x\":[95,92,95,90,95,92,95,95,93,93,93,93,90,90,94,94,94,90,94,94,95,95,91,95,95,95,95,95,94,94,94,94,92,92,95,95,95,95,95,95,95,95,91,93,94,94,94,94,94,95,95,95,93,93,93,93,93,94,94,94,94,94,95,95,95,95,95,95,94,94,94,94,94,94,94,91,91,91,95,95,95,95,92,92,95,95,95,95,95,95,95,95,95,95,95,95,95,95,95,95],\"y\":[0.03972417128016814,0.03150130927034278,0.03841529973658442,0.03290853805296512,0.03972417128016814,0.03627565732075966,0.03914525809569347,0.03811352012234037,0.03405705487524624,0.03276670739911136,0.03276670739911136,0.035021732455316035,0.02934388564589563,0.029878283608560374,0.034527350929518086,0.034527350929518086,0.03708001131456751,0.032158966152732615,0.03406842653051889,0.03406842653051889,0.03531786379341151,0.03675762654240755,0.029942474990344303,0.03675762654240755,0.03675762654240755,0.03675762654240755,0.03972417128016814,0.03972417128016814,0.03313503724431055,0.03313503724431055,0.03313503724431055,0.039596318080430626,0.034600210623011995,0.034600210623011995,0.037649501057215096,0.03509608504863382,0.03450229235795932,0.03638321275044398,0.03638321275044398,0.03638321275044398,0.03638321275044398,0.035387886928649026,0.03162863880602629,0.03319170834060814,0.039596318080430626,0.039596318080430626,0.039596318080430626,0.039596318080430626,0.03764206357346522,0.03841529973658442,0.03841529973658442,0.035962606633399674,0.033059547036776715,0.033059547036776715,0.03276670739911136,0.03276670739911136,0.03276670739911136,0.039596318080430626,0.03313503724431055,0.03313503724431055,0.03313503724431055,0.034527350929518086,0.03450229235795932,0.03924822827976826,0.03507043485048422,0.0369247734967979,0.0369247734967979,0.0369247734967979,0.039596318080430626,0.039596318080430626,0.039596318080430626,0.039596318080430626,0.03313503724431055,0.03708001131456751,0.039596318080430626,0.033663261609450545,0.033663261609450545,0.033663261609450545,0.03811352012234037,0.0369247734967979,0.03914525809569347,0.03972417128016814,0.03151282166023561,0.033738510857085235,0.03972417128016814,0.03972417128016814,0.03972417128016814,0.03972417128016814,0.03972417128016814,0.03972417128016814,0.03972417128016814,0.03972417128016814,0.03450229235795932,0.03972417128016814,0.03972417128016814,0.03972417128016814,0.03972417128016814,0.03972417128016814,0.03972417128016814,0.03972417128016814],\"type\":\"scatter\",\"xaxis\":\"x3\",\"yaxis\":\"y3\"},{\"marker\":{\"color\":[0,1,2,3,4,5,6,7,8,9,10,11,12,13,14,15,16,17,18,19,20,21,22,23,24,25,26,27,28,29,30,31,32,33,34,35,36,37,38,39,40,41,42,43,44,45,46,47,48,49,50,51,52,53,54,55,56,57,58,59,60,61,62,63,64,65,66,67,68,69,70,71,72,73,74,75,76,77,78,79,80,81,82,83,84,85,86,87,88,89,90,91,92,93,94,95,96,97,98,99],\"colorbar\":{\"title\":{\"text\":\"Trial\"},\"x\":1.0,\"xpad\":40},\"colorscale\":[[0.0,\"rgb(247,251,255)\"],[0.125,\"rgb(222,235,247)\"],[0.25,\"rgb(198,219,239)\"],[0.375,\"rgb(158,202,225)\"],[0.5,\"rgb(107,174,214)\"],[0.625,\"rgb(66,146,198)\"],[0.75,\"rgb(33,113,181)\"],[0.875,\"rgb(8,81,156)\"],[1.0,\"rgb(8,48,107)\"]],\"line\":{\"color\":\"Grey\",\"width\":0.5},\"showscale\":false},\"mode\":\"markers\",\"name\":\"Feasible Trial\",\"showlegend\":false,\"x\":[22,20,21,23,22,24,25,25,25,22,22,22,23,20,23,23,21,21,21,21,21,24,24,24,24,24,22,22,22,22,22,22,20,20,20,20,23,23,23,23,23,22,22,22,22,22,22,22,21,21,21,21,21,21,22,22,22,22,22,22,22,23,23,23,23,22,22,22,22,22,22,22,22,21,22,22,22,22,25,22,25,22,25,21,22,22,22,22,22,22,22,22,23,22,22,22,22,22,22,22],\"y\":[0.03972417128016814,0.03150130927034278,0.03841529973658442,0.03290853805296512,0.03972417128016814,0.03627565732075966,0.03914525809569347,0.03811352012234037,0.03405705487524624,0.03276670739911136,0.03276670739911136,0.035021732455316035,0.02934388564589563,0.029878283608560374,0.034527350929518086,0.034527350929518086,0.03708001131456751,0.032158966152732615,0.03406842653051889,0.03406842653051889,0.03531786379341151,0.03675762654240755,0.029942474990344303,0.03675762654240755,0.03675762654240755,0.03675762654240755,0.03972417128016814,0.03972417128016814,0.03313503724431055,0.03313503724431055,0.03313503724431055,0.039596318080430626,0.034600210623011995,0.034600210623011995,0.037649501057215096,0.03509608504863382,0.03450229235795932,0.03638321275044398,0.03638321275044398,0.03638321275044398,0.03638321275044398,0.035387886928649026,0.03162863880602629,0.03319170834060814,0.039596318080430626,0.039596318080430626,0.039596318080430626,0.039596318080430626,0.03764206357346522,0.03841529973658442,0.03841529973658442,0.035962606633399674,0.033059547036776715,0.033059547036776715,0.03276670739911136,0.03276670739911136,0.03276670739911136,0.039596318080430626,0.03313503724431055,0.03313503724431055,0.03313503724431055,0.034527350929518086,0.03450229235795932,0.03924822827976826,0.03507043485048422,0.0369247734967979,0.0369247734967979,0.0369247734967979,0.039596318080430626,0.039596318080430626,0.039596318080430626,0.039596318080430626,0.03313503724431055,0.03708001131456751,0.039596318080430626,0.033663261609450545,0.033663261609450545,0.033663261609450545,0.03811352012234037,0.0369247734967979,0.03914525809569347,0.03972417128016814,0.03151282166023561,0.033738510857085235,0.03972417128016814,0.03972417128016814,0.03972417128016814,0.03972417128016814,0.03972417128016814,0.03972417128016814,0.03972417128016814,0.03972417128016814,0.03450229235795932,0.03972417128016814,0.03972417128016814,0.03972417128016814,0.03972417128016814,0.03972417128016814,0.03972417128016814,0.03972417128016814],\"type\":\"scatter\",\"xaxis\":\"x4\",\"yaxis\":\"y4\"},{\"marker\":{\"color\":[0,1,2,3,4,5,6,7,8,9,10,11,12,13,14,15,16,17,18,19,20,21,22,23,24,25,26,27,28,29,30,31,32,33,34,35,36,37,38,39,40,41,42,43,44,45,46,47,48,49,50,51,52,53,54,55,56,57,58,59,60,61,62,63,64,65,66,67,68,69,70,71,72,73,74,75,76,77,78,79,80,81,82,83,84,85,86,87,88,89,90,91,92,93,94,95,96,97,98,99],\"colorbar\":{\"title\":{\"text\":\"Trial\"},\"x\":1.0,\"xpad\":40},\"colorscale\":[[0.0,\"rgb(247,251,255)\"],[0.125,\"rgb(222,235,247)\"],[0.25,\"rgb(198,219,239)\"],[0.375,\"rgb(158,202,225)\"],[0.5,\"rgb(107,174,214)\"],[0.625,\"rgb(66,146,198)\"],[0.75,\"rgb(33,113,181)\"],[0.875,\"rgb(8,81,156)\"],[1.0,\"rgb(8,48,107)\"]],\"line\":{\"color\":\"Grey\",\"width\":0.5},\"showscale\":false},\"mode\":\"markers\",\"name\":\"Feasible Trial\",\"showlegend\":false,\"x\":[82,80,83,81,82,81,82,83,83,83,83,80,80,80,82,82,82,81,81,81,81,82,82,82,82,82,82,82,82,82,82,83,83,83,83,82,82,81,81,81,81,81,82,82,83,83,83,83,83,83,83,82,82,82,83,83,83,83,82,82,82,82,82,80,83,83,83,83,83,83,83,83,82,82,83,83,83,83,83,83,82,82,82,82,82,82,82,82,82,82,82,82,82,82,82,82,82,82,82,82],\"y\":[0.03972417128016814,0.03150130927034278,0.03841529973658442,0.03290853805296512,0.03972417128016814,0.03627565732075966,0.03914525809569347,0.03811352012234037,0.03405705487524624,0.03276670739911136,0.03276670739911136,0.035021732455316035,0.02934388564589563,0.029878283608560374,0.034527350929518086,0.034527350929518086,0.03708001131456751,0.032158966152732615,0.03406842653051889,0.03406842653051889,0.03531786379341151,0.03675762654240755,0.029942474990344303,0.03675762654240755,0.03675762654240755,0.03675762654240755,0.03972417128016814,0.03972417128016814,0.03313503724431055,0.03313503724431055,0.03313503724431055,0.039596318080430626,0.034600210623011995,0.034600210623011995,0.037649501057215096,0.03509608504863382,0.03450229235795932,0.03638321275044398,0.03638321275044398,0.03638321275044398,0.03638321275044398,0.035387886928649026,0.03162863880602629,0.03319170834060814,0.039596318080430626,0.039596318080430626,0.039596318080430626,0.039596318080430626,0.03764206357346522,0.03841529973658442,0.03841529973658442,0.035962606633399674,0.033059547036776715,0.033059547036776715,0.03276670739911136,0.03276670739911136,0.03276670739911136,0.039596318080430626,0.03313503724431055,0.03313503724431055,0.03313503724431055,0.034527350929518086,0.03450229235795932,0.03924822827976826,0.03507043485048422,0.0369247734967979,0.0369247734967979,0.0369247734967979,0.039596318080430626,0.039596318080430626,0.039596318080430626,0.039596318080430626,0.03313503724431055,0.03708001131456751,0.039596318080430626,0.033663261609450545,0.033663261609450545,0.033663261609450545,0.03811352012234037,0.0369247734967979,0.03914525809569347,0.03972417128016814,0.03151282166023561,0.033738510857085235,0.03972417128016814,0.03972417128016814,0.03972417128016814,0.03972417128016814,0.03972417128016814,0.03972417128016814,0.03972417128016814,0.03972417128016814,0.03450229235795932,0.03972417128016814,0.03972417128016814,0.03972417128016814,0.03972417128016814,0.03972417128016814,0.03972417128016814,0.03972417128016814],\"type\":\"scatter\",\"xaxis\":\"x5\",\"yaxis\":\"y5\"},{\"marker\":{\"color\":[0,1,2,3,4,5,6,7,8,9,10,11,12,13,14,15,16,17,18,19,20,21,22,23,24,25,26,27,28,29,30,31,32,33,34,35,36,37,38,39,40,41,42,43,44,45,46,47,48,49,50,51,52,53,54,55,56,57,58,59,60,61,62,63,64,65,66,67,68,69,70,71,72,73,74,75,76,77,78,79,80,81,82,83,84,85,86,87,88,89,90,91,92,93,94,95,96,97,98,99],\"colorbar\":{\"title\":{\"text\":\"Trial\"},\"x\":1.0,\"xpad\":40},\"colorscale\":[[0.0,\"rgb(247,251,255)\"],[0.125,\"rgb(222,235,247)\"],[0.25,\"rgb(198,219,239)\"],[0.375,\"rgb(158,202,225)\"],[0.5,\"rgb(107,174,214)\"],[0.625,\"rgb(66,146,198)\"],[0.75,\"rgb(33,113,181)\"],[0.875,\"rgb(8,81,156)\"],[1.0,\"rgb(8,48,107)\"]],\"line\":{\"color\":\"Grey\",\"width\":0.5},\"showscale\":false},\"mode\":\"markers\",\"name\":\"Feasible Trial\",\"showlegend\":false,\"x\":[1,1,1,1,1,1,1,1,1,1,1,1,1,1,1,1,1,1,1,1,1,1,1,1,1,1,1,1,1,1,1,1,1,1,1,1,1,1,1,1,1,1,1,1,1,1,1,1,1,1,1,1,1,1,1,1,1,1,1,1,1,1,1,1,1,1,1,1,1,1,1,1,1,1,1,1,1,1,1,1,1,1,1,1,1,1,1,1,1,1,1,1,1,1,1,1,1,1,1,1],\"y\":[0.03972417128016814,0.03150130927034278,0.03841529973658442,0.03290853805296512,0.03972417128016814,0.03627565732075966,0.03914525809569347,0.03811352012234037,0.03405705487524624,0.03276670739911136,0.03276670739911136,0.035021732455316035,0.02934388564589563,0.029878283608560374,0.034527350929518086,0.034527350929518086,0.03708001131456751,0.032158966152732615,0.03406842653051889,0.03406842653051889,0.03531786379341151,0.03675762654240755,0.029942474990344303,0.03675762654240755,0.03675762654240755,0.03675762654240755,0.03972417128016814,0.03972417128016814,0.03313503724431055,0.03313503724431055,0.03313503724431055,0.039596318080430626,0.034600210623011995,0.034600210623011995,0.037649501057215096,0.03509608504863382,0.03450229235795932,0.03638321275044398,0.03638321275044398,0.03638321275044398,0.03638321275044398,0.035387886928649026,0.03162863880602629,0.03319170834060814,0.039596318080430626,0.039596318080430626,0.039596318080430626,0.039596318080430626,0.03764206357346522,0.03841529973658442,0.03841529973658442,0.035962606633399674,0.033059547036776715,0.033059547036776715,0.03276670739911136,0.03276670739911136,0.03276670739911136,0.039596318080430626,0.03313503724431055,0.03313503724431055,0.03313503724431055,0.034527350929518086,0.03450229235795932,0.03924822827976826,0.03507043485048422,0.0369247734967979,0.0369247734967979,0.0369247734967979,0.039596318080430626,0.039596318080430626,0.039596318080430626,0.039596318080430626,0.03313503724431055,0.03708001131456751,0.039596318080430626,0.033663261609450545,0.033663261609450545,0.033663261609450545,0.03811352012234037,0.0369247734967979,0.03914525809569347,0.03972417128016814,0.03151282166023561,0.033738510857085235,0.03972417128016814,0.03972417128016814,0.03972417128016814,0.03972417128016814,0.03972417128016814,0.03972417128016814,0.03972417128016814,0.03972417128016814,0.03450229235795932,0.03972417128016814,0.03972417128016814,0.03972417128016814,0.03972417128016814,0.03972417128016814,0.03972417128016814,0.03972417128016814],\"type\":\"scatter\",\"xaxis\":\"x6\",\"yaxis\":\"y6\"}],                        {\"template\":{\"data\":{\"histogram2dcontour\":[{\"type\":\"histogram2dcontour\",\"colorbar\":{\"outlinewidth\":0,\"ticks\":\"\"},\"colorscale\":[[0.0,\"#0d0887\"],[0.1111111111111111,\"#46039f\"],[0.2222222222222222,\"#7201a8\"],[0.3333333333333333,\"#9c179e\"],[0.4444444444444444,\"#bd3786\"],[0.5555555555555556,\"#d8576b\"],[0.6666666666666666,\"#ed7953\"],[0.7777777777777778,\"#fb9f3a\"],[0.8888888888888888,\"#fdca26\"],[1.0,\"#f0f921\"]]}],\"choropleth\":[{\"type\":\"choropleth\",\"colorbar\":{\"outlinewidth\":0,\"ticks\":\"\"}}],\"histogram2d\":[{\"type\":\"histogram2d\",\"colorbar\":{\"outlinewidth\":0,\"ticks\":\"\"},\"colorscale\":[[0.0,\"#0d0887\"],[0.1111111111111111,\"#46039f\"],[0.2222222222222222,\"#7201a8\"],[0.3333333333333333,\"#9c179e\"],[0.4444444444444444,\"#bd3786\"],[0.5555555555555556,\"#d8576b\"],[0.6666666666666666,\"#ed7953\"],[0.7777777777777778,\"#fb9f3a\"],[0.8888888888888888,\"#fdca26\"],[1.0,\"#f0f921\"]]}],\"heatmap\":[{\"type\":\"heatmap\",\"colorbar\":{\"outlinewidth\":0,\"ticks\":\"\"},\"colorscale\":[[0.0,\"#0d0887\"],[0.1111111111111111,\"#46039f\"],[0.2222222222222222,\"#7201a8\"],[0.3333333333333333,\"#9c179e\"],[0.4444444444444444,\"#bd3786\"],[0.5555555555555556,\"#d8576b\"],[0.6666666666666666,\"#ed7953\"],[0.7777777777777778,\"#fb9f3a\"],[0.8888888888888888,\"#fdca26\"],[1.0,\"#f0f921\"]]}],\"heatmapgl\":[{\"type\":\"heatmapgl\",\"colorbar\":{\"outlinewidth\":0,\"ticks\":\"\"},\"colorscale\":[[0.0,\"#0d0887\"],[0.1111111111111111,\"#46039f\"],[0.2222222222222222,\"#7201a8\"],[0.3333333333333333,\"#9c179e\"],[0.4444444444444444,\"#bd3786\"],[0.5555555555555556,\"#d8576b\"],[0.6666666666666666,\"#ed7953\"],[0.7777777777777778,\"#fb9f3a\"],[0.8888888888888888,\"#fdca26\"],[1.0,\"#f0f921\"]]}],\"contourcarpet\":[{\"type\":\"contourcarpet\",\"colorbar\":{\"outlinewidth\":0,\"ticks\":\"\"}}],\"contour\":[{\"type\":\"contour\",\"colorbar\":{\"outlinewidth\":0,\"ticks\":\"\"},\"colorscale\":[[0.0,\"#0d0887\"],[0.1111111111111111,\"#46039f\"],[0.2222222222222222,\"#7201a8\"],[0.3333333333333333,\"#9c179e\"],[0.4444444444444444,\"#bd3786\"],[0.5555555555555556,\"#d8576b\"],[0.6666666666666666,\"#ed7953\"],[0.7777777777777778,\"#fb9f3a\"],[0.8888888888888888,\"#fdca26\"],[1.0,\"#f0f921\"]]}],\"surface\":[{\"type\":\"surface\",\"colorbar\":{\"outlinewidth\":0,\"ticks\":\"\"},\"colorscale\":[[0.0,\"#0d0887\"],[0.1111111111111111,\"#46039f\"],[0.2222222222222222,\"#7201a8\"],[0.3333333333333333,\"#9c179e\"],[0.4444444444444444,\"#bd3786\"],[0.5555555555555556,\"#d8576b\"],[0.6666666666666666,\"#ed7953\"],[0.7777777777777778,\"#fb9f3a\"],[0.8888888888888888,\"#fdca26\"],[1.0,\"#f0f921\"]]}],\"mesh3d\":[{\"type\":\"mesh3d\",\"colorbar\":{\"outlinewidth\":0,\"ticks\":\"\"}}],\"scatter\":[{\"fillpattern\":{\"fillmode\":\"overlay\",\"size\":10,\"solidity\":0.2},\"type\":\"scatter\"}],\"parcoords\":[{\"type\":\"parcoords\",\"line\":{\"colorbar\":{\"outlinewidth\":0,\"ticks\":\"\"}}}],\"scatterpolargl\":[{\"type\":\"scatterpolargl\",\"marker\":{\"colorbar\":{\"outlinewidth\":0,\"ticks\":\"\"}}}],\"bar\":[{\"error_x\":{\"color\":\"#2a3f5f\"},\"error_y\":{\"color\":\"#2a3f5f\"},\"marker\":{\"line\":{\"color\":\"#E5ECF6\",\"width\":0.5},\"pattern\":{\"fillmode\":\"overlay\",\"size\":10,\"solidity\":0.2}},\"type\":\"bar\"}],\"scattergeo\":[{\"type\":\"scattergeo\",\"marker\":{\"colorbar\":{\"outlinewidth\":0,\"ticks\":\"\"}}}],\"scatterpolar\":[{\"type\":\"scatterpolar\",\"marker\":{\"colorbar\":{\"outlinewidth\":0,\"ticks\":\"\"}}}],\"histogram\":[{\"marker\":{\"pattern\":{\"fillmode\":\"overlay\",\"size\":10,\"solidity\":0.2}},\"type\":\"histogram\"}],\"scattergl\":[{\"type\":\"scattergl\",\"marker\":{\"colorbar\":{\"outlinewidth\":0,\"ticks\":\"\"}}}],\"scatter3d\":[{\"type\":\"scatter3d\",\"line\":{\"colorbar\":{\"outlinewidth\":0,\"ticks\":\"\"}},\"marker\":{\"colorbar\":{\"outlinewidth\":0,\"ticks\":\"\"}}}],\"scattermapbox\":[{\"type\":\"scattermapbox\",\"marker\":{\"colorbar\":{\"outlinewidth\":0,\"ticks\":\"\"}}}],\"scatterternary\":[{\"type\":\"scatterternary\",\"marker\":{\"colorbar\":{\"outlinewidth\":0,\"ticks\":\"\"}}}],\"scattercarpet\":[{\"type\":\"scattercarpet\",\"marker\":{\"colorbar\":{\"outlinewidth\":0,\"ticks\":\"\"}}}],\"carpet\":[{\"aaxis\":{\"endlinecolor\":\"#2a3f5f\",\"gridcolor\":\"white\",\"linecolor\":\"white\",\"minorgridcolor\":\"white\",\"startlinecolor\":\"#2a3f5f\"},\"baxis\":{\"endlinecolor\":\"#2a3f5f\",\"gridcolor\":\"white\",\"linecolor\":\"white\",\"minorgridcolor\":\"white\",\"startlinecolor\":\"#2a3f5f\"},\"type\":\"carpet\"}],\"table\":[{\"cells\":{\"fill\":{\"color\":\"#EBF0F8\"},\"line\":{\"color\":\"white\"}},\"header\":{\"fill\":{\"color\":\"#C8D4E3\"},\"line\":{\"color\":\"white\"}},\"type\":\"table\"}],\"barpolar\":[{\"marker\":{\"line\":{\"color\":\"#E5ECF6\",\"width\":0.5},\"pattern\":{\"fillmode\":\"overlay\",\"size\":10,\"solidity\":0.2}},\"type\":\"barpolar\"}],\"pie\":[{\"automargin\":true,\"type\":\"pie\"}]},\"layout\":{\"autotypenumbers\":\"strict\",\"colorway\":[\"#636efa\",\"#EF553B\",\"#00cc96\",\"#ab63fa\",\"#FFA15A\",\"#19d3f3\",\"#FF6692\",\"#B6E880\",\"#FF97FF\",\"#FECB52\"],\"font\":{\"color\":\"#2a3f5f\"},\"hovermode\":\"closest\",\"hoverlabel\":{\"align\":\"left\"},\"paper_bgcolor\":\"white\",\"plot_bgcolor\":\"#E5ECF6\",\"polar\":{\"bgcolor\":\"#E5ECF6\",\"angularaxis\":{\"gridcolor\":\"white\",\"linecolor\":\"white\",\"ticks\":\"\"},\"radialaxis\":{\"gridcolor\":\"white\",\"linecolor\":\"white\",\"ticks\":\"\"}},\"ternary\":{\"bgcolor\":\"#E5ECF6\",\"aaxis\":{\"gridcolor\":\"white\",\"linecolor\":\"white\",\"ticks\":\"\"},\"baxis\":{\"gridcolor\":\"white\",\"linecolor\":\"white\",\"ticks\":\"\"},\"caxis\":{\"gridcolor\":\"white\",\"linecolor\":\"white\",\"ticks\":\"\"}},\"coloraxis\":{\"colorbar\":{\"outlinewidth\":0,\"ticks\":\"\"}},\"colorscale\":{\"sequential\":[[0.0,\"#0d0887\"],[0.1111111111111111,\"#46039f\"],[0.2222222222222222,\"#7201a8\"],[0.3333333333333333,\"#9c179e\"],[0.4444444444444444,\"#bd3786\"],[0.5555555555555556,\"#d8576b\"],[0.6666666666666666,\"#ed7953\"],[0.7777777777777778,\"#fb9f3a\"],[0.8888888888888888,\"#fdca26\"],[1.0,\"#f0f921\"]],\"sequentialminus\":[[0.0,\"#0d0887\"],[0.1111111111111111,\"#46039f\"],[0.2222222222222222,\"#7201a8\"],[0.3333333333333333,\"#9c179e\"],[0.4444444444444444,\"#bd3786\"],[0.5555555555555556,\"#d8576b\"],[0.6666666666666666,\"#ed7953\"],[0.7777777777777778,\"#fb9f3a\"],[0.8888888888888888,\"#fdca26\"],[1.0,\"#f0f921\"]],\"diverging\":[[0,\"#8e0152\"],[0.1,\"#c51b7d\"],[0.2,\"#de77ae\"],[0.3,\"#f1b6da\"],[0.4,\"#fde0ef\"],[0.5,\"#f7f7f7\"],[0.6,\"#e6f5d0\"],[0.7,\"#b8e186\"],[0.8,\"#7fbc41\"],[0.9,\"#4d9221\"],[1,\"#276419\"]]},\"xaxis\":{\"gridcolor\":\"white\",\"linecolor\":\"white\",\"ticks\":\"\",\"title\":{\"standoff\":15},\"zerolinecolor\":\"white\",\"automargin\":true,\"zerolinewidth\":2},\"yaxis\":{\"gridcolor\":\"white\",\"linecolor\":\"white\",\"ticks\":\"\",\"title\":{\"standoff\":15},\"zerolinecolor\":\"white\",\"automargin\":true,\"zerolinewidth\":2},\"scene\":{\"xaxis\":{\"backgroundcolor\":\"#E5ECF6\",\"gridcolor\":\"white\",\"linecolor\":\"white\",\"showbackground\":true,\"ticks\":\"\",\"zerolinecolor\":\"white\",\"gridwidth\":2},\"yaxis\":{\"backgroundcolor\":\"#E5ECF6\",\"gridcolor\":\"white\",\"linecolor\":\"white\",\"showbackground\":true,\"ticks\":\"\",\"zerolinecolor\":\"white\",\"gridwidth\":2},\"zaxis\":{\"backgroundcolor\":\"#E5ECF6\",\"gridcolor\":\"white\",\"linecolor\":\"white\",\"showbackground\":true,\"ticks\":\"\",\"zerolinecolor\":\"white\",\"gridwidth\":2}},\"shapedefaults\":{\"line\":{\"color\":\"#2a3f5f\"}},\"annotationdefaults\":{\"arrowcolor\":\"#2a3f5f\",\"arrowhead\":0,\"arrowwidth\":1},\"geo\":{\"bgcolor\":\"white\",\"landcolor\":\"#E5ECF6\",\"subunitcolor\":\"white\",\"showland\":true,\"showlakes\":true,\"lakecolor\":\"white\"},\"title\":{\"x\":0.05},\"mapbox\":{\"style\":\"light\"}}},\"xaxis\":{\"anchor\":\"y\",\"domain\":[0.0,0.1388888888888889],\"title\":{\"text\":\"a\"}},\"yaxis\":{\"anchor\":\"x\",\"domain\":[0.0,1.0],\"title\":{\"text\":\"Jaccard Similarity\"}},\"xaxis2\":{\"anchor\":\"y2\",\"domain\":[0.17222222222222222,0.3111111111111111],\"title\":{\"text\":\"b\"}},\"yaxis2\":{\"anchor\":\"x2\",\"domain\":[0.0,1.0],\"matches\":\"y\",\"showticklabels\":false},\"xaxis3\":{\"anchor\":\"y3\",\"domain\":[0.34444444444444444,0.48333333333333334],\"title\":{\"text\":\"maxidn\"}},\"yaxis3\":{\"anchor\":\"x3\",\"domain\":[0.0,1.0],\"matches\":\"y\",\"showticklabels\":false},\"xaxis4\":{\"anchor\":\"y4\",\"domain\":[0.5166666666666667,0.6555555555555557],\"title\":{\"text\":\"maxsd\"}},\"yaxis4\":{\"anchor\":\"x4\",\"domain\":[0.0,1.0],\"matches\":\"y\",\"showticklabels\":false},\"xaxis5\":{\"anchor\":\"y5\",\"domain\":[0.6888888888888889,0.8277777777777777],\"title\":{\"text\":\"minidn\"}},\"yaxis5\":{\"anchor\":\"x5\",\"domain\":[0.0,1.0],\"matches\":\"y\",\"showticklabels\":false},\"xaxis6\":{\"anchor\":\"y6\",\"domain\":[0.861111111111111,1.0],\"title\":{\"text\":\"minsd\"}},\"yaxis6\":{\"anchor\":\"x6\",\"domain\":[0.0,1.0],\"matches\":\"y\",\"showticklabels\":false},\"title\":{\"text\":\"Slice Plot\"},\"width\":1800},                        {\"responsive\": true}                    ).then(function(){\n",
       "                            \n",
       "var gd = document.getElementById('6c2fa978-dbbd-40f1-ad4a-146024907a7e');\n",
       "var x = new MutationObserver(function (mutations, observer) {{\n",
       "        var display = window.getComputedStyle(gd).display;\n",
       "        if (!display || display === 'none') {{\n",
       "            console.log([gd, 'removed!']);\n",
       "            Plotly.purge(gd);\n",
       "            observer.disconnect();\n",
       "        }}\n",
       "}});\n",
       "\n",
       "// Listen for the removal of the full notebook cells\n",
       "var notebookContainer = gd.closest('#notebook-container');\n",
       "if (notebookContainer) {{\n",
       "    x.observe(notebookContainer, {childList: true});\n",
       "}}\n",
       "\n",
       "// Listen for the clearing of the current output cell\n",
       "var outputEl = gd.closest('.output');\n",
       "if (outputEl) {{\n",
       "    x.observe(outputEl, {childList: true});\n",
       "}}\n",
       "\n",
       "                        })                };                });            </script>        </div>"
      ]
     },
     "metadata": {},
     "output_type": "display_data"
    },
    {
     "data": {
      "text/plain": [
       "<calisim.optimisation.implementation.OptimisationMethod at 0x7f9fc027bc70>"
      ]
     },
     "execution_count": 14,
     "metadata": {},
     "output_type": "execute_result"
    }
   ],
   "source": [
    "import numpy as np\n",
    "import pandas as pd\n",
    "\n",
    "from calisim.data_model import (\n",
    "    DistributionModel,\n",
    "    ParameterDataType,\n",
    "    ParameterSpecification,\n",
    ")\n",
    "from calisim.optimisation import OptimisationMethod, OptimisationMethodModel\n",
    "\n",
    "parameter_spec = ParameterSpecification(\n",
    "parameters=[\n",
    "    DistributionModel(\n",
    "        name=\"maxidn\",\n",
    "        distribution_name=\"uniform\",\n",
    "        distribution_args=[90, 95],\n",
    "        data_type=ParameterDataType.DISCRETE,\n",
    "    ),\n",
    "    DistributionModel(\n",
    "        name=\"minidn\",\n",
    "        distribution_name=\"uniform\",\n",
    "        distribution_args=[80, 83],\n",
    "        data_type=ParameterDataType.DISCRETE,\n",
    "    ),\n",
    "    DistributionModel(\n",
    "        name=\"maxsd\",\n",
    "        distribution_name=\"uniform\",\n",
    "        distribution_args=[20, 25],\n",
    "        data_type=ParameterDataType.DISCRETE,\n",
    "    ),\n",
    "    DistributionModel(\n",
    "        name=\"minsd\",\n",
    "        distribution_name=\"uniform\",\n",
    "        distribution_args=[1, 1],\n",
    "        data_type=ParameterDataType.DISCRETE,\n",
    "    ),\n",
    "    DistributionModel(\n",
    "        name=\"a\",\n",
    "        distribution_name=\"uniform\",\n",
    "        distribution_args=[0.7, 0.9],\n",
    "        data_type=ParameterDataType.CONTINUOUS,\n",
    "    ),\n",
    "    DistributionModel(\n",
    "        name=\"b\",\n",
    "        distribution_name=\"uniform\",\n",
    "        distribution_args=[0.5, 0.8],\n",
    "        data_type=ParameterDataType.CONTINUOUS,\n",
    "    ),\n",
    "]\n",
    ")\n",
    "\n",
    "def objective(\n",
    "    parameters: dict, simulation_id: str, observed_data: np.ndarray | None\n",
    ") -> float | list[float]:\n",
    "    simulation_parameters = {}\n",
    "    \n",
    "    maxidn=parameters[\"maxidn\"]\n",
    "    minidn=parameters[\"minidn\"]\n",
    "    maxsd=parameters[\"maxsd\"]\n",
    "    minsd=parameters[\"minsd\"]\n",
    "    a=parameters[\"a\"]\n",
    "    b=parameters[\"b\"]\n",
    "\n",
    "    p=simulation_id\n",
    "    cmd = f\"tegenomesimulator -M {M} -p {p} -c {c} -r {r} -o {o} -a {a} -b {b} -i {i} -m {m} -n {n} --maxidn {maxidn} --minidn {minidn} --maxsd {maxsd} --minsd {minsd} -s {seed}\"\n",
    "    Popen(cmd, shell=True, stdout=subprocess.DEVNULL, stderr=subprocess.DEVNULL).wait()\n",
    "    \n",
    "    genome_sequence_path = f\"{o}/TEgenomeSimulator_{p}_result/{p}_genome_sequence_out_final.fasta\"\n",
    "\n",
    "    mh = MinHash(n=0, ksize=ksize, scaled=scaled, track_abundance=track_abundance, seed=seed)\n",
    "    for record in SeqIO.parse(genome_sequence_path, \"fasta\"):\n",
    "        mh.add_sequence(str(record.seq), force=True)\n",
    "    encoded_genome_sequence = sig.SourmashSignature(mh, name=p)\n",
    "    similarity = encoded_genome_sequence.similarity(reference_encoded_genome_sequence)\n",
    "\n",
    "    return similarity\n",
    "\n",
    "specification = OptimisationMethodModel(\n",
    "    experiment_name=\"optuna_optimisation\",\n",
    "    parameter_spec=parameter_spec,\n",
    "    method=\"tpes\",\n",
    "    directions=[\"maximize\"],\n",
    "    output_labels=[\"Jaccard Similarity\"],\n",
    "    n_iterations=100,\n",
    "    n_jobs=4,\n",
    "    method_kwargs=dict(n_startup_trials=1),\n",
    ")\n",
    "\n",
    "calibrator = OptimisationMethod(\n",
    "    calibration_func=objective, specification=specification, engine=\"optuna\"\n",
    ")\n",
    "\n",
    "calibrator.specify().execute().analyze()"
   ]
  },
  {
   "cell_type": "code",
   "execution_count": null,
   "id": "bae047de-8f7f-4254-aa1c-143c66f9cd93",
   "metadata": {},
   "outputs": [],
   "source": []
  }
 ],
 "metadata": {
  "kernelspec": {
   "display_name": "Python 3 (ipykernel)",
   "language": "python",
   "name": "python3"
  },
  "language_info": {
   "codemirror_mode": {
    "name": "ipython",
    "version": 3
   },
   "file_extension": ".py",
   "mimetype": "text/x-python",
   "name": "python",
   "nbconvert_exporter": "python",
   "pygments_lexer": "ipython3",
   "version": "3.10.17"
  }
 },
 "nbformat": 4,
 "nbformat_minor": 5
}
