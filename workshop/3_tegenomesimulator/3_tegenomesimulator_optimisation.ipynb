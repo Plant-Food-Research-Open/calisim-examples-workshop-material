{
 "cells": [
  {
   "cell_type": "markdown",
   "id": "9f22e386-62d1-4f3b-9d6f-25a6edec4220",
   "metadata": {},
   "source": [
    "# Imports"
   ]
  },
  {
   "cell_type": "code",
   "execution_count": 2,
   "id": "1fb5183b-ee2a-4de8-8004-b43e5b18e427",
   "metadata": {},
   "outputs": [],
   "source": [
    "from subprocess import Popen\n",
    "import subprocess\n",
    "from pathlib import Path\n",
    "import numpy as np\n",
    "from sourmash import MinHash\n",
    "from sourmash import signature as sig\n",
    "from Bio import SeqIO\n",
    "import copy"
   ]
  },
  {
   "cell_type": "markdown",
   "id": "d27bc528-a8a4-4ccc-abf4-55a2566efec4",
   "metadata": {},
   "source": [
    "# Reference simulation\n",
    "\n",
    "Execute the reference simulation."
   ]
  },
  {
   "cell_type": "code",
   "execution_count": 3,
   "id": "8c9e3e28-9ba0-4ecf-ae55-1bce65b44ede",
   "metadata": {},
   "outputs": [
    {
     "data": {
      "text/plain": [
       "0"
      ]
     },
     "execution_count": 3,
     "metadata": {},
     "output_type": "execute_result"
    }
   ],
   "source": [
    "M = 0\n",
    "c=str(Path(\"data\", \"random_genome_chr_index.csv\"))\n",
    "r=str(Path(\"data\", \"combined_curated_TE_lib_ATOSZM_selected.fasta\"))\n",
    "o=\"data\"\n",
    "maxidn=95\n",
    "minidn=80\n",
    "maxsd=20\n",
    "minsd=1\n",
    "a=0.7\n",
    "b=0.5\n",
    "i=0.001\n",
    "m=3\n",
    "n=3\n",
    "\n",
    "ksize = 51 \n",
    "scaled = 100  \n",
    "track_abundance = True\n",
    "seed = 100\n",
    "\n",
    "p=\"reference_simulation\"\n",
    "cmd = f\"tegenomesimulator -M {M} -p {p} -c {c} -r {r} -o {o} -a {a} -b {b} -i {i} -m {m} -n {n} --maxidn {maxidn} --minidn {minidn} --maxsd {maxsd} --minsd {minsd} -s {seed}\"\n",
    "Popen(cmd, shell=True, stdout=subprocess.DEVNULL, stderr=subprocess.DEVNULL).wait()"
   ]
  },
  {
   "cell_type": "markdown",
   "id": "c400a300-6f3d-419d-9837-64ec635afcb0",
   "metadata": {},
   "source": [
    "Derive Sourmash signature. "
   ]
  },
  {
   "cell_type": "markdown",
   "id": "85dfc16e-7313-403c-adab-ea1193b1c5fb",
   "metadata": {},
   "source": [
    "# Optimisation\n",
    "\n",
    "Ground-truth parameter values\n",
    "\n",
    "```python\n",
    "maxidn=95\n",
    "minidn=80\n",
    "maxsd=20\n",
    "minsd=1\n",
    "a=0.7\n",
    "b=0.5\n",
    "```"
   ]
  },
  {
   "cell_type": "code",
   "execution_count": 4,
   "id": "b2f8711c-30a7-4005-a461-ac74717ef403",
   "metadata": {},
   "outputs": [
    {
     "data": {
      "text/plain": [
       "SourmashSignature('reference_genome', 945a20e9)"
      ]
     },
     "execution_count": 4,
     "metadata": {},
     "output_type": "execute_result"
    }
   ],
   "source": [
    "reference_genome_sequence_path = f\"{o}/TEgenomeSimulator_{p}_result/{p}_genome_sequence_out_final.fasta\"\n",
    "\n",
    "mh = MinHash(n=0, ksize=ksize, scaled=scaled, track_abundance=track_abundance, seed=seed)\n",
    "for record in SeqIO.parse(reference_genome_sequence_path, \"fasta\"):\n",
    "    mh.add_sequence(str(record.seq), force=True)\n",
    "reference_encoded_genome_sequence = sig.SourmashSignature(mh, name=\"reference_genome\")\n",
    "reference_encoded_genome_sequence"
   ]
  },
  {
   "cell_type": "code",
   "execution_count": 5,
   "id": "ec404497-6469-4191-9117-82215d44e5ac",
   "metadata": {},
   "outputs": [
    {
     "data": {
      "text/plain": [
       "0.9999999865842415"
      ]
     },
     "execution_count": 5,
     "metadata": {},
     "output_type": "execute_result"
    }
   ],
   "source": [
    "reference_encoded_genome_sequence.similarity(reference_encoded_genome_sequence)"
   ]
  },
  {
   "cell_type": "code",
   "execution_count": null,
   "id": "4973acd0-64c3-451b-ba27-1a420c4b37be",
   "metadata": {},
   "outputs": [
    {
     "name": "stderr",
     "output_type": "stream",
     "text": [
      "[I 2025-10-09 21:04:59,425] A new study created in memory with name: optuna_optimisation\n",
      "[I 2025-10-09 21:05:28,181] Trial 1 finished with value: 0.0249145561854881 and parameters: {'maxidn': 91, 'minidn': 80, 'maxsd': 22}. Best is trial 1 with value: 0.0249145561854881.\n",
      "[I 2025-10-09 21:05:28,271] Trial 0 finished with value: 0.024621770452090797 and parameters: {'maxidn': 91, 'minidn': 78, 'maxsd': 18}. Best is trial 1 with value: 0.0249145561854881.\n",
      "[I 2025-10-09 21:05:28,296] Trial 3 finished with value: 0.02275302657571221 and parameters: {'maxidn': 91, 'minidn': 79, 'maxsd': 18}. Best is trial 1 with value: 0.0249145561854881.\n",
      "[I 2025-10-09 21:05:28,373] Trial 2 finished with value: 0.022764785918841457 and parameters: {'maxidn': 89, 'minidn': 78, 'maxsd': 19}. Best is trial 1 with value: 0.0249145561854881.\n",
      "[I 2025-10-09 21:05:46,727] Trial 6 finished with value: 0.022953429398612446 and parameters: {'maxidn': 88, 'minidn': 82, 'maxsd': 22}. Best is trial 1 with value: 0.0249145561854881.\n",
      "[I 2025-10-09 21:05:46,871] Trial 4 finished with value: 0.0249145561854881 and parameters: {'maxidn': 91, 'minidn': 80, 'maxsd': 22}. Best is trial 1 with value: 0.0249145561854881.\n",
      "[I 2025-10-09 21:05:46,892] Trial 7 finished with value: 0.026262967332447262 and parameters: {'maxidn': 92, 'minidn': 82, 'maxsd': 22}. Best is trial 7 with value: 0.026262967332447262.\n",
      "[I 2025-10-09 21:05:46,919] Trial 5 finished with value: 0.02577486011600283 and parameters: {'maxidn': 91, 'minidn': 81, 'maxsd': 22}. Best is trial 7 with value: 0.026262967332447262.\n",
      "[I 2025-10-09 21:05:58,902] Trial 9 finished with value: 0.0 and parameters: {'maxidn': 92, 'minidn': 82, 'maxsd': 21}. Best is trial 7 with value: 0.026262967332447262.\n",
      "[I 2025-10-09 21:05:59,307] Trial 10 finished with value: 0.027017391215578557 and parameters: {'maxidn': 92, 'minidn': 82, 'maxsd': 20}. Best is trial 10 with value: 0.027017391215578557.\n",
      "[I 2025-10-09 21:05:59,308] Trial 8 finished with value: 0.027384840636925478 and parameters: {'maxidn': 92, 'minidn': 81, 'maxsd': 22}. Best is trial 8 with value: 0.027384840636925478.\n",
      "[I 2025-10-09 21:06:00,305] Trial 11 finished with value: 0.027017391215578557 and parameters: {'maxidn': 92, 'minidn': 82, 'maxsd': 20}. Best is trial 8 with value: 0.027384840636925478.\n",
      "[I 2025-10-09 21:06:11,132] Trial 12 finished with value: 0.025485985732029315 and parameters: {'maxidn': 92, 'minidn': 81, 'maxsd': 20}. Best is trial 8 with value: 0.027384840636925478.\n",
      "[I 2025-10-09 21:06:11,809] Trial 14 finished with value: 0.025485985732029315 and parameters: {'maxidn': 92, 'minidn': 81, 'maxsd': 20}. Best is trial 8 with value: 0.027384840636925478.\n",
      "[I 2025-10-09 21:06:12,389] Trial 13 finished with value: 0.025485985732029315 and parameters: {'maxidn': 92, 'minidn': 81, 'maxsd': 20}. Best is trial 8 with value: 0.027384840636925478.\n",
      "[I 2025-10-09 21:06:13,044] Trial 15 finished with value: 0.023986076205635865 and parameters: {'maxidn': 90, 'minidn': 81, 'maxsd': 20}. Best is trial 8 with value: 0.027384840636925478.\n",
      "[I 2025-10-09 21:06:23,963] Trial 16 finished with value: 0.024266193612326847 and parameters: {'maxidn': 90, 'minidn': 81, 'maxsd': 21}. Best is trial 8 with value: 0.027384840636925478.\n",
      "[I 2025-10-09 21:06:24,689] Trial 17 finished with value: 0.024266193612326847 and parameters: {'maxidn': 90, 'minidn': 81, 'maxsd': 21}. Best is trial 8 with value: 0.027384840636925478.\n",
      "[I 2025-10-09 21:06:25,357] Trial 19 finished with value: 0.02389349241875738 and parameters: {'maxidn': 90, 'minidn': 80, 'maxsd': 21}. Best is trial 8 with value: 0.027384840636925478.\n",
      "[I 2025-10-09 21:06:25,659] Trial 18 finished with value: 0.024266193612326847 and parameters: {'maxidn': 90, 'minidn': 81, 'maxsd': 21}. Best is trial 8 with value: 0.027384840636925478.\n",
      "[I 2025-10-09 21:06:36,684] Trial 20 finished with value: 0.02247169317716191 and parameters: {'maxidn': 89, 'minidn': 79, 'maxsd': 21}. Best is trial 8 with value: 0.027384840636925478.\n",
      "[I 2025-10-09 21:06:37,574] Trial 21 finished with value: 0.023151644253639247 and parameters: {'maxidn': 89, 'minidn': 79, 'maxsd': 19}. Best is trial 8 with value: 0.027384840636925478.\n",
      "[I 2025-10-09 21:06:38,501] Trial 23 finished with value: 0.024884632266312323 and parameters: {'maxidn': 88, 'minidn': 79, 'maxsd': 19}. Best is trial 8 with value: 0.027384840636925478.\n",
      "[I 2025-10-09 21:06:38,523] Trial 22 finished with value: 0.023151644253639247 and parameters: {'maxidn': 89, 'minidn': 79, 'maxsd': 19}. Best is trial 8 with value: 0.027384840636925478.\n",
      "[I 2025-10-09 21:06:48,569] Trial 24 finished with value: 0.025785617110787862 and parameters: {'maxidn': 92, 'minidn': 82, 'maxsd': 19}. Best is trial 8 with value: 0.027384840636925478.\n",
      "[I 2025-10-09 21:06:50,658] Trial 25 finished with value: 0.025785617110787862 and parameters: {'maxidn': 92, 'minidn': 82, 'maxsd': 19}. Best is trial 8 with value: 0.027384840636925478.\n",
      "[I 2025-10-09 21:06:51,219] Trial 26 finished with value: 0.025785617110787862 and parameters: {'maxidn': 92, 'minidn': 82, 'maxsd': 19}. Best is trial 8 with value: 0.027384840636925478.\n",
      "[I 2025-10-09 21:06:52,006] Trial 27 finished with value: 0.027017391215578557 and parameters: {'maxidn': 92, 'minidn': 82, 'maxsd': 20}. Best is trial 8 with value: 0.027384840636925478.\n",
      "[I 2025-10-09 21:07:00,731] Trial 28 finished with value: 0.027017391215578557 and parameters: {'maxidn': 92, 'minidn': 82, 'maxsd': 20}. Best is trial 8 with value: 0.027384840636925478.\n",
      "[I 2025-10-09 21:07:03,814] Trial 29 finished with value: 0.026392098015734056 and parameters: {'maxidn': 91, 'minidn': 82, 'maxsd': 20}. Best is trial 8 with value: 0.027384840636925478.\n",
      "[I 2025-10-09 21:07:04,416] Trial 30 finished with value: 0.026392098015734056 and parameters: {'maxidn': 91, 'minidn': 82, 'maxsd': 20}. Best is trial 8 with value: 0.027384840636925478.\n",
      "[I 2025-10-09 21:07:05,175] Trial 31 finished with value: 0.026392098015734056 and parameters: {'maxidn': 91, 'minidn': 82, 'maxsd': 20}. Best is trial 8 with value: 0.027384840636925478.\n"
     ]
    }
   ],
   "source": [
    "import numpy as np\n",
    "import pandas as pd\n",
    "\n",
    "from calisim.data_model import (\n",
    "    DistributionModel,\n",
    "    ParameterDataType,\n",
    "    ParameterSpecification,\n",
    ")\n",
    "from calisim.optimisation import OptimisationMethod, OptimisationMethodModel\n",
    "\n",
    "parameter_spec = ParameterSpecification(\n",
    "parameters=[\n",
    "    DistributionModel(\n",
    "        name=\"maxidn\",\n",
    "        distribution_name=\"uniform\",\n",
    "        distribution_args=[88, 92],\n",
    "        data_type=ParameterDataType.DISCRETE,\n",
    "    ),\n",
    "    DistributionModel(\n",
    "        name=\"minidn\",\n",
    "        distribution_name=\"uniform\",\n",
    "        distribution_args=[78, 82],\n",
    "        data_type=ParameterDataType.DISCRETE,\n",
    "    ),\n",
    "    DistributionModel(\n",
    "        name=\"maxsd\",\n",
    "        distribution_name=\"uniform\",\n",
    "        distribution_args=[18, 22],\n",
    "        data_type=ParameterDataType.DISCRETE,\n",
    "    ),\n",
    "\n",
    "]\n",
    ")\n",
    "\n",
    "def objective(\n",
    "    parameters: dict, simulation_id: str, observed_data: np.ndarray | None\n",
    ") -> float | list[float]:\n",
    "    simulation_parameters = {}\n",
    "    \n",
    "    maxidn=parameters[\"maxidn\"]\n",
    "    minidn=parameters[\"minidn\"]\n",
    "    maxsd=parameters[\"maxsd\"]\n",
    "\n",
    "    p=simulation_id\n",
    "    cmd = f\"tegenomesimulator -M {M} -p {p} -c {c} -r {r} -o {o} -a {a} -b {b} -i {i} -m {m} -n {n} --maxidn {maxidn} --minidn {minidn} --maxsd {maxsd} --minsd {minsd} -s {seed}\"\n",
    "    Popen(cmd, shell=True, stdout=subprocess.DEVNULL, stderr=subprocess.DEVNULL).wait()\n",
    "    \n",
    "    genome_sequence_path = f\"{o}/TEgenomeSimulator_{p}_result/{p}_genome_sequence_out_final.fasta\"\n",
    "\n",
    "    mh_sampled = MinHash(n=0, ksize=ksize, scaled=scaled, track_abundance=track_abundance, seed=seed)\n",
    "    for record in SeqIO.parse(genome_sequence_path, \"fasta\"):\n",
    "        mh_sampled.add_sequence(str(record.seq), force=True)\n",
    "    encoded_genome_sequence = sig.SourmashSignature(mh_sampled, name=p)\n",
    "    similarity = encoded_genome_sequence.similarity(reference_encoded_genome_sequence)\n",
    "\n",
    "    return similarity\n",
    "\n",
    "specification = OptimisationMethodModel(\n",
    "    experiment_name=\"optuna_optimisation\",\n",
    "    parameter_spec=parameter_spec,\n",
    "    method=\"tpes\",\n",
    "    directions=[\"maximize\"],\n",
    "    output_labels=[\"Jaccard Similarity\"],\n",
    "    n_iterations=100,\n",
    "    n_jobs=4,\n",
    "    method_kwargs=dict(n_startup_trials=1),\n",
    ")\n",
    "\n",
    "calibrator = OptimisationMethod(\n",
    "    calibration_func=objective, specification=specification, engine=\"optuna\"\n",
    ")\n",
    "\n",
    "calibrator.specify().execute().analyze()"
   ]
  },
  {
   "cell_type": "code",
   "execution_count": null,
   "id": "bae047de-8f7f-4254-aa1c-143c66f9cd93",
   "metadata": {},
   "outputs": [],
   "source": []
  }
 ],
 "metadata": {
  "kernelspec": {
   "display_name": "Python 3 (ipykernel)",
   "language": "python",
   "name": "python3"
  },
  "language_info": {
   "codemirror_mode": {
    "name": "ipython",
    "version": 3
   },
   "file_extension": ".py",
   "mimetype": "text/x-python",
   "name": "python",
   "nbconvert_exporter": "python",
   "pygments_lexer": "ipython3",
   "version": "3.10.17"
  }
 },
 "nbformat": 4,
 "nbformat_minor": 5
}
