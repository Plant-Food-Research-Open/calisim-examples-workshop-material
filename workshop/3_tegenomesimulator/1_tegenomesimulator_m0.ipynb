{
 "cells": [
  {
   "cell_type": "markdown",
   "id": "f951ae5f-75af-4b2a-8c8c-b3ca30cd92f7",
   "metadata": {},
   "source": [
    "# TEgenomeSimulator demo: mode 0"
   ]
  },
  {
   "cell_type": "markdown",
   "id": "8f7fbc74-086c-43e2-990b-09d5e0818984",
   "metadata": {},
   "source": [
    "## Take a look at the input files"
   ]
  },
  {
   "cell_type": "code",
   "execution_count": 1,
   "id": "d8d8aef7-39f5-400b-bf49-2b1856b64533",
   "metadata": {},
   "outputs": [
    {
     "name": "stdout",
     "output_type": "stream",
     "text": [
      "/mnt/c/Users/james/projects/calisim-examples/workshop/3_tegenomesimulator\n"
     ]
    }
   ],
   "source": [
    "! pwd"
   ]
  },
  {
   "cell_type": "code",
   "execution_count": 4,
   "id": "0ac13521-3f9e-4bd3-8481-dad25d05923f",
   "metadata": {},
   "outputs": [
    {
     "name": "stdout",
     "output_type": "stream",
     "text": [
      "chr1,100000,35\n",
      "chr2,200000,42"
     ]
    }
   ],
   "source": [
    "! cat data/random_genome_chr_index.csv"
   ]
  },
  {
   "cell_type": "code",
   "execution_count": 5,
   "id": "ff8af943-3e84-47f2-99b3-9a7354629ffd",
   "metadata": {
    "scrolled": true
   },
   "outputs": [
    {
     "name": "stdout",
     "output_type": "stream",
     "text": [
      ">ATCOPI1#LTR/Copia\n",
      ">ATCOPIA10#LTR/Copia\n",
      ">ATCOPIA11#LTR/Copia\n",
      ">ATCOPIA12#LTR/Copia\n",
      ">ATCOPIA13#LTR/Copia\n",
      ">ATCOPIA14#LTR/Copia\n",
      ">ATCOPIA15#LTR/Copia\n",
      ">ATCOPIA16#LTR/Copia\n",
      ">ATCOPIA17#LTR/Copia\n",
      ">ATCOPIA18A#LTR/Copia\n",
      "grep: write error: Broken pipe\n"
     ]
    }
   ],
   "source": [
    "! grep \"^>\" data/combined_curated_TE_lib_ATOSZM_selected.fasta | head"
   ]
  },
  {
   "cell_type": "code",
   "execution_count": 7,
   "id": "b185bfaa-70bc-4bb9-b28a-622d7fd794d1",
   "metadata": {
    "scrolled": true
   },
   "outputs": [
    {
     "name": "stdout",
     "output_type": "stream",
     "text": [
      "1648\n"
     ]
    }
   ],
   "source": [
    "! grep -c \"^>\" data/combined_curated_TE_lib_ATOSZM_selected.fasta"
   ]
  },
  {
   "cell_type": "markdown",
   "id": "c5cc84e5-b212-4901-a765-edbf2ecb8f10",
   "metadata": {},
   "source": [
    "## Run mode 0"
   ]
  },
  {
   "cell_type": "code",
   "execution_count": 14,
   "id": "1b1a3113-3477-4d21-9b42-d69fce6f0965",
   "metadata": {
    "scrolled": true
   },
   "outputs": [
    {
     "name": "stdout",
     "output_type": "stream",
     "text": [
      "1_tegenomesimulator_m0.ipynb\n",
      "2_tegenomesimulator_optimisation.ipynb\n",
      "3_tegenomesimulator_sensitivity_analysis.ipynb\n",
      "4_tegenomesimulator_advanced_abc.ipynb\n",
      "Untitled.ipynb\n",
      "data\n",
      "demo_m0\n",
      "output.sig\n",
      "run_tegs_report.R\n",
      "summarise_demo_m0.Rmd\n",
      "tegenomesimulator_cmp.ipynb\n",
      "tegenomesimulator_report_m0.sh\n",
      "tegs_report_function.R\n",
      "test_reproducibility.md\n",
      "[2025-10-04 20:11:54.213341] TEgenomeSimulator started.\n",
      "[2025-10-04 20:11:54.213370] Arguments: {'mode': 0, 'to_mask': False, 'prefix': 'demo_m0_1_5', 'repeat': 'data/combined_curated_TE_lib_ATOSZM_selected.fasta', 'repeat2': None, 'maxcp': 5, 'mincp': 1, 'maxidn': 95, 'minidn': 80, 'maxsd': 20, 'minsd': 1, 'chridx': 'data/random_genome_chr_index.csv', 'genome': None, 'alpha': 0.5, 'beta': 0.7, 'intact': 1e-05, 'seed': 1, 'threads': 1, 'outdir': 'demo_m0'}\n",
      "Output Directory: /mnt/c/Users/james/projects/calisim-examples/workshop/3_tegenomesimulator/demo_m0/TEgenomeSimulator_demo_m0_1_5_result\n",
      "Mode: 0\n",
      "Running Random Synthesized mode.\n",
      "Prefix: demo_m0_1_5\n",
      "Repeat: data/combined_curated_TE_lib_ATOSZM_selected.fasta\n",
      "Chromosome Index: data/random_genome_chr_index.csv\n",
      "Genome File: None\n",
      "Alpha: 0.5\n",
      "Beta: 0.7\n",
      "Max Copies: 5\n",
      "Min Copies: 1\n",
      "Upper bound of mean identity: 95\n",
      "Lower bound of mean identity: 80\n",
      "Upper bound of sd of mean identity: 20\n",
      "Lower bound of sd of mean ideneity: 1\n",
      "Max chance of intact insertion: 1e-05\n",
      "Seed: 1\n",
      "\n",
      "\n",
      "#########################################################\n",
      "### Prepare TE library table with simulation settings ###\n",
      "#########################################################\n",
      "Using repeat fasta file data/combined_curated_TE_lib_ATOSZM_selected.fasta\n",
      "Output directory set as /mnt/c/Users/james/projects/calisim-examples/workshop/3_tegenomesimulator/demo_m0/TEgenomeSimulator_demo_m0_1_5_result\n",
      "\n",
      "\n",
      "## Random chosing copy numbe for each TE family ##\n",
      "Maximum copy number set by user: 5\n",
      "Minimum copy number set by user: 5\n",
      "\n",
      "\n",
      "## Random chosing the averaged sequence identity for each TE family ##\n",
      "Maximum averaged sequence identity: 95\n",
      "Minimum averaged sequence identity: 80\n",
      "\n",
      "\n",
      "## Random chosing the standard deviation of averaged sequence identity for each TE family ##\n",
      "Maximum standard deviation of averaged sequence identity: 20\n",
      "Minimum standard deviation of averaged sequence identity: 1\n",
      "\n",
      "\n",
      "## Random chosing the proportion of INDEL to total SNP (dependant on sequence identity) for each TE family ##\n",
      "Maximum INDEL proportion set by default: 20\n",
      "Minimum INDEL proportion set by default: 5\n",
      "\n",
      "\n",
      "## Setting the length of std based on prior knowledge ##\n",
      "Length range of TSD for LTR retrotransposon set to: 5 - 5\n",
      "Length range of TSD for LINE set to: 5 - 20\n",
      "Length range of TSD for SINE set to: 5 - 20\n",
      "Length range of TSD for DTA set to: 5 - 8\n",
      "Length range of TSD for DTC set to: 2 - 4\n",
      "Length range of TSD for DTH set to: 3 - 3\n",
      "Length range of TSD for DTM set to: 8 - 9\n",
      "Length range of TSD for DTT set to: 2 - 2\n",
      "Length range of TSD for Helitron set to: 0\n",
      "Length range of TSD for MITE set to: 2 - 10\n",
      "Length range of TSD for else set to: 0\n",
      "\n",
      "\n",
      "## Extracting the length of each TE family ##\n",
      "\n",
      "\n",
      "## Setting the proportion of fragmented TE loci of each TE family ##\n",
      "Maximum chance of keeping a TE insertion intact as 100% integrity in each TE family: 1e-05\n",
      "Minimum chance of keeping a TE insertion intact in each TE family: 0\n",
      "Maximum proportion of fragmented TE loci of each TE family: 100\n",
      "Minimum proportion of fragmented TE loci of each TE family: 99.99999\n",
      "\n",
      "\n",
      "## Setting the proportion of nested TE insertion of each Copia or Gypsy family ##\n",
      "Maximum proportion of nested TE insertion of each Copia or Gypsy family set by default: 30\n",
      "Minimum proportion of nested TE insertion of each Copia or Gypsy family set by default: 0\n",
      "\n",
      "\n",
      "## Printing the TE library table ##\n",
      "Generated the TE library table for simulation. File saved as /mnt/c/Users/james/projects/calisim-examples/workshop/3_tegenomesimulator/demo_m0/TEgenomeSimulator_demo_m0_1_5_result/TElib_sim_list.table\n",
      "\n",
      "\n",
      "\n",
      "TE library table generated successfully. Output logged to /mnt/c/Users/james/projects/calisim-examples/workshop/3_tegenomesimulator/demo_m0/TEgenomeSimulator_demo_m0_1_5_result/TEgenomeSimulator.log\n",
      "mode=0, running prep_yml_config.py for Random Genome Mode.\n",
      "\n",
      "\n",
      "#############################################\n",
      "### Prepare TEgenomeSimulator config file ###\n",
      "#############################################\n",
      "Using genome fasta file None\n",
      "Using repeat fasta file data/combined_curated_TE_lib_ATOSZM_selected.fasta\n",
      "Output directory set as /mnt/c/Users/james/projects/calisim-examples/workshop/3_tegenomesimulator/demo_m0/TEgenomeSimulator_demo_m0_1_5_result\n",
      "Generated the config file for simulation. File saved as /mnt/c/Users/james/projects/calisim-examples/workshop/3_tegenomesimulator/demo_m0/TEgenomeSimulator_demo_m0_1_5_result/TEgenomeSimulator_demo_m0_1_5.yml\n",
      "\n",
      "\n",
      "\n",
      "Config file generated successfully. Output logged to /mnt/c/Users/james/projects/calisim-examples/workshop/3_tegenomesimulator/demo_m0/TEgenomeSimulator_demo_m0_1_5_result/TEgenomeSimulator.log\n",
      "\n",
      "\n",
      "##############################################################\n",
      "### Mutate TE sequence and perform non-overlap TE insertion###\n",
      "##############################################################\n",
      "Using mode 0 (0 for random genome; 1 for custome genome)\n",
      "Using config file TEgenomeSimulator_demo_m0_1_5.yml\n",
      "\n",
      "Genome with non-overlap random TE insertions was generated successfully. Output logged to /mnt/c/Users/james/projects/calisim-examples/workshop/3_tegenomesimulator/demo_m0/TEgenomeSimulator_demo_m0_1_5_result/TEgenomeSimulator.log\n",
      "\n",
      "\n",
      "##############################################################\n",
      "### Mutate TE sequence and perform non-overlap TE insertion###\n",
      "##############################################################\n",
      "Using mode 0 (0 for random genome; 1 for custome genome)\n",
      "Using config file TEgenomeSimulator_demo_m0_1_5.yml\n",
      "/home/jbris/.cache/pypoetry/virtualenvs/calisim-examples-yfUJKvMn-py3.10/lib/python3.10/site-packages/Bio/SeqRecord.py:354: BiopythonDeprecationWarning: Using a string as the sequence is deprecated and will raise a TypeError in future. It has been converted to a Seq object.\n",
      "  warnings.warn(\n",
      "\n",
      "Genome with non-overlap random and nested TE insertions was generated successfully. Output logged to /mnt/c/Users/james/projects/calisim-examples/workshop/3_tegenomesimulator/demo_m0/TEgenomeSimulator_demo_m0_1_5_result/TEgenomeSimulator.log\n"
     ]
    }
   ],
   "source": [
    "%%bash\n",
    "mkdir -p demo_m0\n",
    "ls\n",
    "chridx=\"data/random_genome_chr_index.csv\" \n",
    "repeat=\"data/combined_curated_TE_lib_ATOSZM_selected.fasta\"\n",
    "mincn=1\n",
    "maxcn=5\n",
    "intact=0.00001\n",
    "outdir=\"demo_m0\"\n",
    "prefix=demo_m0_${mincn}_${maxcn}\n",
    "\n",
    "tegenomesimulator -M 0 -p $prefix -c $chridx -r $repeat -m $maxcn -n $mincn -i $intact -o $outdir"
   ]
  },
  {
   "cell_type": "markdown",
   "id": "808d142a-ea1e-43cb-af7c-3569ed3e7783",
   "metadata": {},
   "source": [
    "## Take a look at output files"
   ]
  },
  {
   "cell_type": "code",
   "execution_count": 19,
   "id": "0558d829-9e2b-44fc-81c6-7c153c302afa",
   "metadata": {
    "scrolled": true
   },
   "outputs": [
    {
     "name": "stdout",
     "output_type": "stream",
     "text": [
      "total 468\n",
      "-rwxrwxrwx 1 jbris jbris   9654 Oct  4 20:11 1_tegenomesimulator_m0.ipynb\n",
      "-rwxrwxrwx 1 jbris jbris 281673 Oct  3 13:32 2_tegenomesimulator_optimisation.ipynb\n",
      "-rwxrwxrwx 1 jbris jbris  39244 Sep 30 12:53 3_tegenomesimulator_sensitivity_analysis.ipynb\n",
      "-rwxrwxrwx 1 jbris jbris  39236 Sep 30 12:52 4_tegenomesimulator_advanced_abc.ipynb\n",
      "-rwxrwxrwx 1 jbris jbris  24339 Aug 15 14:52 Untitled.ipynb\n",
      "drwxrwxrwx 1 jbris jbris    512 Sep 30 14:09 data\n",
      "drwxrwxrwx 1 jbris jbris    512 Oct  4 20:11 demo_m0\n",
      "-rwxrwxrwx 1 jbris jbris      0 Jul 18 18:09 output.sig\n",
      "-rwxrwxrwx 1 jbris jbris   1423 Aug 10 14:05 run_tegs_report.R\n",
      "-rwxrwxrwx 1 jbris jbris   6050 Aug 10 14:05 summarise_demo_m0.Rmd\n",
      "-rwxrwxrwx 1 jbris jbris  31205 Aug 15 14:51 tegenomesimulator_cmp.ipynb\n",
      "-rwxrwxrwx 1 jbris jbris    819 Oct  4 20:06 tegenomesimulator_report_m0.sh\n",
      "-rwxrwxrwx 1 jbris jbris  16531 Aug 10 14:05 tegs_report_function.R\n",
      "-rwxrwxrwx 1 jbris jbris   4184 Aug 15 12:08 test_reproducibility.md\n"
     ]
    }
   ],
   "source": [
    "! ls -l"
   ]
  },
  {
   "cell_type": "code",
   "execution_count": 20,
   "id": "6856354c-c45a-4595-ba63-cbed123cfc3b",
   "metadata": {},
   "outputs": [
    {
     "name": "stdout",
     "output_type": "stream",
     "text": [
      "total 23872\n",
      "-rwxrwxrwx 1 jbris jbris    5525 Oct  4 20:12 TEgenomeSimulator.log\n",
      "-rwxrwxrwx 1 jbris jbris     390 Oct  4 20:11 TEgenomeSimulator_demo_m0_1_5.yml\n",
      "-rwxrwxrwx 1 jbris jbris  130556 Oct  4 20:11 TElib_sim_list.table\n",
      "-rwxrwxrwx 1 jbris jbris 5683983 Oct  4 20:11 demo_m0_1_5_genome_sequence_out.fasta\n",
      "-rwxrwxrwx 1 jbris jbris 5897899 Oct  4 20:12 demo_m0_1_5_genome_sequence_out_final.fasta\n",
      "-rwxrwxrwx 1 jbris jbris  506440 Oct  4 20:11 demo_m0_1_5_repeat_annotation_out.gff\n",
      "-rwxrwxrwx 1 jbris jbris  590397 Oct  4 20:12 demo_m0_1_5_repeat_annotation_out_final.gff\n",
      "-rwxrwxrwx 1 jbris jbris 5685938 Oct  4 20:11 demo_m0_1_5_repeat_sequence_out.fasta\n",
      "-rwxrwxrwx 1 jbris jbris 5930191 Oct  4 20:12 demo_m0_1_5_repeat_sequence_out_final.fasta\n"
     ]
    }
   ],
   "source": [
    "! ls -l demo_m0/TEgenomeSimulator_demo_m0_1_5_result"
   ]
  },
  {
   "cell_type": "markdown",
   "id": "32634d52-7938-4304-ad8c-90ed503eda32",
   "metadata": {},
   "source": [
    "## Take a look at other parameters"
   ]
  },
  {
   "cell_type": "code",
   "execution_count": 18,
   "id": "7ce45499-03b8-45bb-95fd-1f5b5487f819",
   "metadata": {
    "scrolled": true
   },
   "outputs": [
    {
     "name": "stdout",
     "output_type": "stream",
     "text": [
      "usage: tegenomesimulator [-h] -M {0,1,2} [-k] -p PREFIX -r REPEAT\n",
      "                         [-r2 REPEAT2] [-m MAXCP] [-n MINCP] [--maxidn MAXIDN]\n",
      "                         [--minidn MINIDN] [--maxsd MAXSD] [--minsd MINSD]\n",
      "                         [-c CHRIDX] [-g GENOME] [-a ALPHA] [-b BETA]\n",
      "                         [-i INTACT] [-s SEED] [-t THREADS] -o OUTDIR\n",
      "\n",
      "main arguments of TEgenomeSimulator to simulate TE mutation and insertion into\n",
      "genome.\n",
      "\n",
      "options:\n",
      "  -h, --help            show this help message and exit\n",
      "  -M {0,1,2}, --mode {0,1,2}\n",
      "                        Mode for genome simulation (choose from 0, 1 or 2).\n",
      "  -k, --to_mask         Mask and remove TE from provided genome when enabled\n",
      "  -p PREFIX, --prefix PREFIX\n",
      "                        Prefix for output files.\n",
      "  -r REPEAT, --repeat REPEAT\n",
      "                        TE family fasta file for random insertion simulation.\n",
      "  -r2 REPEAT2, --repeat2 REPEAT2\n",
      "                        TE family fasta file for masking genome (required when\n",
      "                        using --to_mask).\n",
      "  -m MAXCP, --maxcp MAXCP\n",
      "                        Maximum copies of TE family (default is 10).\n",
      "  -n MINCP, --mincp MINCP\n",
      "                        Minimum copies of TE family (default is 1).\n",
      "  --maxidn MAXIDN       The upper bound of mean sequence identity to be\n",
      "                        sampled for each TE family (default is 95; i.e. 95\n",
      "                        percent).\n",
      "  --minidn MINIDN       The lower bound of mean sequence identity to be\n",
      "                        sampled for each TE family (default is 80; i.e. 80\n",
      "                        percent).\n",
      "  --maxsd MAXSD         The upper bound of standard deviation of mean identity\n",
      "                        to be sampled for each TE family (default is 20).\n",
      "  --minsd MINSD         The lower bound of standard deviation of mean identity\n",
      "                        to be sampled for each TE family (default is 1).\n",
      "  -c CHRIDX, --chridx CHRIDX\n",
      "                        Chromosome index file if mode 0 is selected.\n",
      "  -g GENOME, --genome GENOME\n",
      "                        Genome fasta file if mode 1 or 2 is selected.\n",
      "  -a ALPHA, --alpha ALPHA\n",
      "                        Alpha value for the beta distribution used for\n",
      "                        fragmentation simulation (default is 0.5).\n",
      "  -b BETA, --beta BETA  Beta value for the beta distribution used for\n",
      "                        fragmentation simulation (default is 0.7).\n",
      "  -i INTACT, --intact INTACT\n",
      "                        Maximum probability of inserting intact TEs per family\n",
      "                        (default is 0.001; i.e. 0.1 percent).\n",
      "  -s SEED, --seed SEED  Random seed (default is 1).\n",
      "  -t THREADS, --threads THREADS\n",
      "                        Threads for running RepeatMasker (default is 1)\n",
      "  -o OUTDIR, --outdir OUTDIR\n",
      "                        Output directory.\n"
     ]
    }
   ],
   "source": [
    "! tegenomesimulator --help"
   ]
  }
 ],
 "metadata": {
  "kernelspec": {
   "display_name": "Python 3 (ipykernel)",
   "language": "python",
   "name": "python3"
  },
  "language_info": {
   "codemirror_mode": {
    "name": "ipython",
    "version": 3
   },
   "file_extension": ".py",
   "mimetype": "text/x-python",
   "name": "python",
   "nbconvert_exporter": "python",
   "pygments_lexer": "ipython3",
   "version": "3.10.17"
  }
 },
 "nbformat": 4,
 "nbformat_minor": 5
}
