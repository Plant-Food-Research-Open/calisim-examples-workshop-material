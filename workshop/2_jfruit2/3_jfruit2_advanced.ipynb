{
 "cells": [
  {
   "cell_type": "markdown",
   "id": "4c0774ca-6d8f-4a84-be9f-0c9eb376ba1f",
   "metadata": {},
   "source": [
    "History matching or ABC example"
   ]
  },
  {
   "cell_type": "code",
   "execution_count": null,
   "id": "edb4b78d-28c1-425b-bae6-2f1ecad5cc85",
   "metadata": {},
   "outputs": [],
   "source": []
  }
 ],
 "metadata": {
  "kernelspec": {
   "display_name": "Python 3 (ipykernel)",
   "language": "python",
   "name": "python3"
  },
  "language_info": {
   "codemirror_mode": {
    "name": "ipython",
    "version": 3
   },
   "file_extension": ".py",
   "mimetype": "text/x-python",
   "name": "python",
   "nbconvert_exporter": "python",
   "pygments_lexer": "ipython3",
   "version": "3.10.17"
  }
 },
 "nbformat": 4,
 "nbformat_minor": 5
}
