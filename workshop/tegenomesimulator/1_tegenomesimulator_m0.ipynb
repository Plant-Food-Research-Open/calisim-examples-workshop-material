{
 "cells": [
  {
   "cell_type": "markdown",
   "id": "f951ae5f-75af-4b2a-8c8c-b3ca30cd92f7",
   "metadata": {},
   "source": [
    "# TEgenomeSimulator demo: mode 0"
   ]
  },
  {
   "cell_type": "markdown",
   "id": "8f7fbc74-086c-43e2-990b-09d5e0818984",
   "metadata": {},
   "source": [
    "## Take a look at the input files"
   ]
  },
  {
   "cell_type": "code",
   "execution_count": null,
   "id": "d8d8aef7-39f5-400b-bf49-2b1856b64533",
   "metadata": {},
   "outputs": [],
   "source": [
    "%%bash\n",
    "# assumming in the directory of \"calisim-examples-workshop-material/workshop/tegenomesimulator\"\n",
    "pwd"
   ]
  },
  {
   "cell_type": "code",
   "execution_count": 2,
   "id": "0ac13521-3f9e-4bd3-8481-dad25d05923f",
   "metadata": {},
   "outputs": [
    {
     "name": "stdout",
     "output_type": "stream",
     "text": [
      "chr1,100000,35\n",
      "chr2,200000,42\n"
     ]
    }
   ],
   "source": [
    "%%bash\n",
    "cd data\n",
    "cat random_genome_chr_index.csv"
   ]
  },
  {
   "cell_type": "code",
   "execution_count": 3,
   "id": "ff8af943-3e84-47f2-99b3-9a7354629ffd",
   "metadata": {
    "scrolled": true
   },
   "outputs": [
    {
     "name": "stdout",
     "output_type": "stream",
     "text": [
      ">ATCOPI1#LTR/Copia\n",
      ">ATCOPIA10#LTR/Copia\n",
      ">ATCOPIA11#LTR/Copia\n",
      ">ATCOPIA12#LTR/Copia\n",
      ">ATCOPIA13#LTR/Copia\n",
      ">ATCOPIA14#LTR/Copia\n",
      ">ATCOPIA15#LTR/Copia\n",
      ">ATCOPIA16#LTR/Copia\n",
      ">ATCOPIA17#LTR/Copia\n",
      ">ATCOPIA18A#LTR/Copia\n"
     ]
    }
   ],
   "source": [
    "%%bash\n",
    "grep \"^>\" combined_curated_TE_lib_ATOSZM_selected.fasta | head"
   ]
  },
  {
   "cell_type": "code",
   "execution_count": 4,
   "id": "b185bfaa-70bc-4bb9-b28a-622d7fd794d1",
   "metadata": {
    "scrolled": true
   },
   "outputs": [
    {
     "name": "stdout",
     "output_type": "stream",
     "text": [
      "1648\n"
     ]
    }
   ],
   "source": [
    "%%bash\n",
    "grep -c \"^>\" combined_curated_TE_lib_ATOSZM_selected.fasta"
   ]
  },
  {
   "cell_type": "markdown",
   "id": "c5cc84e5-b212-4901-a765-edbf2ecb8f10",
   "metadata": {},
   "source": [
    "## Run mode 0"
   ]
  },
  {
   "cell_type": "code",
   "execution_count": null,
   "id": "1b1a3113-3477-4d21-9b42-d69fce6f0965",
   "metadata": {
    "scrolled": true
   },
   "outputs": [],
   "source": [
    "%%bash\n",
    "cd ..\n",
    "mkdir demo_m0\n",
    "cd demo_m0\n",
    "chridx=\"../data/random_genome_chr_index.csv\" \n",
    "repeat=\"../data/combined_curated_TE_lib_ATOSZM_selected.fasta\"\n",
    "mincn=1\n",
    "maxcn=5\n",
    "intact=0.00001\n",
    "outdir=\".\"\n",
    "prefix=demo_m0_${mincn}_${maxcn}\n",
    "\n",
    "tegenomesimulator -M 0 -p $prefix -c $chridx -r $repeat -m $maxcn -n $mincn -i $intact -o $outdir"
   ]
  },
  {
   "cell_type": "markdown",
   "id": "808d142a-ea1e-43cb-af7c-3569ed3e7783",
   "metadata": {},
   "source": [
    "## Take a look at output files"
   ]
  },
  {
   "cell_type": "code",
   "execution_count": null,
   "id": "0558d829-9e2b-44fc-81c6-7c153c302afa",
   "metadata": {
    "scrolled": true
   },
   "outputs": [],
   "source": [
    "%%bash\n",
    "ls -l"
   ]
  },
  {
   "cell_type": "code",
   "execution_count": null,
   "id": "6856354c-c45a-4595-ba63-cbed123cfc3b",
   "metadata": {},
   "outputs": [],
   "source": [
    "%%bash\n",
    "ls -l TEgenomeSimulator_demo_m0_1_5_result"
   ]
  },
  {
   "cell_type": "markdown",
   "id": "32634d52-7938-4304-ad8c-90ed503eda32",
   "metadata": {},
   "source": [
    "## Take a look at other parameters"
   ]
  },
  {
   "cell_type": "code",
   "execution_count": 8,
   "id": "7ce45499-03b8-45bb-95fd-1f5b5487f819",
   "metadata": {
    "scrolled": true
   },
   "outputs": [
    {
     "name": "stdout",
     "output_type": "stream",
     "text": [
      "usage: tegenomesimulator [-h] -M {0,1,2} [-k] -p PREFIX -r REPEAT\n",
      "                         [-r2 REPEAT2] [-m MAXCP] [-n MINCP] [--maxidn MAXIDN]\n",
      "                         [--minidn MINIDN] [--maxsd MAXSD] [--minsd MINSD]\n",
      "                         [-c CHRIDX] [-g GENOME] [-a ALPHA] [-b BETA]\n",
      "                         [-i INTACT] [-s SEED] [-t THREADS] -o OUTDIR\n",
      "\n",
      "main arguments of TEgenomeSimulator to simulate TE mutation and insertion into\n",
      "genome.\n",
      "\n",
      "optional arguments:\n",
      "  -h, --help            show this help message and exit\n",
      "  -M {0,1,2}, --mode {0,1,2}\n",
      "                        Mode for genome simulation (choose from 0, 1 or 2).\n",
      "  -k, --to_mask         Mask and remove TE from provided genome when enabled\n",
      "  -p PREFIX, --prefix PREFIX\n",
      "                        Prefix for output files.\n",
      "  -r REPEAT, --repeat REPEAT\n",
      "                        TE family fasta file for random insertion simulation.\n",
      "  -r2 REPEAT2, --repeat2 REPEAT2\n",
      "                        TE family fasta file for masking genome (required when\n",
      "                        using --to_mask).\n",
      "  -m MAXCP, --maxcp MAXCP\n",
      "                        Maximum copies of TE family (default is 10).\n",
      "  -n MINCP, --mincp MINCP\n",
      "                        Minimum copies of TE family (default is 1).\n",
      "  --maxidn MAXIDN       The upper bound of mean sequence identity to be\n",
      "                        sampled for each TE family (default is 95; i.e. 95\n",
      "                        percent).\n",
      "  --minidn MINIDN       The lower bound of mean sequence identity to be\n",
      "                        sampled for each TE family (default is 80; i.e. 80\n",
      "                        percent).\n",
      "  --maxsd MAXSD         The upper bound of standard deviation of mean identity\n",
      "                        to be sampled for each TE family (default is 20).\n",
      "  --minsd MINSD         The lower bound of standard deviation of mean identity\n",
      "                        to be sampled for each TE family (default is 1).\n",
      "  -c CHRIDX, --chridx CHRIDX\n",
      "                        Chromosome index file if mode 0 is selected.\n",
      "  -g GENOME, --genome GENOME\n",
      "                        Genome fasta file if mode 1 or 2 is selected.\n",
      "  -a ALPHA, --alpha ALPHA\n",
      "                        Alpha value for the beta distribution used for\n",
      "                        fragmentation simulation (default is 0.5).\n",
      "  -b BETA, --beta BETA  Beta value for the beta distribution used for\n",
      "                        fragmentation simulation (default is 0.7).\n",
      "  -i INTACT, --intact INTACT\n",
      "                        Maximum probability of inserting intact TEs per family\n",
      "                        (default is 0.001; i.e. 0.1 percent).\n",
      "  -s SEED, --seed SEED  Random seed (default is 1).\n",
      "  -t THREADS, --threads THREADS\n",
      "                        Threads for running RepeatMasker (default is 1)\n",
      "  -o OUTDIR, --outdir OUTDIR\n",
      "                        Output directory.\n"
     ]
    }
   ],
   "source": [
    "tegenomesimulator --help"
   ]
  }
 ],
 "metadata": {
  "kernelspec": {
   "display_name": "Python 3 (ipykernel)",
   "language": "python",
   "name": "python3"
  },
  "language_info": {
   "codemirror_mode": {
    "name": "ipython",
    "version": 3
   },
   "file_extension": ".py",
   "mimetype": "text/x-python",
   "name": "python",
   "nbconvert_exporter": "python",
   "pygments_lexer": "ipython3",
   "version": "3.9.20"
  }
 },
 "nbformat": 4,
 "nbformat_minor": 5
}
