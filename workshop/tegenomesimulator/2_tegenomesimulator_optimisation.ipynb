{
 "cells": [
  {
   "cell_type": "markdown",
   "id": "9f22e386-62d1-4f3b-9d6f-25a6edec4220",
   "metadata": {},
   "source": [
    "# Imports"
   ]
  },
  {
   "cell_type": "code",
   "execution_count": 1,
   "id": "1fb5183b-ee2a-4de8-8004-b43e5b18e427",
   "metadata": {},
   "outputs": [],
   "source": [
    "from subprocess import Popen\n",
    "import subprocess\n",
    "from pathlib import Path\n",
    "import numpy as np\n",
    "from sourmash import MinHash\n",
    "from sourmash import signature as sig\n",
    "from Bio import SeqIO"
   ]
  },
  {
   "cell_type": "markdown",
   "id": "d27bc528-a8a4-4ccc-abf4-55a2566efec4",
   "metadata": {},
   "source": [
    "# Reference simulation\n",
    "\n",
    "Execute the reference simulation."
   ]
  },
  {
   "cell_type": "code",
   "execution_count": 2,
   "id": "8c9e3e28-9ba0-4ecf-ae55-1bce65b44ede",
   "metadata": {},
   "outputs": [
    {
     "data": {
      "text/plain": [
       "0"
      ]
     },
     "execution_count": 2,
     "metadata": {},
     "output_type": "execute_result"
    }
   ],
   "source": [
    "M = 0\n",
    "c=str(Path(\"data\", \"random_genome_chr_index.csv\"))\n",
    "r=str(Path(\"data\", \"combined_curated_TE_lib_ATOSZM_selected.fasta\"))\n",
    "o=\"data\"\n",
    "maxidn=95\n",
    "minidn=80\n",
    "maxsd=20\n",
    "minsd=1\n",
    "a=0.7\n",
    "b=0.5\n",
    "i=0.001\n",
    "m=5\n",
    "n=1\n",
    "\n",
    "ksize = 51 \n",
    "scaled = 100  \n",
    "track_abundance = True\n",
    "seed = 100\n",
    "\n",
    "p=\"reference_simulation\"\n",
    "cmd = f\"tegenomesimulator -M {M} -p {p} -c {c} -r {r} -o {o} -a {a} -b {b} -i {i} -m {m} -n {n} --maxidn {maxidn} --minidn {minidn} --maxsd {maxsd} --minsd {minsd} -s {seed}\"\n",
    "Popen(cmd, shell=True, stdout=subprocess.DEVNULL, stderr=subprocess.DEVNULL).wait()"
   ]
  },
  {
   "cell_type": "markdown",
   "id": "c400a300-6f3d-419d-9837-64ec635afcb0",
   "metadata": {},
   "source": [
    "Derive Sourmash signature. "
   ]
  },
  {
   "cell_type": "markdown",
   "id": "85dfc16e-7313-403c-adab-ea1193b1c5fb",
   "metadata": {},
   "source": [
    "# Optimisation\n",
    "\n",
    "Ground-truth parameter values\n",
    "\n",
    "```python\n",
    "maxidn=95\n",
    "minidn=80\n",
    "maxsd=20\n",
    "minsd=1\n",
    "a=0.7\n",
    "b=0.5\n",
    "```"
   ]
  },
  {
   "cell_type": "code",
   "execution_count": 3,
   "id": "b2f8711c-30a7-4005-a461-ac74717ef403",
   "metadata": {},
   "outputs": [
    {
     "data": {
      "text/plain": [
       "SourmashSignature('reference_genome', 25e6bdb3)"
      ]
     },
     "execution_count": 3,
     "metadata": {},
     "output_type": "execute_result"
    }
   ],
   "source": [
    "reference_genome_sequence_path = f\"{o}/TEgenomeSimulator_{p}_result/{p}_genome_sequence_out_final.fasta\"\n",
    "\n",
    "mh = MinHash(n=0, ksize=ksize, scaled=scaled, track_abundance=track_abundance, seed=seed)\n",
    "for record in SeqIO.parse(reference_genome_sequence_path, \"fasta\"):\n",
    "    mh.add_sequence(str(record.seq), force=True)\n",
    "reference_encoded_genome_sequence = sig.SourmashSignature(mh, name=\"reference_genome\")\n",
    "reference_encoded_genome_sequence"
   ]
  },
  {
   "cell_type": "code",
   "execution_count": null,
   "id": "4973acd0-64c3-451b-ba27-1a420c4b37be",
   "metadata": {},
   "outputs": [
    {
     "name": "stderr",
     "output_type": "stream",
     "text": [
      "[WARNING 07-18 16:12:39] ax.service.utils.with_db_settings_base: Ax currently requires a sqlalchemy version below 2.0. This will be addressed in a future release. Disabling SQL storage in Ax for now, if you would like to use SQL storage please install Ax with mysql extras via `pip install ax-platform[mysql]`.\n",
      "[I 2025-07-18 16:12:39,117] A new study created in memory with name: optuna_optimisation\n",
      "[I 2025-07-18 16:12:50,808] Trial 1 finished with value: 0.4568862989961222 and parameters: {'maxidn': 95, 'minidn': 80, 'maxsd': 20, 'minsd': 1, 'a': 0.7, 'b': 0.5}. Best is trial 1 with value: 0.4568862989961222.\n",
      "[I 2025-07-18 16:12:50,875] Trial 0 finished with value: 0.17278240954732027 and parameters: {'maxidn': 95, 'minidn': 80, 'maxsd': 20, 'minsd': 1, 'a': 0.7, 'b': 0.5}. Best is trial 1 with value: 0.4568862989961222.\n",
      "[I 2025-07-18 16:12:50,919] Trial 3 finished with value: 0.13621652782783533 and parameters: {'maxidn': 95, 'minidn': 80, 'maxsd': 20, 'minsd': 1, 'a': 0.7, 'b': 0.5}. Best is trial 1 with value: 0.4568862989961222.\n",
      "[I 2025-07-18 16:12:50,944] Trial 2 finished with value: 0.14114191872428838 and parameters: {'maxidn': 95, 'minidn': 80, 'maxsd': 20, 'minsd': 1, 'a': 0.7, 'b': 0.5}. Best is trial 1 with value: 0.4568862989961222.\n"
     ]
    }
   ],
   "source": [
    "import numpy as np\n",
    "import pandas as pd\n",
    "\n",
    "from calisim.data_model import (\n",
    "    DistributionModel,\n",
    "    ParameterDataType,\n",
    "    ParameterSpecification,\n",
    ")\n",
    "from calisim.optimisation import OptimisationMethod, OptimisationMethodModel\n",
    "\n",
    "parameter_spec = ParameterSpecification(\n",
    "parameters=[\n",
    "    DistributionModel(\n",
    "        name=\"maxidn\",\n",
    "        distribution_name=\"uniform\",\n",
    "        distribution_args=[95, 95],\n",
    "        data_type=ParameterDataType.DISCRETE,\n",
    "    ),\n",
    "    DistributionModel(\n",
    "        name=\"minidn\",\n",
    "        distribution_name=\"uniform\",\n",
    "        distribution_args=[80, 80],\n",
    "        data_type=ParameterDataType.DISCRETE,\n",
    "    ),\n",
    "    DistributionModel(\n",
    "        name=\"maxsd\",\n",
    "        distribution_name=\"uniform\",\n",
    "        distribution_args=[20, 20],\n",
    "        data_type=ParameterDataType.DISCRETE,\n",
    "    ),\n",
    "    DistributionModel(\n",
    "        name=\"minsd\",\n",
    "        distribution_name=\"uniform\",\n",
    "        distribution_args=[1, 1],\n",
    "        data_type=ParameterDataType.DISCRETE,\n",
    "    ),\n",
    "    DistributionModel(\n",
    "        name=\"a\",\n",
    "        distribution_name=\"uniform\",\n",
    "        distribution_args=[0.7, 0.7],\n",
    "        data_type=ParameterDataType.CONTINUOUS,\n",
    "    ),\n",
    "    DistributionModel(\n",
    "        name=\"b\",\n",
    "        distribution_name=\"uniform\",\n",
    "        distribution_args=[0.5, 0.5],\n",
    "        data_type=ParameterDataType.CONTINUOUS,\n",
    "    ),\n",
    "]\n",
    ")\n",
    "\n",
    "def objective(\n",
    "    parameters: dict, simulation_id: str, observed_data: np.ndarray | None\n",
    ") -> float | list[float]:\n",
    "    simulation_parameters = {}\n",
    "    \n",
    "    maxidn=parameters[\"maxidn\"]\n",
    "    minidn=parameters[\"minidn\"]\n",
    "    maxsd=parameters[\"maxsd\"]\n",
    "    minsd=parameters[\"minsd\"]\n",
    "    a=parameters[\"a\"]\n",
    "    b=parameters[\"b\"]\n",
    "\n",
    "    p=simulation_id\n",
    "    cmd = f\"tegenomesimulator -M {M} -p {p} -c {c} -r {r} -o {o} -a {a} -b {b} -i {i} -m {m} -n {n} --maxidn {maxidn} --minidn {minidn} --maxsd {maxsd} --minsd {minsd} -s {seed}\"\n",
    "    Popen(cmd, shell=True, stdout=subprocess.DEVNULL, stderr=subprocess.DEVNULL).wait()\n",
    "    \n",
    "    genome_sequence_path = f\"{o}/TEgenomeSimulator_{p}_result/{p}_genome_sequence_out_final.fasta\"\n",
    "\n",
    "    mh = MinHash(n=0, ksize=ksize, scaled=scaled, track_abundance=track_abundance, seed=seed)\n",
    "    for record in SeqIO.parse(genome_sequence_path, \"fasta\"):\n",
    "        mh.add_sequence(str(record.seq), force=True)\n",
    "    encoded_genome_sequence = sig.SourmashSignature(mh, name=p)\n",
    "    similarity = encoded_genome_sequence.similarity(reference_encoded_genome_sequence)\n",
    "\n",
    "    return similarity\n",
    "\n",
    "specification = OptimisationMethodModel(\n",
    "    experiment_name=\"optuna_optimisation\",\n",
    "    parameter_spec=parameter_spec,\n",
    "    method=\"tpes\",\n",
    "    directions=[\"maximize\"],\n",
    "    output_labels=[\"Jaccard Similarity\"],\n",
    "    n_iterations=100,\n",
    "    n_jobs=4,\n",
    "    method_kwargs=dict(n_startup_trials=1),\n",
    ")\n",
    "\n",
    "calibrator = OptimisationMethod(\n",
    "    calibration_func=objective, specification=specification, engine=\"optuna\"\n",
    ")\n",
    "\n",
    "calibrator.specify().execute().analyze()"
   ]
  },
  {
   "cell_type": "code",
   "execution_count": null,
   "id": "bae047de-8f7f-4254-aa1c-143c66f9cd93",
   "metadata": {},
   "outputs": [],
   "source": []
  }
 ],
 "metadata": {
  "kernelspec": {
   "display_name": "Python 3 (ipykernel)",
   "language": "python",
   "name": "python3"
  },
  "language_info": {
   "codemirror_mode": {
    "name": "ipython",
    "version": 3
   },
   "file_extension": ".py",
   "mimetype": "text/x-python",
   "name": "python",
   "nbconvert_exporter": "python",
   "pygments_lexer": "ipython3",
   "version": "3.10.17"
  }
 },
 "nbformat": 4,
 "nbformat_minor": 5
}
