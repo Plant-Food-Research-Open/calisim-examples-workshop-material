{
 "cells": [
  {
   "cell_type": "markdown",
   "id": "9f22e386-62d1-4f3b-9d6f-25a6edec4220",
   "metadata": {},
   "source": [
    "# Imports"
   ]
  },
  {
   "cell_type": "code",
   "execution_count": 52,
   "id": "1fb5183b-ee2a-4de8-8004-b43e5b18e427",
   "metadata": {},
   "outputs": [],
   "source": [
    "from subprocess import Popen\n",
    "from pathlib import Path\n",
    "import mmh3\n",
    "import screed\n",
    "import numpy as np\n",
    "import re"
   ]
  },
  {
   "cell_type": "markdown",
   "id": "d03bfb25-9fb4-4533-9c25-ccb2a00f95c4",
   "metadata": {},
   "source": [
    "# Utility functions\n",
    "\n",
    "Define utility functions."
   ]
  },
  {
   "cell_type": "code",
   "execution_count": 53,
   "id": "d8f3bb02-2825-4bdd-b503-e1dddf116384",
   "metadata": {},
   "outputs": [],
   "source": [
    "def get_uuid():\n",
    "    return str(uuid.uuid4())\n",
    "\n",
    "def load_genome_sequence(filepath):\n",
    "    with open(filepath, 'r') as f:\n",
    "        lines = f.readlines()\n",
    "    sequence = ''.join([line.strip() for line in lines if not line.startswith('>')])\n",
    "    return sequence.upper()\n",
    "    \n",
    "def encode_seq(seq, k):\n",
    "    vocab = {'A':0, 'C':1, 'G':2, 'T':3}\n",
    "    seq = [vocab[c] for c in seq if c in vocab]\n",
    "    chunks = [seq[i:i+k] for i in range(0, len(seq)-k, k)]\n",
    "    return np.array(chunks)  \n",
    "\n",
    "# https://sourmash.readthedocs.io/en/latest/kmers-and-minhash.html\n",
    "\n",
    "def build_kmers(sequence, ksize):\n",
    "    kmers = []\n",
    "    n_kmers = len(sequence) - ksize + 1\n",
    "\n",
    "    for i in range(n_kmers):\n",
    "        kmer = sequence[i : i + ksize]\n",
    "        kmers.append(kmer)\n",
    "\n",
    "    return kmers\n",
    "    \n",
    "def read_kmers_from_file(filename, ksize):\n",
    "    all_kmers = []\n",
    "    for record in screed.open(filename):\n",
    "        sequence = record.sequence\n",
    "        \n",
    "        sequence = re.sub(r'[^ACGT]', 'N', sequence.upper())        \n",
    "        kmers = build_kmers(sequence, ksize)\n",
    "        all_kmers += kmers\n",
    "\n",
    "    return all_kmers\n",
    "\n",
    "def hash_kmer(kmer):\n",
    "    rc_kmer = screed.rc(kmer)\n",
    "\n",
    "    if kmer < rc_kmer:\n",
    "        canonical_kmer = kmer\n",
    "    else:\n",
    "        canonical_kmer = rc_kmer\n",
    "\n",
    "    hash = mmh3.hash64(canonical_kmer, 42)[0]\n",
    "    if hash < 0:\n",
    "        hash += 2**64\n",
    "        \n",
    "    return hash\n",
    "\n",
    "def hash_kmers(kmers):\n",
    "    hashes = []\n",
    "    for kmer in kmers:\n",
    "        hashes.append(hash_kmer(kmer))\n",
    "    return hashes\n",
    "\n",
    "def jaccard_similarity(a, b):\n",
    "    a = set(a)\n",
    "    b = set(b)\n",
    "\n",
    "    intersection = len(a.intersection(b))\n",
    "    union = len(a.union(b))\n",
    "\n",
    "    return intersection / union"
   ]
  },
  {
   "cell_type": "markdown",
   "id": "d27bc528-a8a4-4ccc-abf4-55a2566efec4",
   "metadata": {},
   "source": [
    "# Reference simulation\n",
    "\n",
    "Execute the reference simulation."
   ]
  },
  {
   "cell_type": "code",
   "execution_count": 22,
   "id": "8c9e3e28-9ba0-4ecf-ae55-1bce65b44ede",
   "metadata": {},
   "outputs": [
    {
     "name": "stdout",
     "output_type": "stream",
     "text": [
      "Mode: 0\n",
      "Running Random Synthesized mode.\n",
      "Prefix: reference_simulation\n",
      "Repeat: data/combined_curated_TE_lib_ATOSZM_selected.fasta\n",
      "Chromosome Index: data/random_genome_chr_index.csv\n",
      "Genome File: None\n",
      "Alpha: 0.7\n",
      "Beta: 0.5\n",
      "Max Copies: 5\n",
      "Min Copies: 1\n",
      "Upper bound of mean identity: 95\n",
      "Lower bound of mean identity: 80\n",
      "Upper bound of sd of mean identity: 20\n",
      "Lower bound of sd of mean ideneity: 1\n",
      "Max chance of intact insertion: 0.001\n",
      "Seed: 1\n",
      "Output Directory: data\n",
      "\n",
      "TE library table generated successfully. Output logged to data/TEgenomeSimulator_reference_simulation_result/TEgenomeSimulator.log\n",
      "mode=0, running prep_yml_config.py for Random Genome Mode.\n",
      "\n",
      "Config file generated successfully. Output logged to data/TEgenomeSimulator_reference_simulation_result/TEgenomeSimulator.log\n",
      "\n",
      "Genome with non-overlap random TE insertions was generated successfully. Output logged to data/TEgenomeSimulator_reference_simulation_result/TEgenomeSimulator.log\n",
      "\n",
      "Genome with non-overlap random and nested TE insertions was generated successfully. Output logged to data/TEgenomeSimulator_reference_simulation_result/TEgenomeSimulator.log\n"
     ]
    },
    {
     "data": {
      "text/plain": [
       "0"
      ]
     },
     "execution_count": 22,
     "metadata": {},
     "output_type": "execute_result"
    }
   ],
   "source": [
    "# Reference values\n",
    "\n",
    "M = 0\n",
    "c=str(Path(\"data\", \"random_genome_chr_index.csv\"))\n",
    "r=str(Path(\"data\", \"combined_curated_TE_lib_ATOSZM_selected.fasta\"))\n",
    "o=\"data\"\n",
    "maxidn=95\n",
    "minidn=80\n",
    "maxsd=20\n",
    "minsd=1\n",
    "a=0.7\n",
    "b=0.5\n",
    "i=0.001\n",
    "m=5\n",
    "n=1\n",
    "k = 100   \n",
    "batch_size = 64\n",
    "\n",
    "p=\"reference_simulation\"\n",
    "cmd = f\"tegenomesimulator -M {M} -p {p} -c {c} -r {r} -o {o} -a {a} -b {b} -i {i} -m {m} -n {n} --maxidn {maxidn} --minidn {minidn} --maxsd {maxsd} --minsd {minsd}\"\n",
    "Popen(cmd, shell=True).wait()"
   ]
  },
  {
   "cell_type": "markdown",
   "id": "c400a300-6f3d-419d-9837-64ec635afcb0",
   "metadata": {},
   "source": [
    "Load the genome sequence data to string."
   ]
  },
  {
   "cell_type": "code",
   "execution_count": 60,
   "id": "99923778-997c-498b-a54e-c2889848779d",
   "metadata": {},
   "outputs": [
    {
     "data": {
      "text/plain": [
       "[16569318863910026406,\n",
       " 10700716329976813798,\n",
       " 41015238908800100,\n",
       " 3845901871115767651,\n",
       " 7715406540985638717]"
      ]
     },
     "execution_count": 60,
     "metadata": {},
     "output_type": "execute_result"
    }
   ],
   "source": [
    "reference_genome_sequence_path = f\"{o}/TEgenomeSimulator_{p}_result/{p}_genome_sequence_out_final.fasta\"\n",
    "reference_kmer_sequences = read_kmers_from_file(reference_genome_sequence_path, 21)\n",
    "reference_hashed_sequences = hash_kmers(reference_kmer_sequences)\n",
    "reference_hashed_sequences[:5]"
   ]
  },
  {
   "cell_type": "code",
   "execution_count": 62,
   "id": "df1b3fdd-c895-4a4c-92c8-1f00f2f9d4b6",
   "metadata": {},
   "outputs": [
    {
     "data": {
      "text/plain": [
       "1.0"
      ]
     },
     "execution_count": 62,
     "metadata": {},
     "output_type": "execute_result"
    }
   ],
   "source": [
    "jaccard_similarity(reference_hashed_sequences, reference_hashed_sequences)"
   ]
  },
  {
   "cell_type": "code",
   "execution_count": null,
   "id": "4973acd0-64c3-451b-ba27-1a420c4b37be",
   "metadata": {},
   "outputs": [],
   "source": [
    "import numpy as np\n",
    "import pandas as pd\n",
    "\n",
    "from calisim.data_model import (\n",
    "\tDistributionModel,\n",
    "\tParameterDataType,\n",
    "\tParameterSpecification,\n",
    ")\n",
    "from calisim.optimisation import OptimisationMethod, OptimisationMethodModel\n",
    "from calisim.utils import get_examples_outdir\n",
    "\n",
    "observed_data = reference_hashed_sequences\n",
    "\n",
    "parameter_spec = ParameterSpecification(\n",
    "\tparameters=[\n",
    "\t\tDistributionModel(\n",
    "\t\t\tname=\"maxidn\",\n",
    "\t\t\tdistribution_name=\"uniform\",\n",
    "\t\t\tdistribution_args=[90, 97],\n",
    "\t\t\tdata_type=ParameterDataType.DISCRETE,\n",
    "\t\t),\n",
    "\t\tDistributionModel(\n",
    "\t\t\tname=\"minidn\",\n",
    "\t\t\tdistribution_name=\"uniform\",\n",
    "\t\t\tdistribution_args=[75, 85],\n",
    "\t\t\tdata_type=ParameterDataType.DISCRETE,\n",
    "\t\t),\n",
    "\t\tDistributionModel(\n",
    "\t\t\tname=\"maxsd\",\n",
    "\t\t\tdistribution_name=\"uniform\",\n",
    "\t\t\tdistribution_args=[15, 25],\n",
    "\t\t\tdata_type=ParameterDataType.DISCRETE,\n",
    "\t\t),\n",
    "\t\tDistributionModel(\n",
    "\t\t\tname=\"minsd\",\n",
    "\t\t\tdistribution_name=\"uniform\",\n",
    "\t\t\tdistribution_args=[1, 4],\n",
    "\t\t\tdata_type=ParameterDataType.DISCRETE,\n",
    "\t\t),\n",
    "\t\tDistributionModel(\n",
    "\t\t\tname=\"a\",\n",
    "\t\t\tdistribution_name=\"uniform\",\n",
    "\t\t\tdistribution_args=[0.5, 0.9],\n",
    "\t\t\tdata_type=ParameterDataType.CONTINUOUS,\n",
    "\t\t),\n",
    "\t\tDistributionModel(\n",
    "\t\t\tname=\"b\",\n",
    "\t\t\tdistribution_name=\"uniform\",\n",
    "\t\t\tdistribution_args=[0.3, 0.7],\n",
    "\t\t\tdata_type=ParameterDataType.CONTINUOUS,\n",
    "\t\t),\n",
    "\t]\n",
    ")\n",
    "\n",
    "def objective(\n",
    "\tparameters: dict, simulation_id: str, observed_data: np.ndarray | None, t: pd.Series\n",
    ") -> float | list[float]:\n",
    "\tsimulation_parameters = dict(h0=34.0, l0=5.9, t=t, gamma=0.84, delta=0.026)\n",
    "\n",
    "\tfor k in [\"alpha\", \"beta\"]:\n",
    "\t\tsimulation_parameters[k] = parameters[k]\n",
    "\n",
    "\tsimulated_data = model.simulate(simulation_parameters).lynx.values\n",
    "\tmetric = MeanSquaredError()\n",
    "\tdiscrepancy = metric.calculate(observed_data, simulated_data)\n",
    "\treturn discrepancy\n",
    "\n",
    "\n",
    "outdir = get_examples_outdir()\n",
    "specification = OptimisationMethodModel(\n",
    "\texperiment_name=\"optuna_optimisation\",\n",
    "\tparameter_spec=parameter_spec,\n",
    "\tobserved_data=reference_hashed_sequences,\n",
    "\toutdir=outdir,\n",
    "\tmethod=\"tpes\",\n",
    "\tdirections=[\"minimize\"],\n",
    "\toutput_labels=[\"Jaccard Similarity\"],\n",
    "\tn_iterations=3,\n",
    "\tmethod_kwargs=dict(n_startup_trials=50),\n",
    "\tcalibration_func_kwargs=dict(t=observed_data.year),\n",
    ")\n",
    "\n",
    "calibrator = OptimisationMethod(\n",
    "\tcalibration_func=objective, specification=specification, engine=\"optuna\"\n",
    ")\n",
    "\n",
    "calibrator.specify().execute().analyze()\n",
    "\n",
    "result_artifacts = \"\\n\".join(calibrator.get_artifacts())\n",
    "print(f\"View results: \\n{result_artifacts}\")"
   ]
  }
 ],
 "metadata": {
  "kernelspec": {
   "display_name": "Python 3 (ipykernel)",
   "language": "python",
   "name": "python3"
  },
  "language_info": {
   "codemirror_mode": {
    "name": "ipython",
    "version": 3
   },
   "file_extension": ".py",
   "mimetype": "text/x-python",
   "name": "python",
   "nbconvert_exporter": "python",
   "pygments_lexer": "ipython3",
   "version": "3.10.17"
  }
 },
 "nbformat": 4,
 "nbformat_minor": 5
}
